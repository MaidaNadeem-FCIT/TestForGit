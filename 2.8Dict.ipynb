{
 "cells": [
  {
   "cell_type": "code",
   "execution_count": 1,
   "id": "59d1bfb7",
   "metadata": {},
   "outputs": [
    {
     "name": "stdout",
     "output_type": "stream",
     "text": [
      "{'arif': 78, 'maida': 89, 'faiza': 77, 'amna': 99}\n"
     ]
    },
    {
     "data": {
      "text/plain": [
       "dict"
      ]
     },
     "execution_count": 1,
     "metadata": {},
     "output_type": "execute_result"
    }
   ],
   "source": [
    "#DICTIONARY....\n",
    "d1 = {\n",
    "    'arif':78,\n",
    "    'maida':89,\n",
    "    'faiza': 77,\n",
    "    'amna':99\n",
    "}\n",
    "print(d1)\n",
    "type(d1)"
   ]
  },
  {
   "cell_type": "code",
   "execution_count": 2,
   "id": "09b4704e",
   "metadata": {},
   "outputs": [
    {
     "name": "stdout",
     "output_type": "stream",
     "text": [
      "{1: 'Maida', 2: 'nouman', 3: 'Anoosha', 4: ['Maira', 'Madiha'], 5: ('we', 'uyt'), 6: {1, 2, 3, 4}, 7: {11: 'rafi', 22: 'rafael'}, (8, 9, 10): 'Arif Butt'}\n"
     ]
    }
   ],
   "source": [
    "#DICTIONARY IS Hetrogeneous...\n",
    "d2={  #ordered so same dictionary will be diff objects at backend.. having diff ids\n",
    "    1:\"Maida\",\n",
    "    2:\"nouman\",\n",
    "    3:\"Anoosha\",\n",
    "    4:[\"Maira\",\"Madiha\"], #list\n",
    "    5:('we', 'uyt'),  #tuple\n",
    "    6:{1,2,3,4}, #set\n",
    "    7:{11:\"rafi\", #dictionary\n",
    "      22:\"rafael\"\n",
    "      },\n",
    "    (8,9,10):\"Arif Butt\" #Tuple as Keys\n",
    "}\n",
    "print(d2)"
   ]
  },
  {
   "cell_type": "code",
   "execution_count": 3,
   "id": "743c1fe4",
   "metadata": {},
   "outputs": [
    {
     "name": "stdout",
     "output_type": "stream",
     "text": [
      "{1: 'arif', 2: 'maida', 3: 'maida', 4: 'MIra'}\n"
     ]
    }
   ],
   "source": [
    "#Defining method #2 (as a list of tuples)\n",
    "d3 = dict([(1, \"arif\"), (2, \"maida\"), (3, \"maida\"), (4, \"Maira\"), (4, \"MIra\")]) #same key value override with latest value...\n",
    "print(d3)"
   ]
  },
  {
   "cell_type": "code",
   "execution_count": 4,
   "id": "8c492228",
   "metadata": {},
   "outputs": [
    {
     "name": "stdout",
     "output_type": "stream",
     "text": [
      "{}\n",
      "{'a': 100, 'b': 200, 'c': 300}\n"
     ]
    }
   ],
   "source": [
    "d4 = dict()\n",
    "print(d4)\n",
    "d5 = {\n",
    "    \"a\": 100,\n",
    "    \"b\":200,\n",
    "    \"c\":300\n",
    "}\n",
    "print(d5)"
   ]
  },
  {
   "cell_type": "code",
   "execution_count": 5,
   "id": "f550c81d",
   "metadata": {},
   "outputs": [
    {
     "name": "stdout",
     "output_type": "stream",
     "text": [
      "['Maira', 'Madiha']\n",
      "rafael\n",
      "Arif Butt\n"
     ]
    }
   ],
   "source": [
    "#ACCESSING VALUES...\n",
    "#1. Using Subscript...\n",
    "\n",
    "print(d2[4])\n",
    "print(d2[7][22]) #Nested dictionary access.\n",
    "print(d2[(8,9,10)])  #for tuple as keys use all keys in subscript and pass as tuple..."
   ]
  },
  {
   "cell_type": "code",
   "execution_count": 6,
   "id": "520e004b",
   "metadata": {},
   "outputs": [
    {
     "name": "stdout",
     "output_type": "stream",
     "text": [
      "77\n",
      "{1, 2, 3, 4}\n",
      "Arif Butt\n",
      "rafi\n"
     ]
    }
   ],
   "source": [
    "#2. GET Method...\n",
    "print(d1.get(\"faiza\"))\n",
    "print(d2.get(6))\n",
    "print(d2.get((8,9,10))) #pss tuple with round brackets in get function\n",
    "print(d2.get(7).get(11))  #nested dictionary..."
   ]
  },
  {
   "cell_type": "code",
   "execution_count": 7,
   "id": "b72c3826",
   "metadata": {},
   "outputs": [
    {
     "name": "stdout",
     "output_type": "stream",
     "text": [
      "dict_items([(1, 'arif'), (2, 'maida'), (3, 'maida'), (4, 'MIra')])\n",
      "dict_keys([1, 2, 3, 4, 5, 6, 7, (8, 9, 10)])\n",
      "dict_values(['Maida', 'nouman', 'Anoosha', ['Maira', 'Madiha'], ('we', 'uyt'), {1, 2, 3, 4}, {11: 'rafi', 22: 'rafael'}, 'Arif Butt'])\n"
     ]
    }
   ],
   "source": [
    "#3. Built-In Functions..\n",
    "print(d3.items()) #all dictionary key value pairs..\n",
    "print(d2.keys())  #only keys...\n",
    "print(d2.values()) #only values..."
   ]
  },
  {
   "cell_type": "code",
   "execution_count": 8,
   "id": "e140db7e",
   "metadata": {},
   "outputs": [
    {
     "name": "stdout",
     "output_type": "stream",
     "text": [
      "{1: 'Maida', 2: 'nouman', 3: 'Anoosha', 4: ['Maira', 'Madiha'], 5: ('we', 'uyt'), 6: {1, 2, 3, 4}, 7: {11: 'rafi', 22: 'xyz'}, (8, 9, 10): 'Arif Butt'}\n",
      "{1: 'Maida', 2: 'nouman', 3: 'Anoosha', 4: ['Maira', 'Madiha'], 5: ('we', 'uyt'), 6: {1, 2, 3, 4}, 7: {11: 'rafi', 22: 'xyz'}, (8, 9, 10): 'Arif Butt', 11: ('wer', 'ert')}\n"
     ]
    }
   ],
   "source": [
    "#ADDING/MODIFYING VALUES....\n",
    "#1. Using Subscript...\n",
    "d2[7][22] = \"xyz\"  #modifying values...\n",
    "print(d2)\n",
    "\n",
    "d2[11] = (\"wer\", \"ert\")\n",
    "print(d2)  #if key not present than add that key value pair in dictionary"
   ]
  },
  {
   "cell_type": "code",
   "execution_count": 9,
   "id": "c7504f60",
   "metadata": {},
   "outputs": [
    {
     "name": "stdout",
     "output_type": "stream",
     "text": [
      "{1: 'arif', 2: 'maida', 3: 'maida', 4: 'Arif Butt'}\n",
      "{'a': 100, 'b': 200, 'c': 300, 'd': 400}\n",
      "{1: 'arif', 2: 'maida', 3: 'maida', 4: 'Arif Butt', 'a': 100, 'b': 200, 'c': 300, 'd': 400}\n",
      "{'a': 100, 'b': 200, 'c': 300, 'd': 400}\n"
     ]
    }
   ],
   "source": [
    "#2. Update Method...\n",
    "d3.update({4:\"Arif Butt\"}) #modify value..\n",
    "print(d3)\n",
    "d5.update({\"d\":400})  #add new key value pair..\n",
    "print(d5)\n",
    "\n",
    "#MERGE TWO DICTIONARIES...\n",
    "d3.update(d5)\n",
    "print(d3) #d5 merged in d3 not vice versa\n",
    "print(d5) #d5 remains same...."
   ]
  },
  {
   "cell_type": "code",
   "execution_count": 47,
   "id": "5ffd522c",
   "metadata": {},
   "outputs": [
    {
     "name": "stdout",
     "output_type": "stream",
     "text": [
      "{1: 'arif', 2: 'maida', 3: 'maida', 'a': 100, 'b': 200, 'c': 300, 'd': 400}\n"
     ]
    },
    {
     "ename": "NameError",
     "evalue": "name 'd4' is not defined",
     "output_type": "error",
     "traceback": [
      "\u001b[1;31m---------------------------------------------------------------------------\u001b[0m",
      "\u001b[1;31mNameError\u001b[0m                                 Traceback (most recent call last)",
      "\u001b[1;32m~\\AppData\\Local\\Temp\\ipykernel_10820\\3311179394.py\u001b[0m in \u001b[0;36m<module>\u001b[1;34m\u001b[0m\n\u001b[0;32m      4\u001b[0m \u001b[0mprint\u001b[0m\u001b[1;33m(\u001b[0m\u001b[0md3\u001b[0m\u001b[1;33m)\u001b[0m\u001b[1;33m\u001b[0m\u001b[1;33m\u001b[0m\u001b[0m\n\u001b[0;32m      5\u001b[0m \u001b[1;33m\u001b[0m\u001b[0m\n\u001b[1;32m----> 6\u001b[1;33m \u001b[1;32mdel\u001b[0m \u001b[0md4\u001b[0m\u001b[1;33m\u001b[0m\u001b[1;33m\u001b[0m\u001b[0m\n\u001b[0m\u001b[0;32m      7\u001b[0m \u001b[0md4\u001b[0m\u001b[1;33m\u001b[0m\u001b[1;33m\u001b[0m\u001b[0m\n",
      "\u001b[1;31mNameError\u001b[0m: name 'd4' is not defined"
     ]
    }
   ],
   "source": [
    "#REMOVE ELEMENTS FROM DICTIONARY...\n",
    "#1. Using Subscript...\n",
    "del d3[4] #delete the speified hey value\n",
    "print(d3)\n",
    "#2. Using Delete \n",
    "del d4\n",
    "d4"
   ]
  },
  {
   "cell_type": "code",
   "execution_count": 4,
   "id": "57710430",
   "metadata": {},
   "outputs": [
    {
     "name": "stdout",
     "output_type": "stream",
     "text": [
      "{1: 'arif', 2: 'maida', 3: 'maida'}\n"
     ]
    }
   ],
   "source": [
    "#3. POPItems() method...\n",
    "\n",
    "#d3 -> {1: 'arif', 2: 'maida', 3: 'maida', 'a': 100, 'b': 200, 'c': 300, 'd': 400}\n",
    "d3.popitem() #remove and return the (key, value) pair as tuple in LIFO order i.e. in this case was a dict d5\n",
    "print(d3)\n"
   ]
  },
  {
   "cell_type": "code",
   "execution_count": 5,
   "id": "79bb9c51",
   "metadata": {},
   "outputs": [
    {
     "name": "stdout",
     "output_type": "stream",
     "text": [
      "{1: 'arif', 3: 'maida'}\n"
     ]
    }
   ],
   "source": [
    "#4. POP('key') METHOD...\n",
    "d3.pop(2) #key value pair at key=2 is removed and returned\n",
    "print(d3)"
   ]
  },
  {
   "cell_type": "code",
   "execution_count": 6,
   "id": "4486c131",
   "metadata": {},
   "outputs": [
    {
     "name": "stdout",
     "output_type": "stream",
     "text": [
      "Anoosha\n",
      "{1: 'Maida', 2: 'nouman', 4: ['Maira', 'Madiha'], 5: ('we', 'uyt'), 6: {1, 2, 3, 4}, 7: {11: 'rafi', 22: 'rafael'}, (8, 9, 10): 'Arif Butt'}\n"
     ]
    }
   ],
   "source": [
    "\n",
    "print(d2.pop(3)) #removed value returnedd...\n",
    "print(d2)"
   ]
  },
  {
   "cell_type": "code",
   "execution_count": 14,
   "id": "48feb00c",
   "metadata": {},
   "outputs": [
    {
     "name": "stdout",
     "output_type": "stream",
     "text": [
      "{}\n"
     ]
    }
   ],
   "source": [
    "#5. Clear( ) Method...\n",
    "d5.clear() #removes all items\n",
    "print(d5) #empty"
   ]
  },
  {
   "cell_type": "code",
   "execution_count": 19,
   "id": "125a7ee0",
   "metadata": {},
   "outputs": [
    {
     "name": "stdout",
     "output_type": "stream",
     "text": [
      "{'a': 100, 'b': 200, 'c': 300, 'd': 400}\n",
      "(('a', 100), ('b', 200), ('c', 300), ('d', 400))\n",
      "\n",
      " <class 'tuple'>\n",
      "(100, 200, 300, 400)\n",
      "\n",
      " <class 'tuple'>\n",
      "('a', 'b', 'c', 'd')\n"
     ]
    }
   ],
   "source": [
    "#TYPE CASTING...\n",
    "#1. Dict To Tuple....\n",
    "d5.update({'a':100, 'b':200, 'c':300, \"d\":400})\n",
    "print(d5)\n",
    "t1 = tuple(d5.items())  #all dict key value pairs are conveted into a tuple of tuples having (key, value).\n",
    "print(t1)\n",
    "print(\"\\n\", type(t1))\n",
    "\n",
    "t2= tuple(d5.values()) #tuple of values from dict\n",
    "print(t2)\n",
    "print(\"\\n\", type(t2))\n",
    "\n",
    "t3= tuple(d5.keys())\n",
    "print(t3)"
   ]
  },
  {
   "cell_type": "code",
   "execution_count": 23,
   "id": "4ec13afd",
   "metadata": {},
   "outputs": [
    {
     "name": "stdout",
     "output_type": "stream",
     "text": [
      "[('a', 100), ('b', 200), ('c', 300), ('d', 400)]\n",
      "\n",
      " <class 'list'>\n",
      "['a', 'b', 'c', 'd']\n",
      "\n",
      " <class 'list'>\n"
     ]
    }
   ],
   "source": [
    "#2. Dict To List...\n",
    "l1 = list(d5.items()) #list of tuples...\n",
    "print(l1)\n",
    "print(\"\\n\", type(l1))\n",
    "\n",
    "l2 = list(d5.keys())\n",
    "print(l2)\n",
    "print(\"\\n\", type(l2))"
   ]
  },
  {
   "cell_type": "code",
   "execution_count": 35,
   "id": "67dccf3c",
   "metadata": {},
   "outputs": [
    {
     "name": "stdout",
     "output_type": "stream",
     "text": [
      "['amna', 'arif', 'faiza', 'maida']\n",
      "[77, 78, 89, 99]\n",
      "['maida', 'faiza', 'arif', 'amna']\n",
      "[('amna', 99), ('maida', 89), ('arif', 78), ('faiza', 77)]\n"
     ]
    }
   ],
   "source": [
    "#SORTING Dictionary...\n",
    "print(sorted(d1)) #sort in ascending order on key basis...\n",
    "print(sorted(d1.values()))\n",
    "print(sorted(d1, reverse=True)) # for descending order\n",
    "\n",
    "def fun1(item):\n",
    "    return item[1]\n",
    "myList = sorted(d1.items(), key=fun1, reverse=True) #sort on the value and return a list of tuples with ()key, value....\n",
    "print(myList)"
   ]
  },
  {
   "cell_type": "code",
   "execution_count": 36,
   "id": "e61c46a6",
   "metadata": {},
   "outputs": [
    {
     "name": "stdout",
     "output_type": "stream",
     "text": [
      "{'amna': 99, 'maida': 89, 'arif': 78, 'faiza': 77}\n",
      "<class 'dict'>\n"
     ]
    }
   ],
   "source": [
    "#Convert Sorted list of Dictionary back into Dictionary...\n",
    "sort_dict = dict(myList)\n",
    "print(sort_dict)\n",
    "print(type(sort_dict))"
   ]
  },
  {
   "cell_type": "code",
   "execution_count": 38,
   "id": "eb6b08dd",
   "metadata": {},
   "outputs": [
    {
     "name": "stdout",
     "output_type": "stream",
     "text": [
      "2129087744192 2129087744192\n",
      "{'amna': 99, 'maida': 91, 'arif': 78, 'faiza': 77}\n",
      "{'amna': 99, 'maida': 91, 'arif': 78, 'faiza': 77}\n"
     ]
    }
   ],
   "source": [
    "#ALIASING....\n",
    "#1. By = Operator\n",
    "dic2 = sort_dict\n",
    "print(id(sort_dict), id(dic2)) #same ids cause both poiting to same object of dictionary...\n",
    "\n",
    "dic2['maida'] = 91  #Changes will be implied on both\n",
    "print(dic2)\n",
    "print(sort_dict)"
   ]
  },
  {
   "cell_type": "code",
   "execution_count": 48,
   "id": "d2df93c2",
   "metadata": {},
   "outputs": [
    {
     "name": "stdout",
     "output_type": "stream",
     "text": [
      "{'a': 100, 'b': 500, 'c': 300, 'd': 400}\n",
      "2129052169408 2129092018752\n"
     ]
    }
   ],
   "source": [
    "#2. Shallow Copy\n",
    "import copy\n",
    "dic2 = d5.copy()\n",
    "#dic2 = copy.copy(d5)\n",
    "print(dic2)\n",
    "print(id(d5), id(dic2))\n"
   ]
  },
  {
   "cell_type": "code",
   "execution_count": 49,
   "id": "2fff2a9f",
   "metadata": {},
   "outputs": [
    {
     "name": "stdout",
     "output_type": "stream",
     "text": [
      "{'a': 100, 'b': 500, 'c': 300, 'd': 400}\n",
      "{'a': 100, 'b': 600, 'c': 300, 'd': 400}\n"
     ]
    }
   ],
   "source": [
    "d5[\"b\"] = 600  #changes not applied on both dictionaries...\n",
    "print(dic2)\n",
    "print(d5)"
   ]
  },
  {
   "cell_type": "code",
   "execution_count": 51,
   "id": "665d6d9c",
   "metadata": {},
   "outputs": [
    {
     "name": "stdout",
     "output_type": "stream",
     "text": [
      "{1: 'Maida', 2: 'nouman', 4: ['Maira', 'Madiha'], 5: ('we', 'uyt'), 6: {1, 2, 3, 4}, 7: {11: 'rafi', 22: 'xyz'}, (8, 9, 10): 'Arif Butt', 11: ('wer', 'ert')}\n",
      "2129052866816 2129097318720\n"
     ]
    }
   ],
   "source": [
    "#3. DEEP COPY...\n",
    "#cause shallow copy does not work on nested items as expected...\n",
    "d7 = copy.deepcopy(d2)\n",
    "print(d7)\n",
    "print(id(d2), id(d7))"
   ]
  },
  {
   "cell_type": "code",
   "execution_count": 52,
   "id": "f083e545",
   "metadata": {},
   "outputs": [
    {
     "name": "stdout",
     "output_type": "stream",
     "text": [
      "{1: 'Maida', 2: 'nouman', 4: ['Maira', 'Madiha'], 5: ('we', 'uyt'), 6: {1, 2, 3, 4}, 7: {11: 'XYZ', 22: 'xyz'}, (8, 9, 10): 'Arif Butt', 11: ('wer', 'ert')}\n",
      "{1: 'Maida', 2: 'nouman', 4: ['Maira', 'Madiha'], 5: ('we', 'uyt'), 6: {1, 2, 3, 4}, 7: {11: 'rafi', 22: 'xyz'}, (8, 9, 10): 'Arif Butt', 11: ('wer', 'ert')}\n"
     ]
    }
   ],
   "source": [
    "d7[7][11] = \"XYZ\"\n",
    "print(d7) #changed in d7 only not in d2...\n",
    "print(d2)"
   ]
  },
  {
   "cell_type": "code",
   "execution_count": null,
   "id": "725fce70",
   "metadata": {},
   "outputs": [],
   "source": []
  }
 ],
 "metadata": {
  "kernelspec": {
   "display_name": "Python 3 (ipykernel)",
   "language": "python",
   "name": "python3"
  },
  "language_info": {
   "codemirror_mode": {
    "name": "ipython",
    "version": 3
   },
   "file_extension": ".py",
   "mimetype": "text/x-python",
   "name": "python",
   "nbconvert_exporter": "python",
   "pygments_lexer": "ipython3",
   "version": "3.9.13"
  }
 },
 "nbformat": 4,
 "nbformat_minor": 5
}
