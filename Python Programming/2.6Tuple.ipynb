{
 "cells": [
  {
   "cell_type": "code",
   "execution_count": 1,
   "id": "3f000580",
   "metadata": {},
   "outputs": [
    {
     "name": "stdout",
     "output_type": "stream",
     "text": [
      "Help on class tuple in module builtins:\n",
      "\n",
      "class tuple(object)\n",
      " |  tuple(iterable=(), /)\n",
      " |  \n",
      " |  Built-in immutable sequence.\n",
      " |  \n",
      " |  If no argument is given, the constructor returns an empty tuple.\n",
      " |  If iterable is specified the tuple is initialized from iterable's items.\n",
      " |  \n",
      " |  If the argument is a tuple, the return value is the same object.\n",
      " |  \n",
      " |  Built-in subclasses:\n",
      " |      asyncgen_hooks\n",
      " |      UnraisableHookArgs\n",
      " |  \n",
      " |  Methods defined here:\n",
      " |  \n",
      " |  __add__(self, value, /)\n",
      " |      Return self+value.\n",
      " |  \n",
      " |  __contains__(self, key, /)\n",
      " |      Return key in self.\n",
      " |  \n",
      " |  __eq__(self, value, /)\n",
      " |      Return self==value.\n",
      " |  \n",
      " |  __ge__(self, value, /)\n",
      " |      Return self>=value.\n",
      " |  \n",
      " |  __getattribute__(self, name, /)\n",
      " |      Return getattr(self, name).\n",
      " |  \n",
      " |  __getitem__(self, key, /)\n",
      " |      Return self[key].\n",
      " |  \n",
      " |  __getnewargs__(self, /)\n",
      " |  \n",
      " |  __gt__(self, value, /)\n",
      " |      Return self>value.\n",
      " |  \n",
      " |  __hash__(self, /)\n",
      " |      Return hash(self).\n",
      " |  \n",
      " |  __iter__(self, /)\n",
      " |      Implement iter(self).\n",
      " |  \n",
      " |  __le__(self, value, /)\n",
      " |      Return self<=value.\n",
      " |  \n",
      " |  __len__(self, /)\n",
      " |      Return len(self).\n",
      " |  \n",
      " |  __lt__(self, value, /)\n",
      " |      Return self<value.\n",
      " |  \n",
      " |  __mul__(self, value, /)\n",
      " |      Return self*value.\n",
      " |  \n",
      " |  __ne__(self, value, /)\n",
      " |      Return self!=value.\n",
      " |  \n",
      " |  __repr__(self, /)\n",
      " |      Return repr(self).\n",
      " |  \n",
      " |  __rmul__(self, value, /)\n",
      " |      Return value*self.\n",
      " |  \n",
      " |  count(self, value, /)\n",
      " |      Return number of occurrences of value.\n",
      " |  \n",
      " |  index(self, value, start=0, stop=9223372036854775807, /)\n",
      " |      Return first index of value.\n",
      " |      \n",
      " |      Raises ValueError if the value is not present.\n",
      " |  \n",
      " |  ----------------------------------------------------------------------\n",
      " |  Class methods defined here:\n",
      " |  \n",
      " |  __class_getitem__(...) from builtins.type\n",
      " |      See PEP 585\n",
      " |  \n",
      " |  ----------------------------------------------------------------------\n",
      " |  Static methods defined here:\n",
      " |  \n",
      " |  __new__(*args, **kwargs) from builtins.type\n",
      " |      Create and return a new object.  See help(type) for accurate signature.\n",
      "\n"
     ]
    }
   ],
   "source": [
    "help(tuple)"
   ]
  },
  {
   "cell_type": "code",
   "execution_count": 3,
   "id": "c1f6c0d2",
   "metadata": {},
   "outputs": [
    {
     "name": "stdout",
     "output_type": "stream",
     "text": [
      "(1, 2, 3, 4, 5)\n",
      "()\n",
      "(78,)\n",
      "('maida', True, 4.5, 67)\n",
      "([1, 3, 4], 'maida', False, 6.7)\n"
     ]
    }
   ],
   "source": [
    "t1=(1,2,3,4,5)  #ordered/indexed\n",
    "t2=()\n",
    "t3=(78,)\n",
    "t4=(\"maida\", True, 4.5, 67) #hetrogrneous\n",
    "t5=([1,3,4],\"maida\", False, 6.7) #nesting\n",
    "print(t1)\n",
    "print(t2)\n",
    "print(t3)\n",
    "print(t4)\n",
    "print(t5)"
   ]
  },
  {
   "cell_type": "code",
   "execution_count": 4,
   "id": "d13660de",
   "metadata": {},
   "outputs": [
    {
     "name": "stdout",
     "output_type": "stream",
     "text": [
      "('maida', True, 4.5, 67)\n",
      "('a', 'e', 'i', 'o', 'u')\n",
      "([1, 'maida', 4], 'maida', False, 6.7)\n"
     ]
    }
   ],
   "source": [
    "#IMMUTABLE....\n",
    "print(t4)\n",
    "#t4[2] = 5.5  #Generates an Error...\n",
    "t4=(\"a\",\"e\",\"i\",\"o\",\"u\")#REassignment is allowed, the old object will become orphan and will be collected by garbage collector.\n",
    "print(t4)\n",
    "\n",
    "t5[0][1] =\"maida\"  #list within tuple is mutable...\n",
    "print(t5)"
   ]
  },
  {
   "cell_type": "code",
   "execution_count": 5,
   "id": "7841e8d6",
   "metadata": {},
   "outputs": [
    {
     "name": "stdout",
     "output_type": "stream",
     "text": [
      "[1, 'maida', 4] maida False 6.7\n",
      "([1, 'maida', 4], False, 'maida', 6.7)\n"
     ]
    },
    {
     "data": {
      "text/plain": [
       "tuple"
      ]
     },
     "execution_count": 5,
     "metadata": {},
     "output_type": "execute_result"
    }
   ],
   "source": [
    "#Unpacking...\n",
    "a,b,c,d = t5\n",
    "print(a,b,c,d)\n",
    "#Packing\n",
    "t4 = a,c,b,d #change of order\n",
    "print(t4)\n",
    "type(t4)"
   ]
  },
  {
   "cell_type": "code",
   "execution_count": 6,
   "id": "f8213a38",
   "metadata": {},
   "outputs": [
    {
     "name": "stdout",
     "output_type": "stream",
     "text": [
      "[3, 't', 'butt']\n",
      "butt\n",
      "('a', 'e', 'i')\n",
      "e\n",
      "(8.7, False, 'maida', [3, 't', 'butt'], ('a', 'e', 'i'))\n",
      "(('a', 'e', 'i'), 'maida', 8.7)\n"
     ]
    }
   ],
   "source": [
    "#Accessing same as List coz Sequence like list\n",
    "tup =(8.7, False, \"maida\", [3,\"t\", \"butt\"], ('a', 'e','i'))\n",
    "print(tup[3])\n",
    "print(tup[3][2])\n",
    "print(tup[4])\n",
    "print(tup[4][1])\n",
    "print(tup[::])\n",
    "print(tup[-1:-6:-2])"
   ]
  },
  {
   "cell_type": "code",
   "execution_count": 7,
   "id": "ea1a6c7c",
   "metadata": {},
   "outputs": [
    {
     "name": "stdout",
     "output_type": "stream",
     "text": [
      "2\n",
      "3\n"
     ]
    },
    {
     "ename": "ValueError",
     "evalue": "tuple.index(x): x not in tuple",
     "output_type": "error",
     "traceback": [
      "\u001b[1;31m---------------------------------------------------------------------------\u001b[0m",
      "\u001b[1;31mValueError\u001b[0m                                Traceback (most recent call last)",
      "\u001b[1;32m~\\AppData\\Local\\Temp\\ipykernel_1656\\1778320993.py\u001b[0m in \u001b[0;36m<module>\u001b[1;34m\u001b[0m\n\u001b[0;32m      2\u001b[0m \u001b[0mprint\u001b[0m\u001b[1;33m(\u001b[0m\u001b[0mtup\u001b[0m\u001b[1;33m.\u001b[0m\u001b[0mindex\u001b[0m\u001b[1;33m(\u001b[0m\u001b[1;34m'maida'\u001b[0m\u001b[1;33m)\u001b[0m\u001b[1;33m)\u001b[0m\u001b[1;33m\u001b[0m\u001b[1;33m\u001b[0m\u001b[0m\n\u001b[0;32m      3\u001b[0m \u001b[0mprint\u001b[0m\u001b[1;33m(\u001b[0m\u001b[0mtup\u001b[0m\u001b[1;33m.\u001b[0m\u001b[0mindex\u001b[0m\u001b[1;33m(\u001b[0m\u001b[1;33m[\u001b[0m\u001b[1;36m3\u001b[0m\u001b[1;33m,\u001b[0m \u001b[1;34m't'\u001b[0m\u001b[1;33m,\u001b[0m \u001b[1;34m'butt'\u001b[0m\u001b[1;33m]\u001b[0m\u001b[1;33m)\u001b[0m\u001b[1;33m)\u001b[0m\u001b[1;33m\u001b[0m\u001b[1;33m\u001b[0m\u001b[0m\n\u001b[1;32m----> 4\u001b[1;33m \u001b[0mprint\u001b[0m\u001b[1;33m(\u001b[0m\u001b[0mtup\u001b[0m\u001b[1;33m.\u001b[0m\u001b[0mindex\u001b[0m\u001b[1;33m(\u001b[0m\u001b[1;34m't'\u001b[0m\u001b[1;33m)\u001b[0m\u001b[1;33m)\u001b[0m\u001b[1;33m\u001b[0m\u001b[1;33m\u001b[0m\u001b[0m\n\u001b[0m",
      "\u001b[1;31mValueError\u001b[0m: tuple.index(x): x not in tuple"
     ]
    }
   ],
   "source": [
    "#INDEX METHOD...\n",
    "print(tup.index('maida'))\n",
    "print(tup.index([3, 't', 'butt']))\n",
    "print(tup.index('t'))"
   ]
  },
  {
   "cell_type": "code",
   "execution_count": 53,
   "id": "fad51482",
   "metadata": {},
   "outputs": [
    {
     "name": "stdout",
     "output_type": "stream",
     "text": [
      "(1, 2, 3, 1, 2, 3, 1, 2, 3)\n",
      "(1, 2, 3, 4, 5, 6, (7, 8, 9))\n",
      "(1, 2, 3, 4, 5, 6, (7, 8, 9), 10, 11)\n",
      "(0, 1, 2, 3, 4, 5, 6, (7, 8, 9))\n"
     ]
    }
   ],
   "source": [
    "#Concatenation / Repetition...\n",
    "rt=(1,2,3)\n",
    "print(rt*3)  #repetition\n",
    "\n",
    "rt2=(4,5,6,(7,8,9))\n",
    "rt3= rt+rt2 #concatenation\n",
    "print(rt3)\n",
    "print(rt3+(10,11))\n",
    "print((0,)+rt3)"
   ]
  },
  {
   "cell_type": "code",
   "execution_count": 27,
   "id": "16a38896",
   "metadata": {},
   "outputs": [
    {
     "ename": "NameError",
     "evalue": "name 'tup' is not defined",
     "output_type": "error",
     "traceback": [
      "\u001b[1;31m---------------------------------------------------------------------------\u001b[0m",
      "\u001b[1;31mNameError\u001b[0m                                 Traceback (most recent call last)",
      "\u001b[1;32m~\\AppData\\Local\\Temp\\ipykernel_9160\\2711587234.py\u001b[0m in \u001b[0;36m<module>\u001b[1;34m\u001b[0m\n\u001b[1;32m----> 1\u001b[1;33m \u001b[1;32mdel\u001b[0m \u001b[0mtup\u001b[0m\u001b[1;33m\u001b[0m\u001b[1;33m\u001b[0m\u001b[0m\n\u001b[0m\u001b[0;32m      2\u001b[0m \u001b[0mprint\u001b[0m\u001b[1;33m(\u001b[0m\u001b[0mtup\u001b[0m\u001b[1;33m)\u001b[0m\u001b[1;33m\u001b[0m\u001b[1;33m\u001b[0m\u001b[0m\n",
      "\u001b[1;31mNameError\u001b[0m: name 'tup' is not defined"
     ]
    }
   ],
   "source": [
    "del tup  #delete the tuple completely\n",
    "print(tup)  #will give error"
   ]
  },
  {
   "cell_type": "code",
   "execution_count": 59,
   "id": "c1f92bc3",
   "metadata": {},
   "outputs": [
    {
     "name": "stdout",
     "output_type": "stream",
     "text": [
      "('m', 'y', ' ', 'n', 'a', 'm', 'e', ' ', 'i', 's', ' ', 'm', 'a', 'i', 'd', 'a')\n",
      "('my', 'name', 'is', 'maida')\n",
      "('my name ', 's ma', 'da')\n",
      "my class is Msds\n",
      "my#class#is#Msds\n"
     ]
    }
   ],
   "source": [
    "#Type Casting....\n",
    "#string to tuple...\n",
    "str=\"my name is maida\"\n",
    "t1 = tuple(str)\n",
    "print(t1) #separate all characters as tuple elements...\n",
    "\n",
    "#separate on some delimeter\n",
    "print(tuple(str.split(\" \")))\n",
    "print(tuple(str.split(\"i\"))) #separate at \"i\"\n",
    "\n",
    "#TUPLE TO STRING....\n",
    "#Join multiple strings...\n",
    "t1=(\"my\", \"class\", \"is\", \"Msds\")\n",
    "str = ' '.join(t1)\n",
    "print(str)\n",
    "type(str)\n",
    "\n",
    "#delimeter cahanging....\n",
    "str2 = \"#\".join(t1)\n",
    "print(str2)"
   ]
  },
  {
   "cell_type": "code",
   "execution_count": 61,
   "id": "d84d3b44",
   "metadata": {},
   "outputs": [
    {
     "name": "stdout",
     "output_type": "stream",
     "text": [
      "3\n",
      "2\n",
      "1\n",
      "2\n"
     ]
    }
   ],
   "source": [
    "#MISC METHODS...\n",
    "#COUNt..\n",
    "t2=(33,6,5,44,33,1,1,2,33,5)\n",
    "print(t2.count(33))  #count the occurences of \"33\" in tuple and return it\n",
    "print(t2.count(1))\n",
    "print(t2.count(44))\n",
    "print(t2.count(5))"
   ]
  },
  {
   "cell_type": "code",
   "execution_count": 8,
   "id": "06e0ac3f",
   "metadata": {},
   "outputs": [
    {
     "name": "stdout",
     "output_type": "stream",
     "text": [
      "[0, 1, 3, 6, 8, 9, 33]\n",
      "[33, 9, 8, 6, 3, 1, 0]\n",
      "['butt', 'f22', 'maida', 'mor', 'msds']\n",
      "['mor', 'f22', 'butt', 'msds', 'maida']\n"
     ]
    }
   ],
   "source": [
    "#Sorting of Tuples\n",
    "ot=(6,3,0,8,1,9,33)\n",
    "print(sorted(ot))  #this is generic sorting method not like Sort() of List which only works for lists...\n",
    "print(sorted(ot, reverse=True))  #descending order...\n",
    "\n",
    "sot=(\"maida\", \"butt\", \"msds\", \"mor\", \"f22\")\n",
    "print(sorted(sot))\n",
    "print(sorted(sot, key=len)) #sort on the basis of length of strings in tuple"
   ]
  },
  {
   "cell_type": "code",
   "execution_count": 9,
   "id": "24ee7086",
   "metadata": {},
   "outputs": [
    {
     "name": "stdout",
     "output_type": "stream",
     "text": [
      "('maida', 'butt', 'msds', 'mor', 'f22')\n",
      "(6, 3, 0, 8, 1, 9, 33)\n",
      "(6, 3, 0, 8, 1, 9, 33)\n"
     ]
    },
    {
     "data": {
      "text/plain": [
       "(2593887788960, 2593887788960, 2593888563264, 2593887788960, 2593888563264)"
      ]
     },
     "execution_count": 9,
     "metadata": {},
     "output_type": "execute_result"
    }
   ],
   "source": [
    "#Copy....\n",
    "import copy\n",
    "ctup =copy.copy(sot)  #shallow copy\n",
    "print(ctup)\n",
    "dtup = copy.deepcopy(ot) #deep copy  not creating two diff copies as mutation is not allowed..\n",
    "print(dtup)\n",
    "\n",
    "ntup = dtup  #Aliasing...\n",
    "print(ntup)\n",
    "id(ntup),id(dtup), id(ctup), id(ot), id(sot)"
   ]
  },
  {
   "cell_type": "code",
   "execution_count": 47,
   "id": "fbacb36c",
   "metadata": {},
   "outputs": [
    {
     "name": "stdout",
     "output_type": "stream",
     "text": [
      "True\n",
      "True\n",
      "<class 'str'>\n",
      "1443437514672 1443437514672\n",
      "False\n",
      "True\n",
      "<class 'tuple'>\n",
      "1443485492032 1443480932160\n"
     ]
    }
   ],
   "source": [
    "#Object vs Values...\n",
    "a = \"hello\"\n",
    "b = \"hello\"\n",
    "print(a is b)\n",
    "print(a == b)\n",
    "print(type(a)) #same ids as a single variable is created referenced by two names..\n",
    "print(id(a),id(b))\n",
    "x = (\"hello\",)\n",
    "y = (\"hello\",)\n",
    "print(x is y)\n",
    "print(x == y)\n",
    "print(type(y))\n",
    "print(id(x),id(y))  #diff ids as diff objects are created at back end..."
   ]
  },
  {
   "cell_type": "code",
   "execution_count": 51,
   "id": "7238d642",
   "metadata": {},
   "outputs": [
    {
     "name": "stdout",
     "output_type": "stream",
     "text": [
      "('maida', 'butt', 'msds', 'f22', 'mor')\n",
      "True\n",
      "True\n",
      "False\n"
     ]
    }
   ],
   "source": [
    "#IN & NOT IN\n",
    "print(sot)\n",
    "print(\"f22\" in sot)\n",
    "print(\"bcs\" not in sot)\n",
    "print(\"bcs\" in sot)"
   ]
  },
  {
   "cell_type": "code",
   "execution_count": null,
   "id": "6e4dcb21",
   "metadata": {},
   "outputs": [],
   "source": []
  }
 ],
 "metadata": {
  "kernelspec": {
   "display_name": "Python 3 (ipykernel)",
   "language": "python",
   "name": "python3"
  },
  "language_info": {
   "codemirror_mode": {
    "name": "ipython",
    "version": 3
   },
   "file_extension": ".py",
   "mimetype": "text/x-python",
   "name": "python",
   "nbconvert_exporter": "python",
   "pygments_lexer": "ipython3",
   "version": "3.9.13"
  }
 },
 "nbformat": 4,
 "nbformat_minor": 5
}
