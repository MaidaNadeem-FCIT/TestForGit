{
 "cells": [
  {
   "cell_type": "code",
   "execution_count": 2,
   "id": "06c63c4e",
   "metadata": {},
   "outputs": [
    {
     "name": "stdout",
     "output_type": "stream",
     "text": [
      "25\n"
     ]
    }
   ],
   "source": [
    "#1 LAMDA/Anonymous Functions.....\n",
    "\n",
    "#basic function...\n",
    "def square(num):\n",
    "    #res = num**2\n",
    "    #return res\n",
    "    return num**2\n",
    "\n",
    "rv = square(5)\n",
    "print(rv)"
   ]
  },
  {
   "cell_type": "code",
   "execution_count": 7,
   "id": "51af705e",
   "metadata": {},
   "outputs": [
    {
     "name": "stdout",
     "output_type": "stream",
     "text": [
      "<function <lambda> at 0x000001DCF56C5550>\n",
      "<class 'function'>\n",
      "36\n"
     ]
    }
   ],
   "source": [
    "#Shrinked Square....\n",
    "sq = lambda n: n**2  #assigning the function address to an identifier\n",
    "print(sq)\n",
    "print(type(sq))\n",
    "\n",
    "print(sq(6))#calling using identifier"
   ]
  },
  {
   "cell_type": "code",
   "execution_count": 9,
   "id": "59816d9e",
   "metadata": {},
   "outputs": [
    {
     "name": "stdout",
     "output_type": "stream",
     "text": [
      "8.6\n"
     ]
    }
   ],
   "source": [
    "#Example:1\n",
    "sum1 = lambda a, b: a+b # two args\n",
    "\n",
    "print(sum1(3,5.6))"
   ]
  },
  {
   "cell_type": "code",
   "execution_count": 13,
   "id": "bc282179",
   "metadata": {},
   "outputs": [
    {
     "name": "stdout",
     "output_type": "stream",
     "text": [
      "85.6\n"
     ]
    }
   ],
   "source": [
    "#Example:2\n",
    "sum2 = lambda a, b, c: a+b+c #three args\n",
    "\n",
    "print(sum2(3,5.6, 77))"
   ]
  },
  {
   "cell_type": "code",
   "execution_count": 14,
   "id": "a4c90b38",
   "metadata": {},
   "outputs": [
    {
     "name": "stdout",
     "output_type": "stream",
     "text": [
      "False\n"
     ]
    }
   ],
   "source": [
    "#Example:3\n",
    "even = lambda e: e%2 == 0 #return boolean value\n",
    "\n",
    "print(even(57))"
   ]
  },
  {
   "cell_type": "code",
   "execution_count": 15,
   "id": "8d084ffe",
   "metadata": {},
   "outputs": [
    {
     "name": "stdout",
     "output_type": "stream",
     "text": [
      "m\n"
     ]
    }
   ],
   "source": [
    "#Example:4\n",
    "f1 = lambda str: str[0] #return first element of string value\n",
    "\n",
    "print(f1(\"maida\"))"
   ]
  },
  {
   "cell_type": "code",
   "execution_count": 16,
   "id": "e350ea63",
   "metadata": {},
   "outputs": [
    {
     "name": "stdout",
     "output_type": "stream",
     "text": [
      "adiam\n"
     ]
    }
   ],
   "source": [
    "#Example:4\n",
    "f2 = lambda str: str[::-1] #return reverse string value\n",
    "\n",
    "print(f2(\"maida\"))"
   ]
  },
  {
   "cell_type": "code",
   "execution_count": 19,
   "id": "3ac16018",
   "metadata": {},
   "outputs": [
    {
     "name": "stdout",
     "output_type": "stream",
     "text": [
      "5\n"
     ]
    }
   ],
   "source": [
    "#Example:5\n",
    "f3 = lambda arg: len(arg) #return string value\n",
    "l1 = [\"maida\", \"nadeem\", \"butt\", \"msds\", \"f22\"]\n",
    "print(f3(l1))"
   ]
  },
  {
   "cell_type": "code",
   "execution_count": 22,
   "id": "d13e1eae",
   "metadata": {},
   "outputs": [
    {
     "name": "stdout",
     "output_type": "stream",
     "text": [
      "13\n",
      "44\n",
      "35\n"
     ]
    }
   ],
   "source": [
    "#2 USING LAMDA FUNCTIONS AS ARGUMENTS TO OTHER FUNCTIONS...\n",
    "myadd=lambda a,b : a+b\n",
    "mysub=lambda a,b : a-b\n",
    "mymul=lambda a,b : a*b\n",
    "\n",
    "def calc(op, a, b):\n",
    "    return op(a,b)\n",
    "print(calc(myadd, 5, 8))\n",
    "print(calc(mysub, 89, 45))\n",
    "print(calc(mymul, 5,7))"
   ]
  },
  {
   "cell_type": "code",
   "execution_count": 23,
   "id": "529c1a15",
   "metadata": {},
   "outputs": [
    {
     "name": "stdout",
     "output_type": "stream",
     "text": [
      "13\n",
      "44\n",
      "35\n"
     ]
    }
   ],
   "source": [
    "#MUCH BETTER APPROACH IS....\n",
    "def calc1(op, a, b):\n",
    "    return op(a,b)\n",
    "print(calc1(lambda a,b: a+b, 5, 8))\n",
    "print(calc1(lambda a,b: a-b , 89, 45))\n",
    "print(calc1(lambda a,b: a*b , 5,7))"
   ]
  },
  {
   "cell_type": "code",
   "execution_count": 24,
   "id": "5e63c4d8",
   "metadata": {},
   "outputs": [
    {
     "name": "stdout",
     "output_type": "stream",
     "text": [
      "[5, 6, 3, 8, 9]\n",
      "[25, 36, 9, 64, 81]\n"
     ]
    }
   ],
   "source": [
    "#3 LAMBDA FUNCTIONS AS ARGS TO BUILT-IN MAP(aFunction, *iterables) FUNCTION...\n",
    "#BASIC WAY TO DO....\n",
    "l2 = [5,6,3,8,9]\n",
    "newl2=[]\n",
    "for a in l2:\n",
    "    newl2.append(a**2)\n",
    "    \n",
    "print(l2)\n",
    "print(newl2)"
   ]
  },
  {
   "cell_type": "code",
   "execution_count": 26,
   "id": "36787118",
   "metadata": {},
   "outputs": [
    {
     "name": "stdout",
     "output_type": "stream",
     "text": [
      "[5, 6, 3, 8, 9]\n",
      "[25, 36, 9, 64, 81]\n"
     ]
    }
   ],
   "source": [
    "#WITH DEFINED FUNCTION..\n",
    "def sqr(n):\n",
    "    return n**2\n",
    "mobj=map(sqr,l2)\n",
    "lobj = list(mobj)\n",
    "print(l2)\n",
    "print(lobj)"
   ]
  },
  {
   "cell_type": "code",
   "execution_count": 27,
   "id": "f32842a2",
   "metadata": {},
   "outputs": [
    {
     "name": "stdout",
     "output_type": "stream",
     "text": [
      "[25, 36, 9, 64, 81]\n"
     ]
    }
   ],
   "source": [
    "#WITH LAMBDA FUNCTIONS...\n",
    "mapObj = map(lambda x:x**2, l2)\n",
    "newl = list(mapObj)\n",
    "print(newl)"
   ]
  },
  {
   "cell_type": "code",
   "execution_count": 28,
   "id": "c5a429a4",
   "metadata": {},
   "outputs": [
    {
     "name": "stdout",
     "output_type": "stream",
     "text": [
      "[1, 0, 3, 0, 2, 0]\n"
     ]
    }
   ],
   "source": [
    "#example: remainder with 5...\n",
    "l3 = [46, 75, 38, 90, 77, 65]\n",
    "map_object = map(lambda x: x%5, l3)\n",
    "list_obj = list (map_object)\n",
    "print(list_obj)"
   ]
  },
  {
   "cell_type": "code",
   "execution_count": 30,
   "id": "58f87811",
   "metadata": {},
   "outputs": [
    {
     "name": "stdout",
     "output_type": "stream",
     "text": [
      "[51, 81, 41, 98, 86]\n"
     ]
    }
   ],
   "source": [
    "#exqmple: add 2 lists...\n",
    "res = map(lambda a,b: a+b, l3, l2) # l3 = [46, 75, 38, 90, 77, 65] l2 = [5,6,3,8,9]\n",
    "res = list(res)\n",
    "print(res)"
   ]
  },
  {
   "cell_type": "code",
   "execution_count": 31,
   "id": "65338450",
   "metadata": {},
   "outputs": [
    {
     "name": "stdout",
     "output_type": "stream",
     "text": [
      "[5, 6, 4, 4, 3]\n"
     ]
    }
   ],
   "source": [
    "#example: list of length of strings passed\n",
    "result = map(lambda s: len(s), l1) #l1 = [\"maida\", \"nadeem\", \"butt\", \"msds\", \"f22\"]\n",
    "print(list(result))"
   ]
  },
  {
   "cell_type": "code",
   "execution_count": 33,
   "id": "edfa9067",
   "metadata": {},
   "outputs": [
    {
     "name": "stdout",
     "output_type": "stream",
     "text": [
      "[5, -7, True, 'j', 8]\n"
     ]
    }
   ],
   "source": [
    "#4 LAMBDA FUNCTIONS IN filter(function or NONE, iterable/es) Function...\n",
    "lt = [5, 0, {}, -7, True, False, \"j\", None, 8]\n",
    "fil = filter(None, lt) #return only those values which is true.\n",
    "print(list(fil))\n"
   ]
  },
  {
   "cell_type": "code",
   "execution_count": 34,
   "id": "8f158679",
   "metadata": {},
   "outputs": [
    {
     "name": "stdout",
     "output_type": "stream",
     "text": [
      "[64, 24, 68, 80, 98]\n"
     ]
    }
   ],
   "source": [
    "#example Return even number...\n",
    "evl=[35, 64, 23, 24, 68, 80, 98, 55]\n",
    "resE=filter(lambda x:x%2==0, evl)\n",
    "print(list(resE))"
   ]
  },
  {
   "cell_type": "code",
   "execution_count": 35,
   "id": "e7e0ceaf",
   "metadata": {},
   "outputs": [
    {
     "name": "stdout",
     "output_type": "stream",
     "text": [
      "[-64, -24]\n"
     ]
    }
   ],
   "source": [
    "#example Return negative number...\n",
    "evl=[35, -64, 23, -24, 68, 80, 98, 55]\n",
    "resE=filter(lambda x:x<0, evl)\n",
    "print(list(resE))"
   ]
  },
  {
   "cell_type": "code",
   "execution_count": 37,
   "id": "93b32194",
   "metadata": {},
   "outputs": [
    {
     "name": "stdout",
     "output_type": "stream",
     "text": [
      "['i', 'o', 'e']\n"
     ]
    }
   ],
   "source": [
    "#Example return elemnts from conl which are in vowels list\n",
    "conl=[\"w\",\"v\",\"i\",\"t\",\"o\",\"r\",\"b\",\"e\"]\n",
    "vowl=[\"a\",\"e\",\"i\",\"o\",\"u\"]\n",
    "vow=filter(lambda v:v in vowl, conl)\n",
    "print(list(vow))"
   ]
  },
  {
   "cell_type": "code",
   "execution_count": 43,
   "id": "d8b85e11",
   "metadata": {},
   "outputs": [
    {
     "name": "stdout",
     "output_type": "stream",
     "text": [
      "211\n"
     ]
    }
   ],
   "source": [
    "#5 Lamda functions in Reduce(function, sequence[, initial value] ) Function...\n",
    "suml=[33, 14, 97, 45, 3, 11]\n",
    "from functools import reduce\n",
    "sumr = reduce(lambda x,y:x+y, suml, 8)\n",
    "print(sumr)"
   ]
  },
  {
   "cell_type": "code",
   "execution_count": 44,
   "id": "6a37613d",
   "metadata": {},
   "outputs": [
    {
     "name": "stdout",
     "output_type": "stream",
     "text": [
      "66548790\n"
     ]
    }
   ],
   "source": [
    "#example product of all numbers in sequence..\n",
    "prod = reduce(lambda x,y:x*y, suml, 1)\n",
    "print(prod)"
   ]
  },
  {
   "cell_type": "code",
   "execution_count": 45,
   "id": "efcc6cdd",
   "metadata": {},
   "outputs": [
    {
     "name": "stdout",
     "output_type": "stream",
     "text": [
      "3\n",
      "97\n"
     ]
    }
   ],
   "source": [
    "#example max and min from all numbers in sequence..\n",
    "mini = reduce(lambda x,y:x if x<y else y, suml)\n",
    "maxi = reduce(lambda x,y:x if x>y else y, suml)\n",
    "print(mini)\n",
    "print(maxi)\n",
    "#suml=[33, 14, 97, 45, 3, 11]\n"
   ]
  },
  {
   "cell_type": "code",
   "execution_count": 47,
   "id": "db0fef8d",
   "metadata": {},
   "outputs": [
    {
     "name": "stdout",
     "output_type": "stream",
     "text": [
      "False\n",
      "False\n",
      "True\n",
      "True\n"
     ]
    }
   ],
   "source": [
    "#example AND and OR from all numbers in sequence..\n",
    "logl=[0,0,1,0,0,1,0]\n",
    "and1 = reduce(lambda x,y:bool(x and y), logl)\n",
    "and2 = reduce(lambda x,y:bool(x & y), logl)\n",
    "or1 = reduce(lambda x,y:bool(x or y), logl)\n",
    "or2 = reduce(lambda x,y:bool(x | y), logl)\n",
    "print(and1)\n",
    "print(and2)\n",
    "print(or1)\n",
    "print(or2)"
   ]
  },
  {
   "cell_type": "code",
   "execution_count": 48,
   "id": "8ca08e94",
   "metadata": {},
   "outputs": [
    {
     "name": "stdout",
     "output_type": "stream",
     "text": [
      "['f22', 'maida', 'nadeem', 'msds', 'butt']\n"
     ]
    }
   ],
   "source": [
    "#6 Lambda Functions in Sorted (list, key, reverse=false/true) built-in function....\n",
    "sort = sorted(l1, key=lambda x : x[-1])#sort w.r.t last character in string..\n",
    "print(sort)"
   ]
  },
  {
   "cell_type": "code",
   "execution_count": 52,
   "id": "cb14c0bb",
   "metadata": {},
   "outputs": [
    {
     "name": "stdout",
     "output_type": "stream",
     "text": [
      "[(2, 9), (3, 33), (4, 51), (6, 17)]\n",
      "[(2, 9), (6, 17), (3, 33), (4, 51)]\n",
      "[(2, 9), (6, 17), (3, 33), (4, 51)]\n"
     ]
    }
   ],
   "source": [
    "#example with tuples in a list\n",
    "tupl = [(2,9),(6,17),(4,51),(3,33)]\n",
    "print(sorted(tupl)) #sort w.r.t the first element of tuple\n",
    "\n",
    "#if we want to sort w.r.t last element or any other than first..\n",
    "#1w with normal function\n",
    "def func(item):\n",
    "    return item[1]\n",
    "print(sorted(tupl, key=func))\n",
    "\n",
    "#2 with lambda function....\n",
    "print(sorted(tupl, key=lambda element:element[1]))\n"
   ]
  },
  {
   "cell_type": "code",
   "execution_count": 54,
   "id": "07eb5322",
   "metadata": {},
   "outputs": [
    {
     "name": "stdout",
     "output_type": "stream",
     "text": [
      "[(2, 'e'), (7, 'r'), (9, 't')]\n"
     ]
    }
   ],
   "source": [
    "#7 ZIP(*Iterables) function...\n",
    "fl=[2, 7, 9]\n",
    "f2=[\"e\", \"r\", \"t\"]\n",
    "zip_obj = zip(fl, f2)\n",
    "l_obj = list(zip_obj)\n",
    "print(l_obj)"
   ]
  },
  {
   "cell_type": "code",
   "execution_count": 55,
   "id": "887ab444",
   "metadata": {},
   "outputs": [
    {
     "name": "stdout",
     "output_type": "stream",
     "text": [
      "[(2, 'e', True), (7, 'r', 1), (9, 't', False)]\n"
     ]
    }
   ],
   "source": [
    "#example with 3 lists\n",
    "fl=[2, 7, 9]\n",
    "f2=[\"e\", \"r\", \"t\"]\n",
    "f3=[True, 1, False]\n",
    "zip_obj = zip(fl, f2, f3)\n",
    "l_obj = list(zip_obj)\n",
    "print(l_obj)"
   ]
  },
  {
   "cell_type": "code",
   "execution_count": 57,
   "id": "046302b4",
   "metadata": {},
   "outputs": [
    {
     "name": "stdout",
     "output_type": "stream",
     "text": [
      "[(2, 'e'), (7, 'r'), (9, 't'), (3, 'y'), (5, 'd')]\n"
     ]
    }
   ],
   "source": [
    "#example with un even list elements\n",
    "fl=[2, 7, 9, 3, 5, 6,]\n",
    "f2=[\"e\", \"r\", \"t\", \"y\", \"d\"]\n",
    "zip_obj = zip(fl, f2)#stops when shortest iterable is exhausted...\n",
    "l_obj = list(zip_obj)\n",
    "print(l_obj)"
   ]
  },
  {
   "cell_type": "code",
   "execution_count": 61,
   "id": "6b7ad496",
   "metadata": {},
   "outputs": [
    {
     "name": "stdout",
     "output_type": "stream",
     "text": [
      "e\n",
      "r\n",
      "t\n",
      "y\n",
      "d\n"
     ]
    },
    {
     "ename": "StopIteration",
     "evalue": "",
     "output_type": "error",
     "traceback": [
      "\u001b[1;31m---------------------------------------------------------------------------\u001b[0m",
      "\u001b[1;31mStopIteration\u001b[0m                             Traceback (most recent call last)",
      "\u001b[1;32m~\\AppData\\Local\\Temp\\ipykernel_6388\\3628520552.py\u001b[0m in \u001b[0;36m<module>\u001b[1;34m\u001b[0m\n\u001b[0;32m      6\u001b[0m \u001b[0mprint\u001b[0m\u001b[1;33m(\u001b[0m\u001b[0mnext\u001b[0m\u001b[1;33m(\u001b[0m\u001b[0mh\u001b[0m\u001b[1;33m)\u001b[0m\u001b[1;33m)\u001b[0m\u001b[1;33m\u001b[0m\u001b[1;33m\u001b[0m\u001b[0m\n\u001b[0;32m      7\u001b[0m \u001b[0mprint\u001b[0m\u001b[1;33m(\u001b[0m\u001b[0mnext\u001b[0m\u001b[1;33m(\u001b[0m\u001b[0mh\u001b[0m\u001b[1;33m)\u001b[0m\u001b[1;33m)\u001b[0m\u001b[1;33m\u001b[0m\u001b[1;33m\u001b[0m\u001b[0m\n\u001b[1;32m----> 8\u001b[1;33m \u001b[0mprint\u001b[0m\u001b[1;33m(\u001b[0m\u001b[0mnext\u001b[0m\u001b[1;33m(\u001b[0m\u001b[0mh\u001b[0m\u001b[1;33m)\u001b[0m\u001b[1;33m)\u001b[0m\u001b[1;33m\u001b[0m\u001b[1;33m\u001b[0m\u001b[0m\n\u001b[0m",
      "\u001b[1;31mStopIteration\u001b[0m: "
     ]
    }
   ],
   "source": [
    "#ITERATORS...\n",
    "h = iter(f2) #iter object is created\n",
    "print(next(h))\n",
    "print(next(h)) #iter object is passed in next function\n",
    "print(next(h))\n",
    "print(next(h))\n",
    "print(next(h))\n",
    "print(next(h))#after last element it gives error to stop iterartion rather than stoping automatically..."
   ]
  },
  {
   "cell_type": "code",
   "execution_count": 67,
   "id": "1a1ef583",
   "metadata": {},
   "outputs": [
    {
     "name": "stdout",
     "output_type": "stream",
     "text": [
      "first\n",
      "10\n"
     ]
    }
   ],
   "source": [
    "#GENERATORS...\n",
    "def shown():\n",
    "    print(\"first\")\n",
    "    yield 10\n",
    "    \n",
    "    print(\"Second\")\n",
    "    yield 20\n",
    "    \n",
    "    print(\"Third\")\n",
    "    yield 30 #save the current state and if called again start from where it left off\n",
    "    \n",
    "rv = shown()\n",
    "print(next(rv))\n"
   ]
  },
  {
   "cell_type": "code",
   "execution_count": 68,
   "id": "369bd3f5",
   "metadata": {},
   "outputs": [
    {
     "name": "stdout",
     "output_type": "stream",
     "text": [
      "Second\n",
      "20\n"
     ]
    }
   ],
   "source": [
    "print(next(rv)) #second call"
   ]
  },
  {
   "cell_type": "code",
   "execution_count": 69,
   "id": "7fc504c0",
   "metadata": {},
   "outputs": [
    {
     "name": "stdout",
     "output_type": "stream",
     "text": [
      "Third\n",
      "30\n"
     ]
    }
   ],
   "source": [
    "print(next(rv))#third call"
   ]
  },
  {
   "cell_type": "code",
   "execution_count": 70,
   "id": "cb46db51",
   "metadata": {},
   "outputs": [
    {
     "ename": "StopIteration",
     "evalue": "",
     "output_type": "error",
     "traceback": [
      "\u001b[1;31m---------------------------------------------------------------------------\u001b[0m",
      "\u001b[1;31mStopIteration\u001b[0m                             Traceback (most recent call last)",
      "\u001b[1;32m~\\AppData\\Local\\Temp\\ipykernel_6388\\315227985.py\u001b[0m in \u001b[0;36m<module>\u001b[1;34m\u001b[0m\n\u001b[1;32m----> 1\u001b[1;33m \u001b[0mprint\u001b[0m\u001b[1;33m(\u001b[0m\u001b[0mnext\u001b[0m\u001b[1;33m(\u001b[0m\u001b[0mrv\u001b[0m\u001b[1;33m)\u001b[0m\u001b[1;33m)\u001b[0m\u001b[1;31m#last call\u001b[0m\u001b[1;33m\u001b[0m\u001b[1;33m\u001b[0m\u001b[0m\n\u001b[0m",
      "\u001b[1;31mStopIteration\u001b[0m: "
     ]
    }
   ],
   "source": [
    "print(next(rv))#last call as no element left error of stop iteration"
   ]
  },
  {
   "cell_type": "code",
   "execution_count": 71,
   "id": "28b2a036",
   "metadata": {},
   "outputs": [
    {
     "name": "stdout",
     "output_type": "stream",
     "text": [
      "0\n",
      "1\n",
      "8\n",
      "27\n",
      "64\n",
      "125\n",
      "216\n"
     ]
    }
   ],
   "source": [
    "#example generate cubes in a range ...\n",
    "def cubes(n):\n",
    "    for a in range(n): #elements ARE generated dynamically and generate next element is consumed fully\n",
    "        yield a**3\n",
    "for b in cubes(7): #generator is called\n",
    "    print(b)"
   ]
  },
  {
   "cell_type": "code",
   "execution_count": null,
   "id": "1edac8f1",
   "metadata": {},
   "outputs": [],
   "source": []
  }
 ],
 "metadata": {
  "kernelspec": {
   "display_name": "Python 3 (ipykernel)",
   "language": "python",
   "name": "python3"
  },
  "language_info": {
   "codemirror_mode": {
    "name": "ipython",
    "version": 3
   },
   "file_extension": ".py",
   "mimetype": "text/x-python",
   "name": "python",
   "nbconvert_exporter": "python",
   "pygments_lexer": "ipython3",
   "version": "3.9.13"
  }
 },
 "nbformat": 4,
 "nbformat_minor": 5
}
