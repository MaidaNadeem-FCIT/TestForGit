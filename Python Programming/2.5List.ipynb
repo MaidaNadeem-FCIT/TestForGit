{
 "cells": [
  {
   "cell_type": "code",
   "execution_count": 1,
   "id": "da90c947",
   "metadata": {},
   "outputs": [
    {
     "name": "stdout",
     "output_type": "stream",
     "text": [
      "Help on class list in module builtins:\n",
      "\n",
      "class list(object)\n",
      " |  list(iterable=(), /)\n",
      " |  \n",
      " |  Built-in mutable sequence.\n",
      " |  \n",
      " |  If no argument is given, the constructor creates a new empty list.\n",
      " |  The argument must be an iterable if specified.\n",
      " |  \n",
      " |  Methods defined here:\n",
      " |  \n",
      " |  __add__(self, value, /)\n",
      " |      Return self+value.\n",
      " |  \n",
      " |  __contains__(self, key, /)\n",
      " |      Return key in self.\n",
      " |  \n",
      " |  __delitem__(self, key, /)\n",
      " |      Delete self[key].\n",
      " |  \n",
      " |  __eq__(self, value, /)\n",
      " |      Return self==value.\n",
      " |  \n",
      " |  __ge__(self, value, /)\n",
      " |      Return self>=value.\n",
      " |  \n",
      " |  __getattribute__(self, name, /)\n",
      " |      Return getattr(self, name).\n",
      " |  \n",
      " |  __getitem__(...)\n",
      " |      x.__getitem__(y) <==> x[y]\n",
      " |  \n",
      " |  __gt__(self, value, /)\n",
      " |      Return self>value.\n",
      " |  \n",
      " |  __iadd__(self, value, /)\n",
      " |      Implement self+=value.\n",
      " |  \n",
      " |  __imul__(self, value, /)\n",
      " |      Implement self*=value.\n",
      " |  \n",
      " |  __init__(self, /, *args, **kwargs)\n",
      " |      Initialize self.  See help(type(self)) for accurate signature.\n",
      " |  \n",
      " |  __iter__(self, /)\n",
      " |      Implement iter(self).\n",
      " |  \n",
      " |  __le__(self, value, /)\n",
      " |      Return self<=value.\n",
      " |  \n",
      " |  __len__(self, /)\n",
      " |      Return len(self).\n",
      " |  \n",
      " |  __lt__(self, value, /)\n",
      " |      Return self<value.\n",
      " |  \n",
      " |  __mul__(self, value, /)\n",
      " |      Return self*value.\n",
      " |  \n",
      " |  __ne__(self, value, /)\n",
      " |      Return self!=value.\n",
      " |  \n",
      " |  __repr__(self, /)\n",
      " |      Return repr(self).\n",
      " |  \n",
      " |  __reversed__(self, /)\n",
      " |      Return a reverse iterator over the list.\n",
      " |  \n",
      " |  __rmul__(self, value, /)\n",
      " |      Return value*self.\n",
      " |  \n",
      " |  __setitem__(self, key, value, /)\n",
      " |      Set self[key] to value.\n",
      " |  \n",
      " |  __sizeof__(self, /)\n",
      " |      Return the size of the list in memory, in bytes.\n",
      " |  \n",
      " |  append(self, object, /)\n",
      " |      Append object to the end of the list.\n",
      " |  \n",
      " |  clear(self, /)\n",
      " |      Remove all items from list.\n",
      " |  \n",
      " |  copy(self, /)\n",
      " |      Return a shallow copy of the list.\n",
      " |  \n",
      " |  count(self, value, /)\n",
      " |      Return number of occurrences of value.\n",
      " |  \n",
      " |  extend(self, iterable, /)\n",
      " |      Extend list by appending elements from the iterable.\n",
      " |  \n",
      " |  index(self, value, start=0, stop=9223372036854775807, /)\n",
      " |      Return first index of value.\n",
      " |      \n",
      " |      Raises ValueError if the value is not present.\n",
      " |  \n",
      " |  insert(self, index, object, /)\n",
      " |      Insert object before index.\n",
      " |  \n",
      " |  pop(self, index=-1, /)\n",
      " |      Remove and return item at index (default last).\n",
      " |      \n",
      " |      Raises IndexError if list is empty or index is out of range.\n",
      " |  \n",
      " |  remove(self, value, /)\n",
      " |      Remove first occurrence of value.\n",
      " |      \n",
      " |      Raises ValueError if the value is not present.\n",
      " |  \n",
      " |  reverse(self, /)\n",
      " |      Reverse *IN PLACE*.\n",
      " |  \n",
      " |  sort(self, /, *, key=None, reverse=False)\n",
      " |      Sort the list in ascending order and return None.\n",
      " |      \n",
      " |      The sort is in-place (i.e. the list itself is modified) and stable (i.e. the\n",
      " |      order of two equal elements is maintained).\n",
      " |      \n",
      " |      If a key function is given, apply it once to each list item and sort them,\n",
      " |      ascending or descending, according to their function values.\n",
      " |      \n",
      " |      The reverse flag can be set to sort in descending order.\n",
      " |  \n",
      " |  ----------------------------------------------------------------------\n",
      " |  Class methods defined here:\n",
      " |  \n",
      " |  __class_getitem__(...) from builtins.type\n",
      " |      See PEP 585\n",
      " |  \n",
      " |  ----------------------------------------------------------------------\n",
      " |  Static methods defined here:\n",
      " |  \n",
      " |  __new__(*args, **kwargs) from builtins.type\n",
      " |      Create and return a new object.  See help(type) for accurate signature.\n",
      " |  \n",
      " |  ----------------------------------------------------------------------\n",
      " |  Data and other attributes defined here:\n",
      " |  \n",
      " |  __hash__ = None\n",
      "\n"
     ]
    }
   ],
   "source": [
    "help(list)"
   ]
  },
  {
   "cell_type": "code",
   "execution_count": 5,
   "id": "d3095b39",
   "metadata": {},
   "outputs": [
    {
     "name": "stdout",
     "output_type": "stream",
     "text": [
      "[1, 6, 8, 9, 4]\n",
      "[4.6, 8.9, 5.3, 2.0, 1.4]\n",
      "['Maida', 'Nadeem', 'Butt']\n",
      "[False, True, True]\n",
      "[67, 8.0, 'MSDS', 'W', True]\n",
      "<class 'list'>\n"
     ]
    }
   ],
   "source": [
    "#BASIC LISTS OF HETROGENEOUS DATA TYPES....\n",
    "l1 = [1,6,8,9,4]\n",
    "print(l1)\n",
    "l2= [4.6, 8.9, 5.3, 2.0, 1.4]\n",
    "print(l2)\n",
    "l3= [\"Maida\", \"Nadeem\", \"Butt\"]\n",
    "print(l3)\n",
    "l4= [False, True, True]\n",
    "print(l4)\n",
    "l5= [67, 8.0, \"MSDS\", 'W', True]\n",
    "print(l5)\n",
    "\n",
    "print(type(l5))"
   ]
  },
  {
   "cell_type": "code",
   "execution_count": 34,
   "id": "e0885484",
   "metadata": {},
   "outputs": [
    {
     "name": "stdout",
     "output_type": "stream",
     "text": [
      "[3.8, 88, False, 'Nested List', ['list in list', True, ['a', 'e', 'i', ['o', 'u']]]]\n",
      "<class 'list'>\n"
     ]
    }
   ],
   "source": [
    "#NESTED LISTS for any Depth...\n",
    "nl= [3.8, 88, False, \"Nested List\", [\"list in list\", True, ['a', 'e', 'i', ['o', 'u']]]]\n",
    "print(nl)\n",
    "print(type(nl))"
   ]
  },
  {
   "cell_type": "code",
   "execution_count": 8,
   "id": "4e083bc7",
   "metadata": {},
   "outputs": [
    {
     "name": "stdout",
     "output_type": "stream",
     "text": [
      "[False, True, True]\n",
      "[67, 8.0, 'MSDS', 'W', True]\n",
      "[3.8, 88, False, 'Nested List', ['list in list', True]]\n"
     ]
    }
   ],
   "source": [
    "#PRINTING MULTIPLE LISTS IN PRINT.....\n",
    "print(l4, l5, nl, sep='\\n')"
   ]
  },
  {
   "cell_type": "code",
   "execution_count": 9,
   "id": "c9dd40ed",
   "metadata": {},
   "outputs": [
    {
     "data": {
      "text/plain": [
       "(3033754338304, 3033754336960, False, True)"
      ]
     },
     "execution_count": 9,
     "metadata": {},
     "output_type": "execute_result"
    }
   ],
   "source": [
    "#lISTS ARE ORDERED AND INDEXED...\n",
    "ol = [1, 6, 8, 9, 4]\n",
    "id(l1), id(ol), l1 is ol, l1 == ol"
   ]
  },
  {
   "cell_type": "code",
   "execution_count": 10,
   "id": "b938943c",
   "metadata": {},
   "outputs": [
    {
     "data": {
      "text/plain": [
       "(3033754338304, 3033754274560, False, False)"
      ]
     },
     "execution_count": 10,
     "metadata": {},
     "output_type": "execute_result"
    }
   ],
   "source": [
    "uol = [4,1,8,6,9]\n",
    "id(l1), id(uol), l1 is uol, l1 == uol"
   ]
  },
  {
   "cell_type": "code",
   "execution_count": 12,
   "id": "8bab79b9",
   "metadata": {},
   "outputs": [
    {
     "name": "stdout",
     "output_type": "stream",
     "text": [
      "[4, 1, 9.0, 6, 9]\n",
      "['a', 'q', 'w', 'q', 't']\n"
     ]
    }
   ],
   "source": [
    "#LISTS ARE MUTABLE & HAVE DUPLICATE VALUES.....\n",
    "uol[2] = 9.0\n",
    "print(uol)\n",
    "dl = ['a','q', 'w', 'q', 't']\n",
    "print(dl)"
   ]
  },
  {
   "cell_type": "code",
   "execution_count": 16,
   "id": "f193d79b",
   "metadata": {},
   "outputs": [
    {
     "name": "stdout",
     "output_type": "stream",
     "text": [
      "Learning fun arif\n",
      "['Learning', 'is', 'fun', 'with', 'arif']\n",
      "('Learning', 'is', 'fun', 'with', 'arif')\n"
     ]
    },
    {
     "data": {
      "text/plain": [
       "tuple"
      ]
     },
     "execution_count": 16,
     "metadata": {},
     "output_type": "execute_result"
    }
   ],
   "source": [
    "#PACKING AND UNPACKING....\n",
    "upl = [\"Learning\", \"is\", \"fun\", \"with\", \"arif\"]\n",
    "a,b,c,d,e = upl\n",
    "print(a, c, e)\n",
    "\n",
    "tuple1 = a,b,c,d,e\n",
    "pacl = list(tuple1)\n",
    "print(pacl)\n",
    "\n",
    "print(tuple1)\n",
    "type(tuple1)"
   ]
  },
  {
   "cell_type": "code",
   "execution_count": 33,
   "id": "1a869209",
   "metadata": {},
   "outputs": [
    {
     "name": "stdout",
     "output_type": "stream",
     "text": [
      "[3.8, 88, False, 'Nested List', ['list in list', True, ['a', 'e', 'i', ['o', 'u']]]]\n",
      "['list in list', True, ['a', 'e', 'i', ['o', 'u']]]\n",
      "e\n",
      "list in list\n",
      "t\n",
      "['a', 'e', 'i', ['o', 'u']]\n",
      "['o', 'u']\n",
      "u\n",
      "['list in list', True, ['a', 'e', 'i', ['o', 'u']]]\n",
      "['a', 'e', 'i', ['o', 'u']]\n",
      "['o', 'u']\n",
      "u\n"
     ]
    }
   ],
   "source": [
    "#ACCESING LIST ELEMENTS....\n",
    "print(nl)\n",
    "print(nl[4])\n",
    "print(nl[3][4])\n",
    "print(nl[4][0])\n",
    "print(nl[4][0][3])\n",
    "print(nl[4][2])\n",
    "print(nl[4][2][3])\n",
    "print(nl[4][2][3][1])\n",
    "\n",
    "#NEGATIVE INDEXES....\n",
    "print(nl[-1])\n",
    "print(nl[-1][-1])\n",
    "print(nl[-1][-1][-1])\n",
    "print(nl[-1][-1][-1][-1])\n"
   ]
  },
  {
   "cell_type": "code",
   "execution_count": 37,
   "id": "a1cb04a5",
   "metadata": {},
   "outputs": [
    {
     "name": "stdout",
     "output_type": "stream",
     "text": [
      "3\n",
      "4\n"
     ]
    }
   ],
   "source": [
    "#INDEX METHOD...\n",
    "print(nl.index('Nested List') ) #doesnot works well with nested indexes...\n",
    "print(nl.index([\"list in list\", True, ['a', 'e', 'i', ['o', 'u']]])   )"
   ]
  },
  {
   "cell_type": "code",
   "execution_count": 43,
   "id": "b1ea5600",
   "metadata": {},
   "outputs": [
    {
     "name": "stdout",
     "output_type": "stream",
     "text": [
      "[3.8, 88, False, 'Nested List', ['list in list', True, ['a', 'e', 'i', ['o', 'u']]]]\n",
      "[3.8, 88, False]\n",
      "[88, 'Nested List']\n",
      "[['list in list', True, ['a', 'e', 'i', ['o', 'u']]], 'Nested List', False, 88]\n",
      "[['list in list', True, ['a', 'e', 'i', ['o', 'u']]], False]\n"
     ]
    }
   ],
   "source": [
    "#SLICING....\n",
    "print(nl[::])\n",
    "print(nl[0:3:1])\n",
    "print(nl[1:4:2])\n",
    "print(nl[4:0:-1])\n",
    "print(nl[4:0:-2])"
   ]
  },
  {
   "cell_type": "code",
   "execution_count": 47,
   "id": "ed4125a3",
   "metadata": {},
   "outputs": [
    {
     "name": "stdout",
     "output_type": "stream",
     "text": [
      "[1, 6, 8, 9, 4, 4.6, 8.9, 5.3, 2.0, 1.4, 4.6, 8.9, 5.3, 2.0, 1.4, 4.6, 8.9, 5.3, 2.0, 1.4]\n",
      "['+', 1, 6, 8, 9, 4, 4.6, 8.9, 5.3, 2.0, 1.4, 4.6, 8.9, 5.3, 2.0, 1.4, 4.6, 8.9, 5.3, 2.0, 1.4]\n",
      "[67, 8.0, 'MSDS', 'W', True, 3.8, 88, False, 'Nested List', ['list in list', True, ['a', 'e', 'i', ['o', 'u']]]]\n"
     ]
    }
   ],
   "source": [
    "#Concatenattion....\n",
    "l1 = l1 + l2\n",
    "print(l1)\n",
    "conL = [\"+\"] + l1\n",
    "print(conL)\n",
    "hetL = l5 + nl\n",
    "print(hetL)"
   ]
  },
  {
   "cell_type": "code",
   "execution_count": 48,
   "id": "4df44597",
   "metadata": {},
   "outputs": [
    {
     "name": "stdout",
     "output_type": "stream",
     "text": [
      "['Maida', ' Nadeem ', ' Butt', 'Maida', ' Nadeem ', ' Butt', 'Maida', ' Nadeem ', ' Butt']\n"
     ]
    }
   ],
   "source": [
    "#REPLICATION....\n",
    "rl= [\"Maida\", \" Nadeem \", \" Butt\"]\n",
    "nrl = rl *3\n",
    "print(nrl)"
   ]
  },
  {
   "cell_type": "code",
   "execution_count": 10,
   "id": "403896a6",
   "metadata": {},
   "outputs": [
    {
     "name": "stdout",
     "output_type": "stream",
     "text": [
      "[78, 8.9, True, 'Maida']\n",
      "[78, 6.5, True, 'Maida']\n"
     ]
    }
   ],
   "source": [
    "#MODIFYING/ADDING IN LISTS.....\n",
    "modl = [78, 8.9, True, \"Maida\"]\n",
    "print(modl)\n",
    "modl[1] = 6.5   #modify single element\n",
    "print(modl)"
   ]
  },
  {
   "cell_type": "code",
   "execution_count": 11,
   "id": "4dcf6a36",
   "metadata": {},
   "outputs": [
    {
     "name": "stdout",
     "output_type": "stream",
     "text": [
      "[78, 3.3, False, 'Maida']\n",
      "['Maida', 'Butt']\n",
      "[['Maida', 'Nadeem'], 'Butt']\n",
      "['Maida', 'Nadeem', 'Butt']\n"
     ]
    }
   ],
   "source": [
    "modl[1:3] = [3.3, False]  #modify 2 elements with 2 elemnts\n",
    "print(modl)\n",
    "\n",
    "\n",
    "#modify more elements with less elemets...\n",
    "modl[0:4] = [\"Maida\", \"Butt\"]\n",
    "print(modl)\n",
    "\n",
    "#modify less elements with more elemets...\n",
    "modl[0] = [\"Maida\", \"Nadeem\"]  #Adding as a SUB-LIST\n",
    "print(modl)\n",
    "\n",
    "#Adding as elements rather than Sub-list...\n",
    "modl[0:1]  = [\"Maida\", \"Nadeem\"] \n",
    "print(modl)"
   ]
  },
  {
   "cell_type": "code",
   "execution_count": 12,
   "id": "e36fa6ae",
   "metadata": {},
   "outputs": [
    {
     "name": "stdout",
     "output_type": "stream",
     "text": [
      "[4, 6.8, False, 'Maida']\n",
      "[4, 6.8, False, 'Maida', 'Nadeem']\n",
      "[4, 6.8, False, 'Maida', 'Nadeem', 'Butt']\n",
      "[4, 6.8, False, 'Maida', 'Nadeem', 'Butt', ['MSDS', 'F22']]\n"
     ]
    }
   ],
   "source": [
    "#APPEND METHOD...\n",
    "appl = [4, 6.8, False, \"Maida\"]\n",
    "print(appl)\n",
    "\n",
    "appl.append(\"Nadeem\") #add at the end only a single element\n",
    "print(appl)\n",
    "\n",
    "appl.append(\"Butt\")\n",
    "print(appl)\n",
    "\n",
    "#Adding more than 1 element at the end will add as SUB-LIST IN APPEND...\n",
    "appl.append([\"MSDS\", \"F22\"])\n",
    "print(appl)"
   ]
  },
  {
   "cell_type": "code",
   "execution_count": 13,
   "id": "359aa8aa",
   "metadata": {},
   "outputs": [
    {
     "name": "stdout",
     "output_type": "stream",
     "text": [
      "[4, 6.8, False, 'Maida', 'Nadeem', 'Butt', ['MSDS', 'F22'], 'Morning', 'New Campus']\n"
     ]
    }
   ],
   "source": [
    "#EXTEND......\n",
    "appl.extend([\"Morning\", \"New Campus\"])\n",
    "print(appl)\n"
   ]
  },
  {
   "cell_type": "code",
   "execution_count": 14,
   "id": "8b74a732",
   "metadata": {},
   "outputs": [
    {
     "name": "stdout",
     "output_type": "stream",
     "text": [
      "['tomato', 'potato', 'Onion', 'Garlic', 'apple', 'mango', 'Orange', 'banana']\n"
     ]
    }
   ],
   "source": [
    "fruits =[\"apple\", \"mango\", \"Orange\", \"banana\"]\n",
    "vegs = [\"tomato\", \"potato\", \"Onion\",\"Garlic\"]\n",
    "vegs.extend(fruits)\n",
    "print(vegs)"
   ]
  },
  {
   "cell_type": "code",
   "execution_count": 16,
   "id": "6d1ea304",
   "metadata": {},
   "outputs": [
    {
     "name": "stdout",
     "output_type": "stream",
     "text": [
      "['maida', 'Nadeem']\n",
      "['maida', 'Nadeem', 'Butt']\n",
      "['maida', ['msds', 'f22', 'mor'], 'Nadeem', 'Butt']\n"
     ]
    }
   ],
   "source": [
    "#INSERT METHOD....\n",
    "inl = [\"maida\", \"Nadeem\"]\n",
    "print(inl)\n",
    "inl.insert(2, \"Butt\")\n",
    "print(inl)\n",
    "\n",
    "\n",
    "inl.insert(1,['msds','f22','mor'] )\n",
    "print(inl)"
   ]
  },
  {
   "cell_type": "code",
   "execution_count": 21,
   "id": "5e283f7b",
   "metadata": {},
   "outputs": [
    {
     "name": "stdout",
     "output_type": "stream",
     "text": [
      "['maida', ['nadeem', 'butt', 3.57], 'MSDS', 'Mor']\n",
      "new campus\n"
     ]
    }
   ],
   "source": [
    "#REMOVING FROM LIST......\n",
    "#POP METHOD......\n",
    "popl= [\"maida\", ['nadeem', 'butt', 3.57], \"MSDS\", \"Mor\", \"new campus\"]\n",
    "x = popl.pop()\n",
    "print(popl)\n",
    "print(x)"
   ]
  },
  {
   "cell_type": "code",
   "execution_count": 22,
   "id": "f6dab0b7",
   "metadata": {},
   "outputs": [
    {
     "name": "stdout",
     "output_type": "stream",
     "text": [
      "['maida', 'MSDS', 'Mor']\n",
      "['nadeem', 'butt', 3.57]\n",
      "['maida', 'Mor']\n",
      "MSDS\n"
     ]
    }
   ],
   "source": [
    "#pop with Index...\n",
    "y = popl.pop(1)\n",
    "print(popl)\n",
    "print(y)\n",
    "\n",
    "z = popl.pop(-2)\n",
    "print(popl)\n",
    "print(z)"
   ]
  },
  {
   "cell_type": "code",
   "execution_count": 24,
   "id": "2dff895a",
   "metadata": {},
   "outputs": [
    {
     "name": "stdout",
     "output_type": "stream",
     "text": [
      "['Learning', 'data science', 'fun']\n",
      "None\n"
     ]
    }
   ],
   "source": [
    "#REMOVE METHOD....\n",
    "rml= [\"Learning\", \"data science\", \"is\", \"fun\"]\n",
    "rm = rml.remove(\"is\")\n",
    "print(rml)\n",
    "print(rm)  #does not retuurn the removed value!!!!!!!"
   ]
  },
  {
   "cell_type": "code",
   "execution_count": 25,
   "id": "45d5860d",
   "metadata": {},
   "outputs": [
    {
     "name": "stdout",
     "output_type": "stream",
     "text": [
      "[]\n"
     ]
    }
   ],
   "source": [
    "#CLEAR METHOD...\n",
    "rml.clear()\n",
    "print(rml)   #emplty list..."
   ]
  },
  {
   "cell_type": "code",
   "execution_count": 27,
   "id": "88de1347",
   "metadata": {},
   "outputs": [
    {
     "ename": "NameError",
     "evalue": "name 'rml' is not defined",
     "output_type": "error",
     "traceback": [
      "\u001b[1;31m---------------------------------------------------------------------------\u001b[0m",
      "\u001b[1;31mNameError\u001b[0m                                 Traceback (most recent call last)",
      "\u001b[1;32m~\\AppData\\Local\\Temp\\ipykernel_8532\\2094316924.py\u001b[0m in \u001b[0;36m<module>\u001b[1;34m\u001b[0m\n\u001b[0;32m      1\u001b[0m \u001b[1;31m#DELETE METHOD....\u001b[0m\u001b[1;33m\u001b[0m\u001b[1;33m\u001b[0m\u001b[0m\n\u001b[1;32m----> 2\u001b[1;33m \u001b[1;32mdel\u001b[0m \u001b[0mrml\u001b[0m\u001b[1;33m\u001b[0m\u001b[1;33m\u001b[0m\u001b[0m\n\u001b[0m\u001b[0;32m      3\u001b[0m \u001b[1;31m#print(rml)   #no reference in memory\u001b[0m\u001b[1;33m\u001b[0m\u001b[1;33m\u001b[0m\u001b[0m\n",
      "\u001b[1;31mNameError\u001b[0m: name 'rml' is not defined"
     ]
    }
   ],
   "source": [
    "#DELETE METHOD....\n",
    "del rml\n",
    "#print(rml)   #no reference in memory"
   ]
  },
  {
   "cell_type": "code",
   "execution_count": 29,
   "id": "4fe101fc",
   "metadata": {},
   "outputs": [
    {
     "name": "stdout",
     "output_type": "stream",
     "text": [
      "['maida', ['msds', 'f22', 'mor'], 4.5, 7, False, 'nadeem', ['Butt', 'msds', 'mor'], 'New Campus', 4.5, 7, False]\n",
      "['maida', ['msds', 'f22', 'mor'], 4.5, ['Butt', 'msds', 'mor'], 'New Campus', 4.5, 7, False]\n",
      "['maida', ['msds', 'f22', 'mor'], 4.5, 'New Campus', 4.5, 7, False]\n",
      "['maida', ['msds', 'f22', 'mor'], 'New Campus', 4.5, 7, False]\n"
     ]
    }
   ],
   "source": [
    "#DELETION .....\n",
    "inl.extend([\"nadeem\",[\"Butt\", \"msds\", \"mor\"], \"New Campus\", 4.5, 7, False])\n",
    "print(inl)\n",
    "del inl[3:6]  #del a subset of list with slicing\n",
    "print(inl)\n",
    "del inl[3]  #del single element\n",
    "print(inl)\n",
    "del inl[2] #del a sublist\n",
    "print(inl)"
   ]
  },
  {
   "cell_type": "code",
   "execution_count": 31,
   "id": "335b22db",
   "metadata": {},
   "outputs": [
    {
     "name": "stdout",
     "output_type": "stream",
     "text": [
      "['Learning', 'is', 'fun']\n",
      "['L', 'e', 'a', 'r', 'n', 'i', 'n', 'g', ' ', 'i', 's', ' ', 'f', 'u', 'n']\n"
     ]
    }
   ],
   "source": [
    "#STRING TO LIST ....\n",
    "#type Casting...\n",
    "\n",
    "str1=\"Learning is fun\"\n",
    "sl= str1.split(\" \")  #List conversio with split\n",
    "print(sl)\n",
    "\n",
    "sl2 = list(str1) #basic type casting\n",
    "print(sl2)"
   ]
  },
  {
   "cell_type": "code",
   "execution_count": 32,
   "id": "6df54ba2",
   "metadata": {},
   "outputs": [
    {
     "name": "stdout",
     "output_type": "stream",
     "text": [
      "Learning is fun\n",
      "<class 'str'>\n",
      "Learning#is#fun\n"
     ]
    }
   ],
   "source": [
    "#LIST TO STRING.....\n",
    "#using Join..\n",
    "\n",
    "st1 = ' '.join(sl)\n",
    "print(st1)\n",
    "print(type(st1))\n",
    "\n",
    "#join with delimeter..\n",
    "delimeter = \"#\"\n",
    "st2 = delimeter.join(sl)\n",
    "print(st2)"
   ]
  },
  {
   "cell_type": "code",
   "execution_count": 48,
   "id": "f54fbcd7",
   "metadata": {},
   "outputs": [
    {
     "name": "stdout",
     "output_type": "stream",
     "text": [
      "Length 8\n",
      "Max in list:  8\n",
      "Min in list :  1\n",
      "sum of list :  36\n"
     ]
    }
   ],
   "source": [
    "#BUILT-IN Functions......\n",
    "numl= [1,2,3,4,5,6,7,8]\n",
    "print(\"Length\", len(numl))\n",
    "print(\"Max in list: \",max(numl))\n",
    "print(\"Min in list : \",min(numl))\n",
    "print(\"sum of list : \",sum(numl))"
   ]
  },
  {
   "cell_type": "code",
   "execution_count": 49,
   "id": "8b04413e",
   "metadata": {},
   "outputs": [
    {
     "name": "stdout",
     "output_type": "stream",
     "text": [
      "1635201483968\n",
      "1635201483968\n",
      "[1.0, 2, 3, 4, 5, 6]\n",
      "[1.0, 2, 3, 4, 5, 6]\n"
     ]
    }
   ],
   "source": [
    "#ALIASING....\n",
    "ls1 = [1.,2,3,4,5,6]\n",
    "ls2 = ls1  #ALIAS\n",
    "print(id(ls1))\n",
    "print(id(ls2))\n",
    "print(ls1)\n",
    "print(ls2)"
   ]
  },
  {
   "cell_type": "code",
   "execution_count": 50,
   "id": "4a5e0b46",
   "metadata": {},
   "outputs": [
    {
     "name": "stdout",
     "output_type": "stream",
     "text": [
      "[1.0, 2, 8, 4, 5, 6]\n",
      "[1.0, 2, 8, 4, 5, 6]\n"
     ]
    }
   ],
   "source": [
    "ls2[2] = 8  #as at backend there is only 1 list to refer thus thsis change is made in both alias reference.\n",
    "print(ls1)\n",
    "print(ls2)"
   ]
  },
  {
   "cell_type": "code",
   "execution_count": 52,
   "id": "81bb2fbb",
   "metadata": {},
   "outputs": [
    {
     "name": "stdout",
     "output_type": "stream",
     "text": [
      "1635200750464\n",
      "1635203883456\n",
      "[3, 5, 7, 9]\n",
      "[3, 5, 7, 11]\n",
      "[1, 3, 5, 7, 9]\n"
     ]
    }
   ],
   "source": [
    "#SHALLOW COPY....\n",
    "#1 with assignment...\n",
    "\n",
    "copl=[1,3,5,7,9]\n",
    "copl2 = copl[1:5]\n",
    "print(id(copl))\n",
    "print(id(copl2))\n",
    "print(copl2)\n",
    "\n",
    "copl2[3]= 11 # cahange applied in only the one specified.\n",
    "print(copl2)\n",
    "print(copl)"
   ]
  },
  {
   "cell_type": "code",
   "execution_count": 56,
   "id": "9175abab",
   "metadata": {},
   "outputs": [
    {
     "name": "stdout",
     "output_type": "stream",
     "text": [
      "[9, 8, 7, 6, 5, 4, 3, 2, 1]\n",
      "[9, 8, 7, 6, 5, 33, 3, 2, 1]\n",
      "[9, 8, 7, 6, 5, 4, 3, 2, 1]\n",
      "1635203832576\n",
      "1635164121600\n"
     ]
    }
   ],
   "source": [
    "#SHALLOW COPY....\n",
    "#2 with COPY Method...\n",
    "import copy\n",
    "sl=[9,8,7,6,5,4,3,2,1]\n",
    "slc=copy.copy(sl)\n",
    "print(slc)\n",
    "slc[5] = 33\n",
    "print(slc)\n",
    "print(sl)\n",
    "\n",
    "print(id(sl))  #diff references....\n",
    "print(id(slc))"
   ]
  },
  {
   "cell_type": "code",
   "execution_count": 57,
   "id": "a7ca85bf",
   "metadata": {},
   "outputs": [
    {
     "name": "stdout",
     "output_type": "stream",
     "text": [
      "[[1, 2, 3], [4, 5, 6], [7, 8, 9]]\n",
      "[[1, 2, 3], [4, 5, 6], [7, 8, 'q']]\n",
      "[[1, 2, 3], [4, 5, 6], [7, 8, 'q']]\n"
     ]
    }
   ],
   "source": [
    "#DEEP COPY...\n",
    "# problem with shallow it doesnot handle nested list well\n",
    "import copy\n",
    "snl=[[1,2,3],[4,5,6],[7,8,9]]\n",
    "cnl=copy.copy(snl)\n",
    "print(cnl)\n",
    "cnl[2][2] = \"q\"  #produce changes in both lists\n",
    "print(snl)\n",
    "print(cnl)"
   ]
  },
  {
   "cell_type": "code",
   "execution_count": 58,
   "id": "8bfeec52",
   "metadata": {},
   "outputs": [
    {
     "name": "stdout",
     "output_type": "stream",
     "text": [
      "[[1, 2, 3], [4, 5, 6], [7, 8, 'q']]\n",
      "[[1, 2, 3], [4, 5, 6], [7, 8, 'q']]\n",
      "[[1, 2, 3], [4, 5, 6], [7, 'w', 'q']]\n"
     ]
    }
   ],
   "source": [
    "#DEEP COPY FOR DEALING NESTED LISTS WELL....\n",
    "import copy\n",
    "dnl=copy.deepcopy(snl)\n",
    "print(dnl)\n",
    "dnl[2][1] = \"w\"  #HERE NESTED OBJECTS ARE COPIED RECURSIVELY AND INDEPENDENTLYY....\n",
    "print(snl)\n",
    "print(dnl)"
   ]
  },
  {
   "cell_type": "code",
   "execution_count": 61,
   "id": "4b13b464",
   "metadata": {},
   "outputs": [
    {
     "name": "stdout",
     "output_type": "stream",
     "text": [
      "[0, 1, 3, 8, 43, 66, 71, 99]\n",
      "[99, 71, 66, 43, 8, 3, 1, 0]\n"
     ]
    }
   ],
   "source": [
    "#SORTING.....\n",
    "sortl=[66,3, 8, 1,43, 71, 0, 99]\n",
    "sortl.sort() #AScending \n",
    "print(sortl)\n",
    "\n",
    "sortl.sort(reverse = True)#Descending\n",
    "print(sortl)"
   ]
  },
  {
   "cell_type": "code",
   "execution_count": 63,
   "id": "d5cabe75",
   "metadata": {},
   "outputs": [
    {
     "name": "stdout",
     "output_type": "stream",
     "text": [
      "['aaaa', 'b', 'cc', 'ddd']\n",
      "['b', 'cc', 'ddd', 'aaaa']\n"
     ]
    }
   ],
   "source": [
    "#Sorting with length value rather than character value\n",
    "chl =[\"cc\", \"b\", \"aaaa\", \"ddd\"]\n",
    "chl.sort()\n",
    "print(chl)\n",
    "\n",
    "#sort on length basis...\n",
    "chl.sort(key=len)\n",
    "print(chl)"
   ]
  },
  {
   "cell_type": "code",
   "execution_count": 64,
   "id": "ad78319f",
   "metadata": {},
   "outputs": [
    {
     "name": "stdout",
     "output_type": "stream",
     "text": [
      "['xyza', 'arif', 'bas', 'abcz']\n"
     ]
    }
   ],
   "source": [
    "#Custom Sorting\n",
    "def last(s):\n",
    "    return s[-1] #return last character\n",
    "cusl=[\"abcz\",'xyza',\"bas\",'arif']\n",
    "cusl.sort(key=last)  #sort on the basis of last character...\n",
    "print(cusl)"
   ]
  },
  {
   "cell_type": "code",
   "execution_count": 68,
   "id": "db89dfb7",
   "metadata": {},
   "outputs": [
    {
     "name": "stdout",
     "output_type": "stream",
     "text": [
      "True\n",
      "True\n",
      "True\n"
     ]
    }
   ],
   "source": [
    "#IN operator in list...\n",
    "print(\"b\" in chl)\n",
    "print([7,'w','q'] in dnl)\n",
    "print(\"xxx\" not in cusl)"
   ]
  },
  {
   "cell_type": "code",
   "execution_count": 73,
   "id": "72657906",
   "metadata": {},
   "outputs": [
    {
     "name": "stdout",
     "output_type": "stream",
     "text": [
      "True\n",
      "True\n",
      "1635161063472 1635161063472\n",
      "True\n",
      "False\n",
      "1635206891008 1635207238656\n"
     ]
    }
   ],
   "source": [
    "#OBJECTS VS STRINGS....\n",
    "\n",
    "#Valuess....\n",
    "a=\"hello\"\n",
    "b=\"hello\"\n",
    "\n",
    "print(a == b) #same values\n",
    "print(a is b) #same ids \n",
    "print(id(a), id(b))\n",
    "\n",
    "#Objects...\n",
    "x=[\"hello\"]\n",
    "y=[\"hello\"]\n",
    "print(x == y) #same values\n",
    "print(x is y) #diff ids cause 2 diff lists created in memory...\n",
    "print(id(x), id(y))"
   ]
  },
  {
   "cell_type": "code",
   "execution_count": null,
   "id": "037198f6",
   "metadata": {},
   "outputs": [],
   "source": []
  }
 ],
 "metadata": {
  "kernelspec": {
   "display_name": "Python 3 (ipykernel)",
   "language": "python",
   "name": "python3"
  },
  "language_info": {
   "codemirror_mode": {
    "name": "ipython",
    "version": 3
   },
   "file_extension": ".py",
   "mimetype": "text/x-python",
   "name": "python",
   "nbconvert_exporter": "python",
   "pygments_lexer": "ipython3",
   "version": "3.9.13"
  }
 },
 "nbformat": 4,
 "nbformat_minor": 5
}
