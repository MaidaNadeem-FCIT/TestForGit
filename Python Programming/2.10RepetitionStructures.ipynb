{
 "cells": [
  {
   "cell_type": "code",
   "execution_count": 2,
   "id": "3b196a96",
   "metadata": {},
   "outputs": [
    {
     "name": "stdout",
     "output_type": "stream",
     "text": [
      "0\n",
      "1\n",
      "2\n",
      "3\n",
      "4\n",
      "5\n",
      "6\n",
      "7\n",
      "8\n",
      "9\n",
      "bye-bye\n"
     ]
    }
   ],
   "source": [
    "#REPETITION STRUCTURES...\n",
    "#1. While Loop...\n",
    "n=0 #loop variable\n",
    "while (n<10): #condition\n",
    "    print(n) \n",
    "    n= n+1 #loop variable updation\n",
    "print(\"bye-bye\")"
   ]
  },
  {
   "cell_type": "code",
   "execution_count": 7,
   "id": "10f4b533",
   "metadata": {},
   "outputs": [
    {
     "name": "stdout",
     "output_type": "stream",
     "text": [
      "93326215443944152681699238856266700490715968264381621468592963895217599993229915608941463976156518286253697920827223758251185210916864000000000000000000000000\n",
      "Wall time: 0 ns\n"
     ]
    }
   ],
   "source": [
    "#FACTORIAL EXAMPLE...\n",
    "%%time\n",
    "i=1\n",
    "res=1\n",
    "if (i == 0):\n",
    "    res =1\n",
    "else:\n",
    "    while(i <= 100):\n",
    "        res =res *i\n",
    "        i=i+1\n",
    "print(res)"
   ]
  },
  {
   "cell_type": "code",
   "execution_count": 11,
   "id": "be9ff431",
   "metadata": {},
   "outputs": [
    {
     "name": "stdout",
     "output_type": "stream",
     "text": [
      "iteration # 1\n",
      "m001\n",
      "iteration # 2\n",
      "fall22\n",
      "iteration # 3\n",
      "msds\n",
      "iteration # 4\n",
      "butt\n",
      "iteration # 5\n",
      "nadeem\n",
      "iteration # 6\n",
      "maida\n",
      "List after Loop []\n"
     ]
    }
   ],
   "source": [
    "mylist = [\"maida\", \"nadeem\", \"butt\", \"msds\", \"fall22\", \"m001\"]\n",
    "n=1\n",
    "while mylist:\n",
    "    print(\"iteration #\",n)\n",
    "    n=n+1\n",
    "    print(mylist.pop())\n",
    "print(\"List after Loop\", mylist)"
   ]
  },
  {
   "cell_type": "code",
   "execution_count": 13,
   "id": "d40107db",
   "metadata": {},
   "outputs": [
    {
     "name": "stdout",
     "output_type": "stream",
     "text": [
      "9\n",
      "7\n",
      "outside loop\n"
     ]
    }
   ],
   "source": [
    "#CONTINUE and BREAK STATEMENTS...\n",
    "n=10\n",
    "while (n>0):\n",
    "    n=n-1\n",
    "    if(n%2 == 0):\n",
    "        continue\n",
    "    elif(n == 5):\n",
    "        break\n",
    "    print(n)\n",
    "print(\"outside loop\")"
   ]
  },
  {
   "cell_type": "code",
   "execution_count": 15,
   "id": "bff06df5",
   "metadata": {},
   "outputs": [
    {
     "name": "stdout",
     "output_type": "stream",
     "text": [
      "0\n",
      "1\n",
      "2\n",
      "3\n",
      "4\n",
      "5\n",
      "6\n",
      "7\n",
      "8\n",
      "9\n",
      "10\n",
      "11\n",
      "outside loop\n"
     ]
    }
   ],
   "source": [
    "#WHILE with ELSE .....\n",
    "n=0\n",
    "while(n<=10):\n",
    "    print(n)\n",
    "    n=n+1\n",
    "else:\n",
    "    print(n)\n",
    "print(\"outside loop\")"
   ]
  },
  {
   "cell_type": "code",
   "execution_count": 18,
   "id": "3e8872e5",
   "metadata": {},
   "outputs": [
    {
     "name": "stdout",
     "output_type": "stream",
     "text": [
      "mango\n",
      "banana\n",
      "apple\n",
      "orange\n",
      "guava\n"
     ]
    },
    {
     "ename": "StopIteration",
     "evalue": "",
     "output_type": "error",
     "traceback": [
      "\u001b[1;31m---------------------------------------------------------------------------\u001b[0m",
      "\u001b[1;31mStopIteration\u001b[0m                             Traceback (most recent call last)",
      "\u001b[1;32m~\\AppData\\Local\\Temp\\ipykernel_1836\\3231284878.py\u001b[0m in \u001b[0;36m<module>\u001b[1;34m\u001b[0m\n\u001b[0;32m      7\u001b[0m \u001b[0mprint\u001b[0m\u001b[1;33m(\u001b[0m\u001b[0mnext\u001b[0m\u001b[1;33m(\u001b[0m\u001b[0mi\u001b[0m\u001b[1;33m)\u001b[0m\u001b[1;33m)\u001b[0m\u001b[1;33m\u001b[0m\u001b[1;33m\u001b[0m\u001b[0m\n\u001b[0;32m      8\u001b[0m \u001b[0mprint\u001b[0m\u001b[1;33m(\u001b[0m\u001b[0mnext\u001b[0m\u001b[1;33m(\u001b[0m\u001b[0mi\u001b[0m\u001b[1;33m)\u001b[0m\u001b[1;33m)\u001b[0m\u001b[1;33m\u001b[0m\u001b[1;33m\u001b[0m\u001b[0m\n\u001b[1;32m----> 9\u001b[1;33m \u001b[0mprint\u001b[0m\u001b[1;33m(\u001b[0m\u001b[0mnext\u001b[0m\u001b[1;33m(\u001b[0m\u001b[0mi\u001b[0m\u001b[1;33m)\u001b[0m\u001b[1;33m)\u001b[0m\u001b[1;33m\u001b[0m\u001b[1;33m\u001b[0m\u001b[0m\n\u001b[0m",
      "\u001b[1;31mStopIteration\u001b[0m: "
     ]
    }
   ],
   "source": [
    "#ITERATOR AND ITERABLE...\n",
    "l1 = [\"mango\", \"banana\", \"apple\", \"orange\", \"guava\"]\n",
    "i = iter(l1) #create the iterator for the iterable object(list i this case)\n",
    "print(next(i)) #pass ther iterator in next funtion to get the value\n",
    "print(next(i))\n",
    "print(next(i))\n",
    "print(next(i))\n",
    "print(next(i))\n",
    "print(next(i)) #no more element in iterator.\n"
   ]
  },
  {
   "cell_type": "code",
   "execution_count": 19,
   "id": "33a6537c",
   "metadata": {},
   "outputs": [
    {
     "name": "stdout",
     "output_type": "stream",
     "text": [
      "mango\n",
      "banana\n",
      "apple\n",
      "orange\n",
      "guava\n"
     ]
    }
   ],
   "source": [
    "#FOR LOOP...\n",
    "#iterating in list\n",
    "for i in l1:\n",
    "    print(i)"
   ]
  },
  {
   "cell_type": "code",
   "execution_count": 20,
   "id": "61960c96",
   "metadata": {},
   "outputs": [
    {
     "name": "stdout",
     "output_type": "stream",
     "text": [
      "onion\n",
      "cucumber\n",
      "potato\n",
      "tomato\n"
     ]
    }
   ],
   "source": [
    "#Iteratiing through Sets\n",
    "vegs={\"potato\", \"tomato\", \"cucumber\", \"onion\"}\n",
    "for veg in vegs:\n",
    "    print(veg)"
   ]
  },
  {
   "cell_type": "code",
   "execution_count": 21,
   "id": "0f8c7cfb",
   "metadata": {},
   "outputs": [
    {
     "name": "stdout",
     "output_type": "stream",
     "text": [
      "b\n",
      "e\n",
      " \n",
      "h\n",
      "a\n",
      "p\n",
      "p\n",
      "y\n"
     ]
    }
   ],
   "source": [
    "#iterating in string\n",
    "for n in (\"be happy\"):\n",
    "    print(n)"
   ]
  },
  {
   "cell_type": "code",
   "execution_count": 26,
   "id": "ee8c1392",
   "metadata": {},
   "outputs": [
    {
     "name": "stdout",
     "output_type": "stream",
     "text": [
      "1\n",
      "a\n",
      "4\n",
      "\n",
      "1\n",
      "a\n",
      "4\n",
      "\n",
      "maida\n",
      "{2: 'rafi', 3: 'arif'}\n",
      "maria\n",
      "\n",
      "(1, 'maida')\n",
      "('a', {2: 'rafi', 3: 'arif'})\n",
      "(4, 'maria')\n"
     ]
    }
   ],
   "source": [
    "#Iterating through Dictionary\n",
    "d1={\n",
    "    1:\"maida\",\n",
    "    \"a\": {2:\"rafi\",3:\"arif\"},\n",
    "    4:\"maria\"\n",
    "}\n",
    "for i in d1: #keys\n",
    "    print(i)\n",
    "print()   \n",
    "for i in d1.keys(): #keys desired approach\n",
    "    print(i)\n",
    "print()   \n",
    "for i in d1.values(): #values\n",
    "    print(i)\n",
    "print()   \n",
    "for i in d1.items(): #(key, value) Pairs\n",
    "    print(i)"
   ]
  },
  {
   "cell_type": "code",
   "execution_count": 28,
   "id": "c72623e2",
   "metadata": {},
   "outputs": [
    {
     "name": "stdout",
     "output_type": "stream",
     "text": [
      "mynameismaida"
     ]
    }
   ],
   "source": [
    "#Pass in For loop...\n",
    "st= \"my name is maida\"\n",
    "for s in st:\n",
    "    if(s ==\" \"):\n",
    "        pass\n",
    "    else:\n",
    "        print(s, end=\"\") #print without spaces in single line\n"
   ]
  },
  {
   "cell_type": "code",
   "execution_count": 30,
   "id": "8988d1c8",
   "metadata": {},
   "outputs": [
    {
     "name": "stdout",
     "output_type": "stream",
     "text": [
      "0\n",
      "1\n",
      "2\n",
      "3\n",
      "4\n",
      "\n",
      "-3\n",
      "-2\n",
      "-1\n",
      "0\n",
      "1\n",
      "2\n",
      "3\n",
      "4\n",
      "5\n",
      "6\n",
      "7\n",
      "8\n",
      "9\n",
      "10\n",
      "11\n",
      "12\n",
      "13\n",
      "\n",
      "-1\n",
      "1\n",
      "3\n",
      "5\n",
      "7\n",
      "\n"
     ]
    }
   ],
   "source": [
    "#Range() in for...\n",
    "for i in range(5): #from 0 to 4\n",
    "    print(i)\n",
    "print()\n",
    "for i in range(-3, 14): #from -3 to 13\n",
    "    print(i)\n",
    "print()\n",
    "for i in range(-1, 8, 2): #from -1 to 7 with step 2\n",
    "    print(i)\n",
    "print()"
   ]
  },
  {
   "cell_type": "code",
   "execution_count": 31,
   "id": "e897467c",
   "metadata": {},
   "outputs": [
    {
     "name": "stdout",
     "output_type": "stream",
     "text": [
      "the member on 0 is arif\n",
      "the member on 1 is wahed\n",
      "the member on 2 is faisa\n",
      "the member on 3 is nadeem\n"
     ]
    }
   ],
   "source": [
    "#E.G 2\n",
    "friends = [\"arif\",\"wahed\", \"faisa\", \"nadeem\"]\n",
    "for i in range(len(friends)):\n",
    "    print(\"the member on {} is {}\".format(i,friends[i]))"
   ]
  },
  {
   "cell_type": "code",
   "execution_count": 32,
   "id": "d70154a9",
   "metadata": {},
   "outputs": [
    {
     "name": "stdout",
     "output_type": "stream",
     "text": [
      "(0, 'arif')\n",
      "(1, 'wahed')\n",
      "(2, 'faisa')\n",
      "(3, 'nadeem')\n"
     ]
    }
   ],
   "source": [
    "#ENUMERATE....\n",
    "rv = enumerate(friends) #passed and iterable and return an enumerate obj having tuple(index, value)\n",
    "for i in rv:\n",
    "    print(i)"
   ]
  },
  {
   "cell_type": "code",
   "execution_count": 1,
   "id": "b17eca1e",
   "metadata": {},
   "outputs": [
    {
     "ename": "NameError",
     "evalue": "name 'friends' is not defined",
     "output_type": "error",
     "traceback": [
      "\u001b[1;31m---------------------------------------------------------------------------\u001b[0m",
      "\u001b[1;31mNameError\u001b[0m                                 Traceback (most recent call last)",
      "\u001b[1;32m~\\AppData\\Local\\Temp\\ipykernel_8492\\2113739885.py\u001b[0m in \u001b[0;36m<module>\u001b[1;34m\u001b[0m\n\u001b[0;32m      1\u001b[0m \u001b[1;31m#BREAK and CONTINUE in For...\u001b[0m\u001b[1;33m\u001b[0m\u001b[1;33m\u001b[0m\u001b[0m\n\u001b[1;32m----> 2\u001b[1;33m \u001b[1;32mfor\u001b[0m \u001b[0mi\u001b[0m \u001b[1;32min\u001b[0m \u001b[0mfriends\u001b[0m\u001b[1;33m:\u001b[0m \u001b[1;31m#if for not works than else works\u001b[0m\u001b[1;33m\u001b[0m\u001b[1;33m\u001b[0m\u001b[0m\n\u001b[0m\u001b[0;32m      3\u001b[0m     \u001b[1;32mif\u001b[0m\u001b[1;33m(\u001b[0m\u001b[0mi\u001b[0m \u001b[1;33m==\u001b[0m\u001b[1;34m\"arif\"\u001b[0m\u001b[1;33m)\u001b[0m\u001b[1;33m:\u001b[0m\u001b[1;33m\u001b[0m\u001b[1;33m\u001b[0m\u001b[0m\n\u001b[0;32m      4\u001b[0m         \u001b[1;32mcontinue\u001b[0m\u001b[1;33m\u001b[0m\u001b[1;33m\u001b[0m\u001b[0m\n\u001b[0;32m      5\u001b[0m     \u001b[1;32melif\u001b[0m\u001b[1;33m(\u001b[0m\u001b[0mi\u001b[0m \u001b[1;33m==\u001b[0m  \u001b[1;34m\"faisa\"\u001b[0m\u001b[1;33m)\u001b[0m\u001b[1;33m:\u001b[0m\u001b[1;33m\u001b[0m\u001b[1;33m\u001b[0m\u001b[0m\n",
      "\u001b[1;31mNameError\u001b[0m: name 'friends' is not defined"
     ]
    }
   ],
   "source": [
    "#BREAK and CONTINUE in For...\n",
    "for i in friends: #if for not works than else works\n",
    "    if(i ==\"arif\"):\n",
    "        continue\n",
    "    elif(i ==  \"faisa\"):\n",
    "        break\n",
    "    else:\n",
    "        print(i)\n",
    "else: #in this case for is working so else is not executing\n",
    "    print(\"nothing to print\")"
   ]
  },
  {
   "cell_type": "code",
   "execution_count": 41,
   "id": "5b26e008",
   "metadata": {},
   "outputs": [
    {
     "name": "stdout",
     "output_type": "stream",
     "text": [
      "onion arif\n",
      "onion wahed\n",
      "onion faisa\n",
      "onion nadeem\n",
      "\n",
      "cucumber arif\n",
      "cucumber wahed\n",
      "cucumber faisa\n",
      "cucumber nadeem\n",
      "\n",
      "potato arif\n",
      "potato wahed\n",
      "potato faisa\n",
      "potato nadeem\n",
      "\n",
      "tomato arif\n",
      "tomato wahed\n",
      "tomato faisa\n",
      "tomato nadeem\n",
      "\n"
     ]
    }
   ],
   "source": [
    "#NESTED For Loop...\n",
    "for veg in vegs:\n",
    "    for friend in friends:\n",
    "        print(veg, friend)\n",
    "    print()"
   ]
  },
  {
   "cell_type": "code",
   "execution_count": 42,
   "id": "85520fed",
   "metadata": {},
   "outputs": [
    {
     "name": "stdout",
     "output_type": "stream",
     "text": [
      "[1, 4, 9, 16, 25, 36, 49, 64, 81, 100]\n"
     ]
    }
   ],
   "source": [
    "#COMPREHENSION...\n",
    "#1. LIST...\n",
    "ol = range(1,11) #(nl is comprehension of squares from ol)\n",
    "nl = [i*i for i in ol] #[] barckets as we are comprehansing a list \n",
    "print(nl)"
   ]
  },
  {
   "cell_type": "code",
   "execution_count": 43,
   "id": "30cb9bad",
   "metadata": {},
   "outputs": [
    {
     "name": "stdout",
     "output_type": "stream",
     "text": [
      "[4, 16, 36, 64, 100]\n"
     ]
    }
   ],
   "source": [
    "#E.G.2 (only even number's squares are comprehensed in nl)\n",
    "nl = [i*i for i in ol if i%2==0]\n",
    "print(nl)\n"
   ]
  },
  {
   "cell_type": "code",
   "execution_count": 49,
   "id": "e7a1deff",
   "metadata": {},
   "outputs": [
    {
     "name": "stdout",
     "output_type": "stream",
     "text": [
      "{'onion', 'cucumber', 'potato', 'tomato'}\n",
      "{'potato', 'tomato'}\n",
      "['cucumber', 'potato', 'tomato']\n"
     ]
    }
   ],
   "source": [
    "#E.G.3 (only vegs having \"a\" in them are comprehensed in nvl)\n",
    "print(vegs)\n",
    "newVeg = {veg for veg in vegs if \"a\" in veg} #set comprehension\n",
    "print(newVeg)\n",
    "\n",
    "newVeg2 = [veg for veg in vegs if veg != \"onion\"] #list comprehension from set of vegs not having onion\n",
    "print(newVeg2)"
   ]
  },
  {
   "cell_type": "code",
   "execution_count": 51,
   "id": "91dbb5eb",
   "metadata": {},
   "outputs": [
    {
     "name": "stdout",
     "output_type": "stream",
     "text": [
      "{1: 1, 2: 8, 3: 27, 4: 64, 5: 125, 6: 216, 7: 343, 8: 512, 9: 729, 10: 1000}\n",
      "{2: 8, 4: 64, 6: 216, 8: 512, 10: 1000}\n"
     ]
    }
   ],
   "source": [
    "#Dictionary Comprehansion.... \n",
    "d1 = {key:key**3 for key in ol} #(key:value) pair of key->item from list and value->power 3 of selected item\n",
    "print(d1)\n",
    "\n",
    "d1 = {key:key**3 for key in ol if(key**3 % 4 == 0)} #(key:value) pair of key->item from list and value->divisible by 4\n",
    "print(d1)"
   ]
  },
  {
   "cell_type": "code",
   "execution_count": 52,
   "id": "04cb1fff",
   "metadata": {},
   "outputs": [
    {
     "name": "stdout",
     "output_type": "stream",
     "text": [
      "{'bread': 127.0625, 'eggs': 31.25, 'milk': 206.25}\n"
     ]
    }
   ],
   "source": [
    "#dictionary comprehansion from dictionary...\n",
    "dict1 = {\"bread\":101.65, \"eggs\":25.0, \"milk\":165}\n",
    "newDict = {key:value*1.25 for (key,value) in dict1.items()}\n",
    "print(newDict)"
   ]
  },
  {
   "cell_type": "code",
   "execution_count": null,
   "id": "bb3a8f1a",
   "metadata": {},
   "outputs": [],
   "source": []
  }
 ],
 "metadata": {
  "kernelspec": {
   "display_name": "Python 3 (ipykernel)",
   "language": "python",
   "name": "python3"
  },
  "language_info": {
   "codemirror_mode": {
    "name": "ipython",
    "version": 3
   },
   "file_extension": ".py",
   "mimetype": "text/x-python",
   "name": "python",
   "nbconvert_exporter": "python",
   "pygments_lexer": "ipython3",
   "version": "3.9.13"
  }
 },
 "nbformat": 4,
 "nbformat_minor": 5
}
