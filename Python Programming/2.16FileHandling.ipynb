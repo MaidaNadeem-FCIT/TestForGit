{
 "cells": [
  {
   "cell_type": "code",
   "execution_count": 1,
   "id": "62da847b",
   "metadata": {},
   "outputs": [
    {
     "data": {
      "text/plain": [
       "<_io.TextIOWrapper name='f1.txt' mode='rt' encoding='cp1252'>"
      ]
     },
     "execution_count": 1,
     "metadata": {},
     "output_type": "execute_result"
    }
   ],
   "source": [
    "#FILE HANDLING...\n",
    "\n",
    "#1. OPEN a file all below are equivalent...\n",
    "fd = open(\"f1.txt\", \"rt\") \n",
    "#fd = open(\"f1.txt\", \"r\")\n",
    "#fd = open(\"f1.txt\")\n",
    "fd"
   ]
  },
  {
   "cell_type": "code",
   "execution_count": 2,
   "id": "e63a87c7",
   "metadata": {},
   "outputs": [
    {
     "data": {
      "text/plain": [
       "<_io.BufferedReader name='image.png'>"
      ]
     },
     "execution_count": 2,
     "metadata": {},
     "output_type": "execute_result"
    }
   ],
   "source": [
    "#Read a Binary File i.e. image...\n",
    "fd1= open(\"image.png\",\"rb\")\n",
    "fd1"
   ]
  },
  {
   "cell_type": "code",
   "execution_count": 3,
   "id": "3e11f283",
   "metadata": {},
   "outputs": [
    {
     "name": "stdout",
     "output_type": "stream",
     "text": [
      "This \n"
     ]
    }
   ],
   "source": [
    "#READING a file...\n",
    "rv = fd.read(5)#5 characters\n",
    "print(rv)"
   ]
  },
  {
   "cell_type": "code",
   "execution_count": 4,
   "id": "f1149bf2",
   "metadata": {},
   "outputs": [
    {
     "name": "stdout",
     "output_type": "stream",
     "text": [
      "is a practise file for file handling.\n",
      "In which i am trying to open a text file.\n",
      "Then try reading a file in all available modes.\n",
      "Then try writing in this file in all modes at start and end using append.\n",
      "Then close the file to avoid any problem.\n"
     ]
    }
   ],
   "source": [
    "rv = fd.read()#read till end of file\n",
    "print(rv)"
   ]
  },
  {
   "cell_type": "code",
   "execution_count": 5,
   "id": "804550e2",
   "metadata": {},
   "outputs": [
    {
     "data": {
      "text/plain": [
       "''"
      ]
     },
     "execution_count": 5,
     "metadata": {},
     "output_type": "execute_result"
    }
   ],
   "source": [
    "fd.read()# now it is at the end so no  more characters to read and empty string is returning..."
   ]
  },
  {
   "cell_type": "code",
   "execution_count": 6,
   "id": "7ca81bcb",
   "metadata": {},
   "outputs": [
    {
     "name": "stdout",
     "output_type": "stream",
     "text": [
      "This is a practise file for file handling.\n",
      "In which i am trying to open a text file.\n",
      "Then try reading a file in all available modes.\n",
      "Then try writing in this file in all modes at start and end using append.\n",
      "Then close the file to avoid any problem.\n"
     ]
    }
   ],
   "source": [
    "#so we close the file reopen and read again...\n",
    "fd.close()# closing file\n",
    "fd = open (\"f1.txt\", \"rt\") #open again\n",
    "print(fd.read())#read all file byte by byte/ char by char..\n",
    "fd.close()# closing after reading"
   ]
  },
  {
   "cell_type": "code",
   "execution_count": 7,
   "id": "8956ad81",
   "metadata": {},
   "outputs": [
    {
     "name": "stdout",
     "output_type": "stream",
     "text": [
      "This is a practise file for file handling.\n",
      "\n",
      "In which i am trying to open a text file.\n",
      "\n",
      "Then try reading a file in all available modes.\n",
      "\n",
      "Then try writing in this file in all modes at start and end using append.\n",
      "\n",
      "Then c\n"
     ]
    }
   ],
   "source": [
    "#READLINE FUNCTION...\n",
    "fd = open (\"f1.txt\", \"rt\")\n",
    "print(fd.readline())# read 1 line at a time\n",
    "print(fd.readline())# if size mentioned than read that much chracters from one line\n",
    "print(fd.readline())\n",
    "print(fd.readline())\n",
    "print(fd.readline(6)) #only six characters from last line\n",
    "\n",
    "fd.close()"
   ]
  },
  {
   "cell_type": "code",
   "execution_count": 10,
   "id": "afd2b701",
   "metadata": {},
   "outputs": [
    {
     "name": "stdout",
     "output_type": "stream",
     "text": [
      "['This is a practise file for file handling.\\n', 'In which i am trying to open a text file.\\n', 'Then try reading a file in all available modes.\\n', 'Then try writing in this file in all modes at start and end using append.\\n', 'Then close the file to avoid any problem.']\n",
      "<class 'list'>\n"
     ]
    }
   ],
   "source": [
    "#Reaad Lines Method...\n",
    "fd = open (\"f1.txt\", \"rt\")\n",
    "list2 = fd.readlines() #read till EOF and returns a list object containg the lines...\n",
    "print(list2) #list of lines in file\n",
    "print(type(list2)) #list obj\n",
    "fd.close()"
   ]
  },
  {
   "cell_type": "code",
   "execution_count": 14,
   "id": "ef2a5044",
   "metadata": {},
   "outputs": [
    {
     "name": "stdout",
     "output_type": "stream",
     "text": [
      "['This is a practise file for file handling.\\n', 'In which i am trying to open a text file.\\n']\n"
     ]
    }
   ],
   "source": [
    "fd = open (\"f1.txt\", \"rt\")\n",
    "list1 = fd.readlines(45) #read till the given no of characeters after rounding upto buffer size...\n",
    "print(list1) #list of lines in file\n",
    "fd.close()"
   ]
  },
  {
   "cell_type": "code",
   "execution_count": 15,
   "id": "1e336a9d",
   "metadata": {},
   "outputs": [
    {
     "name": "stdout",
     "output_type": "stream",
     "text": [
      "no of bytes written :  94\n"
     ]
    }
   ],
   "source": [
    "#WRITING IN A FILE...\n",
    "fd1 = open(\"write.txt\", \"wt\")#open file for write in the file if present otherwise create the file. \n",
    "rv = fd1.write(\"this is our Python write file for practise. If the file is not present than it will be created\")\n",
    "print(\"no of bytes written : \", rv)\n",
    "fd1.close()"
   ]
  },
  {
   "cell_type": "code",
   "execution_count": 17,
   "id": "c595812b",
   "metadata": {},
   "outputs": [
    {
     "name": "stdout",
     "output_type": "stream",
     "text": [
      "this is our Python write file for practise. If the file is not present than it will be created\n"
     ]
    }
   ],
   "source": [
    "#Checking the written content whether it is created/written or not\n",
    "fd1 = open(\"write.txt\", \"rt\")\n",
    "print(fd1.readline())#reading the written file\n",
    "fd1.close()\n"
   ]
  },
  {
   "cell_type": "code",
   "execution_count": 20,
   "id": "fc82f601",
   "metadata": {},
   "outputs": [
    {
     "name": "stdout",
     "output_type": "stream",
     "text": [
      "data existing in file:  \n",
      "Data after writinf in file:  \n",
      "Data after writinf in file:   As file opened in W+ so old data is truncated. Adding new data\n"
     ]
    }
   ],
   "source": [
    "#OPEN IN READ WRITE MODE...\n",
    "fd2= open (\"write.txt\", \"w+\") #due to w+ data is truncated..\n",
    "print(\"data existing in file: \",fd2.read()) #no data as truncated\n",
    "fd2.write(\" As file opened in W+ so old data is truncated. Adding new data\") #writing as opened for write as well\n",
    "print(\"Data after writinf in file: \",fd2.read()) #no data as we are at EOF after writing above line offset is at end\n",
    "\n",
    "#so we move the current offset to zero and read again\n",
    "fd2.seek(0)\n",
    "print(\"Data after writinf in file: \",fd2.read()) #now file is read properly\n",
    "fd2.close()"
   ]
  },
  {
   "cell_type": "code",
   "execution_count": 22,
   "id": "9148c8b4",
   "metadata": {},
   "outputs": [
    {
     "name": "stdout",
     "output_type": "stream",
     "text": [
      " As file opened in W+ so old data is truncated. Adding new dataoniontomatopotatobrinjal\n",
      "onion\n",
      "tomato\n",
      "potato\n",
      "brinjal\n"
     ]
    }
   ],
   "source": [
    "#APPEND FILE...\n",
    "#open file in append mode that is existing data is not truncated file ofset is at EOF and add data from EOF..\n",
    "fd3 = open(\"write.txt\", \"a\")\n",
    "vegs = ['\\nonion', '\\ntomato', '\\npotato', '\\nbrinjal']\n",
    "for veg in vegs:\n",
    "    fd3.write(veg)#appendding each object of list at EOF one by one\n",
    "fd3.close()\n",
    "\n",
    "#open for reading to check\n",
    "fd4 = open(\"write.txt\") #read mode by default\n",
    "print(fd4.read())\n",
    "fd4.close()"
   ]
  },
  {
   "cell_type": "code",
   "execution_count": 23,
   "id": "2dc19531",
   "metadata": {},
   "outputs": [
    {
     "name": "stdout",
     "output_type": "stream",
     "text": [
      "This is a practise file for file handling.\n",
      "In which i am trying to open a text file.\n",
      "Then try reading a file in all available modes.\n",
      "Then try writing in this file in all modes at start and end using append.\n",
      "Then close the file to avoid any problem.\n"
     ]
    }
   ],
   "source": [
    "#File Handling in Try....except...finally...\n",
    "try:\n",
    "    fd=open(\"f1.txt\")\n",
    "    print(fd.read()) #all open/read/write statements in try block\n",
    "finally:\n",
    "    fd.close() #close in finally as its going to execute no matter what."
   ]
  },
  {
   "cell_type": "code",
   "execution_count": 24,
   "id": "d5e971f0",
   "metadata": {},
   "outputs": [
    {
     "name": "stdout",
     "output_type": "stream",
     "text": [
      " As file opened in W+ so old data is truncated. Adding new dataoniontomatopotatobrinjal\n",
      "onion\n",
      "tomato\n",
      "potato\n",
      "brinjal\n"
     ]
    }
   ],
   "source": [
    "#WITH KEYWORD...\n",
    "with open(\"write.txt\",\"rt\") as fd:\n",
    "    print(fd.read())  #after executing the block under \"with\" keyword automatically calls close() and close the file"
   ]
  },
  {
   "cell_type": "code",
   "execution_count": 25,
   "id": "7dcd84d2",
   "metadata": {},
   "outputs": [
    {
     "ename": "ValueError",
     "evalue": "I/O operation on closed file.",
     "output_type": "error",
     "traceback": [
      "\u001b[1;31m---------------------------------------------------------------------------\u001b[0m",
      "\u001b[1;31mValueError\u001b[0m                                Traceback (most recent call last)",
      "\u001b[1;32m~\\AppData\\Local\\Temp\\ipykernel_5828\\2853459861.py\u001b[0m in \u001b[0;36m<module>\u001b[1;34m\u001b[0m\n\u001b[0;32m      1\u001b[0m \u001b[1;31m#checking if with workd or not\u001b[0m\u001b[1;33m\u001b[0m\u001b[1;33m\u001b[0m\u001b[0m\n\u001b[1;32m----> 2\u001b[1;33m \u001b[0mfd\u001b[0m\u001b[1;33m.\u001b[0m\u001b[0mread\u001b[0m\u001b[1;33m(\u001b[0m\u001b[1;33m)\u001b[0m\u001b[1;33m\u001b[0m\u001b[1;33m\u001b[0m\u001b[0m\n\u001b[0m",
      "\u001b[1;31mValueError\u001b[0m: I/O operation on closed file."
     ]
    }
   ],
   "source": [
    "#checking if with workd or not\n",
    "fd.read()  #gives error of I/O on closed file..."
   ]
  },
  {
   "cell_type": "code",
   "execution_count": 31,
   "id": "49688fb2",
   "metadata": {},
   "outputs": [
    {
     "name": "stdout",
     "output_type": "stream",
     "text": [
      "cursor is at: 0\n",
      "cursor is at: 5\n",
      "cursor is at: 248\n"
     ]
    }
   ],
   "source": [
    "#SEEK Method...\n",
    "#1. OPEN IN READ MODE\n",
    "fd= open(\"f1.txt\")\n",
    "rv= fd.seek(0,1) #start from current file offset as \"whence=1\" and no moving as \"offset=0\" so returns current offset\n",
    "print(\"cursor is at:\", rv) #as opend in read mode so it print \"0\" cause current offset would be at the start of file\n",
    "\n",
    "#read 5 characters\n",
    "fd.read(5)\n",
    "rv1= fd.seek(0,1) \n",
    "print(\"cursor is at:\", rv1) #will print 5 cause read 5 characters from zero so now current file offset is at=5\n",
    "\n",
    "#read rest of all characters\n",
    "fd.read()\n",
    "rv1= fd.seek(0,1) \n",
    "print(\"cursor is at:\", rv1) #will print total characters cause read all characters from 5th and reached EOF... \n",
    "\n",
    "fd.close()"
   ]
  },
  {
   "cell_type": "code",
   "execution_count": 32,
   "id": "d9011ad2",
   "metadata": {},
   "outputs": [
    {
     "name": "stdout",
     "output_type": "stream",
     "text": [
      "current offset: 248\n",
      "current offset: 0\n",
      "current offset: 100\n",
      "current offset: 50\n"
     ]
    }
   ],
   "source": [
    "#2. OPEN IN APPEND MODE...\n",
    "fd= open(\"f1.txt\", \"a\")\n",
    "rv = fd.seek(0,1) #as openen in append mode current offset will be at the end of stream\n",
    "print(\"current offset:\", rv)\n",
    "\n",
    "#change offset\n",
    "print(\"current offset:\", fd.seek(0,0)) #equivalent to seek(0) change offset to start of file.\n",
    "\n",
    "print(\"current offset:\", fd.seek(100)) #seek(100,0) and set to 100 from start\n",
    "\n",
    "print(\"current offset:\", fd.seek(50,0)) #50 bytees back from current i.e.100\n",
    "fd.close()"
   ]
  },
  {
   "cell_type": "code",
   "execution_count": 34,
   "id": "380056d5",
   "metadata": {},
   "outputs": [
    {
     "name": "stdout",
     "output_type": "stream",
     "text": [
      "This is a practise file for file handling.\n",
      "\n",
      "In which i am trying to open a text file.\n",
      "\n",
      "Then try reading a file in all available modes.\n",
      "\n",
      "Then try writing in this file in all modes at start and end using append.\n",
      "\n",
      "Then close the file to avoid any problem.\n"
     ]
    }
   ],
   "source": [
    "#BASIC OPERATIONS ON FILE CONTENT....\n",
    "#1. While loop\n",
    "fd = open (\"f1.txt\")\n",
    "while True: #infinite loop\n",
    "    line = fd.readline()\n",
    "    if not line: #no line returned than break the loop\n",
    "        break\n",
    "    print(line)\n",
    "    \n",
    "fd.close()"
   ]
  },
  {
   "cell_type": "code",
   "execution_count": 36,
   "id": "83a5edd5",
   "metadata": {},
   "outputs": [
    {
     "name": "stdout",
     "output_type": "stream",
     "text": [
      " As file opened in W+ so old data is truncated. Adding new dataoniontomatopotatobrinjal\n",
      "\n",
      "onion\n",
      "\n",
      "tomato\n",
      "\n",
      "potato\n",
      "\n",
      "brinjal\n"
     ]
    }
   ],
   "source": [
    "#2. For loop in file...\n",
    "fd = open (\"write.txt\")\n",
    "for f in fd: #file descriptor obj can be treated as an iterator...\n",
    "    print(f)\n",
    "    \n",
    "fd.close()"
   ]
  },
  {
   "cell_type": "code",
   "execution_count": 37,
   "id": "b55a0108",
   "metadata": {},
   "outputs": [
    {
     "name": "stdout",
     "output_type": "stream",
     "text": [
      " As file opened in W+ so old data is truncated. Adding new dataoniontomatopotatobrinjal\n",
      "\n",
      "onion\n",
      "\n",
      "tomato\n",
      "\n",
      "potato\n",
      "\n",
      "brinjal\n"
     ]
    }
   ],
   "source": [
    "#3.BETTER For loop in a line\n",
    "for line in open(\"write.txt\",\"rt\"):\n",
    "    print(line)\n",
    "    \n",
    "#how to close as no descriptor..\n",
    "#no file descriptor so file not closed which is not good"
   ]
  },
  {
   "cell_type": "code",
   "execution_count": 38,
   "id": "8bedaea2",
   "metadata": {},
   "outputs": [
    {
     "name": "stdout",
     "output_type": "stream",
     "text": [
      " As file opened in W+ so old data is truncated. Adding new dataoniontomatopotatobrinjal\n",
      "\n",
      "onion\n",
      "\n",
      "tomato\n",
      "\n",
      "potato\n",
      "\n",
      "brinjal\n"
     ]
    }
   ],
   "source": [
    "#4. For loop in \"with\" keyword..\n",
    "with open(\"write.txt\",\"rt\") as fd: #automatically close after \"with\" block\n",
    "    for f in fd:\n",
    "        print(f)"
   ]
  },
  {
   "cell_type": "code",
   "execution_count": 39,
   "id": "469c5aeb",
   "metadata": {},
   "outputs": [
    {
     "ename": "ValueError",
     "evalue": "I/O operation on closed file.",
     "output_type": "error",
     "traceback": [
      "\u001b[1;31m---------------------------------------------------------------------------\u001b[0m",
      "\u001b[1;31mValueError\u001b[0m                                Traceback (most recent call last)",
      "\u001b[1;32m~\\AppData\\Local\\Temp\\ipykernel_5828\\28972991.py\u001b[0m in \u001b[0;36m<module>\u001b[1;34m\u001b[0m\n\u001b[1;32m----> 1\u001b[1;33m \u001b[0mfd\u001b[0m\u001b[1;33m.\u001b[0m\u001b[0mread\u001b[0m\u001b[1;33m(\u001b[0m\u001b[1;33m)\u001b[0m\u001b[1;33m\u001b[0m\u001b[1;33m\u001b[0m\u001b[0m\n\u001b[0m",
      "\u001b[1;31mValueError\u001b[0m: I/O operation on closed file."
     ]
    }
   ],
   "source": [
    "fd.read()"
   ]
  },
  {
   "cell_type": "code",
   "execution_count": 43,
   "id": "634e3caf",
   "metadata": {},
   "outputs": [
    {
     "name": "stdout",
     "output_type": "stream",
     "text": [
      "This is a practise file for file handling.\n",
      " 8\n",
      "In which i am trying to open a text file.\n",
      " 10\n",
      "Then try reading a file in all available modes.\n",
      " 9\n",
      "Then try writing in this file in all modes at start and end using append.\n",
      " 15\n",
      "Then close the file to avoid any problem. 8\n",
      "total words in file 50\n"
     ]
    }
   ],
   "source": [
    "#5. String Split function...\n",
    "total=0\n",
    "with open(\"f1.txt\",\"rt\") as fd:\n",
    "    for line in fd:\n",
    "        tokens = line.split(' ') #list of words separated by space\n",
    "        print(line, len(tokens)) #len of list contenst\n",
    "        total = total + len(tokens) # adding all lens\n",
    "print(\"total words in file\", total)"
   ]
  },
  {
   "cell_type": "code",
   "execution_count": 3,
   "id": "a78d5c1b",
   "metadata": {},
   "outputs": [
    {
     "name": "stdout",
     "output_type": "stream",
     "text": [
      "File details os.stat_result(st_mode=33206, st_ino=10414574138355068, st_dev=637889918, st_nlink=1, st_uid=0, st_gid=0, st_size=119, st_atime=1673601188, st_mtime=1673597313, st_ctime=1673596262)\n"
     ]
    }
   ],
   "source": [
    "#6. Stat Method of os module..\n",
    "import os\n",
    "file_stat = os.stat(\"write.txt\")\n",
    "\n",
    "print(\"File details\", file_stat)"
   ]
  },
  {
   "cell_type": "code",
   "execution_count": 4,
   "id": "38b31512",
   "metadata": {},
   "outputs": [
    {
     "name": "stdout",
     "output_type": "stream",
     "text": [
      "File Mode and permission 33206\n",
      "File size 119\n",
      "File owner 0\n",
      "File access time 1673601188.0527287\n",
      "File modify time 1673597313.5914578\n",
      "File status check time 1673596262.5965543\n"
     ]
    }
   ],
   "source": [
    "#Specific details of a file...\n",
    "print(\"File Mode and permission\", file_stat.st_mode)\n",
    "print(\"File size\", file_stat.st_size)\n",
    "print(\"File owner\", file_stat.st_uid)\n",
    "print(\"File access time\", file_stat.st_atime) #no of secs\n",
    "print(\"File modify time\", file_stat.st_mtime) #no of secs\n",
    "print(\"File status check time\", file_stat.st_ctime) #no of secs"
   ]
  },
  {
   "cell_type": "code",
   "execution_count": 6,
   "id": "14d278f5",
   "metadata": {},
   "outputs": [
    {
     "name": "stdout",
     "output_type": "stream",
     "text": [
      "C:\\Users\\ASCC\n"
     ]
    }
   ],
   "source": [
    "#checking if a file or directory exists or not..\n",
    "print(os.getcwd())"
   ]
  },
  {
   "cell_type": "code",
   "execution_count": 10,
   "id": "b24238d2",
   "metadata": {},
   "outputs": [
    {
     "name": "stdout",
     "output_type": "stream",
     "text": [
      "Enter the name of file or directoryjj\n",
      "no file/Directory of the name given\n"
     ]
    }
   ],
   "source": [
    "#checking if a file or directory exists or not..\n",
    "\n",
    "file_name= input(\"Enter the name of file or directory\")\n",
    "if os.path.isfile(file_name):\n",
    "    print(\"file exists\")\n",
    "elif os.path.isdir(file_name):\n",
    "    print(\"directory found\")\n",
    "else:\n",
    "    print(\"no file/Directory of the name given\")"
   ]
  },
  {
   "cell_type": "code",
   "execution_count": 13,
   "id": "67a7ef9d",
   "metadata": {},
   "outputs": [],
   "source": [
    "#IMAGE FILE...\n",
    "from PIL import Image\n",
    "img = Image.open(\"image.png\")"
   ]
  },
  {
   "cell_type": "code",
   "execution_count": 14,
   "id": "58de98c4",
   "metadata": {},
   "outputs": [
    {
     "data": {
      "text/plain": [
       "'PNG'"
      ]
     },
     "execution_count": 14,
     "metadata": {},
     "output_type": "execute_result"
    }
   ],
   "source": [
    "img.format #format (.jpg, .jpeg, .png, etc)"
   ]
  },
  {
   "cell_type": "code",
   "execution_count": 16,
   "id": "b9622150",
   "metadata": {},
   "outputs": [
    {
     "data": {
      "text/plain": [
       "'P'"
      ]
     },
     "execution_count": 16,
     "metadata": {},
     "output_type": "execute_result"
    }
   ],
   "source": [
    "img.mode #(rbg, greyscale, etc)"
   ]
  },
  {
   "cell_type": "code",
   "execution_count": 17,
   "id": "3395f103",
   "metadata": {},
   "outputs": [
    {
     "data": {
      "text/plain": [
       "(225, 225)"
      ]
     },
     "execution_count": 17,
     "metadata": {},
     "output_type": "execute_result"
    }
   ],
   "source": [
    "img.size #(width, height) size tuple"
   ]
  },
  {
   "cell_type": "code",
   "execution_count": 19,
   "id": "5186d59f",
   "metadata": {},
   "outputs": [
    {
     "data": {
      "image/png": "[encoded data removed]",
      "text/plain": [
       "<PIL.PngImagePlugin.PngImageFile image mode=P size=225x225>"
      ]
     },
     "execution_count": 19,
     "metadata": {},
     "output_type": "execute_result"
    }
   ],
   "source": [
    "img #dispaly image 3d numpy array"
   ]
  },
  {
   "cell_type": "code",
   "execution_count": null,
   "id": "dc438cc0",
   "metadata": {},
   "outputs": [],
   "source": []
  }
 ],
 "metadata": {
  "kernelspec": {
   "display_name": "Python 3 (ipykernel)",
   "language": "python",
   "name": "python3"
  },
  "language_info": {
   "codemirror_mode": {
    "name": "ipython",
    "version": 3
   },
   "file_extension": ".py",
   "mimetype": "text/x-python",
   "name": "python",
   "nbconvert_exporter": "python",
   "pygments_lexer": "ipython3",
   "version": "3.9.13"
  }
 },
 "nbformat": 4,
 "nbformat_minor": 5
}
