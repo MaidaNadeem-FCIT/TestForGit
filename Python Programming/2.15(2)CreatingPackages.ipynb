{
 "cells": [
  {
   "cell_type": "code",
   "execution_count": 5,
   "id": "979ed190",
   "metadata": {},
   "outputs": [],
   "source": [
    "#Package Import\n",
    "import PackageDemo.Package1.arithematic as pd"
   ]
  },
  {
   "cell_type": "code",
   "execution_count": 6,
   "id": "862b1714",
   "metadata": {},
   "outputs": [
    {
     "data": {
      "text/plain": [
       "'C:\\\\Users\\\\ASCC'"
      ]
     },
     "execution_count": 6,
     "metadata": {},
     "output_type": "execute_result"
    }
   ],
   "source": [
    "import os\n",
    "os.getcwd()"
   ]
  },
  {
   "cell_type": "code",
   "execution_count": 7,
   "id": "4a069611",
   "metadata": {},
   "outputs": [
    {
     "data": {
      "text/plain": [
       "18"
      ]
     },
     "execution_count": 7,
     "metadata": {},
     "output_type": "execute_result"
    }
   ],
   "source": [
    "PackageDemo.Package1.arithematic.mymul(3,6) #too long name"
   ]
  },
  {
   "cell_type": "code",
   "execution_count": 8,
   "id": "3bec1c2c",
   "metadata": {},
   "outputs": [
    {
     "data": {
      "text/plain": [
       "25"
      ]
     },
     "execution_count": 8,
     "metadata": {},
     "output_type": "execute_result"
    }
   ],
   "source": [
    "#Aliases\n",
    "pd.mypow(5,2)#5^2"
   ]
  },
  {
   "cell_type": "code",
   "execution_count": 9,
   "id": "d7cfa4c4",
   "metadata": {},
   "outputs": [
    {
     "data": {
      "text/plain": [
       "22.333333333333332"
      ]
     },
     "execution_count": 9,
     "metadata": {},
     "output_type": "execute_result"
    }
   ],
   "source": [
    "#From \n",
    "from PackageDemo.Package1 import arithematic as ar\n",
    "ar.mydiv(67,3)\n"
   ]
  },
  {
   "cell_type": "code",
   "execution_count": 11,
   "id": "9916d64a",
   "metadata": {},
   "outputs": [
    {
     "data": {
      "text/plain": [
       "11"
      ]
     },
     "execution_count": 11,
     "metadata": {},
     "output_type": "execute_result"
    }
   ],
   "source": [
    "#Import Everything...\n",
    "from PackageDemo.Package1.arithematic import *\n",
    "myadd(5,6)\n"
   ]
  },
  {
   "cell_type": "code",
   "execution_count": 12,
   "id": "6eb4f317",
   "metadata": {},
   "outputs": [
    {
     "name": "stdout",
     "output_type": "stream",
     "text": [
      "['In', 'Out', 'PackageDemo', '_', '_11', '_2', '_4', '_6', '_7', '_8', '_9', '__', '___', '__builtin__', '__builtins__', '__doc__', '__loader__', '__name__', '__package__', '__spec__', '_dh', '_i', '_i1', '_i10', '_i11', '_i12', '_i2', '_i3', '_i4', '_i5', '_i6', '_i7', '_i8', '_i9', '_ih', '_ii', '_iii', '_oh', 'ar', 'exit', 'get_ipython', 'myadd', 'mydiv', 'mymul', 'mypow', 'mysub', 'os', 'pd', 'quit']\n"
     ]
    }
   ],
   "source": [
    "print(dir())"
   ]
  },
  {
   "cell_type": "code",
   "execution_count": 13,
   "id": "70da1311",
   "metadata": {},
   "outputs": [],
   "source": [
    "from PackageDemo.Package2 import BitCompare as bitC\n",
    "from PackageDemo.Package2 import Compare as cmp"
   ]
  },
  {
   "cell_type": "code",
   "execution_count": 14,
   "id": "a8d4d266",
   "metadata": {},
   "outputs": [
    {
     "name": "stdout",
     "output_type": "stream",
     "text": [
      "Comparing both operand where x is  56 and y is  98\n",
      " x < y is:  True\n"
     ]
    }
   ],
   "source": [
    "cmp.comparison(56,98)"
   ]
  },
  {
   "cell_type": "code",
   "execution_count": 15,
   "id": "89c270ce",
   "metadata": {},
   "outputs": [
    {
     "name": "stdout",
     "output_type": "stream",
     "text": [
      "a & b is 0\n",
      "None\n",
      "a | b is 47\n",
      "None\n",
      "a ^ b is 47\n",
      "None\n",
      "~a is -66\n",
      "None\n",
      "a << b is 180\n",
      "None\n",
      "x >> b is 11\n",
      "None\n"
     ]
    }
   ],
   "source": [
    "print(bitC.bitand(45,2))\n",
    "print(bitC.bitor(45,2))\n",
    "print(bitC.bitxor(45,2))\n",
    "print(bitC.bitnot(65))\n",
    "print(bitC.bitleft(45,2))\n",
    "print(bitC.bitright(45,2))"
   ]
  },
  {
   "cell_type": "code",
   "execution_count": null,
   "id": "0cbb3343",
   "metadata": {},
   "outputs": [],
   "source": []
  }
 ],
 "metadata": {
  "kernelspec": {
   "display_name": "Python 3 (ipykernel)",
   "language": "python",
   "name": "python3"
  },
  "language_info": {
   "codemirror_mode": {
    "name": "ipython",
    "version": 3
   },
   "file_extension": ".py",
   "mimetype": "text/x-python",
   "name": "python",
   "nbconvert_exporter": "python",
   "pygments_lexer": "ipython3",
   "version": "3.9.13"
  }
 },
 "nbformat": 4,
 "nbformat_minor": 5
}
