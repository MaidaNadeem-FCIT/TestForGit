{
 "cells": [
  {
   "cell_type": "code",
   "execution_count": 1,
   "id": "c0666704",
   "metadata": {},
   "outputs": [],
   "source": [
    "#MATH BEHIND MULTIPLE LINEAR REGRESSION....\n",
    "import pandas as pd\n",
    "import numpy as np\n",
    "from matplotlib import pyplot as plt\n",
    "import seaborn as sns\n",
    "import statistics as st"
   ]
  },
  {
   "cell_type": "code",
   "execution_count": 37,
   "id": "38114ecd",
   "metadata": {
    "scrolled": true
   },
   "outputs": [
    {
     "data": {
      "text/html": [
       "<div>\n",
       "<style scoped>\n",
       "    .dataframe tbody tr th:only-of-type {\n",
       "        vertical-align: middle;\n",
       "    }\n",
       "\n",
       "    .dataframe tbody tr th {\n",
       "        vertical-align: top;\n",
       "    }\n",
       "\n",
       "    .dataframe thead th {\n",
       "        text-align: right;\n",
       "    }\n",
       "</style>\n",
       "<table border=\"1\" class=\"dataframe\">\n",
       "  <thead>\n",
       "    <tr style=\"text-align: right;\">\n",
       "      <th></th>\n",
       "      <th>x1</th>\n",
       "      <th>x2</th>\n",
       "      <th>State</th>\n",
       "      <th>y</th>\n",
       "    </tr>\n",
       "  </thead>\n",
       "  <tbody>\n",
       "    <tr>\n",
       "      <th>165349.20</th>\n",
       "      <td>136897.80</td>\n",
       "      <td>471784.10</td>\n",
       "      <td>New York</td>\n",
       "      <td>192261.83</td>\n",
       "    </tr>\n",
       "    <tr>\n",
       "      <th>162597.70</th>\n",
       "      <td>151377.59</td>\n",
       "      <td>443898.53</td>\n",
       "      <td>California</td>\n",
       "      <td>191792.06</td>\n",
       "    </tr>\n",
       "    <tr>\n",
       "      <th>153441.51</th>\n",
       "      <td>101145.55</td>\n",
       "      <td>407934.54</td>\n",
       "      <td>Florida</td>\n",
       "      <td>191050.39</td>\n",
       "    </tr>\n",
       "    <tr>\n",
       "      <th>144372.41</th>\n",
       "      <td>118671.85</td>\n",
       "      <td>383199.62</td>\n",
       "      <td>New York</td>\n",
       "      <td>182901.99</td>\n",
       "    </tr>\n",
       "    <tr>\n",
       "      <th>142107.34</th>\n",
       "      <td>91391.77</td>\n",
       "      <td>366168.42</td>\n",
       "      <td>Florida</td>\n",
       "      <td>166187.94</td>\n",
       "    </tr>\n",
       "  </tbody>\n",
       "</table>\n",
       "</div>"
      ],
      "text/plain": [
       "                  x1         x2       State          y\n",
       "165349.20  136897.80  471784.10    New York  192261.83\n",
       "162597.70  151377.59  443898.53  California  191792.06\n",
       "153441.51  101145.55  407934.54     Florida  191050.39\n",
       "144372.41  118671.85  383199.62    New York  182901.99\n",
       "142107.34   91391.77  366168.42     Florida  166187.94"
      ]
     },
     "execution_count": 37,
     "metadata": {},
     "output_type": "execute_result"
    }
   ],
   "source": [
    "#SAMPLE DATA 4D....\n",
    "df = pd.read_csv(\"datasets/Sample4d.csv\")\n",
    "df.head()"
   ]
  },
  {
   "cell_type": "code",
   "execution_count": 38,
   "id": "2e9aee85",
   "metadata": {},
   "outputs": [
    {
     "data": {
      "text/html": [
       "<div>\n",
       "<style scoped>\n",
       "    .dataframe tbody tr th:only-of-type {\n",
       "        vertical-align: middle;\n",
       "    }\n",
       "\n",
       "    .dataframe tbody tr th {\n",
       "        vertical-align: top;\n",
       "    }\n",
       "\n",
       "    .dataframe thead th {\n",
       "        text-align: right;\n",
       "    }\n",
       "</style>\n",
       "<table border=\"1\" class=\"dataframe\">\n",
       "  <thead>\n",
       "    <tr style=\"text-align: right;\">\n",
       "      <th></th>\n",
       "      <th>x1</th>\n",
       "      <th>x2</th>\n",
       "      <th>y</th>\n",
       "    </tr>\n",
       "  </thead>\n",
       "  <tbody>\n",
       "    <tr>\n",
       "      <th>165349.20</th>\n",
       "      <td>136897.80</td>\n",
       "      <td>471784.10</td>\n",
       "      <td>192261.83</td>\n",
       "    </tr>\n",
       "    <tr>\n",
       "      <th>162597.70</th>\n",
       "      <td>151377.59</td>\n",
       "      <td>443898.53</td>\n",
       "      <td>191792.06</td>\n",
       "    </tr>\n",
       "    <tr>\n",
       "      <th>153441.51</th>\n",
       "      <td>101145.55</td>\n",
       "      <td>407934.54</td>\n",
       "      <td>191050.39</td>\n",
       "    </tr>\n",
       "    <tr>\n",
       "      <th>144372.41</th>\n",
       "      <td>118671.85</td>\n",
       "      <td>383199.62</td>\n",
       "      <td>182901.99</td>\n",
       "    </tr>\n",
       "    <tr>\n",
       "      <th>142107.34</th>\n",
       "      <td>91391.77</td>\n",
       "      <td>366168.42</td>\n",
       "      <td>166187.94</td>\n",
       "    </tr>\n",
       "  </tbody>\n",
       "</table>\n",
       "</div>"
      ],
      "text/plain": [
       "                  x1         x2          y\n",
       "165349.20  136897.80  471784.10  192261.83\n",
       "162597.70  151377.59  443898.53  191792.06\n",
       "153441.51  101145.55  407934.54  191050.39\n",
       "144372.41  118671.85  383199.62  182901.99\n",
       "142107.34   91391.77  366168.42  166187.94"
      ]
     },
     "execution_count": 38,
     "metadata": {},
     "output_type": "execute_result"
    }
   ],
   "source": [
    "df.drop(columns=[\"State\"], axis=1, inplace=True)\n",
    "df.head()"
   ]
  },
  {
   "cell_type": "code",
   "execution_count": 26,
   "id": "965901f2",
   "metadata": {},
   "outputs": [
    {
     "data": {
      "text/plain": [
       "<Axes: xlabel='x1', ylabel='y'>"
      ]
     },
     "execution_count": 26,
     "metadata": {},
     "output_type": "execute_result"
    },
    {
     "data": {
      "image/png": "[encoded data removed]",
      "text/plain": [
       "<Figure size 640x480 with 1 Axes>"
      ]
     },
     "metadata": {},
     "output_type": "display_data"
    }
   ],
   "source": [
    "sns.scatterplot(x=df['x1'], y=df['y'])"
   ]
  },
  {
   "cell_type": "code",
   "execution_count": 27,
   "id": "875ef937",
   "metadata": {},
   "outputs": [
    {
     "data": {
      "text/plain": [
       "<Axes: xlabel='x2', ylabel='y'>"
      ]
     },
     "execution_count": 27,
     "metadata": {},
     "output_type": "execute_result"
    },
    {
     "data": {
      "image/png": "[encoded data removed]",
      "text/plain": [
       "<Figure size 640x480 with 1 Axes>"
      ]
     },
     "metadata": {},
     "output_type": "display_data"
    }
   ],
   "source": [
    "sns.scatterplot(x=df['x2'], y=df['y'])"
   ]
  },
  {
   "cell_type": "code",
   "execution_count": 28,
   "id": "7c8fe84b",
   "metadata": {},
   "outputs": [
    {
     "data": {
      "text/plain": [
       "<Axes: xlabel='x1', ylabel='x2'>"
      ]
     },
     "execution_count": 28,
     "metadata": {},
     "output_type": "execute_result"
    },
    {
     "data": {
      "image/png": "[encoded data removed]",
      "text/plain": [
       "<Figure size 640x480 with 1 Axes>"
      ]
     },
     "metadata": {},
     "output_type": "display_data"
    }
   ],
   "source": [
    "sns.scatterplot(x=df['x1'], y=df['x2'])"
   ]
  },
  {
   "cell_type": "code",
   "execution_count": 39,
   "id": "16f0fc00",
   "metadata": {},
   "outputs": [
    {
     "data": {
      "text/plain": [
       "array([192261.83, 191792.06, 191050.39, 182901.99, 166187.94, 156991.12,\n",
       "       156122.51, 155752.6 , 152211.77, 149759.96, 146121.95, 144259.4 ,\n",
       "       141585.52, 134307.35, 132602.65, 129917.04, 126992.93, 125370.37,\n",
       "       124266.9 , 122776.86, 118474.03, 111313.02, 110352.25, 108733.99,\n",
       "       108552.04, 107404.34, 105733.54, 105008.31, 103282.38, 101004.64,\n",
       "        99937.59,  97483.56,  97427.84,  96778.92,  96712.8 ,  96479.51,\n",
       "        90708.19,  89949.14,  81229.06,  81005.76,  78239.91,  77798.83,\n",
       "        71498.49,  69758.98,  65200.33,  64926.08,  49490.75,  42559.73,\n",
       "        35673.41,  14681.4 ])"
      ]
     },
     "execution_count": 39,
     "metadata": {},
     "output_type": "execute_result"
    }
   ],
   "source": [
    "#CREATING MATRIX....\n",
    "y=np.array(df['y'])\n",
    "y"
   ]
  },
  {
   "cell_type": "code",
   "execution_count": 40,
   "id": "f69dad39",
   "metadata": {},
   "outputs": [
    {
     "data": {
      "text/plain": [
       "array([[136897.8 , 471784.1 ],\n",
       "       [151377.59, 443898.53],\n",
       "       [101145.55, 407934.54],\n",
       "       [118671.85, 383199.62],\n",
       "       [ 91391.77, 366168.42],\n",
       "       [ 99814.71, 362861.36],\n",
       "       [147198.87, 127716.82],\n",
       "       [145530.06, 323876.68],\n",
       "       [148718.95, 311613.29],\n",
       "       [108679.17, 304981.62],\n",
       "       [110594.11, 229160.95],\n",
       "       [ 91790.61, 249744.55],\n",
       "       [127320.38, 249839.44],\n",
       "       [135495.07, 252664.93],\n",
       "       [156547.42, 256512.92],\n",
       "       [122616.84, 261776.23],\n",
       "       [121597.55, 264346.06],\n",
       "       [145077.58, 282574.31],\n",
       "       [114175.79, 294919.57],\n",
       "       [153514.11,      0.  ],\n",
       "       [113867.3 , 298664.47],\n",
       "       [153773.43, 299737.29],\n",
       "       [122782.75, 303319.26],\n",
       "       [105751.03, 304768.73],\n",
       "       [ 99281.34, 140574.81],\n",
       "       [139553.16, 137962.62],\n",
       "       [144135.98, 134050.07],\n",
       "       [127864.55, 353183.81],\n",
       "       [182645.56, 118148.2 ],\n",
       "       [153032.06, 107138.38],\n",
       "       [115641.28,  91131.24],\n",
       "       [152701.92,  88218.23],\n",
       "       [129219.61,  46085.25],\n",
       "       [103057.49, 214634.81],\n",
       "       [157693.92, 210797.67],\n",
       "       [ 85047.44, 205517.64],\n",
       "       [127056.21, 201126.82],\n",
       "       [ 51283.14, 197029.42],\n",
       "       [ 65947.93, 185265.1 ],\n",
       "       [ 82982.09, 174999.3 ],\n",
       "       [118546.05, 172795.67],\n",
       "       [ 84710.77, 164470.71],\n",
       "       [ 96189.63, 148001.11],\n",
       "       [127382.3 ,  35534.17],\n",
       "       [154806.14,  28334.72],\n",
       "       [124153.04,   1903.93],\n",
       "       [115816.21, 297114.46],\n",
       "       [135426.92,      0.  ],\n",
       "       [ 51743.15,      0.  ],\n",
       "       [116983.8 ,  45173.06]])"
      ]
     },
     "execution_count": 40,
     "metadata": {},
     "output_type": "execute_result"
    }
   ],
   "source": [
    "features=np.array(df.drop(columns=['y'], axis=1))\n",
    "features"
   ]
  },
  {
   "cell_type": "code",
   "execution_count": 46,
   "id": "cbd7626a",
   "metadata": {},
   "outputs": [
    {
     "data": {
      "text/plain": [
       "array([[1.0000000e+00, 1.3689780e+05, 4.7178410e+05],\n",
       "       [1.0000000e+00, 1.5137759e+05, 4.4389853e+05],\n",
       "       [1.0000000e+00, 1.0114555e+05, 4.0793454e+05],\n",
       "       [1.0000000e+00, 1.1867185e+05, 3.8319962e+05],\n",
       "       [1.0000000e+00, 9.1391770e+04, 3.6616842e+05],\n",
       "       [1.0000000e+00, 9.9814710e+04, 3.6286136e+05],\n",
       "       [1.0000000e+00, 1.4719887e+05, 1.2771682e+05],\n",
       "       [1.0000000e+00, 1.4553006e+05, 3.2387668e+05],\n",
       "       [1.0000000e+00, 1.4871895e+05, 3.1161329e+05],\n",
       "       [1.0000000e+00, 1.0867917e+05, 3.0498162e+05],\n",
       "       [1.0000000e+00, 1.1059411e+05, 2.2916095e+05],\n",
       "       [1.0000000e+00, 9.1790610e+04, 2.4974455e+05],\n",
       "       [1.0000000e+00, 1.2732038e+05, 2.4983944e+05],\n",
       "       [1.0000000e+00, 1.3549507e+05, 2.5266493e+05],\n",
       "       [1.0000000e+00, 1.5654742e+05, 2.5651292e+05],\n",
       "       [1.0000000e+00, 1.2261684e+05, 2.6177623e+05],\n",
       "       [1.0000000e+00, 1.2159755e+05, 2.6434606e+05],\n",
       "       [1.0000000e+00, 1.4507758e+05, 2.8257431e+05],\n",
       "       [1.0000000e+00, 1.1417579e+05, 2.9491957e+05],\n",
       "       [1.0000000e+00, 1.5351411e+05, 0.0000000e+00],\n",
       "       [1.0000000e+00, 1.1386730e+05, 2.9866447e+05],\n",
       "       [1.0000000e+00, 1.5377343e+05, 2.9973729e+05],\n",
       "       [1.0000000e+00, 1.2278275e+05, 3.0331926e+05],\n",
       "       [1.0000000e+00, 1.0575103e+05, 3.0476873e+05],\n",
       "       [1.0000000e+00, 9.9281340e+04, 1.4057481e+05],\n",
       "       [1.0000000e+00, 1.3955316e+05, 1.3796262e+05],\n",
       "       [1.0000000e+00, 1.4413598e+05, 1.3405007e+05],\n",
       "       [1.0000000e+00, 1.2786455e+05, 3.5318381e+05],\n",
       "       [1.0000000e+00, 1.8264556e+05, 1.1814820e+05],\n",
       "       [1.0000000e+00, 1.5303206e+05, 1.0713838e+05],\n",
       "       [1.0000000e+00, 1.1564128e+05, 9.1131240e+04],\n",
       "       [1.0000000e+00, 1.5270192e+05, 8.8218230e+04],\n",
       "       [1.0000000e+00, 1.2921961e+05, 4.6085250e+04],\n",
       "       [1.0000000e+00, 1.0305749e+05, 2.1463481e+05],\n",
       "       [1.0000000e+00, 1.5769392e+05, 2.1079767e+05],\n",
       "       [1.0000000e+00, 8.5047440e+04, 2.0551764e+05],\n",
       "       [1.0000000e+00, 1.2705621e+05, 2.0112682e+05],\n",
       "       [1.0000000e+00, 5.1283140e+04, 1.9702942e+05],\n",
       "       [1.0000000e+00, 6.5947930e+04, 1.8526510e+05],\n",
       "       [1.0000000e+00, 8.2982090e+04, 1.7499930e+05],\n",
       "       [1.0000000e+00, 1.1854605e+05, 1.7279567e+05],\n",
       "       [1.0000000e+00, 8.4710770e+04, 1.6447071e+05],\n",
       "       [1.0000000e+00, 9.6189630e+04, 1.4800111e+05],\n",
       "       [1.0000000e+00, 1.2738230e+05, 3.5534170e+04],\n",
       "       [1.0000000e+00, 1.5480614e+05, 2.8334720e+04],\n",
       "       [1.0000000e+00, 1.2415304e+05, 1.9039300e+03],\n",
       "       [1.0000000e+00, 1.1581621e+05, 2.9711446e+05],\n",
       "       [1.0000000e+00, 1.3542692e+05, 0.0000000e+00],\n",
       "       [1.0000000e+00, 5.1743150e+04, 0.0000000e+00],\n",
       "       [1.0000000e+00, 1.1698380e+05, 4.5173060e+04]])"
      ]
     },
     "execution_count": 46,
     "metadata": {},
     "output_type": "execute_result"
    }
   ],
   "source": [
    "X=np.insert(features , 0 ,1 , axis=1)\n",
    "X"
   ]
  },
  {
   "cell_type": "code",
   "execution_count": 47,
   "id": "c8ca608b",
   "metadata": {},
   "outputs": [
    {
     "name": "stdout",
     "output_type": "stream",
     "text": [
      "beat0: 20224.429 \n",
      "beat1: 0.324 \n",
      "beat2: 0.249 \n"
     ]
    }
   ],
   "source": [
    "betas= np.linalg.inv(X.T@X) @  X.T@y\n",
    "print(\"beat0: {:.3f} \\nbeat1: {:.3f} \\nbeat2: {:.3f} \".format(betas[0], betas[1], betas[2]))"
   ]
  },
  {
   "cell_type": "code",
   "execution_count": 48,
   "id": "284db695",
   "metadata": {},
   "outputs": [
    {
     "name": "stdout",
     "output_type": "stream",
     "text": [
      "MAE is : 18515.321\n",
      "MSE is : 621358650.900\n",
      "RMSE is : 24927.067\n",
      "R2 Score is : 0.610\n"
     ]
    }
   ],
   "source": [
    "#EVALUATE MODEL....\n",
    "ybar= np.mean(y)\n",
    "yhat= betas[0] + betas[1]*df['x1'] + betas[2]*df[\"x2\"]\n",
    "mae = (np.sum(abs(y - yhat)))/len(y)\n",
    "mse = (np.sum((y - yhat)**2))/len(y)\n",
    "rmse =  np.sqrt((np.sum((y - yhat)**2))/len(y))\n",
    "sse = np.sum((y - yhat)**2)\n",
    "sst = np.sum((y-ybar)**2)\n",
    "r2= 1- (sse/sst)\n",
    "print(\"MAE is : {:.3f}\".format(mae))\n",
    "print(\"MSE is : {:.3f}\".format(mse))\n",
    "print(\"RMSE is : {:.3f}\".format(rmse))\n",
    "print(\"R2 Score is : {:.3f}\".format(r2))"
   ]
  },
  {
   "cell_type": "code",
   "execution_count": null,
   "id": "51ab1394",
   "metadata": {},
   "outputs": [],
   "source": []
  }
 ],
 "metadata": {
  "kernelspec": {
   "display_name": "Python 3 (ipykernel)",
   "language": "python",
   "name": "python3"
  },
  "language_info": {
   "codemirror_mode": {
    "name": "ipython",
    "version": 3
   },
   "file_extension": ".py",
   "mimetype": "text/x-python",
   "name": "python",
   "nbconvert_exporter": "python",
   "pygments_lexer": "ipython3",
   "version": "3.9.16"
  }
 },
 "nbformat": 4,
 "nbformat_minor": 5
}
