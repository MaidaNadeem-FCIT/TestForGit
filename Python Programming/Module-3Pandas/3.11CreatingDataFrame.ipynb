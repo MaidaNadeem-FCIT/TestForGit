{
 "cells": [
  {
   "cell_type": "code",
   "execution_count": 1,
   "id": "689d93a2",
   "metadata": {},
   "outputs": [],
   "source": [
    "#CREATING DATAFRAMES....\n",
    "import numpy as np\n",
    "import pandas as pd"
   ]
  },
  {
   "cell_type": "code",
   "execution_count": 3,
   "id": "28499e49",
   "metadata": {},
   "outputs": [
    {
     "name": "stdout",
     "output_type": "stream",
     "text": [
      "[[15 88 89 25 56]\n",
      " [19 64 10 29 96]\n",
      " [63 50 25 68 49]\n",
      " [17 76 13 96 69]\n",
      " [38 82 58 71 51]\n",
      " [85 84 46 68 33]]\n",
      "    0   1   2   3   4\n",
      "0  15  88  89  25  56\n",
      "1  19  64  10  29  96\n",
      "2  63  50  25  68  49\n",
      "3  17  76  13  96  69\n",
      "4  38  82  58  71  51\n",
      "5  85  84  46  68  33\n"
     ]
    }
   ],
   "source": [
    "#create from 2d numpy array...\n",
    "arr=np.random.randint(10,100, (6,5))\n",
    "df=pd.DataFrame(arr)\n",
    "print(arr)\n",
    "print(df)"
   ]
  },
  {
   "cell_type": "code",
   "execution_count": 5,
   "id": "5f59c827",
   "metadata": {},
   "outputs": [
    {
     "name": "stdout",
     "output_type": "stream",
     "text": [
      "      col1  col2  col3  col4  col5\n",
      "row1    15    88    89    25    56\n",
      "row2    19    64    10    29    96\n",
      "row3    63    50    25    68    49\n",
      "row4    17    76    13    96    69\n",
      "row5    38    82    58    71    51\n",
      "row6    85    84    46    68    33\n"
     ]
    }
   ],
   "source": [
    "df=pd.DataFrame(arr, index=[\"row1\", \"row2\", \"row3\", \"row4\", \"row5\", \"row6\"], columns=[\"col1\", \"col2\", \"col3\", \"col4\", \"col5\"])\n",
    "print(df)"
   ]
  },
  {
   "cell_type": "code",
   "execution_count": 6,
   "id": "0d7a2310",
   "metadata": {},
   "outputs": [
    {
     "name": "stdout",
     "output_type": "stream",
     "text": [
      "    col1  col2  col3  col4  col5\n",
      "10    15    88    89    25    56\n",
      "20    19    64    10    29    96\n",
      "30    63    50    25    68    49\n",
      "40    17    76    13    96    69\n",
      "50    38    82    58    71    51\n",
      "60    85    84    46    68    33\n"
     ]
    }
   ],
   "source": [
    "df.index=[10,20,30,40,50,60]\n",
    "print(df)"
   ]
  },
  {
   "cell_type": "code",
   "execution_count": 8,
   "id": "1e93c2ee",
   "metadata": {},
   "outputs": [
    {
     "name": "stdout",
     "output_type": "stream",
     "text": [
      "       name  Age  Address\n",
      "0     Maida   26  Sialkot\n",
      "1  Shumaila   24   Vehari\n",
      "2      Amna   27   Lahore\n",
      "3      Soha   26    Other\n"
     ]
    }
   ],
   "source": [
    "#create dataframe from dictionary of series...\n",
    "dict={\n",
    "    'name':pd.Series([\"Maida\",\"Shumaila\",\"Amna\",\"Soha\"]),\n",
    "    'Age':pd.Series([26,24,27,26]),\n",
    "    'Address':pd.Series([\"Sialkot\",\"Vehari\",\"Lahore\",\"Other\"])\n",
    "}\n",
    "df1=pd.DataFrame(dict)\n",
    "print(df1)"
   ]
  },
  {
   "cell_type": "code",
   "execution_count": 12,
   "id": "dae76522",
   "metadata": {},
   "outputs": [
    {
     "name": "stdout",
     "output_type": "stream",
     "text": [
      "         name  Age  Address\n",
      "m01     Maida   26  Sialkot\n",
      "m02  Shumaila   24   Vehari\n",
      "m03      Amna   27   Lahore\n",
      "m04      Soha   26    Other\n"
     ]
    }
   ],
   "source": [
    "#create dataframe from dictionary of series with specified row indices...\n",
    "dict1={\n",
    "    'name':pd.Series(data=[\"Maida\",\"Shumaila\",\"Amna\",\"Soha\"], index=[\"m01\",\"m02\",\"m03\",\"m04\"]),\n",
    "    'Age':pd.Series(data=[26,24,27,26], index=[\"m01\",\"m02\",\"m03\",\"m04\"]),\n",
    "    'Address':pd.Series(data=[\"Sialkot\",\"Vehari\",\"Lahore\",\"Other\"], index=[\"m01\",\"m02\",\"m03\",\"m04\"])\n",
    "}\n",
    "df2=pd.DataFrame(dict1)\n",
    "print(df2)"
   ]
  },
  {
   "cell_type": "code",
   "execution_count": 15,
   "id": "63d44955",
   "metadata": {},
   "outputs": [
    {
     "name": "stdout",
     "output_type": "stream",
     "text": [
      "         name   Age  Address\n",
      "m01     Maida   NaN  Sialkot\n",
      "m02  Shumaila  24.0      NaN\n",
      "m03      Amna   NaN   Vehari\n",
      "m04      Soha  26.0      NaN\n",
      "m05       NaN  26.0    Other\n",
      "m06       NaN  27.0      NaN\n",
      "m07       NaN   NaN   Lahore\n"
     ]
    }
   ],
   "source": [
    "#create dataframe from dictionary of series with mismatch row indices...\n",
    "dict2={\n",
    "    'name':pd.Series(data=[\"Maida\",\"Shumaila\",\"Amna\",\"Soha\"], index=[\"m01\",\"m02\",\"m03\",\"m04\"]),\n",
    "    'Age':pd.Series(data=[26,24,27,26], index=[\"m05\",\"m02\",\"m06\",\"m04\"]),\n",
    "    'Address':pd.Series(data=[\"Sialkot\",\"Vehari\",\"Lahore\",\"Other\"], index=[\"m01\",\"m03\",\"m07\",\"m05\"]) #no duplicate indices\n",
    "}\n",
    "df3=pd.DataFrame(dict2)\n",
    "print(df3)"
   ]
  },
  {
   "cell_type": "code",
   "execution_count": 16,
   "id": "5fb3e38d",
   "metadata": {},
   "outputs": [
    {
     "data": {
      "text/plain": [
       "(7, 3)"
      ]
     },
     "execution_count": 16,
     "metadata": {},
     "output_type": "execute_result"
    }
   ],
   "source": [
    "#Attributes of dataframe...\n",
    "df3.shape"
   ]
  },
  {
   "cell_type": "code",
   "execution_count": 17,
   "id": "d932e40a",
   "metadata": {},
   "outputs": [
    {
     "data": {
      "text/plain": [
       "array([['Maida', nan, 'Sialkot'],\n",
       "       ['Shumaila', 24.0, nan],\n",
       "       ['Amna', nan, 'Vehari'],\n",
       "       ['Soha', 26.0, nan],\n",
       "       [nan, 26.0, 'Other'],\n",
       "       [nan, 27.0, nan],\n",
       "       [nan, nan, 'Lahore']], dtype=object)"
      ]
     },
     "execution_count": 17,
     "metadata": {},
     "output_type": "execute_result"
    }
   ],
   "source": [
    "df3.values"
   ]
  },
  {
   "cell_type": "code",
   "execution_count": 18,
   "id": "c6f4d718",
   "metadata": {},
   "outputs": [
    {
     "data": {
      "text/plain": [
       "Index(['m01', 'm02', 'm03', 'm04', 'm05', 'm06', 'm07'], dtype='object')"
      ]
     },
     "execution_count": 18,
     "metadata": {},
     "output_type": "execute_result"
    }
   ],
   "source": [
    "df3.index"
   ]
  },
  {
   "cell_type": "code",
   "execution_count": 19,
   "id": "f1550bdc",
   "metadata": {},
   "outputs": [
    {
     "data": {
      "text/plain": [
       "Index(['name', 'Age', 'Address'], dtype='object')"
      ]
     },
     "execution_count": 19,
     "metadata": {},
     "output_type": "execute_result"
    }
   ],
   "source": [
    "df3.columns"
   ]
  },
  {
   "cell_type": "code",
   "execution_count": 20,
   "id": "1c326ff5",
   "metadata": {},
   "outputs": [
    {
     "data": {
      "text/plain": [
       "21"
      ]
     },
     "execution_count": 20,
     "metadata": {},
     "output_type": "execute_result"
    }
   ],
   "source": [
    "df3.size #no of elements"
   ]
  },
  {
   "cell_type": "code",
   "execution_count": 21,
   "id": "73958c9c",
   "metadata": {},
   "outputs": [
    {
     "data": {
      "text/plain": [
       "2"
      ]
     },
     "execution_count": 21,
     "metadata": {},
     "output_type": "execute_result"
    }
   ],
   "source": [
    "df3.ndim"
   ]
  },
  {
   "cell_type": "code",
   "execution_count": 22,
   "id": "caf5a785",
   "metadata": {},
   "outputs": [
    {
     "data": {
      "text/plain": [
       "name        object\n",
       "Age        float64\n",
       "Address     object\n",
       "dtype: object"
      ]
     },
     "execution_count": 22,
     "metadata": {},
     "output_type": "execute_result"
    }
   ],
   "source": [
    "df3.dtypes"
   ]
  },
  {
   "cell_type": "code",
   "execution_count": 23,
   "id": "86b14fa2",
   "metadata": {},
   "outputs": [
    {
     "data": {
      "text/plain": [
       "name       4\n",
       "Age        4\n",
       "Address    4\n",
       "dtype: int64"
      ]
     },
     "execution_count": 23,
     "metadata": {},
     "output_type": "execute_result"
    }
   ],
   "source": [
    "df3.count() #no of elements in each col excluding NaN values..."
   ]
  },
  {
   "cell_type": "code",
   "execution_count": 24,
   "id": "1743cc93",
   "metadata": {},
   "outputs": [
    {
     "name": "stdout",
     "output_type": "stream",
     "text": [
      "<class 'pandas.core.frame.DataFrame'>\n",
      "Index: 7 entries, m01 to m07\n",
      "Data columns (total 3 columns):\n",
      " #   Column   Non-Null Count  Dtype  \n",
      "---  ------   --------------  -----  \n",
      " 0   name     4 non-null      object \n",
      " 1   Age      4 non-null      float64\n",
      " 2   Address  4 non-null      object \n",
      "dtypes: float64(1), object(2)\n",
      "memory usage: 224.0+ bytes\n"
     ]
    }
   ],
   "source": [
    "df3.info()"
   ]
  },
  {
   "cell_type": "code",
   "execution_count": null,
   "id": "071ed994",
   "metadata": {},
   "outputs": [],
   "source": []
  }
 ],
 "metadata": {
  "kernelspec": {
   "display_name": "Python 3 (ipykernel)",
   "language": "python",
   "name": "python3"
  },
  "language_info": {
   "codemirror_mode": {
    "name": "ipython",
    "version": 3
   },
   "file_extension": ".py",
   "mimetype": "text/x-python",
   "name": "python",
   "nbconvert_exporter": "python",
   "pygments_lexer": "ipython3",
   "version": "3.9.13"
  }
 },
 "nbformat": 4,
 "nbformat_minor": 5
}
