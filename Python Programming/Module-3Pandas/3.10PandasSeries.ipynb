{
 "cells": [
  {
   "cell_type": "code",
   "execution_count": 1,
   "id": "fcf51784",
   "metadata": {},
   "outputs": [],
   "source": [
    "#SERIES in Pandas...\n",
    "#column of a pandas dataframe...\n",
    "#Series is a 1d arrays having a sequence of values of any datatype...\n",
    "#can be ceated from NumPy Arrays or Python Lists or Dictionaries...\n",
    "\n",
    "\n",
    "import pandas as pd\n",
    "import numpy as np"
   ]
  },
  {
   "cell_type": "code",
   "execution_count": 6,
   "id": "da3dc385",
   "metadata": {},
   "outputs": [
    {
     "name": "stdout",
     "output_type": "stream",
     "text": [
      "0       maida\n",
      "1        amna\n",
      "2    shumaila\n",
      "3            \n",
      "4        soha\n",
      "5         NaN\n",
      "dtype: object\n",
      "<class 'pandas.core.series.Series'>\n"
     ]
    }
   ],
   "source": [
    "#CREATE SERIES FROM PYTHON LIST....\n",
    "l1 = [\"maida\", \"amna\", \"shumaila\", \" \", \"soha\", np.nan] #we can have Not-A-Number(nan) value in data\n",
    "sr=pd.Series(l1)\n",
    "print(sr) #series has thickly assosiated indices in object \n",
    "print(type(sr))"
   ]
  },
  {
   "cell_type": "code",
   "execution_count": 7,
   "id": "0f090095",
   "metadata": {},
   "outputs": [
    {
     "name": "stdout",
     "output_type": "stream",
     "text": [
      "M01       maida\n",
      "M02        amna\n",
      "M03    shumaila\n",
      "M04            \n",
      "M03        soha\n",
      "NaN         NaN\n",
      "dtype: object\n"
     ]
    }
   ],
   "source": [
    "#creating series with specified indices...\n",
    "indl=[\"M01\", \"M02\", \"M03\", \"M04\", \"M03\" ,np.nan] #non unique values of indices is allowed...\n",
    "#we can have Not-A-Number(nan) value in indicesas well...\n",
    "sr1=pd.Series(l1, indl)\n",
    "print(sr1)"
   ]
  },
  {
   "cell_type": "code",
   "execution_count": 9,
   "id": "1208fd03",
   "metadata": {},
   "outputs": [
    {
     "name": "stdout",
     "output_type": "stream",
     "text": [
      "0    23\n",
      "1    12\n",
      "2    33\n",
      "dtype: uint8\n"
     ]
    }
   ],
   "source": [
    "#Creating series with specified dtype...\n",
    "sr2=pd.Series([23, 12, 33], dtype=np.uint8)  #by default it will take int64\n",
    "print(sr2)"
   ]
  },
  {
   "cell_type": "code",
   "execution_count": 10,
   "id": "dcbad7f8",
   "metadata": {},
   "outputs": [
    {
     "name": "stdout",
     "output_type": "stream",
     "text": [
      "0    22\n",
      "1     2\n",
      "2    33\n",
      "Name: Series#1, dtype: uint8\n"
     ]
    }
   ],
   "source": [
    "#Creating series with specified Name...\n",
    "sr3=pd.Series([22, 2, 33], dtype=np.uint8, name=\"Series#1\")  #by default it will take int64\n",
    "print(sr3)"
   ]
  },
  {
   "cell_type": "code",
   "execution_count": 11,
   "id": "5607d873",
   "metadata": {},
   "outputs": [
    {
     "name": "stdout",
     "output_type": "stream",
     "text": [
      "0    0\n",
      "1    1\n",
      "2    2\n",
      "3    3\n",
      "dtype: int32\n"
     ]
    }
   ],
   "source": [
    "#CREATING SERIES FROM NUMPY ARRAY....\n",
    "arrS=pd.Series(np.arange(4))\n",
    "print(arrS)"
   ]
  },
  {
   "cell_type": "code",
   "execution_count": 13,
   "id": "741b6ebf",
   "metadata": {},
   "outputs": [
    {
     "name": "stdout",
     "output_type": "stream",
     "text": [
      "name          Maida\n",
      "Age              26\n",
      "Address     Sialkot\n",
      "Cell       12345678\n",
      "BG               A+\n",
      "dtype: object\n"
     ]
    }
   ],
   "source": [
    "#CREATING SERIES FROM DICTIONARY....\n",
    "dict={\n",
    "    \"name\":'Maida',\n",
    "    \"Age\": 26,\n",
    "    \"Address\":\"Sialkot\",\n",
    "    \"Cell\":12345678,\n",
    "    \"BG\": \"A+\"\n",
    "}\n",
    "dsr=pd.Series(dict) #keys becomes row labels in case of 1d....\n",
    "print(dsr)"
   ]
  },
  {
   "cell_type": "code",
   "execution_count": 16,
   "id": "e0a5f9a7",
   "metadata": {},
   "outputs": [
    {
     "name": "stdout",
     "output_type": "stream",
     "text": [
      "Scalar:\n",
      " 0    45\n",
      "dtype: int64\n",
      "Empty: \n",
      ": Series([], dtype: uint8)\n"
     ]
    }
   ],
   "source": [
    "#CREATING SERIES FROM SCALAR VALUE / EMPTY....\n",
    "ssr=pd.Series(45)\n",
    "esr=pd.Series(dtype=np.uint8)\n",
    "print(\"Scalar:\\n\",ssr)\n",
    "print(\"Empty: \\n:\",esr)"
   ]
  },
  {
   "cell_type": "code",
   "execution_count": 17,
   "id": "5b0fc91e",
   "metadata": {},
   "outputs": [
    {
     "name": "stdout",
     "output_type": "stream",
     "text": [
      "Name:  Series#1\n",
      "Values:  [22  2 33]\n",
      "Dtype:  uint8\n",
      "Index:  RangeIndex(start=0, stop=3, step=1)\n",
      "Shape:  (3,)\n",
      "Bytes:  3\n",
      "Size:  3\n",
      "Dim:  1\n",
      "NaN's:  False\n"
     ]
    }
   ],
   "source": [
    "#ATTRIBUTES OF SERIES....\n",
    "print(\"Name: \",sr3.name)\n",
    "print(\"Values: \",sr3.values)\n",
    "print(\"Dtype: \",sr3.dtype)\n",
    "print(\"Index: \",sr3.index)\n",
    "print(\"Shape: \",sr3.shape)\n",
    "print(\"Bytes: \",sr3.nbytes)\n",
    "print(\"Size: \",sr3.size)\n",
    "print(\"Dim: \",sr3.ndim)\n",
    "print(\"NaN's: \",sr3.hasnans)"
   ]
  },
  {
   "cell_type": "code",
   "execution_count": 33,
   "id": "662215e1",
   "metadata": {},
   "outputs": [
    {
     "name": "stdout",
     "output_type": "stream",
     "text": [
      "0       maida\n",
      "1        amna\n",
      "2        soha\n",
      "3    shumaila\n",
      "4     anoosha\n",
      "dtype: object\n"
     ]
    }
   ],
   "source": [
    "#UNDERSTANDING INDEX OF SERIES....\n",
    "sri=pd.Series([\"maida\", \"amna\", \"soha\", \"shumaila\", \"anoosha\"])\n",
    "print(sri)"
   ]
  },
  {
   "cell_type": "code",
   "execution_count": 34,
   "id": "6b14ace0",
   "metadata": {},
   "outputs": [
    {
     "name": "stdout",
     "output_type": "stream",
     "text": [
      "499       maida\n",
      "405        amna\n",
      "435        soha\n",
      "491    shumaila\n",
      "455     anoosha\n",
      "dtype: object\n",
      "m01       maida\n",
      "m02        amna\n",
      "m03        soha\n",
      "m04    shumaila\n",
      "m05     anoosha\n",
      "dtype: object\n"
     ]
    }
   ],
   "source": [
    "#1. Change Index...\n",
    "#numpy array\n",
    "inar=np.random.randint(100, 500, 5) #random  5 numbers from 100 to 500\n",
    "sri.index=inar #assign random numbers as indices\n",
    "print(sri)\n",
    "\n",
    "#list\n",
    "inl=[\"m01\", \"m02\", \"m03\", \"m04\", \"m05\"]\n",
    "sri.index=inl \n",
    "print(sri)"
   ]
  },
  {
   "cell_type": "code",
   "execution_count": 40,
   "id": "b49cac3d",
   "metadata": {},
   "outputs": [
    {
     "name": "stdout",
     "output_type": "stream",
     "text": [
      "33       maida\n",
      "65        amna\n",
      "12        soha\n",
      "44    shumaila\n",
      "28     anoosha\n",
      "dtype: object\n",
      "index 455:  amna\n"
     ]
    }
   ],
   "source": [
    "#2. IDENTIFICATION....\n",
    "sri.index=[33, 65, 12 ,44, 28] #assign random numbers as indices\n",
    "print(sri)\n",
    "print(\"index 455: \", sri[65]) #not work on positional indices only on actual indices we assigned"
   ]
  },
  {
   "cell_type": "code",
   "execution_count": 41,
   "id": "4cf28b24",
   "metadata": {},
   "outputs": [
    {
     "name": "stdout",
     "output_type": "stream",
     "text": [
      "index 435:  soha\n",
      "index 286:  maida\n"
     ]
    }
   ],
   "source": [
    "#loc[]....\n",
    "print(\"index 435: \",sri.loc[12]) #works on actual indices only...\n",
    "\n",
    "#iloc[]....\n",
    "print(\"index 286: \",sri.iloc[0]) #works on positional indices only..."
   ]
  },
  {
   "cell_type": "code",
   "execution_count": 45,
   "id": "2b6cb192",
   "metadata": {},
   "outputs": [
    {
     "name": "stdout",
     "output_type": "stream",
     "text": [
      "Subcript: \n",
      " 44    shumaila\n",
      "12        soha\n",
      "dtype: object\n",
      "Loc: \n",
      " 28    anoosha\n",
      "33      maida\n",
      "dtype: object\n",
      "iLoc: \n",
      " 44    shumaila\n",
      "33       maida\n",
      "dtype: object\n"
     ]
    }
   ],
   "source": [
    "#list in indices...\n",
    "print(\"Subcript: \\n\", sri[[44, 12]])\n",
    "print(\"Loc: \\n\",sri.loc[[28,33]])\n",
    "print(\"iLoc: \\n\", sri.iloc[[3,0]])"
   ]
  },
  {
   "cell_type": "code",
   "execution_count": 46,
   "id": "bbc9f660",
   "metadata": {
    "scrolled": true
   },
   "outputs": [
    {
     "name": "stdout",
     "output_type": "stream",
     "text": [
      "m01       maida\n",
      "m02        amna\n",
      "m03        soha\n",
      "m04    shumaila\n",
      "m05     anoosha\n",
      "dtype: object\n"
     ]
    }
   ],
   "source": [
    "#STRING INDICES...\n",
    "inl=[\"m01\", \"m02\", \"m03\", \"m04\", \"m05\"]\n",
    "sri.index=inl \n",
    "print(sri)"
   ]
  },
  {
   "cell_type": "code",
   "execution_count": 47,
   "id": "50c72581",
   "metadata": {},
   "outputs": [
    {
     "name": "stdout",
     "output_type": "stream",
     "text": [
      "Subcript: \n",
      " soha\n",
      "Loc: \n",
      " maida\n"
     ]
    },
    {
     "ename": "TypeError",
     "evalue": "Cannot index by location index with a non-integer key",
     "output_type": "error",
     "traceback": [
      "\u001b[1;31m---------------------------------------------------------------------------\u001b[0m",
      "\u001b[1;31mTypeError\u001b[0m                                 Traceback (most recent call last)",
      "\u001b[1;32m~\\AppData\\Local\\Temp\\ipykernel_16340\\2171946470.py\u001b[0m in \u001b[0;36m<module>\u001b[1;34m\u001b[0m\n\u001b[0;32m      1\u001b[0m \u001b[0mprint\u001b[0m\u001b[1;33m(\u001b[0m\u001b[1;34m\"Subcript: \\n\"\u001b[0m\u001b[1;33m,\u001b[0m \u001b[0msri\u001b[0m\u001b[1;33m[\u001b[0m\u001b[1;34m'm03'\u001b[0m\u001b[1;33m]\u001b[0m\u001b[1;33m)\u001b[0m\u001b[1;33m\u001b[0m\u001b[1;33m\u001b[0m\u001b[0m\n\u001b[0;32m      2\u001b[0m \u001b[0mprint\u001b[0m\u001b[1;33m(\u001b[0m\u001b[1;34m\"Loc: \\n\"\u001b[0m\u001b[1;33m,\u001b[0m\u001b[0msri\u001b[0m\u001b[1;33m.\u001b[0m\u001b[0mloc\u001b[0m\u001b[1;33m[\u001b[0m\u001b[1;34m'm01'\u001b[0m\u001b[1;33m]\u001b[0m\u001b[1;33m)\u001b[0m\u001b[1;33m\u001b[0m\u001b[1;33m\u001b[0m\u001b[0m\n\u001b[1;32m----> 3\u001b[1;33m \u001b[0mprint\u001b[0m\u001b[1;33m(\u001b[0m\u001b[1;34m\"iLoc: \\n\"\u001b[0m\u001b[1;33m,\u001b[0m \u001b[0msri\u001b[0m\u001b[1;33m.\u001b[0m\u001b[0miloc\u001b[0m\u001b[1;33m[\u001b[0m\u001b[1;34m'm04'\u001b[0m\u001b[1;33m]\u001b[0m\u001b[1;33m)\u001b[0m \u001b[1;31m#error on positional\u001b[0m\u001b[1;33m\u001b[0m\u001b[1;33m\u001b[0m\u001b[0m\n\u001b[0m",
      "\u001b[1;32m~\\anaconda3\\lib\\site-packages\\pandas\\core\\indexing.py\u001b[0m in \u001b[0;36m__getitem__\u001b[1;34m(self, key)\u001b[0m\n\u001b[0;32m    965\u001b[0m \u001b[1;33m\u001b[0m\u001b[0m\n\u001b[0;32m    966\u001b[0m             \u001b[0mmaybe_callable\u001b[0m \u001b[1;33m=\u001b[0m \u001b[0mcom\u001b[0m\u001b[1;33m.\u001b[0m\u001b[0mapply_if_callable\u001b[0m\u001b[1;33m(\u001b[0m\u001b[0mkey\u001b[0m\u001b[1;33m,\u001b[0m \u001b[0mself\u001b[0m\u001b[1;33m.\u001b[0m\u001b[0mobj\u001b[0m\u001b[1;33m)\u001b[0m\u001b[1;33m\u001b[0m\u001b[1;33m\u001b[0m\u001b[0m\n\u001b[1;32m--> 967\u001b[1;33m             \u001b[1;32mreturn\u001b[0m \u001b[0mself\u001b[0m\u001b[1;33m.\u001b[0m\u001b[0m_getitem_axis\u001b[0m\u001b[1;33m(\u001b[0m\u001b[0mmaybe_callable\u001b[0m\u001b[1;33m,\u001b[0m \u001b[0maxis\u001b[0m\u001b[1;33m=\u001b[0m\u001b[0maxis\u001b[0m\u001b[1;33m)\u001b[0m\u001b[1;33m\u001b[0m\u001b[1;33m\u001b[0m\u001b[0m\n\u001b[0m\u001b[0;32m    968\u001b[0m \u001b[1;33m\u001b[0m\u001b[0m\n\u001b[0;32m    969\u001b[0m     \u001b[1;32mdef\u001b[0m \u001b[0m_is_scalar_access\u001b[0m\u001b[1;33m(\u001b[0m\u001b[0mself\u001b[0m\u001b[1;33m,\u001b[0m \u001b[0mkey\u001b[0m\u001b[1;33m:\u001b[0m \u001b[0mtuple\u001b[0m\u001b[1;33m)\u001b[0m\u001b[1;33m:\u001b[0m\u001b[1;33m\u001b[0m\u001b[1;33m\u001b[0m\u001b[0m\n",
      "\u001b[1;32m~\\anaconda3\\lib\\site-packages\\pandas\\core\\indexing.py\u001b[0m in \u001b[0;36m_getitem_axis\u001b[1;34m(self, key, axis)\u001b[0m\n\u001b[0;32m   1518\u001b[0m             \u001b[0mkey\u001b[0m \u001b[1;33m=\u001b[0m \u001b[0mitem_from_zerodim\u001b[0m\u001b[1;33m(\u001b[0m\u001b[0mkey\u001b[0m\u001b[1;33m)\u001b[0m\u001b[1;33m\u001b[0m\u001b[1;33m\u001b[0m\u001b[0m\n\u001b[0;32m   1519\u001b[0m             \u001b[1;32mif\u001b[0m \u001b[1;32mnot\u001b[0m \u001b[0mis_integer\u001b[0m\u001b[1;33m(\u001b[0m\u001b[0mkey\u001b[0m\u001b[1;33m)\u001b[0m\u001b[1;33m:\u001b[0m\u001b[1;33m\u001b[0m\u001b[1;33m\u001b[0m\u001b[0m\n\u001b[1;32m-> 1520\u001b[1;33m                 \u001b[1;32mraise\u001b[0m \u001b[0mTypeError\u001b[0m\u001b[1;33m(\u001b[0m\u001b[1;34m\"Cannot index by location index with a non-integer key\"\u001b[0m\u001b[1;33m)\u001b[0m\u001b[1;33m\u001b[0m\u001b[1;33m\u001b[0m\u001b[0m\n\u001b[0m\u001b[0;32m   1521\u001b[0m \u001b[1;33m\u001b[0m\u001b[0m\n\u001b[0;32m   1522\u001b[0m             \u001b[1;31m# validate the location\u001b[0m\u001b[1;33m\u001b[0m\u001b[1;33m\u001b[0m\u001b[0m\n",
      "\u001b[1;31mTypeError\u001b[0m: Cannot index by location index with a non-integer key"
     ]
    }
   ],
   "source": [
    "print(\"Subcript: \\n\", sri['m03'])\n",
    "print(\"Loc: \\n\",sri.loc['m01'])\n",
    "print(\"iLoc: \\n\", sri.iloc['m04']) #error on positional"
   ]
  },
  {
   "cell_type": "code",
   "execution_count": 48,
   "id": "469bb9a6",
   "metadata": {},
   "outputs": [
    {
     "name": "stdout",
     "output_type": "stream",
     "text": [
      "Subcript: \n",
      " m04    shumaila\n",
      "m01       maida\n",
      "dtype: object\n",
      "Loc: \n",
      " m02    amna\n",
      "m03    soha\n",
      "dtype: object\n",
      "iLoc: \n",
      " m01    maida\n",
      "dtype: object\n"
     ]
    }
   ],
   "source": [
    "print(\"Subcript: \\n\", sri[['m04', 'm01']])\n",
    "print(\"Loc: \\n\",sri.loc[['m02', 'm03']])\n",
    "print(\"iLoc: \\n\", sri.iloc[[0]])"
   ]
  },
  {
   "cell_type": "code",
   "execution_count": 49,
   "id": "c4851e78",
   "metadata": {},
   "outputs": [
    {
     "name": "stdout",
     "output_type": "stream",
     "text": [
      "0       maida\n",
      "1        amna\n",
      "2        soha\n",
      "3    shumaila\n",
      "4     anoosha\n",
      "dtype: object\n"
     ]
    }
   ],
   "source": [
    "#3. SELECTION --> Slice Object [start:stop:step]..\n",
    "sri=pd.Series([\"maida\", \"amna\", \"soha\", \"shumaila\", \"anoosha\"])\n",
    "print(sri)"
   ]
  },
  {
   "cell_type": "code",
   "execution_count": 52,
   "id": "4b5b7075",
   "metadata": {},
   "outputs": [
    {
     "name": "stdout",
     "output_type": "stream",
     "text": [
      "Subcript: \n",
      " 0       maida\n",
      "1        amna\n",
      "2        soha\n",
      "3    shumaila\n",
      "dtype: object\n",
      "Loc: \n",
      " 0       maida\n",
      "1        amna\n",
      "2        soha\n",
      "3    shumaila\n",
      "4     anoosha\n",
      "dtype: object\n",
      "iLoc: \n",
      " 0       maida\n",
      "1        amna\n",
      "2        soha\n",
      "3    shumaila\n",
      "dtype: object\n"
     ]
    }
   ],
   "source": [
    "#integer indices...\n",
    "print(\"Subcript: \\n\", sri[0:4]) #integer indices so upper limit is not inclusive\n",
    "print(\"Loc: \\n\",sri.loc[0:4]) #in loc[] slice object upper limit is inclusive\n",
    "print(\"iLoc: \\n\", sri.iloc[0:4]) #works on position so default like upper limit exclusive"
   ]
  },
  {
   "cell_type": "code",
   "execution_count": 55,
   "id": "19527fbd",
   "metadata": {},
   "outputs": [
    {
     "name": "stdout",
     "output_type": "stream",
     "text": [
      "m01       maida\n",
      "m02        amna\n",
      "m03        soha\n",
      "m04    shumaila\n",
      "m05     anoosha\n",
      "dtype: object\n",
      "Subcript: \n",
      " m02        amna\n",
      "m03        soha\n",
      "m04    shumaila\n",
      "dtype: object\n",
      "Loc: \n",
      " m02        amna\n",
      "m03        soha\n",
      "m04    shumaila\n",
      "dtype: object\n",
      "iLoc: \n",
      " m03        soha\n",
      "m04    shumaila\n",
      "dtype: object\n"
     ]
    }
   ],
   "source": [
    "#String Indices\n",
    "sri.index=[\"m01\", \"m02\", \"m03\", \"m04\", \"m05\"]\n",
    "print(sri)\n",
    "print(\"Subcript: \\n\", sri['m02':'m04']) #m04 will be inclusive incase of string indices\n",
    "print(\"Loc: \\n\",sri.loc['m02':'m04']) #mo4 will be inclusive in loc[]\n",
    "print(\"iLoc: \\n\", sri.iloc[2:4]) #naturally 4 is exclusive"
   ]
  },
  {
   "cell_type": "code",
   "execution_count": 57,
   "id": "c0194951",
   "metadata": {},
   "outputs": [
    {
     "name": "stdout",
     "output_type": "stream",
     "text": [
      "Subcript: \n",
      " m01    maida\n",
      "m03     soha\n",
      "dtype: object\n",
      "Loc: \n",
      " m04    shumaila\n",
      "m03        soha\n",
      "m02        amna\n",
      "m01       maida\n",
      "dtype: object\n",
      "iLoc: \n",
      " m05    anoosha\n",
      "m03       soha\n",
      "m01      maida\n",
      "dtype: object\n"
     ]
    }
   ],
   "source": [
    "#with step...\n",
    "print(\"Subcript: \\n\", sri['m01':'m04': 2]) #m04 will be inclusive incase of string indices\n",
    "print(\"Loc: \\n\",sri.loc['m04':'m01':-1]) #mo4 will be inclusive in loc[]\n",
    "print(\"iLoc: \\n\", sri.iloc[4::-2]) #naturally 4 is exclusive"
   ]
  },
  {
   "cell_type": "code",
   "execution_count": 58,
   "id": "d2575b05",
   "metadata": {},
   "outputs": [
    {
     "name": "stdout",
     "output_type": "stream",
     "text": [
      "0     3\n",
      "1     5\n",
      "2     7\n",
      "3     9\n",
      "4    11\n",
      "dtype: int64\n",
      "0     2\n",
      "1     4\n",
      "2     6\n",
      "3     8\n",
      "4    10\n",
      "dtype: int64\n"
     ]
    }
   ],
   "source": [
    "#4. ALIGNMENT.....\n",
    "#used in all arithematic operartion on any no of series with apply operation on their matching indices in both series...\n",
    "ops=pd.Series([3,5,7,9,11])\n",
    "ops2=pd.Series([2,4,6,8,10])\n",
    "print(ops)\n",
    "print(ops2)"
   ]
  },
  {
   "cell_type": "code",
   "execution_count": 59,
   "id": "5076dec7",
   "metadata": {},
   "outputs": [
    {
     "name": "stdout",
     "output_type": "stream",
     "text": [
      "0     5\n",
      "1     9\n",
      "2    13\n",
      "3    17\n",
      "4    21\n",
      "dtype: int64\n"
     ]
    }
   ],
   "source": [
    "print(ops+ops2) #add respective indices and store result"
   ]
  },
  {
   "cell_type": "code",
   "execution_count": 60,
   "id": "364547f6",
   "metadata": {},
   "outputs": [
    {
     "name": "stdout",
     "output_type": "stream",
     "text": [
      "0     3\n",
      "2     5\n",
      "1     7\n",
      "4     9\n",
      "3    11\n",
      "dtype: int64\n",
      "2     2\n",
      "5     4\n",
      "6     6\n",
      "1     8\n",
      "3    10\n",
      "dtype: int64\n"
     ]
    }
   ],
   "source": [
    "ops1=pd.Series([3,5,7,9,11], [0,2,1,4,3])\n",
    "ops3=pd.Series([2,4,6,8,10], [2,5,6,1,3])\n",
    "print(ops1)\n",
    "print(ops3)"
   ]
  },
  {
   "cell_type": "code",
   "execution_count": 61,
   "id": "abedbbec",
   "metadata": {},
   "outputs": [
    {
     "name": "stdout",
     "output_type": "stream",
     "text": [
      "0     NaN\n",
      "1    15.0\n",
      "2     7.0\n",
      "3    21.0\n",
      "4     NaN\n",
      "5     NaN\n",
      "6     NaN\n",
      "dtype: float64\n"
     ]
    }
   ],
   "source": [
    "print(ops1+ops3) #for those respective index in other series is missing add nan value and store result"
   ]
  },
  {
   "cell_type": "code",
   "execution_count": 64,
   "id": "8881dbfd",
   "metadata": {},
   "outputs": [
    {
     "name": "stdout",
     "output_type": "stream",
     "text": [
      "0     3.0\n",
      "1    15.0\n",
      "2     7.0\n",
      "3    21.0\n",
      "4     9.0\n",
      "5     4.0\n",
      "6     6.0\n",
      "dtype: float64\n"
     ]
    }
   ],
   "source": [
    "#use add and sub methods...\n",
    "print(ops1.add(ops3,fill_value=0))"
   ]
  },
  {
   "cell_type": "code",
   "execution_count": null,
   "id": "fda40653",
   "metadata": {},
   "outputs": [],
   "source": []
  },
  {
   "cell_type": "code",
   "execution_count": null,
   "id": "2c12f8fc",
   "metadata": {},
   "outputs": [],
   "source": []
  },
  {
   "cell_type": "code",
   "execution_count": null,
   "id": "475cd0e0",
   "metadata": {},
   "outputs": [],
   "source": []
  }
 ],
 "metadata": {
  "kernelspec": {
   "display_name": "Python 3 (ipykernel)",
   "language": "python",
   "name": "python3"
  },
  "language_info": {
   "codemirror_mode": {
    "name": "ipython",
    "version": 3
   },
   "file_extension": ".py",
   "mimetype": "text/x-python",
   "name": "python",
   "nbconvert_exporter": "python",
   "pygments_lexer": "ipython3",
   "version": "3.9.13"
  }
 },
 "nbformat": 4,
 "nbformat_minor": 5
}
