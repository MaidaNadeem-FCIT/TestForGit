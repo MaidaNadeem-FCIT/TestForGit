{
 "cells": [
  {
   "cell_type": "code",
   "execution_count": 1,
   "id": "51fad0f0",
   "metadata": {},
   "outputs": [
    {
     "name": "stdout",
     "output_type": "stream",
     "text": [
      "Maida\n",
      "Butt\n",
      "\n",
      "z\n"
     ]
    }
   ],
   "source": [
    "#SRINGS IN PYTHON\n",
    "s1 = \"Maida\"\n",
    "s2= 'Butt'\n",
    "s3= ''\n",
    "s4 = \"z\"\n",
    "print(s1)\n",
    "print(s2)\n",
    "print(s3)\n",
    "print(s4)"
   ]
  },
  {
   "cell_type": "code",
   "execution_count": 2,
   "id": "4a54e729",
   "metadata": {},
   "outputs": [
    {
     "name": "stdout",
     "output_type": "stream",
     "text": [
      "This is my first\n",
      "multiline string defination \n",
      "with triple quotes\n",
      "This is my first\n",
      "        multiline \"string\" defination \n",
      "        with triple \"single quotes\n"
     ]
    }
   ],
   "source": [
    "s3 = \"\"\"This is my first\n",
    "multiline string defination \n",
    "with triple quotes\"\"\"\n",
    "print(s3)\n",
    "s4 = '''This is my first\n",
    "        multiline \"string\" defination \n",
    "        with triple \\\"single quotes'''\n",
    "print(s4)"
   ]
  },
  {
   "cell_type": "code",
   "execution_count": 3,
   "id": "59ab6e0c",
   "metadata": {},
   "outputs": [
    {
     "name": "stdout",
     "output_type": "stream",
     "text": [
      "Str is :  This is my first string\n",
      "Str is :  T\n",
      "Str is :  g\n",
      "Str is :  t\n",
      "Str is :  m\n",
      "13\n",
      "15\n",
      "0\n"
     ]
    }
   ],
   "source": [
    "#Accesing String Elements with indexes\n",
    "str = \"This is my first string\"\n",
    "print(\"Str is : \", str)\n",
    "print(\"Str is : \", str[0])\n",
    "print(\"Str is : \", str[-1])\n",
    "print(\"Str is : \", str[-5])\n",
    "print(\"Str is : \", str[8])\n",
    "\n",
    "#finding Index of the specific string element.\n",
    "print(str.index('r'))  #same element of same case present in string then return the index of first occurence.\n",
    "print(str.index('t'))  #Python is case sensitive so small and upper case element's index vary no matter they are same char.\n",
    "print(str.index('T'))"
   ]
  },
  {
   "cell_type": "code",
   "execution_count": 44,
   "id": "d02e9644",
   "metadata": {},
   "outputs": [
    {
     "name": "stdout",
     "output_type": "stream",
     "text": [
      "2201503608944\n",
      "2201538864944\n",
      "    maida butt is doing masters in datascience     \n"
     ]
    }
   ],
   "source": [
    "# STRINGS ARE IMMUTABLE....\n",
    "\n",
    "str1 = \"Maida Butt\"\n",
    "#str1[6] ='b'  #generates error \n",
    "print(id(str1))\n",
    "str1 = \"    maida butt is doing masters in datascience        \"\n",
    "print(id(str1))\n",
    "print(str1)"
   ]
  },
  {
   "cell_type": "code",
   "execution_count": 22,
   "id": "2bd2947c",
   "metadata": {},
   "outputs": [
    {
     "name": "stdout",
     "output_type": "stream",
     "text": [
      "maida butt is doing masters in datascience\n",
      "ida b\n",
      " butt is doing masters in datascience\n",
      "butt is d\n"
     ]
    }
   ],
   "source": [
    "#STRING SLICING...\n",
    "print(str1[:len(str1)])  #from start index till end\n",
    "print(str1[2:7]) #from 2nd index till \"6\" as \"7\" is not inclusive\n",
    "print(str1[5:]) #from 5th index till end.\n",
    "print(str1[6:15]) #from 6th index till 14th."
   ]
  },
  {
   "cell_type": "code",
   "execution_count": 26,
   "id": "5da36f06",
   "metadata": {},
   "outputs": [
    {
     "name": "stdout",
     "output_type": "stream",
     "text": [
      "maida butt is doing masters in datascience\n",
      "miabt sdigmsesi aacec\n",
      "mdbtsogae  tcn\n"
     ]
    }
   ],
   "source": [
    "#STRING SLICING WITH STEP VALUE...\n",
    "print(str1[::])  #from start index till end with step 1\n",
    "print(str1[::2]) #from start index till end with step 2 i.e. missing 1 element\n",
    "print(str1[::3]) #from start index till end with step 2 i.e. missing 2 element"
   ]
  },
  {
   "cell_type": "code",
   "execution_count": 32,
   "id": "c9c13abc",
   "metadata": {},
   "outputs": [
    {
     "name": "stdout",
     "output_type": "stream",
     "text": [
      "9876543210\n",
      "9630\n",
      "96\n"
     ]
    }
   ],
   "source": [
    "#REVERSE STRING SLICING WITH STEP VALUE...\n",
    "str2 = \"0123456789\"\n",
    "print(str2[::-1])\n",
    "print(str2[::-3])\n",
    "print(str2[9:4:-3])"
   ]
  },
  {
   "cell_type": "code",
   "execution_count": 35,
   "id": "72eb2626",
   "metadata": {},
   "outputs": [
    {
     "name": "stdout",
     "output_type": "stream",
     "text": [
      "Maida\n",
      "Butt\n",
      "This is my first\n",
      "        multiline string defination \n",
      "        with triple 'double' quotes\n",
      "s my \n"
     ]
    }
   ],
   "source": [
    "#STRING CONCATENATION..\n",
    "print(s1+\"\\n\"+s2+\"\\n\"+s3+\"\\n\"+s4[6:11])"
   ]
  },
  {
   "cell_type": "code",
   "execution_count": 36,
   "id": "2f0f77b1",
   "metadata": {},
   "outputs": [
    {
     "name": "stdout",
     "output_type": "stream",
     "text": [
      "MaidaMaidaMaidaMaidaMaida\n",
      "s3 is:  ButtButtButt\n"
     ]
    }
   ],
   "source": [
    "#CREATING LARGE STRINGS..\n",
    "print(s1*5)\n",
    "print(\"s3 is: \", s2*3)"
   ]
  },
  {
   "cell_type": "code",
   "execution_count": 40,
   "id": "3eb61f8c",
   "metadata": {},
   "outputs": [
    {
     "name": "stdout",
     "output_type": "stream",
     "text": [
      "Maida butt is doing masters in datascience\n",
      "maida butt is doing masters in datascience\n",
      "42\n",
      "MAIDA BUTT IS DOING MASTERS IN DATASCIENCE\n"
     ]
    }
   ],
   "source": [
    "#STRING METHODS...\n",
    "print(str1.capitalize())\n",
    "print(str1.lower())\n",
    "print(len(str1))\n",
    "print(str1.upper())"
   ]
  },
  {
   "cell_type": "code",
   "execution_count": 45,
   "id": "fd0e8824",
   "metadata": {},
   "outputs": [
    {
     "name": "stdout",
     "output_type": "stream",
     "text": [
      "maida butt is doing masters in datascience\n",
      "maida butt is doing masters in datascience     \n",
      "    maida butt is doing masters in datascience\n"
     ]
    }
   ],
   "source": [
    "#STRIP METHOD....\n",
    "print(str1.strip())\n",
    "print(str1.lstrip())\n",
    "print(str1.rstrip())"
   ]
  },
  {
   "cell_type": "code",
   "execution_count": 49,
   "id": "c4b00594",
   "metadata": {},
   "outputs": [
    {
     "name": "stdout",
     "output_type": "stream",
     "text": [
      "True\n",
      "False\n",
      "False\n",
      "True\n"
     ]
    }
   ],
   "source": [
    "#STARTWITH  METHOD...\n",
    "str1 = \"Learning with Jupyter is fun.\"\n",
    "print(str1.startswith(\"Learning\"))\n",
    "print(str1.startswith(\"learning\"))\n",
    "print(str1.startswith(\"fun\"))\n",
    "print(str1.startswith(\"with\",9,13))"
   ]
  },
  {
   "cell_type": "code",
   "execution_count": 52,
   "id": "ba01d630",
   "metadata": {},
   "outputs": [
    {
     "name": "stdout",
     "output_type": "stream",
     "text": [
      "['Learning', 'with', 'Jupyter', 'is', 'fun.']\n",
      "['Learn', 'ng w', 'th Jupyter ', 's fun.']\n"
     ]
    },
    {
     "data": {
      "text/plain": [
       "str"
      ]
     },
     "execution_count": 52,
     "metadata": {},
     "output_type": "execute_result"
    }
   ],
   "source": [
    "#SPLIT Methods..\n",
    "print(str1.split())  #separating at space character\n",
    "print(str1.split(sep=\"i\")) #separating at \"i\" character and removing i...\n",
    "type(str1)"
   ]
  },
  {
   "cell_type": "code",
   "execution_count": 54,
   "id": "0e03717d",
   "metadata": {},
   "outputs": [
    {
     "name": "stdout",
     "output_type": "stream",
     "text": [
      "this is the test string for Join !!!\n",
      "this$is$the$test$string$for$Join$!!!\n"
     ]
    }
   ],
   "source": [
    "#JOIN Methods....\n",
    "myList = [\"this\", \"is\", \"the\", \"test\", \"string\", \"for\", \"Join\", \"!!!\"]\n",
    "print(' '.join(myList))\n",
    "print('$'.join(myList))"
   ]
  },
  {
   "cell_type": "code",
   "execution_count": null,
   "id": "f7209d51",
   "metadata": {},
   "outputs": [],
   "source": []
  }
 ],
 "metadata": {
  "kernelspec": {
   "display_name": "Python 3 (ipykernel)",
   "language": "python",
   "name": "python3"
  },
  "language_info": {
   "codemirror_mode": {
    "name": "ipython",
    "version": 3
   },
   "file_extension": ".py",
   "mimetype": "text/x-python",
   "name": "python",
   "nbconvert_exporter": "python",
   "pygments_lexer": "ipython3",
   "version": "3.9.13"
  }
 },
 "nbformat": 4,
 "nbformat_minor": 5
}
