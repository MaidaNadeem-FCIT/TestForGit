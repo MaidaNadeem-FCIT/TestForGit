{
 "cells": [
  {
   "cell_type": "code",
   "execution_count": 3,
   "id": "909c96f7",
   "metadata": {},
   "outputs": [
    {
     "name": "stdout",
     "output_type": "stream",
     "text": [
      "['In', 'Out', '_', '__', '___', '__builtin__', '__builtins__', '__doc__', '__loader__', '__name__', '__package__', '__spec__', '_dh', '_i', '_i1', '_i2', '_i3', '_ih', '_ii', '_iii', '_oh', 'exit', 'get_ipython', 'quit']\n"
     ]
    }
   ],
   "source": [
    "#BUILT-IN MODULES....\n",
    "print(dir())"
   ]
  },
  {
   "cell_type": "code",
   "execution_count": 8,
   "id": "bb96d6fa",
   "metadata": {},
   "outputs": [
    {
     "name": "stdout",
     "output_type": "stream",
     "text": [
      "['In', 'Out', '_', '_5', '_6', '__', '___', '__builtin__', '__builtins__', '__doc__', '__loader__', '__name__', '__package__', '__spec__', '_dh', '_i', '_i1', '_i2', '_i3', '_i4', '_i5', '_i6', '_i7', '_i8', '_ih', '_ii', '_iii', '_oh', 'exit', 'get_ipython', 'math', 'quit']\n"
     ]
    }
   ],
   "source": [
    "#Import module....\n",
    "import math\n",
    "print(dir())"
   ]
  },
  {
   "cell_type": "code",
   "execution_count": 9,
   "id": "a5200816",
   "metadata": {},
   "outputs": [
    {
     "name": "stdout",
     "output_type": "stream",
     "text": [
      "6\n",
      "120\n"
     ]
    }
   ],
   "source": [
    "#Built-In Module Functions...\n",
    "print(math.ceil(5.67))\n",
    "print(math.factorial(5))"
   ]
  },
  {
   "cell_type": "code",
   "execution_count": 12,
   "id": "2fcb6155",
   "metadata": {},
   "outputs": [
    {
     "name": "stdout",
     "output_type": "stream",
     "text": [
      "['In', 'Out', '_', '_11', '_5', '_6', '__', '___', '__builtin__', '__builtins__', '__doc__', '__loader__', '__name__', '__package__', '__spec__', '_dh', '_i', '_i1', '_i10', '_i11', '_i12', '_i2', '_i3', '_i4', '_i5', '_i6', '_i7', '_i8', '_i9', '_ih', '_ii', '_iii', '_oh', 'exit', 'get_ipython', 'm', 'math', 'quit']\n"
     ]
    },
    {
     "data": {
      "text/plain": [
       "16.0"
      ]
     },
     "execution_count": 12,
     "metadata": {},
     "output_type": "execute_result"
    }
   ],
   "source": [
    "#Module Aliases...\n",
    "import math as m\n",
    "print(dir())\n",
    "m.pow(2,4)#x power y in floats"
   ]
  },
  {
   "cell_type": "code",
   "execution_count": 13,
   "id": "b04bba04",
   "metadata": {},
   "outputs": [
    {
     "data": {
      "text/plain": [
       "4"
      ]
     },
     "execution_count": 13,
     "metadata": {},
     "output_type": "execute_result"
    }
   ],
   "source": [
    "#Import Specific Function from Module...\n",
    "from math import floor\n",
    "floor(4.88)"
   ]
  },
  {
   "cell_type": "code",
   "execution_count": 14,
   "id": "ae62c556",
   "metadata": {},
   "outputs": [
    {
     "name": "stdout",
     "output_type": "stream",
     "text": [
      "['In', 'Out', '_', '_11', '_12', '_13', '_5', '_6', '__', '___', '__builtin__', '__builtins__', '__doc__', '__loader__', '__name__', '__package__', '__spec__', '_dh', '_i', '_i1', '_i10', '_i11', '_i12', '_i13', '_i14', '_i2', '_i3', '_i4', '_i5', '_i6', '_i7', '_i8', '_i9', '_ih', '_ii', '_iii', '_oh', 'acos', 'acosh', 'asin', 'asinh', 'atan', 'atan2', 'atanh', 'ceil', 'comb', 'copysign', 'cos', 'cosh', 'degrees', 'dist', 'e', 'erf', 'erfc', 'exit', 'exp', 'expm1', 'fabs', 'factorial', 'floor', 'fmod', 'frexp', 'fsum', 'gamma', 'gcd', 'get_ipython', 'hypot', 'inf', 'isclose', 'isfinite', 'isinf', 'isnan', 'isqrt', 'lcm', 'ldexp', 'lgamma', 'log', 'log10', 'log1p', 'log2', 'm', 'math', 'modf', 'nan', 'nextafter', 'perm', 'pi', 'pow', 'prod', 'quit', 'radians', 'remainder', 'sin', 'sinh', 'sqrt', 'tan', 'tanh', 'tau', 'trunc', 'ulp']\n"
     ]
    }
   ],
   "source": [
    "#import all function from math module...\n",
    "from math import * #it will import all methods in dir() but can cause namespace error..\n",
    "print(dir())"
   ]
  },
  {
   "cell_type": "code",
   "execution_count": 20,
   "id": "36318e78",
   "metadata": {},
   "outputs": [
    {
     "name": "stdout",
     "output_type": "stream",
     "text": [
      "3.141592653589793\n",
      "6.283185307179586\n",
      "2.718281828459045\n",
      "inf\n"
     ]
    }
   ],
   "source": [
    "#Constants in Math...\n",
    "print(math.pi) #ratio of circle circumference to its diameter...\n",
    "print(math.tau) #ratio of circles circumference to its radius so twice...\n",
    "print(math.e) #Eulers Number\n",
    "print(math.inf) #Infinity"
   ]
  },
  {
   "cell_type": "code",
   "execution_count": 28,
   "id": "c613156f",
   "metadata": {},
   "outputs": [
    {
     "name": "stdout",
     "output_type": "stream",
     "text": [
      "True\n",
      "True\n",
      "inf\n",
      "-inf\n",
      "nan\n"
     ]
    },
    {
     "data": {
      "text/plain": [
       "float"
      ]
     },
     "execution_count": 28,
     "metadata": {},
     "output_type": "execute_result"
    }
   ],
   "source": [
    "# Infinity proof of concept...\n",
    "print(math.inf > 99999999999999999999999999999999) #greater than any large positive num\n",
    "print(-math.inf < -9999999999999999999999999999999999999) #less than any small negative num\n",
    "print(math.inf + 9999999999999999999999999999999999999) \n",
    "print(-math.inf - 9999999999999999999999999999999999999) \n",
    "print(math.nan)\n",
    "type(nan)"
   ]
  },
  {
   "cell_type": "code",
   "execution_count": 29,
   "id": "827860f0",
   "metadata": {},
   "outputs": [
    {
     "data": {
      "text/plain": [
       "0.014539199999944685"
      ]
     },
     "execution_count": 29,
     "metadata": {},
     "output_type": "execute_result"
    }
   ],
   "source": [
    "#Timeit function of timeit Module....\n",
    "import timeit\n",
    "timeit.timeit(\"math.factorial(5)\", setup=\"import math\", number=100000)#faster than any user defined function"
   ]
  },
  {
   "cell_type": "code",
   "execution_count": 31,
   "id": "6695ed62",
   "metadata": {},
   "outputs": [
    {
     "name": "stdout",
     "output_type": "stream",
     "text": [
      "-11\n",
      "66\n",
      "6\n",
      "-14\n",
      "31\n",
      "-21\n"
     ]
    }
   ],
   "source": [
    "#module functions...\n",
    "print(math.ceil(-11.65)) #round down to Smallest integral value greater than or equal to given number\n",
    "print(math.ceil(65.65))#round up to Smallest integral value greater than or equal to given number\n",
    "print(math.floor(6.65)) #round down to largest integral value less than or equal to given number\n",
    "print(math.floor(-13.65))#round up to largest integral value less than or equal to given number\n",
    "print(math.trunc(31.65)) #returns integral part of arguement passed. (rounds down)\n",
    "print(math.trunc(-21.65))#returns integral part of arguement passed. (rounds up)"
   ]
  },
  {
   "cell_type": "code",
   "execution_count": 34,
   "id": "f62c314e",
   "metadata": {},
   "outputs": [
    {
     "name": "stdout",
     "output_type": "stream",
     "text": [
      "720\n",
      "6\n"
     ]
    }
   ],
   "source": [
    "#more built in functions...\n",
    "#Permutation\n",
    "print(math.perm(6,5)) #n!/(n-r)!   #n>r always  #order matters so (ab, ba) are diff\n",
    "#Combination\n",
    "print(math.comb(6,5)) #n!/r!(n-r)!   #n>r always  #order not matter so (ab,ba) are same and (ab or ba)"
   ]
  },
  {
   "cell_type": "code",
   "execution_count": 44,
   "id": "ac1b79f9",
   "metadata": {},
   "outputs": [
    {
     "name": "stdout",
     "output_type": "stream",
     "text": [
      "GCD: 2\n",
      "LCM: 108\n",
      "POW: 729.0\n",
      "Squrt: 8.0\n",
      "e^x: 403.4287934927351 403.428793492735\n",
      "log with base e: 1.791759469228055\n",
      "log with base 2: 2.584962500721156\n",
      "log with base 10: 0.7781512503836435\n"
     ]
    }
   ],
   "source": [
    "#GCD\n",
    "print(\"GCD:\",math.gcd(34,56)) #smallest positive integer which is divisor of both args\n",
    "#LCM\n",
    "print(\"LCM:\",math.lcm(54,12)) #smallest +ve integer divisible by both args\n",
    "#Power\n",
    "print(\"POW:\",math.pow(3,6))\n",
    "#Square Root\n",
    "print(\"Squrt:\",math.sqrt(64))\n",
    "#Exp \n",
    "print(\"e^x:\",math.exp(6), math.e ** 6)\n",
    "#Logarithm\n",
    "print(\"log with base e:\",math.log(6))\n",
    "print(\"log with base 2:\",math.log(6,2))\n",
    "print(\"log with base 10:\",math.log(6,10))"
   ]
  },
  {
   "cell_type": "code",
   "execution_count": 46,
   "id": "686d1900",
   "metadata": {},
   "outputs": [
    {
     "name": "stdout",
     "output_type": "stream",
     "text": [
      "Sin: -0.5534945323461613\n",
      "cos: -0.8328528097226449\n",
      "tan: 0.6645766525425844\n",
      "Sinh: 4.03283747222778e+28\n",
      "cosh: 4.03283747222778e+28\n",
      "tanh: 1.0\n"
     ]
    }
   ],
   "source": [
    "#Trignometry\n",
    "#sin\n",
    "print(\"Sin:\",math.sin(66.56))\n",
    "#cos\n",
    "print(\"cos:\",math.cos(66.56))\n",
    "#tan\n",
    "print(\"tan:\",math.tan(66.56))\n",
    "#sinH\n",
    "print(\"Sinh:\",math.sinh(66.56))\n",
    "#cosH\n",
    "print(\"cosh:\",math.cosh(66.56))\n",
    "#tanH\n",
    "print(\"tanh:\",math.tanh(66.56))"
   ]
  },
  {
   "cell_type": "code",
   "execution_count": 47,
   "id": "7aa2fbdf",
   "metadata": {},
   "outputs": [
    {
     "name": "stdout",
     "output_type": "stream",
     "text": [
      "['In', 'Out', '_', '_11', '_12', '_13', '_15', '_16', '_28', '_29', '_32', '_5', '_6', '__', '___', '__builtin__', '__builtins__', '__doc__', '__loader__', '__name__', '__package__', '__spec__', '_dh', '_i', '_i1', '_i10', '_i11', '_i12', '_i13', '_i14', '_i15', '_i16', '_i17', '_i18', '_i19', '_i2', '_i20', '_i21', '_i22', '_i23', '_i24', '_i25', '_i26', '_i27', '_i28', '_i29', '_i3', '_i30', '_i31', '_i32', '_i33', '_i34', '_i35', '_i36', '_i37', '_i38', '_i39', '_i4', '_i40', '_i41', '_i42', '_i43', '_i44', '_i45', '_i46', '_i47', '_i5', '_i6', '_i7', '_i8', '_i9', '_ih', '_ii', '_iii', '_oh', 'acos', 'acosh', 'asin', 'asinh', 'atan', 'atan2', 'atanh', 'ceil', 'comb', 'copysign', 'cos', 'cosh', 'degrees', 'dist', 'e', 'erf', 'erfc', 'exit', 'exp', 'expm1', 'fabs', 'factorial', 'floor', 'fmod', 'frexp', 'fsum', 'gamma', 'gcd', 'get_ipython', 'hypot', 'inf', 'isclose', 'isfinite', 'isinf', 'isnan', 'isqrt', 'lcm', 'ldexp', 'lgamma', 'log', 'log10', 'log1p', 'log2', 'm', 'math', 'modf', 'nan', 'nextafter', 'perm', 'pi', 'pow', 'prod', 'quit', 'radians', 'random', 'remainder', 'sin', 'sinh', 'sqrt', 'tan', 'tanh', 'tau', 'timeit', 'trunc', 'ulp']\n"
     ]
    }
   ],
   "source": [
    "#Random Module...\n",
    "import random\n",
    "print(dir())"
   ]
  },
  {
   "cell_type": "code",
   "execution_count": 66,
   "id": "f32518d6",
   "metadata": {},
   "outputs": [
    {
     "name": "stdout",
     "output_type": "stream",
     "text": [
      "random: 0.37869066844717647\n",
      "random: 47.052287418388296\n",
      "random: 5\n",
      "random: 2\n"
     ]
    }
   ],
   "source": [
    "#functions...RANDOM \n",
    "print(\"random:\",random.random()) #random num from 0-1 \"1\" is exclusive\n",
    "print(\"Uniform:\",random.uniform(2, 50)) #random float value from 2 to 50 \"50\" exclusive \n",
    "print(\"RandInt:\",random.randint(2, 5)) #random int value from 2 to 50 \"5\" inclusive which is not normal\n",
    "print(\"RandRange:\",random.randrange(2, 5)) #random int value from 2 to 50 \"5\" exclusive\n"
   ]
  },
  {
   "cell_type": "code",
   "execution_count": 74,
   "id": "4b1d41c1",
   "metadata": {},
   "outputs": [
    {
     "name": "stdout",
     "output_type": "stream",
     "text": [
      "Choice for list: nadeem\n",
      "Choice for string: s\n",
      "Choice for tuple: 3\n"
     ]
    }
   ],
   "source": [
    "#Random Choice for iterables...\n",
    "li=[\"this\", \"is\", \"maida\", \"nadeem\"]\n",
    "str=\"datascience\"\n",
    "t1=(1,2,3,4)\n",
    "print(\"Choice for list:\",random.choice(li)) #random value from iterable\n",
    "print(\"Choice for string:\",random.choice(str)) #random value from iterable\n",
    "print(\"Choice for tuple:\",random.choice(t1)) #random value from iterable"
   ]
  },
  {
   "cell_type": "code",
   "execution_count": 84,
   "id": "202fa43c",
   "metadata": {},
   "outputs": [
    {
     "name": "stderr",
     "output_type": "stream",
     "text": [
      "'ls' is not recognized as an internal or external command,\n",
      "operable program or batch file.\n"
     ]
    }
   ],
   "source": [
    "!ls /usr/share/zoneinfo/"
   ]
  },
  {
   "cell_type": "code",
   "execution_count": 83,
   "id": "4e0f5bd2",
   "metadata": {},
   "outputs": [
    {
     "data": {
      "text/plain": [
       "{'ALLUSERSPROFILE': 'C:\\\\ProgramData',\n",
       " 'APPDATA': 'C:\\\\Users\\\\ASCC\\\\AppData\\\\Roaming',\n",
       " 'COMMONPROGRAMFILES': 'C:\\\\Program Files\\\\Common Files',\n",
       " 'COMMONPROGRAMFILES(X86)': 'C:\\\\Program Files (x86)\\\\Common Files',\n",
       " 'COMMONPROGRAMW6432': 'C:\\\\Program Files\\\\Common Files',\n",
       " 'COMPUTERNAME': 'DESKTOP-P0F5U0O',\n",
       " 'COMSPEC': 'C:\\\\Windows\\\\system32\\\\cmd.exe',\n",
       " 'CONDA_DEFAULT_ENV': 'base',\n",
       " 'CONDA_EXE': 'C:\\\\Users\\\\ASCC\\\\anaconda3\\\\Scripts\\\\conda.exe',\n",
       " 'CONDA_PROMPT_MODIFIER': '(base) ',\n",
       " 'CONDA_PYTHON_EXE': 'C:\\\\Users\\\\ASCC\\\\anaconda3\\\\python.exe',\n",
       " 'CONDA_SHLVL': '1',\n",
       " 'DRIVERDATA': 'C:\\\\Windows\\\\System32\\\\Drivers\\\\DriverData',\n",
       " 'FPS_BROWSER_APP_PROFILE_STRING': 'Internet Explorer',\n",
       " 'FPS_BROWSER_USER_PROFILE_STRING': 'Default',\n",
       " 'HOMEDRIVE': 'C:',\n",
       " 'HOMEPATH': '\\\\Users\\\\ASCC',\n",
       " 'LOCALAPPDATA': 'C:\\\\Users\\\\ASCC\\\\AppData\\\\Local',\n",
       " 'LOGONSERVER': '\\\\\\\\DESKTOP-P0F5U0O',\n",
       " 'NUMBER_OF_PROCESSORS': '4',\n",
       " 'ONEDRIVE': 'C:\\\\Users\\\\ASCC\\\\OneDrive',\n",
       " 'OS': 'Windows_NT',\n",
       " 'PATH': 'C:\\\\Users\\\\ASCC\\\\anaconda3;C:\\\\Users\\\\ASCC\\\\anaconda3\\\\Library\\\\mingw-w64\\\\bin;C:\\\\Users\\\\ASCC\\\\anaconda3\\\\Library\\\\usr\\\\bin;C:\\\\Users\\\\ASCC\\\\anaconda3\\\\Library\\\\bin;C:\\\\Users\\\\ASCC\\\\anaconda3\\\\Scripts;C:\\\\Users\\\\ASCC\\\\anaconda3\\\\bin;C:\\\\Users\\\\ASCC\\\\anaconda3\\\\condabin;C:\\\\Users\\\\ASCC\\\\anaconda3;C:\\\\Users\\\\ASCC\\\\anaconda3\\\\Library\\\\mingw-w64\\\\bin;C:\\\\Users\\\\ASCC\\\\anaconda3\\\\Library\\\\usr\\\\bin;C:\\\\Users\\\\ASCC\\\\anaconda3\\\\Library\\\\bin;C:\\\\Users\\\\ASCC\\\\anaconda3\\\\Scripts;C:\\\\Windows\\\\system32;C:\\\\Windows;C:\\\\Windows\\\\System32\\\\Wbem;C:\\\\Windows\\\\System32\\\\WindowsPowerShell\\\\v1.0;C:\\\\Windows\\\\System32\\\\OpenSSH;C:\\\\Program Files\\\\Microsoft SQL Server\\\\130\\\\Tools\\\\Binn;C:\\\\Program Files\\\\Microsoft SQL Server\\\\Client SDK\\\\ODBC\\\\170\\\\Tools\\\\Binn;D:\\\\softwares\\\\Dev-Cpp\\\\mingw32\\\\bin;C:\\\\Program Files (x86)\\\\Microsoft SQL Server\\\\150\\\\Tools\\\\Binn;C:\\\\Program Files\\\\Microsoft SQL Server\\\\150\\\\Tools\\\\Binn;C:\\\\Program Files\\\\Microsoft SQL Server\\\\150\\\\DTS\\\\Binn;C:\\\\Program Files\\\\dotnet;C:\\\\Program Files (x86)\\\\Microsoft SQL Server\\\\150\\\\DTS\\\\Binn;C:\\\\Program Files\\\\Git\\\\cmd;C:\\\\Users\\\\ASCC\\\\AppData\\\\Local\\\\Microsoft\\\\WindowsApps;D:\\\\softwares\\\\Dev-Cpp\\\\mingw32\\\\bin;C:\\\\Users\\\\ASCC\\\\.dotnet\\\\tools',\n",
       " 'PATHEXT': '.COM;.EXE;.BAT;.CMD;.VBS;.VBE;.JS;.JSE;.WSF;.WSH;.MSC',\n",
       " 'PROCESSOR_ARCHITECTURE': 'AMD64',\n",
       " 'PROCESSOR_IDENTIFIER': 'Intel64 Family 6 Model 78 Stepping 3, GenuineIntel',\n",
       " 'PROCESSOR_LEVEL': '6',\n",
       " 'PROCESSOR_REVISION': '4e03',\n",
       " 'PROGRAMDATA': 'C:\\\\ProgramData',\n",
       " 'PROGRAMFILES': 'C:\\\\Program Files',\n",
       " 'PROGRAMFILES(X86)': 'C:\\\\Program Files (x86)',\n",
       " 'PROGRAMW6432': 'C:\\\\Program Files',\n",
       " 'PROMPT': '(base) $P$G',\n",
       " 'PSMODULEPATH': 'C:\\\\Program Files\\\\WindowsPowerShell\\\\Modules;C:\\\\Windows\\\\system32\\\\WindowsPowerShell\\\\v1.0\\\\Modules;C:\\\\Program Files (x86)\\\\Microsoft SQL Server\\\\150\\\\Tools\\\\PowerShell\\\\Modules\\\\',\n",
       " 'PUBLIC': 'C:\\\\Users\\\\Public',\n",
       " 'SESSIONNAME': 'Console',\n",
       " 'SYSTEMDRIVE': 'C:',\n",
       " 'SYSTEMROOT': 'C:\\\\Windows',\n",
       " 'TEMP': 'C:\\\\Users\\\\ASCC\\\\AppData\\\\Local\\\\Temp',\n",
       " 'TMP': 'C:\\\\Users\\\\ASCC\\\\AppData\\\\Local\\\\Temp',\n",
       " 'USERDOMAIN': 'DESKTOP-P0F5U0O',\n",
       " 'USERDOMAIN_ROAMINGPROFILE': 'DESKTOP-P0F5U0O',\n",
       " 'USERNAME': 'ASCC',\n",
       " 'USERPROFILE': 'C:\\\\Users\\\\ASCC',\n",
       " 'VBOX_MSI_INSTALL_PATH': 'C:\\\\Program Files\\\\Oracle\\\\VirtualBox\\\\',\n",
       " 'WINDIR': 'C:\\\\Windows',\n",
       " 'ZES_ENABLE_SYSMAN': '1',\n",
       " 'CONDA_PREFIX': 'C:\\\\Users\\\\ASCC\\\\anaconda3',\n",
       " 'CONDA_ROOT': 'C:\\\\Users\\\\ASCC\\\\anaconda3',\n",
       " 'PYDEVD_USE_FRAME_EVAL': 'NO',\n",
       " 'JPY_INTERRUPT_EVENT': '2740',\n",
       " 'IPY_INTERRUPT_EVENT': '2740',\n",
       " 'JPY_PARENT_PID': '2744',\n",
       " 'TERM': 'xterm-color',\n",
       " 'CLICOLOR': '1',\n",
       " 'PAGER': 'cat',\n",
       " 'GIT_PAGER': 'cat',\n",
       " 'MPLBACKEND': 'module://matplotlib_inline.backend_inline'}"
      ]
     },
     "execution_count": 83,
     "metadata": {},
     "output_type": "execute_result"
    }
   ],
   "source": [
    "%env"
   ]
  },
  {
   "cell_type": "code",
   "execution_count": 2,
   "id": "99f2ffb2",
   "metadata": {},
   "outputs": [
    {
     "name": "stdout",
     "output_type": "stream",
     "text": [
      "before sleep\n",
      "after sleep\n"
     ]
    }
   ],
   "source": [
    "#Time Module...\n",
    "import time\n",
    "print(\"before sleep\")\n",
    "time.sleep(4) #sleep for 4 secs than print next line\n",
    "print(\"after sleep\")"
   ]
  },
  {
   "cell_type": "code",
   "execution_count": 4,
   "id": "39174641",
   "metadata": {},
   "outputs": [
    {
     "name": "stdout",
     "output_type": "stream",
     "text": [
      "1673465909.2438087\n",
      "Thu Jan 12 00:38:29 2023\n",
      "Thu Jan  1 05:00:00 1970\n"
     ]
    }
   ],
   "source": [
    "#time method...\n",
    "secs = time.time()#this much secs passed since 1 jan 1970\n",
    "print(secs)\n",
    "dgtime = time.ctime(secs)#formatted current time\n",
    "print(dgtime)\n",
    "\n",
    "print(time.ctime(0))#epoc time \n"
   ]
  },
  {
   "cell_type": "code",
   "execution_count": 5,
   "id": "bcfae8c4",
   "metadata": {},
   "outputs": [
    {
     "name": "stdout",
     "output_type": "stream",
     "text": [
      "1\n",
      "9999\n"
     ]
    }
   ],
   "source": [
    "#DATETIEM PACKAGE\n",
    "import datetime\n",
    "print(datetime.MINYEAR)\n",
    "print(datetime.MAXYEAR)"
   ]
  },
  {
   "cell_type": "code",
   "execution_count": 8,
   "id": "b4439da0",
   "metadata": {},
   "outputs": [
    {
     "name": "stdout",
     "output_type": "stream",
     "text": [
      "2023-01-12 00:44:32.552337\n",
      "2023-01-12 00:44:32.553111\n",
      "2023\n",
      "1\n",
      "12\n",
      "0\n",
      "44\n",
      "32\n"
     ]
    }
   ],
   "source": [
    "#datetime module\n",
    "dto=datetime.datetime.today()\n",
    "print(dto) #current date time obj\n",
    "dto2=datetime.datetime.now()\n",
    "print(dto2)\n",
    "\n",
    "print(dto.year)\n",
    "print(dto.month)\n",
    "print(dto.day)\n",
    "print(dto.hour)\n",
    "print(dto.minute)\n",
    "print(dto.second)"
   ]
  },
  {
   "cell_type": "code",
   "execution_count": 11,
   "id": "c81f7747",
   "metadata": {},
   "outputs": [
    {
     "name": "stdout",
     "output_type": "stream",
     "text": [
      "2043-12-03 13:13:13\n"
     ]
    }
   ],
   "source": [
    "#\n",
    "do= datetime.datetime(2043,12,3,13, 13, 13)\n",
    "print(do)"
   ]
  },
  {
   "cell_type": "code",
   "execution_count": 14,
   "id": "a5cc37e4",
   "metadata": {},
   "outputs": [
    {
     "name": "stdout",
     "output_type": "stream",
     "text": [
      "                                  2023\n",
      "\n",
      "      January                   February                   March\n",
      "Mo Tu We Th Fr Sa Su      Mo Tu We Th Fr Sa Su      Mo Tu We Th Fr Sa Su\n",
      "                   1             1  2  3  4  5             1  2  3  4  5\n",
      " 2  3  4  5  6  7  8       6  7  8  9 10 11 12       6  7  8  9 10 11 12\n",
      " 9 10 11 12 13 14 15      13 14 15 16 17 18 19      13 14 15 16 17 18 19\n",
      "16 17 18 19 20 21 22      20 21 22 23 24 25 26      20 21 22 23 24 25 26\n",
      "23 24 25 26 27 28 29      27 28                     27 28 29 30 31\n",
      "30 31\n",
      "\n",
      "       April                      May                       June\n",
      "Mo Tu We Th Fr Sa Su      Mo Tu We Th Fr Sa Su      Mo Tu We Th Fr Sa Su\n",
      "                1  2       1  2  3  4  5  6  7                1  2  3  4\n",
      " 3  4  5  6  7  8  9       8  9 10 11 12 13 14       5  6  7  8  9 10 11\n",
      "10 11 12 13 14 15 16      15 16 17 18 19 20 21      12 13 14 15 16 17 18\n",
      "17 18 19 20 21 22 23      22 23 24 25 26 27 28      19 20 21 22 23 24 25\n",
      "24 25 26 27 28 29 30      29 30 31                  26 27 28 29 30\n",
      "\n",
      "        July                     August                  September\n",
      "Mo Tu We Th Fr Sa Su      Mo Tu We Th Fr Sa Su      Mo Tu We Th Fr Sa Su\n",
      "                1  2          1  2  3  4  5  6                   1  2  3\n",
      " 3  4  5  6  7  8  9       7  8  9 10 11 12 13       4  5  6  7  8  9 10\n",
      "10 11 12 13 14 15 16      14 15 16 17 18 19 20      11 12 13 14 15 16 17\n",
      "17 18 19 20 21 22 23      21 22 23 24 25 26 27      18 19 20 21 22 23 24\n",
      "24 25 26 27 28 29 30      28 29 30 31               25 26 27 28 29 30\n",
      "31\n",
      "\n",
      "      October                   November                  December\n",
      "Mo Tu We Th Fr Sa Su      Mo Tu We Th Fr Sa Su      Mo Tu We Th Fr Sa Su\n",
      "                   1             1  2  3  4  5                   1  2  3\n",
      " 2  3  4  5  6  7  8       6  7  8  9 10 11 12       4  5  6  7  8  9 10\n",
      " 9 10 11 12 13 14 15      13 14 15 16 17 18 19      11 12 13 14 15 16 17\n",
      "16 17 18 19 20 21 22      20 21 22 23 24 25 26      18 19 20 21 22 23 24\n",
      "23 24 25 26 27 28 29      27 28 29 30               25 26 27 28 29 30 31\n",
      "30 31\n",
      "\n"
     ]
    }
   ],
   "source": [
    "#Calender\n",
    "import calendar\n",
    "cal = calendar.calendar(2023)\n",
    "print(cal)"
   ]
  },
  {
   "cell_type": "code",
   "execution_count": 19,
   "id": "b6b6fd61",
   "metadata": {},
   "outputs": [
    {
     "name": "stdout",
     "output_type": "stream",
     "text": [
      "     April 2023\n",
      "Mo Tu We Th Fr Sa Su\n",
      "                1  2\n",
      " 3  4  5  6  7  8  9\n",
      "10 11 12 13 14 15 16\n",
      "17 18 19 20 21 22 23\n",
      "24 25 26 27 28 29 30\n",
      "\n",
      "leap year False\n",
      "leap year True\n"
     ]
    }
   ],
   "source": [
    "c=calendar.month(2023, 4)\n",
    "print(c)\n",
    "print(\"leap year\", calendar.isleap(2021))\n",
    "print(\"leap year\", calendar.isleap(2020))"
   ]
  },
  {
   "cell_type": "code",
   "execution_count": 2,
   "id": "db823d0e",
   "metadata": {},
   "outputs": [
    {
     "name": "stdout",
     "output_type": "stream",
     "text": [
      "C:\\Users\\ASCC\n",
      "['.bash_history', '.conda', '.condarc', '.config', '.continuum', '.dotnet', '.gitconfig', '.ipynb_checkpoints', '.ipython', '.jupyter', '.lesshst', '.nuget', '.templateengine', '.viminfo', '.VirtualBox', '2.10RepetitionStructures.ipynb', '2.11Function(part1).ipynb', '2.12AdvancedFunctions.ipynb', '2.13ExceptionHandling.ipynb', '2.14Built-InModule.ipynb', '2.1to2.3.ipynb', '2.4Strings.ipynb', '2.5List.ipynb', '2.6Tuple.ipynb', '2.7Sets.ipynb', '2.8Dict.ipynb', '2.9If..Else.ipynb', '3D Objects', 'anaconda3', 'AppData', 'Application Data', 'Contacts', 'Cookies', 'Desktop', 'Documents', 'Downloads', 'Favorites', 'hello-git', 'IntelGraphicsProfiles', 'Local Settings', 'Music', 'My Documents', 'mygit', 'NetHood', 'NTUSER.DAT', 'ntuser.dat.LOG1', 'ntuser.dat.LOG2', 'NTUSER.DAT{53b39e88-18c4-11ea-a811-000d3aa4692b}.TM.blf', 'NTUSER.DAT{53b39e88-18c4-11ea-a811-000d3aa4692b}.TMContainer00000000000000000001.regtrans-ms', 'NTUSER.DAT{53b39e88-18c4-11ea-a811-000d3aa4692b}.TMContainer00000000000000000002.regtrans-ms', 'ntuser.ini', 'Pictures', 'PrintHood', 'Recent', 'Saved Games', 'Searches', 'SendTo', 'source', 'Start Menu', 'Templates', 'Videos', 'VirtualBox VMs']\n"
     ]
    }
   ],
   "source": [
    "#OS Module...\n",
    "import os\n",
    "cwd = os.getcwd() #current working directory\n",
    "print(cwd)\n",
    "lcwd= os.listdir(cwd) #contents of cwd\n",
    "print(lcwd)"
   ]
  },
  {
   "cell_type": "code",
   "execution_count": 35,
   "id": "f1c57d59",
   "metadata": {},
   "outputs": [
    {
     "name": "stdout",
     "output_type": "stream",
     "text": [
      "current C:\\Users\\Public\n",
      "current C:\\Users\\Public\n",
      "['AccountPictures', 'Desktop', 'desktop.ini', 'Documents', 'Downloads', 'Libraries', 'Music', 'Pictures', 'Videos']\n"
     ]
    }
   ],
   "source": [
    "#os change diectory...\n",
    "print(\"current\",os.getcwd())\n",
    "os.chdir('/Users/Public')#change directory\n",
    "print(\"current\",os.getcwd())\n",
    "print(os.listdir(os.getcwd()))"
   ]
  },
  {
   "cell_type": "code",
   "execution_count": 12,
   "id": "cc20a180",
   "metadata": {},
   "outputs": [
    {
     "name": "stdout",
     "output_type": "stream",
     "text": [
      "current C:\\Users\\Public\n",
      "contents of ['AccountPictures', 'Desktop', 'desktop.ini', 'Documents', 'Downloads', 'Libraries', 'Music', 'newDir', 'Pictures', 'Videos']: \n",
      "contents of ['AccountPictures', 'Desktop', 'desktop.ini', 'Documents', 'Downloads', 'Libraries', 'Music', 'newDir', 'Pictures', 'Videos']: \n"
     ]
    }
   ],
   "source": [
    "#Make and remove directory\n",
    "a=os.getcwd()\n",
    "print(\"current\",a)\n",
    "print(\"contents of {}: \".format(os.listdir(a)))\n",
    "b=os.mkdir(\"newDir\")\n",
    "print(\"contents of {}: \".format(os.listdir(b)))"
   ]
  },
  {
   "cell_type": "code",
   "execution_count": 13,
   "id": "292461a0",
   "metadata": {},
   "outputs": [
    {
     "name": "stdout",
     "output_type": "stream",
     "text": [
      "contents of ['AccountPictures', 'Desktop', 'desktop.ini', 'Documents', 'Downloads', 'Libraries', 'Music', 'Pictures', 'Videos']: \n"
     ]
    }
   ],
   "source": [
    "#Remove directory\n",
    "c=os.rmdir(\"newDir\")\n",
    "print(\"contents of {}: \".format(os.listdir(c)))"
   ]
  },
  {
   "cell_type": "code",
   "execution_count": 34,
   "id": "01245450",
   "metadata": {},
   "outputs": [
    {
     "data": {
      "text/plain": [
       "1"
      ]
     },
     "execution_count": 34,
     "metadata": {},
     "output_type": "execute_result"
    }
   ],
   "source": [
    "#OS SYSTEM CALL...\n",
    "import os\n",
    "os.system('ls -l /Users/Public')"
   ]
  },
  {
   "cell_type": "code",
   "execution_count": 23,
   "id": "7a63f1de",
   "metadata": {},
   "outputs": [
    {
     "data": {
      "text/plain": [
       "0"
      ]
     },
     "execution_count": 23,
     "metadata": {},
     "output_type": "execute_result"
    }
   ],
   "source": [
    "os.system('echo \"this is the practise of Os Module.\"')"
   ]
  },
  {
   "cell_type": "code",
   "execution_count": 24,
   "id": "0d44073c",
   "metadata": {},
   "outputs": [
    {
     "data": {
      "text/plain": [
       "1"
      ]
     },
     "execution_count": 24,
     "metadata": {},
     "output_type": "execute_result"
    }
   ],
   "source": [
    "os.system('date')"
   ]
  },
  {
   "cell_type": "code",
   "execution_count": 43,
   "id": "14a828e6",
   "metadata": {},
   "outputs": [
    {
     "name": "stdout",
     "output_type": "stream",
     "text": [
      "File can be read only by owner.\n",
      "File can be read only by others.\n",
      "File can be WRITE only by others.\n",
      "File can be Execute only by others.\n"
     ]
    }
   ],
   "source": [
    "import sys, stat\n",
    "dir(os.chmod('/Users/ASCC/Desktop/abc.txt', stat.S_IREAD)) #FILE CAN only be read by owner...\n",
    "print(\"File can be read only by owner.\")\n",
    "dir(os.chmod('/Users/ASCC/Desktop/abc.txt', stat.S_IROTH)) #FILE CAN only be read by Others...\n",
    "print(\"File can be read only by others.\")\n",
    "dir(os.chmod('/Users/ASCC/Desktop/abc.txt', stat.S_IWOTH)) #FILE CAN only be read by Others...\n",
    "print(\"File can be WRITE only by others.\")\n",
    "dir(os.chmod('/Users/ASCC/Desktop/abc.txt', stat.S_IXOTH)) #FILE CAN only be read by Others...\n",
    "print(\"File can be Execute only by others.\")"
   ]
  },
  {
   "cell_type": "code",
   "execution_count": 47,
   "id": "dc756426",
   "metadata": {},
   "outputs": [
    {
     "name": "stdout",
     "output_type": "stream",
     "text": [
      "540\n"
     ]
    },
    {
     "ename": "AttributeError",
     "evalue": "module 'os' has no attribute 'geteuid'",
     "output_type": "error",
     "traceback": [
      "\u001b[1;31m---------------------------------------------------------------------------\u001b[0m",
      "\u001b[1;31mAttributeError\u001b[0m                            Traceback (most recent call last)",
      "\u001b[1;32m~\\AppData\\Local\\Temp\\ipykernel_540\\2985335438.py\u001b[0m in \u001b[0;36m<module>\u001b[1;34m\u001b[0m\n\u001b[0;32m      2\u001b[0m \u001b[0mp\u001b[0m\u001b[1;33m=\u001b[0m\u001b[0mos\u001b[0m\u001b[1;33m.\u001b[0m\u001b[0mgetpid\u001b[0m\u001b[1;33m(\u001b[0m\u001b[1;33m)\u001b[0m\u001b[1;33m\u001b[0m\u001b[1;33m\u001b[0m\u001b[0m\n\u001b[0;32m      3\u001b[0m \u001b[0mprint\u001b[0m\u001b[1;33m(\u001b[0m\u001b[0mp\u001b[0m\u001b[1;33m)\u001b[0m\u001b[1;33m\u001b[0m\u001b[1;33m\u001b[0m\u001b[0m\n\u001b[1;32m----> 4\u001b[1;33m \u001b[0mu\u001b[0m\u001b[1;33m=\u001b[0m\u001b[0mos\u001b[0m\u001b[1;33m.\u001b[0m\u001b[0mgeteuid\u001b[0m\u001b[1;33m(\u001b[0m\u001b[1;33m)\u001b[0m\u001b[1;33m\u001b[0m\u001b[1;33m\u001b[0m\u001b[0m\n\u001b[0m\u001b[0;32m      5\u001b[0m \u001b[0mprint\u001b[0m\u001b[1;33m(\u001b[0m\u001b[0mu\u001b[0m\u001b[1;33m)\u001b[0m\u001b[1;33m\u001b[0m\u001b[1;33m\u001b[0m\u001b[0m\n",
      "\u001b[1;31mAttributeError\u001b[0m: module 'os' has no attribute 'geteuid'"
     ]
    }
   ],
   "source": [
    "#UID PID\n",
    "p=os.getpid()\n",
    "print(p)\n",
    "u=os.geteuid()\n",
    "print(u)"
   ]
  },
  {
   "cell_type": "code",
   "execution_count": 50,
   "id": "d54d15d3",
   "metadata": {},
   "outputs": [
    {
     "name": "stdout",
     "output_type": "stream",
     "text": [
      "I am thread 1 with pid 540\n",
      "I am thread 2 with pid 540\n",
      "I am thread 2 with pid 540\n",
      "I am thread 1 with pid 540\n",
      "I am thread 2 with pid 540I am thread 1 with pid 540\n",
      "\n",
      "Done!\n"
     ]
    }
   ],
   "source": [
    "#THREADING....\n",
    "import threading\n",
    "import os\n",
    "import time\n",
    "def func1():\n",
    "    for i in range(3):\n",
    "        print(\"I am thread 1 with pid {}\".format(os.getpid()))\n",
    "        time.sleep(2)\n",
    "        \n",
    "def func2():\n",
    "    for i in range(3):\n",
    "        print(\"I am thread 2 with pid {}\".format(os.getpid()))\n",
    "        time.sleep(2)\n",
    "#Create Threads\n",
    "t1=threading.Thread(target=func1)\n",
    "t2=threading.Thread(target=func2)\n",
    "\n",
    "#Start Threads\n",
    "t1.start()\n",
    "t2.start()\n",
    "\n",
    "t1.join()#waiting for t1 to finish\n",
    "t2.join()#waiting for t2 to finish\n",
    "\n",
    "print(\"Done!\")"
   ]
  },
  {
   "cell_type": "code",
   "execution_count": 51,
   "id": "149d116f",
   "metadata": {},
   "outputs": [],
   "source": [
    "#URLLIB PACKAGE\n",
    "import ssl #secure socket layer\n",
    "ssl._create_default_https_context = ssl._create_unverified_context"
   ]
  },
  {
   "cell_type": "code",
   "execution_count": 53,
   "id": "5a9a25b5",
   "metadata": {},
   "outputs": [
    {
     "data": {
      "text/plain": [
       "('./movies.csv', <http.client.HTTPMessage at 0x21315981250>)"
      ]
     },
     "execution_count": 53,
     "metadata": {},
     "output_type": "execute_result"
    }
   ],
   "source": [
    "import urllib\n",
    "myurl='https://gist.githubusercontent.com/MaidaNadeem-FCIT/ece6f00f45ec49200d6ca86b5c67b31c/raw/067b3ae019923feb6f32ae4784582a895315f94b/FamilyTree.csv'\n",
    "urllib.request.urlretrieve(myurl, './movies.csv')"
   ]
  },
  {
   "cell_type": "code",
   "execution_count": 54,
   "id": "bc9c03a3",
   "metadata": {},
   "outputs": [
    {
     "data": {
      "text/plain": [
       "['AccountPictures',\n",
       " 'Desktop',\n",
       " 'desktop.ini',\n",
       " 'Documents',\n",
       " 'Downloads',\n",
       " 'Libraries',\n",
       " 'movies.csv',\n",
       " 'Music',\n",
       " 'Pictures',\n",
       " 'Videos']"
      ]
     },
     "execution_count": 54,
     "metadata": {},
     "output_type": "execute_result"
    }
   ],
   "source": [
    "os.listdir('./')"
   ]
  },
  {
   "cell_type": "code",
   "execution_count": 55,
   "id": "a3f804bf",
   "metadata": {},
   "outputs": [
    {
     "data": {
      "text/plain": [
       "1"
      ]
     },
     "execution_count": 55,
     "metadata": {},
     "output_type": "execute_result"
    }
   ],
   "source": [
    "os.system('cat \"./\"')"
   ]
  },
  {
   "cell_type": "code",
   "execution_count": null,
   "id": "fb1384d0",
   "metadata": {},
   "outputs": [],
   "source": []
  }
 ],
 "metadata": {
  "kernelspec": {
   "display_name": "Python 3 (ipykernel)",
   "language": "python",
   "name": "python3"
  },
  "language_info": {
   "codemirror_mode": {
    "name": "ipython",
    "version": 3
   },
   "file_extension": ".py",
   "mimetype": "text/x-python",
   "name": "python",
   "nbconvert_exporter": "python",
   "pygments_lexer": "ipython3",
   "version": "3.9.13"
  }
 },
 "nbformat": 4,
 "nbformat_minor": 5
}
