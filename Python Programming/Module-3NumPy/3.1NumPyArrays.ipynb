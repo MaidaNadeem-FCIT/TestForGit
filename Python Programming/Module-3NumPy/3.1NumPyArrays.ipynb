{
 "cells": [
  {
   "cell_type": "code",
   "execution_count": 1,
   "id": "710b22f3",
   "metadata": {},
   "outputs": [
    {
     "name": "stdout",
     "output_type": "stream",
     "text": [
      "Requirement already satisfied: numpy in c:\\users\\ascc\\anaconda3\\lib\\site-packages (1.21.5)\n",
      "Note: you may need to restart the kernel to use updated packages.\n"
     ]
    }
   ],
   "source": [
    "#INSTALLING NumpPy....\n",
    "pip install numpy"
   ]
  },
  {
   "cell_type": "code",
   "execution_count": 3,
   "id": "31b6fa0b",
   "metadata": {},
   "outputs": [
    {
     "data": {
      "text/plain": [
       "('1.21.5', ['C:\\\\Users\\\\ASCC\\\\anaconda3\\\\lib\\\\site-packages\\\\numpy'])"
      ]
     },
     "execution_count": 3,
     "metadata": {},
     "output_type": "execute_result"
    }
   ],
   "source": [
    "#Import NumPy with Alias and Check Version....\n",
    "import numpy as np\n",
    "np.__version__, np.__path__"
   ]
  },
  {
   "cell_type": "code",
   "execution_count": 4,
   "id": "cdc9b140",
   "metadata": {},
   "outputs": [
    {
     "data": {
      "text/plain": [
       "{'int': [numpy.int8, numpy.int16, numpy.int32, numpy.int64],\n",
       " 'uint': [numpy.uint8, numpy.uint16, numpy.uint32, numpy.uint64],\n",
       " 'float': [numpy.float16, numpy.float32, numpy.float64],\n",
       " 'complex': [numpy.complex64, numpy.complex128],\n",
       " 'others': [bool, object, bytes, str, numpy.void]}"
      ]
     },
     "execution_count": 4,
     "metadata": {},
     "output_type": "execute_result"
    }
   ],
   "source": [
    "#CREATING NumPy Arrays....\n",
    "\n",
    "np.sctypes #datatypes allowed in creating numpy arrays..."
   ]
  },
  {
   "cell_type": "code",
   "execution_count": 5,
   "id": "7005a177",
   "metadata": {},
   "outputs": [
    {
     "name": "stdout",
     "output_type": "stream",
     "text": [
      "[]\n",
      "<class 'numpy.ndarray'>\n"
     ]
    }
   ],
   "source": [
    "#Creating an Empty Array...\n",
    "arr=np.array([]) #empty seq is passed\n",
    "print(arr)\n",
    "print(type(arr))"
   ]
  },
  {
   "cell_type": "code",
   "execution_count": 6,
   "id": "9e8ec6de",
   "metadata": {},
   "outputs": [
    {
     "name": "stdout",
     "output_type": "stream",
     "text": [
      "10\n"
     ]
    }
   ],
   "source": [
    "#Creating a 0-D Array...\n",
    "arr=np.array(10) #has a scalar value and no axis at all\n",
    "print(arr) #only 1 element\n"
   ]
  },
  {
   "cell_type": "code",
   "execution_count": 9,
   "id": "d84a64e4",
   "metadata": {},
   "outputs": [
    {
     "name": "stdout",
     "output_type": "stream",
     "text": [
      "Array : [1 3 5 7 9]\n",
      "Array.ndim : 1\n",
      "Array.shape : (5,)\n",
      "Array.size : 5\n",
      "Array.dtype : uint16\n",
      "Array.itemsie : 2\n",
      "Array.nbytes : 10\n"
     ]
    }
   ],
   "source": [
    "#Creating 1-D Arrays....\n",
    "arr=np.array([1,3,5,7,9], dtype=np.uint16) #2 bytes integer\n",
    "print(\"Array :\", arr)\n",
    "print(\"Array.ndim :\", arr.ndim)#tells the dimension i.e. 1D, 2D, 3D, etc.\n",
    "print(\"Array.shape :\", arr.shape) #returns a tuple(,) with (#of cols,) in 1D\n",
    "print(\"Array.size :\", arr.size) #total no of elements\n",
    "print(\"Array.dtype :\", arr.dtype) #data type of elements\n",
    "print(\"Array.itemsize :\", arr.itemsize) #size in bytes of each elements\n",
    "print(\"Array.nbytes :\", arr.nbytes) #total size in bytes of all elements..\n"
   ]
  },
  {
   "cell_type": "code",
   "execution_count": 11,
   "id": "73346224",
   "metadata": {},
   "outputs": [
    {
     "name": "stdout",
     "output_type": "stream",
     "text": [
      "Array : [[ 1  2  3  4]\n",
      " [ 5  6  7  8]\n",
      " [ 9 10 11 12]\n",
      " [13 14 15 16]]\n",
      "Array.ndim : 2\n",
      "Array.shape : (4, 4)\n",
      "Array.size : 16\n",
      "Array.dtype : uint16\n",
      "Array.itemsize : 2\n",
      "Array.nbytes : 32\n"
     ]
    }
   ],
   "source": [
    "#CREATING 2D Arrays....\n",
    "list1=[\n",
    "    [1,2,3,4],\n",
    "    [5,6,7,8],\n",
    "    [9,10,11,12],\n",
    "    [13,14,15,16]\n",
    "]\n",
    "arr2d=np.array(list1, dtype=np.uint16)\n",
    "print(\"Array :\", arr2d)\n",
    "print(\"Array.ndim :\", arr2d.ndim)#tells the dimension i.e. 1D, 2D, 3D, etc.\n",
    "print(\"Array.shape :\", arr2d.shape) #returns a tuple(,) with (rows,cols) in 2D\n",
    "print(\"Array.size :\", arr2d.size) #total no of elements\n",
    "print(\"Array.dtype :\", arr2d.dtype) #data type of elements\n",
    "print(\"Array.itemsize :\", arr2d.itemsize) #size in bytes of each elements\n",
    "print(\"Array.nbytes :\", arr2d.nbytes) #total size in bytes of all elements..\n"
   ]
  },
  {
   "cell_type": "code",
   "execution_count": 14,
   "id": "b3a95bb9",
   "metadata": {},
   "outputs": [
    {
     "name": "stdout",
     "output_type": "stream",
     "text": [
      "Array :\n",
      " [[[ 1  2  3  4]\n",
      "  [ 4  3  2  1]]\n",
      "\n",
      " [[ 5  6  7  8]\n",
      "  [ 8  7  6  5]]\n",
      "\n",
      " [[ 9 10 11 12]\n",
      "  [12 11 10  9]]]\n",
      "Array.ndim : 3\n",
      "Array.shape : (3, 2, 4)\n",
      "Array.size : 24\n",
      "Array.dtype : uint32\n",
      "Array.itemsize : 4\n",
      "Array.nbytes : 96\n"
     ]
    }
   ],
   "source": [
    "#Creating 3-D Arrays...\n",
    "list2=[\n",
    "    [[1,2,3,4],[4,3,2,1]],\n",
    "    [[5,6,7,8],[8,7,6,5]],\n",
    "    [[9,10,11,12],[12,11,10,9]]\n",
    "]\n",
    "arr3d=np.array(list2, dtype=np.uint32)\n",
    "print(\"Array :\\n\", arr3d)\n",
    "print(\"Array.ndim :\", arr3d.ndim)#tells the dimension i.e. 1D, 2D, 3D, etc.\n",
    "print(\"Array.shape :\", arr3d.shape) #returns a tuple(,) with (levels,rows, cols) in 3D \n",
    "print(\"Array.size :\", arr3d.size) #total no of elements\n",
    "print(\"Array.dtype :\", arr3d.dtype) #data type of elements\n",
    "print(\"Array.itemsize :\", arr3d.itemsize) #size in bytes of each elements\n",
    "print(\"Array.nbytes :\", arr3d.nbytes) #total size in bytes of all elements.."
   ]
  },
  {
   "cell_type": "code",
   "execution_count": 23,
   "id": "caf6038d",
   "metadata": {},
   "outputs": [
    {
     "name": "stdout",
     "output_type": "stream",
     "text": [
      "1D Zero's: \n",
      " [0. 0. 0. 0. 0.]\n",
      "2D Zero's: \n",
      " [[0. 0. 0. 0.]\n",
      " [0. 0. 0. 0.]\n",
      " [0. 0. 0. 0.]]\n",
      "2D Zero's with uint8: \n",
      " [[0 0 0]\n",
      " [0 0 0]]\n"
     ]
    }
   ],
   "source": [
    "#Misellaneous Array Creation..\n",
    "#1. np.zeros(shape, dtype=float)\n",
    "marr=np.zeros(5)#default foat \n",
    "print(\"1D Zero's: \\n\",marr)\n",
    "marr2=np.zeros((3,4))\n",
    "print(\"2D Zero's: \\n\",marr2)\n",
    "marr3=np.zeros((2,3), dtype=np.uint16)\n",
    "print(\"2D Zero's with uint16: \\n\",marr3)"
   ]
  },
  {
   "cell_type": "code",
   "execution_count": 25,
   "id": "b3fa9be7",
   "metadata": {},
   "outputs": [
    {
     "name": "stdout",
     "output_type": "stream",
     "text": [
      "1D Ones's: \n",
      " [1. 1. 1.]\n",
      "2D Ones's: \n",
      " [[1. 1.]\n",
      " [1. 1.]\n",
      " [1. 1.]]\n",
      "2D Ones's with uint16: \n",
      " [[1 1 1]\n",
      " [1 1 1]]\n"
     ]
    }
   ],
   "source": [
    "#2 np.ones(shape, dtype=float)\n",
    "oarr=np.ones(3)#default foat \n",
    "print(\"1D Ones's: \\n\",oarr)\n",
    "oarr2=np.ones((3,2))\n",
    "print(\"2D Ones's: \\n\",oarr2)\n",
    "oarr3=np.ones((2,3), dtype=np.uint32)\n",
    "print(\"2D Ones's with uint16: \\n\",oarr3)"
   ]
  },
  {
   "cell_type": "code",
   "execution_count": 30,
   "id": "3cebd31e",
   "metadata": {},
   "outputs": [
    {
     "name": "stdout",
     "output_type": "stream",
     "text": [
      "Empty array \n",
      " [5.56274831e-309 1.11255178e-308 1.66882874e-308 2.22510569e-308]\n",
      "Empty array \n",
      " [[0.00000000e+000 0.00000000e+000 0.00000000e+000 0.00000000e+000]\n",
      " [0.00000000e+000 4.32801506e-321 1.37959740e-306 2.29175545e-312]]\n",
      "Empty array \n",
      " [[ 131073  262147  393221  524295]\n",
      " [ 655369  786443  917517 1048591]]\n"
     ]
    }
   ],
   "source": [
    " #3. numpy.empty(shape, dtype=float)\n",
    "earr=np.empty(4) #array with junk values\n",
    "print(\"Empty array \\n\", earr)\n",
    "earr2=np.empty((2,4)) #array with junk values\n",
    "print(\"Empty array \\n\", earr2)\n",
    "earr3=np.empty((2,4), dtype=np.uint32) #array with junk values\n",
    "print(\"Empty array \\n\", earr3)"
   ]
  },
  {
   "cell_type": "code",
   "execution_count": 33,
   "id": "8544e42c",
   "metadata": {},
   "outputs": [
    {
     "name": "stdout",
     "output_type": "stream",
     "text": [
      "Full arr :\n",
      " [33 33 33 33]\n",
      "Full arr :\n",
      " [[11 11 11 11]\n",
      " [11 11 11 11]]\n",
      "Full arr :\n",
      " [[3 3 3 3]\n",
      " [3 3 3 3]\n",
      " [3 3 3 3]]\n"
     ]
    }
   ],
   "source": [
    "#4. numpy.full(shape, fill_value, dtype-NONE)\n",
    "farr=np.full(4, 33) #fill the array of given size with the given fill_value\n",
    "print(\"Full arr :\\n\", farr)\n",
    "farr2=np.full((2,4), 11) \n",
    "print(\"Full arr :\\n\", farr2)\n",
    "farr3=np.full((3,4), 3, dtype=np.uint8)\n",
    "print(\"Full arr :\\n\", farr3)"
   ]
  },
  {
   "cell_type": "code",
   "execution_count": 37,
   "id": "c4c6916b",
   "metadata": {},
   "outputs": [
    {
     "name": "stdout",
     "output_type": "stream",
     "text": [
      "Matrix with main diagnol \n",
      " [[1. 0. 0. 0.]\n",
      " [0. 1. 0. 0.]\n",
      " [0. 0. 1. 0.]\n",
      " [0. 0. 0. 1.]]\n",
      "Matrix with upper diagnol \n",
      " [[0 1 0 0 0]\n",
      " [0 0 1 0 0]\n",
      " [0 0 0 1 0]\n",
      " [0 0 0 0 1]\n",
      " [0 0 0 0 0]]\n",
      "Matrix with lower diagnol \n",
      " [[0 0 0 0 0]\n",
      " [1 0 0 0 0]\n",
      " [0 1 0 0 0]\n",
      " [0 0 1 0 0]]\n"
     ]
    }
   ],
   "source": [
    "#5. np.eye(N, M=None, k=0, dtype=float)  ->default conditions\n",
    "darr=np.eye(4) #4*4 matrix wth main diagnol as \"1\"\n",
    "print(\"Matrix with main diagnol \\n\", darr) #N=4, M=4, k=0, Dtype=float\n",
    "\n",
    "darr2=np.eye(5,5,k=1, dtype=np.uint16)\n",
    "print(\"Matrix with upper diagnol \\n\", darr2) #N=3, M=4, k=1, dtype=uint16\n",
    "\n",
    "darr3=np.eye(4,5, k=-1, dtype=np.uint16)\n",
    "print(\"Matrix with lower diagnol \\n\", darr3) #N=4, M=5, k=-1, dtype=uint16"
   ]
  },
  {
   "cell_type": "code",
   "execution_count": 49,
   "id": "7f0a0c93",
   "metadata": {},
   "outputs": [
    {
     "name": "stdout",
     "output_type": "stream",
     "text": [
      "Array from string: \n",
      " [3.4 5.7 7.8 2.1]\n",
      "Array from string: \n",
      " [ 3 45 77 82  1]\n",
      "Array from string: \n",
      " [0]\n"
     ]
    },
    {
     "name": "stderr",
     "output_type": "stream",
     "text": [
      "C:\\Users\\ASCC\\AppData\\Local\\Temp\\ipykernel_7184\\1967138912.py:9: DeprecationWarning: string or file could not be read to its end due to unmatched data; this will raise a ValueError in the future.\n",
      "  sarr3=np.fromstring('0.4,0.7,0.8,0.1', sep=',', dtype=np.uint16)#seaparate on comma basis and uint16 so all values is 0\n"
     ]
    }
   ],
   "source": [
    "#6. fromstring(string, sep=' ', dtype=float)\n",
    "sarr=np.fromstring(\"3.4 5.7 7.8 2.1\", sep=' ')#create an array from string gven and separate elements on sep basis in float type \n",
    "print(\"Array from string: \\n\", sarr)\n",
    "\n",
    "sarr2=np.fromstring('3.45.77.82.1', sep='.', dtype=np.uint16)#elemenst separated at '.' of datatype=uint16\n",
    "print(\"Array from string: \\n\", sarr2)\n",
    "\n",
    "\n",
    "sarr3=np.fromstring('0.4,0.7,0.8,0.1', sep=',', dtype=np.uint16)#seaparate on comma basis and uint16 so all values is 0\n",
    "print(\"Array from string: \\n\", sarr3)"
   ]
  },
  {
   "cell_type": "code",
   "execution_count": 52,
   "id": "f42e033e",
   "metadata": {},
   "outputs": [
    {
     "name": "stdout",
     "output_type": "stream",
     "text": [
      "[0 1 2 3 4 5]\n",
      "[0. 1. 2. 3. 4. 5. 6. 7.]\n",
      "[4 5 6 7 8 9]\n",
      "[ 5  8 11 14]\n",
      "[ 5.   6.5  8.   9.5 11.  12.5 14. ]\n",
      "[10  8  6]\n",
      "[10.   8.5  7.   5.5]\n"
     ]
    }
   ],
   "source": [
    "#7. np.arange(start(inclusive), stop(not inclusive), step) ->all args can be int or float\n",
    "rarr=np.arange(6) #default data type in int64 of elements in range from 0 to 6(not inclusive)\n",
    "print(rarr)\n",
    "\n",
    "rarr1=np.arange(8, dtype=float)#data type is flaot of elements in range from 0 to 8(not inclusive)\n",
    "print(rarr1)\n",
    "\n",
    "rarr2=np.arange(4, 10)#range from 4 to 10(not inclusive) with step=1\n",
    "print(rarr2)\n",
    "\n",
    "rarr3=np.arange(5, 15, 3)#range from 5 to 15(not inclusive) with step=3\n",
    "print(rarr3)\n",
    "\n",
    "\n",
    "#FLOAT VALUE STEP\n",
    "rarr4=np.arange(5, 15, 1.5)#range from 5 to 15(not inclusive) with step=1.5 float\n",
    "print(rarr4)\n",
    "\n",
    "\n",
    "#NEGATIVE STEP VALUE-> but for that start>stop mustly\n",
    "rarr5=np.arange(10, 5, -2)#from 10 to 5(not inclusive) with step=-2 (-ve step)\n",
    "print(rarr5)\n",
    "\n",
    "rarr6=np.arange(10, 5, -1.5)#from 10 to 5(not inclusive) with step=-1.5 (float -ve step)\n",
    "print(rarr6)"
   ]
  },
  {
   "cell_type": "code",
   "execution_count": 58,
   "id": "cc7c04fc",
   "metadata": {},
   "outputs": [
    {
     "name": "stdout",
     "output_type": "stream",
     "text": [
      "[1.         1.04081633 1.08163265 1.12244898 1.16326531 1.20408163\n",
      " 1.24489796 1.28571429 1.32653061 1.36734694 1.40816327 1.44897959\n",
      " 1.48979592 1.53061224 1.57142857 1.6122449  1.65306122 1.69387755\n",
      " 1.73469388 1.7755102  1.81632653 1.85714286 1.89795918 1.93877551\n",
      " 1.97959184 2.02040816 2.06122449 2.10204082 2.14285714 2.18367347\n",
      " 2.2244898  2.26530612 2.30612245 2.34693878 2.3877551  2.42857143\n",
      " 2.46938776 2.51020408 2.55102041 2.59183673 2.63265306 2.67346939\n",
      " 2.71428571 2.75510204 2.79591837 2.83673469 2.87755102 2.91836735\n",
      " 2.95918367 3.        ]\n",
      "[3.  4.5 6. ]\n",
      "[3.         3.33333333 3.66666667 4.         4.33333333 4.66666667\n",
      " 5.         5.33333333 5.66666667 6.        ]\n",
      "[-2.  -2.6 -3.2 -3.8 -4.4 -5.  -5.6 -6.2 -6.8 -7.4 -8. ]\n"
     ]
    }
   ],
   "source": [
    "#8.  linspace(start(incl), stop(incl), num=50)->return an arary of 50 equally spaced elements from strat->stop(both inclusive)\n",
    "\n",
    "larr=np.linspace(1,3)#50 equally spaced elements from 1 to 3(incl)\n",
    "print(larr)\n",
    "\n",
    "larr2=np.linspace(3, 6, 3)#3 equally spaced elements from 3 to 6(incl)\n",
    "print(larr2)\n",
    "\n",
    "larr3=np.linspace(3, 6, 10)#10 equally spaced elements from 3 to 6(incl)\n",
    "print(larr3)\n",
    "\n",
    "#Negative start/stop values\n",
    "larr3=np.linspace(-2, -8, 11)#11 equally spaced elements from -2 to 6-8(incl)\n",
    "print(larr3)"
   ]
  },
  {
   "cell_type": "code",
   "execution_count": 61,
   "id": "c4752595",
   "metadata": {},
   "outputs": [
    {
     "name": "stdout",
     "output_type": "stream",
     "text": [
      "0.06041594319481902\n",
      "[0.15759252 0.35373089 0.11573605 0.49296156 0.92357952]\n",
      "[5.88256839 2.97813747 2.59216425 5.72082388]\n",
      "[[ 9.23387546  7.10709519 13.97433619]\n",
      " [10.11595825 10.7229232   3.43611391]]\n",
      "[[[0.97058937 0.635233   0.98587061]\n",
      "  [0.75061017 0.30121169 0.50014482]\n",
      "  [0.70889618 0.70921927 0.05742831]\n",
      "  [0.28695942 0.97544653 0.06594978]]\n",
      "\n",
      " [[0.24641675 0.93062289 0.24435147]\n",
      "  [0.38646127 0.67619908 0.55071204]\n",
      "  [0.76572149 0.53497501 0.61451484]\n",
      "  [0.75168272 0.69978217 0.99265375]]]\n"
     ]
    }
   ],
   "source": [
    "#9. random.rand() #array of floats from \"0-1\"\n",
    "import random\n",
    "print(np.random.rand()) #single scalar if no arg is passed from(0-1)\n",
    "print(np.random.rand(5)) #array for #of value=arg passed from (0-1)\n",
    "print(np.random.rand(4)*10) #array for #of value=arg passed from (0-10)\n",
    "print(np.random.rand(2,3)*15) #2d array row=1ard cols=2arag from(0-15)\n",
    "print(np.random.rand(2,4,3)) #3d array of levels=1st arg, rows=2nd arg, cols= 3rd arg from (0-1)\n"
   ]
  },
  {
   "cell_type": "code",
   "execution_count": 78,
   "id": "b3e318c8",
   "metadata": {},
   "outputs": [
    {
     "name": "stdout",
     "output_type": "stream",
     "text": [
      "0\n",
      "5\n",
      "5\n",
      "[4 5 4 5 3]\n",
      "[[2 3]\n",
      " [3 4]]\n",
      "[[[ 0  7]\n",
      "  [ 5 -1]\n",
      "  [ 7  7]]\n",
      "\n",
      " [[ 7 -1]\n",
      "  [ 1  4]\n",
      "  [ 0 -1]]]\n"
     ]
    }
   ],
   "source": [
    "#10. random.randint(low , high=None, size) low>high\n",
    "print(np.random.randint(2)) #random int from 0-2(2 exclusive)\n",
    "print(np.random.randint(2, 6)) #random int from 2-6(6 exclusive)\n",
    "print(np.random.randint(-3, 6)) #random int from 3 to 6(6 exclusive)\n",
    "print(np.random.randint(2, 6, 5)) #1d-array of 5 elements having random ints from 2-6(6 exclusive) \n",
    "print(np.random.randint(2, 6, (2,2))) #2d-array of 2*2 elements having random ints from 2-6(6 exclusive)\n",
    "print(np.random.randint(-2, 8, (2,3,2))) #2d-array of 2 levels of 3*2 elements having random ints from -2to 8(6 exclusive)"
   ]
  },
  {
   "cell_type": "code",
   "execution_count": 80,
   "id": "d19e7f8c",
   "metadata": {},
   "outputs": [
    {
     "name": "stdout",
     "output_type": "stream",
     "text": [
      "[[1 2 3]\n",
      " [4 5 6]]\n",
      "[[0 0 0]\n",
      " [0 0 0]]\n"
     ]
    }
   ],
   "source": [
    "#11. zeros-like(arr) \n",
    "l2= [[1,2,3], [4,5,6]]\n",
    "l2arr=np.array(l2)\n",
    "print(l2arr)\n",
    "\n",
    "zarr=np.zeros_like(l2arr)\n",
    "print(zarr)"
   ]
  },
  {
   "cell_type": "code",
   "execution_count": 82,
   "id": "0905547e",
   "metadata": {},
   "outputs": [
    {
     "name": "stdout",
     "output_type": "stream",
     "text": [
      "[0 1 2 3 4 5 6 7 8 9]\n",
      "[0 0 0 0 0 0 0 0 0 0]\n"
     ]
    }
   ],
   "source": [
    "a3=np.arange(10)\n",
    "print(a3)\n",
    "print(np.zeros_like(a3))"
   ]
  },
  {
   "cell_type": "code",
   "execution_count": null,
   "id": "5a68c060",
   "metadata": {},
   "outputs": [],
   "source": []
  },
  {
   "cell_type": "code",
   "execution_count": null,
   "id": "d3ce9aab",
   "metadata": {},
   "outputs": [],
   "source": []
  }
 ],
 "metadata": {
  "kernelspec": {
   "display_name": "Python 3 (ipykernel)",
   "language": "python",
   "name": "python3"
  },
  "language_info": {
   "codemirror_mode": {
    "name": "ipython",
    "version": 3
   },
   "file_extension": ".py",
   "mimetype": "text/x-python",
   "name": "python",
   "nbconvert_exporter": "python",
   "pygments_lexer": "ipython3",
   "version": "3.9.13"
  }
 },
 "nbformat": 4,
 "nbformat_minor": 5
}
