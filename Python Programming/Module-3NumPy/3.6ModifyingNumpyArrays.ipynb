{
 "cells": [
  {
   "cell_type": "code",
   "execution_count": 1,
   "id": "455e9eae",
   "metadata": {},
   "outputs": [],
   "source": [
    "#MODIFYING NUMPY ARRAYS....\n",
    "import numpy as np"
   ]
  },
  {
   "cell_type": "code",
   "execution_count": 2,
   "id": "922dda98",
   "metadata": {},
   "outputs": [
    {
     "name": "stdout",
     "output_type": "stream",
     "text": [
      "Original array:  [33 27 57 94 49 27 35  4 84 18]\n",
      "Updated array:  [33 27 57 94 99 27 35  4 55 18]\n"
     ]
    }
   ],
   "source": [
    "#1 UPDATE EXISTING ARRAYS....\n",
    "#1D ....\n",
    "a1=np.random.randint(1,100,10)\n",
    "print(\"Original array: \", a1)\n",
    "\n",
    "#update...\n",
    "a1[4]=99\n",
    "a1[-2]=55\n",
    "\n",
    "print(\"Updated array: \", a1)"
   ]
  },
  {
   "cell_type": "code",
   "execution_count": 5,
   "id": "b24f307d",
   "metadata": {},
   "outputs": [
    {
     "name": "stdout",
     "output_type": "stream",
     "text": [
      "Original array: \n",
      " [[78 77 82]\n",
      " [70 87 89]\n",
      " [80 80 97]\n",
      " [53 77 59]]\n",
      "Updated array: \n",
      " [[ 78  77  82]\n",
      " [ 70  87  89]\n",
      " [ 80 555  97]\n",
      " [ 53 999  59]]\n"
     ]
    }
   ],
   "source": [
    "#2D ....\n",
    "a2=np.random.randint(50,99,(4,3))\n",
    "print(\"Original array: \\n\", a2)\n",
    "\n",
    "#update...\n",
    "a2[-1,-2]=999\n",
    "a2[-2,1]=555\n",
    "\n",
    "print(\"Updated array: \\n\", a2)"
   ]
  },
  {
   "cell_type": "code",
   "execution_count": 7,
   "id": "12f22c7f",
   "metadata": {},
   "outputs": [
    {
     "name": "stdout",
     "output_type": "stream",
     "text": [
      "Original array: \n",
      " [[[ 9 32  6]\n",
      "  [22 36  7]\n",
      "  [13 31  7]]\n",
      "\n",
      " [[ 1 37 32]\n",
      "  [21 48 45]\n",
      "  [ 2 47 31]]]\n",
      "Updated array: \n",
      " [[[  9  32   6]\n",
      "  [ 22  36   7]\n",
      "  [ 13  31 555]]\n",
      "\n",
      " [[  1  37  32]\n",
      "  [999  48  45]\n",
      "  [  2  47  31]]]\n"
     ]
    }
   ],
   "source": [
    "#3D ....\n",
    "a3=np.random.randint(1,50,(2,3,3))\n",
    "print(\"Original array: \\n\", a3)\n",
    "\n",
    "#update...\n",
    "a3[-1,-2,-3]=999\n",
    "a3[0,2,2]=555\n",
    "\n",
    "print(\"Updated array: \\n\", a3)"
   ]
  },
  {
   "cell_type": "code",
   "execution_count": 12,
   "id": "a82e3f52",
   "metadata": {},
   "outputs": [
    {
     "name": "stdout",
     "output_type": "stream",
     "text": [
      "Old array:  [33 27 57 94 99 27 35  4 55 18]\n",
      "After Append array:  [33 27 57 94 99 27 35  4 55 18 12 43 21]\n",
      "2362031091760 2362069657712\n"
     ]
    }
   ],
   "source": [
    "#1 APPEND EXISTING ARRAYS....\n",
    "\n",
    "#np.append(arr, values, axis) ->axis not given then flattens arr and values and add at end.\n",
    "#1D ....\n",
    "print(\"Old array: \", a1)\n",
    "arr2=np.append(a1,[12, 43,21])\n",
    "print(\"1D After Append array: \", arr2)\n",
    "\n",
    "#SHALLOW COPY...\n",
    "print(id(a1),id(arr2)) #different returns a new arrays with appended values"
   ]
  },
  {
   "cell_type": "code",
   "execution_count": 25,
   "id": "6899e078",
   "metadata": {},
   "outputs": [
    {
     "name": "stdout",
     "output_type": "stream",
     "text": [
      "Old array: \n",
      " [[ 78  77  82]\n",
      " [ 70  87  89]\n",
      " [ 80 555  97]\n",
      " [ 53 999  59]]\n",
      "2D After Row Append array:\n",
      "  [[ 78  77  82]\n",
      " [ 70  87  89]\n",
      " [ 80 555  97]\n",
      " [ 53 999  59]\n",
      " [ 12  43  21]]\n",
      "2D After Col Append array:\n",
      "  [[ 78  77  82  12]\n",
      " [ 70  87  89  43]\n",
      " [ 80 555  97  21]\n",
      " [ 53 999  59  55]\n",
      " [ 12  43  21  66]]\n"
     ]
    }
   ],
   "source": [
    "#2D ....\n",
    "print(\"Old array: \\n\", a2)\n",
    "#append new row at the end of rows aix=0\n",
    "arr1=np.append(a2,[[12, 43,21]], axis=0)  \n",
    "print(\"2D After Row Append array:\\n \", arr1)\n",
    "\n",
    "#append new col at the end of cols axis=1\n",
    "arr=np.append(arr1,[[12],[43],[21],[55],[66]], axis=1)  \n",
    "print(\"2D After Col Append array:\\n \", arr)"
   ]
  },
  {
   "cell_type": "code",
   "execution_count": 20,
   "id": "1b5973e2",
   "metadata": {},
   "outputs": [
    {
     "name": "stdout",
     "output_type": "stream",
     "text": [
      "2D After Append array:\n",
      "  [ 78  77  82  12  70  87  89  43  80 555  97  21  53 999  59  55  12  43\n",
      "  21  66  12  43  21  55  66]\n"
     ]
    }
   ],
   "source": [
    "#PROOF OF CENCEPT (no axis given flatten the array and values)\n",
    "ar=np.append(arr,[[12],[43],[21],[55],[66]])  \n",
    "print(\"2D After Append array:\\n \", ar)"
   ]
  },
  {
   "cell_type": "code",
   "execution_count": 27,
   "id": "ad940d1c",
   "metadata": {},
   "outputs": [
    {
     "name": "stdout",
     "output_type": "stream",
     "text": [
      "Original array: \n",
      " [[[  9  32   6]\n",
      "  [ 22  36   7]\n",
      "  [ 13  31 555]]\n",
      "\n",
      " [[  1  37  32]\n",
      "  [999  48  45]\n",
      "  [  2  47  31]]]\n",
      "After axis=0 append array: \n",
      " [[[  9  32   6]\n",
      "  [ 22  36   7]\n",
      "  [ 13  31 555]]\n",
      "\n",
      " [[  1  37  32]\n",
      "  [999  48  45]\n",
      "  [  2  47  31]]\n",
      "\n",
      " [[  0   1   2]\n",
      "  [  3   4   5]\n",
      "  [  6   7   8]]]\n"
     ]
    }
   ],
   "source": [
    "#3D ....\n",
    "print(\"Original array: \\n\", a3)\n",
    "\n",
    "#APPENDING NEW LEVEL\n",
    "arr3=np.append(a3, [[[0,1,2],[3,4,5],[6,7,8]]], axis=0)\n",
    "print(\"After axis=0 append array: \\n\", arr3)"
   ]
  },
  {
   "cell_type": "code",
   "execution_count": 37,
   "id": "060bfc20",
   "metadata": {},
   "outputs": [
    {
     "name": "stdout",
     "output_type": "stream",
     "text": [
      "After axis=1 append array: \n",
      " [[[  9  32   6]\n",
      "  [ 22  36   7]\n",
      "  [ 13  31 555]\n",
      "  [ 88  77  22]]\n",
      "\n",
      " [[  1  37  32]\n",
      "  [999  48  45]\n",
      "  [  2  47  31]\n",
      "  [ 88  77  66]]\n",
      "\n",
      " [[  0   1   2]\n",
      "  [  3   4   5]\n",
      "  [  6   7   8]\n",
      "  [ 88  77  66]]]\n"
     ]
    }
   ],
   "source": [
    "#APPENDING NEW ROW\n",
    "arr4=np.append(arr3,[[[88,77,22]],[[88,77,66]],[[88,77,66]]], axis=1)\n",
    "print(\"After axis=1 append array: \\n\", arr4)"
   ]
  },
  {
   "cell_type": "code",
   "execution_count": 38,
   "id": "4daba293",
   "metadata": {},
   "outputs": [
    {
     "name": "stdout",
     "output_type": "stream",
     "text": [
      "After axis=2 append array: \n",
      " [[[  9  32   6  11]\n",
      "  [ 22  36   7  33]\n",
      "  [ 13  31 555  22]\n",
      "  [ 88  77  22  44]]\n",
      "\n",
      " [[  1  37  32  11]\n",
      "  [999  48  45  33]\n",
      "  [  2  47  31  22]\n",
      "  [ 88  77  66  44]]\n",
      "\n",
      " [[  0   1   2  11]\n",
      "  [  3   4   5  33]\n",
      "  [  6   7   8  22]\n",
      "  [ 88  77  66  44]]]\n"
     ]
    }
   ],
   "source": [
    "#APPENDING NEW COL\n",
    "arr5=np.append(arr4,[[[11],[33],[22],[44]],[[11],[33],[22],[44]],[[11],[33],[22],[44]]], axis=2)\n",
    "print(\"After axis=2 append array: \\n\", arr5)"
   ]
  },
  {
   "cell_type": "code",
   "execution_count": 40,
   "id": "0c5bd038",
   "metadata": {},
   "outputs": [
    {
     "name": "stdout",
     "output_type": "stream",
     "text": [
      "Before Insert:\n",
      "  [ 78  77  82  12  70  87  89  43  80 555  97  21  53 999  59  55  12  43\n",
      "  21  66  12  43  21  55  66]\n",
      "After 1D Insert at -5:\n",
      "  [  78   77   82   12   70   87   89   43   80  555   97   21   53  999\n",
      "   59   55   12   43   21   66 1000   12   43   21   55   66]\n"
     ]
    }
   ],
   "source": [
    "#3. INSERT IN ARRAYS...\n",
    "#1D np.insert(arr, index, values)\n",
    "\n",
    "print(\"Before Insert:\\n \", ar)\n",
    "ar1=np.insert(ar, -5, 1000)\n",
    "print(\"After 1D Insert at -5:\\n \", ar1)"
   ]
  },
  {
   "cell_type": "code",
   "execution_count": 48,
   "id": "85e4ccbf",
   "metadata": {},
   "outputs": [
    {
     "name": "stdout",
     "output_type": "stream",
     "text": [
      "Old array: \n",
      " [[ 78  77  82]\n",
      " [ 70  87  89]\n",
      " [ 80 555  97]\n",
      " [ 53 999  59]]\n",
      "After 2D Insert at axis=0:\n",
      "  [[ 78  77  82]\n",
      " [ 70  87  89]\n",
      " [  0   1   2]\n",
      " [ 80 555  97]\n",
      " [ 53 999  59]]\n",
      "After 2D Insert at axis=1:\n",
      "  [[ 78   0  77  82]\n",
      " [ 70   1  87  89]\n",
      " [  0   2   1   2]\n",
      " [ 80   3 555  97]\n",
      " [ 53   4 999  59]]\n"
     ]
    }
   ],
   "source": [
    "#2D np.insert(arr, index, values, axis=None)\n",
    "print(\"Old array: \\n\", a2)\n",
    "ar2=np.insert(a2, -2, [0,1,2], axis=0) #insert after the specified index here after -2 at -3\n",
    "print(\"After 2D Insert at axis=0:\\n \", ar2)\n",
    "\n",
    "ar3=np.insert(ar2, -2, [0,1,2,3,4], axis=1) #insert after the specified index here after -2 at -3\n",
    "print(\"After 2D Insert at axis=1:\\n \", ar3)"
   ]
  },
  {
   "cell_type": "code",
   "execution_count": 65,
   "id": "89a92213",
   "metadata": {},
   "outputs": [
    {
     "name": "stdout",
     "output_type": "stream",
     "text": [
      "Old array: \n",
      " [[ 78  77  82]\n",
      " [ 70  87  89]\n",
      " [ 80 555  97]\n",
      " [ 53 999  59]]\n",
      "After 2D Insert at axis=0:\n",
      "  [[ 78  77  82]\n",
      " [ 70  87  89]\n",
      " [ 55  55  55]\n",
      " [ 80 555  97]\n",
      " [ 53 999  59]]\n",
      "After 2D Insert at axis=1:\n",
      "  [[ 78  77  66  82]\n",
      " [ 70  87  66  89]\n",
      " [ 55  55  66  55]\n",
      " [ 80 555  66  97]\n",
      " [ 53 999  66  59]]\n"
     ]
    }
   ],
   "source": [
    "#2D BROADCAST SINGLE VALUE ON AXIS...\n",
    "print(\"Old array: \\n\", a2)\n",
    "aar2=np.insert(a2, 2, 55, axis=0) \n",
    "print(\"After 2D Insert at axis=0:\\n \", aar2)\n",
    "\n",
    "aar3=np.insert(aar2, 2, 66, axis=1) \n",
    "print(\"After 2D Insert at axis=1:\\n \", aar3)"
   ]
  },
  {
   "cell_type": "code",
   "execution_count": 50,
   "id": "5f183edd",
   "metadata": {},
   "outputs": [
    {
     "name": "stdout",
     "output_type": "stream",
     "text": [
      "Original array: \n",
      " [[[  9  32   6]\n",
      "  [ 22  36   7]\n",
      "  [ 13  31 555]]\n",
      "\n",
      " [[  1  37  32]\n",
      "  [999  48  45]\n",
      "  [  2  47  31]]]\n",
      "Insert on 3d at axis=0 array: \n",
      " [[[  9  32   6]\n",
      "  [ 22  36   7]\n",
      "  [ 13  31 555]]\n",
      "\n",
      " [[  0   1   2]\n",
      "  [  3   4   5]\n",
      "  [  6   7   8]]\n",
      "\n",
      " [[  1  37  32]\n",
      "  [999  48  45]\n",
      "  [  2  47  31]]]\n"
     ]
    }
   ],
   "source": [
    "#3D np.insert(arr, index, values)\n",
    "#LEVEL INSERT\n",
    "print(\"Original array: \\n\", a3)\n",
    "ar4=np.insert(a3, -1,[[[0,1,2],[3,4,5],[6,7,8]]] ,axis=0) #after -1 level added this new level\n",
    "print(\"Insert on 3d at axis=0 array: \\n\", ar4)"
   ]
  },
  {
   "cell_type": "code",
   "execution_count": 55,
   "id": "5ce86e20",
   "metadata": {},
   "outputs": [
    {
     "name": "stdout",
     "output_type": "stream",
     "text": [
      "Old array: \n",
      " [[[  9  32   6]\n",
      "  [ 22  36   7]\n",
      "  [ 13  31 555]]\n",
      "\n",
      " [[  0   1   2]\n",
      "  [  3   4   5]\n",
      "  [  6   7   8]]\n",
      "\n",
      " [[  1  37  32]\n",
      "  [999  48  45]\n",
      "  [  2  47  31]]]\n",
      "Insert on 3d at axis=1 array: \n",
      " [[[  9  32   6]\n",
      "  [ 17  18  19]\n",
      "  [ 22  36   7]\n",
      "  [ 13  31 555]]\n",
      "\n",
      " [[  0   1   2]\n",
      "  [ 17  18  19]\n",
      "  [  3   4   5]\n",
      "  [  6   7   8]]\n",
      "\n",
      " [[  1  37  32]\n",
      "  [ 17  18  19]\n",
      "  [999  48  45]\n",
      "  [  2  47  31]]]\n",
      "Insert on 3d at axis=1 array: \n",
      " [[[  9  32   6]\n",
      "  [ 11  12  13]\n",
      "  [ 22  36   7]\n",
      "  [ 13  31 555]]\n",
      "\n",
      " [[  0   1   2]\n",
      "  [ 14  15  16]\n",
      "  [  3   4   5]\n",
      "  [  6   7   8]]\n",
      "\n",
      " [[  1  37  32]\n",
      "  [ 17  18  19]\n",
      "  [999  48  45]\n",
      "  [  2  47  31]]]\n"
     ]
    }
   ],
   "source": [
    "#ROW INSERT\n",
    "print(\"Old array: \\n\", ar4)\n",
    "ar6=np.insert(ar4, 1, [[11,12,13],[14,15,16],[17,18,19]],axis=1) #different row for all diff levels\n",
    "ar5=np.insert(ar4, 1, [17,18,19],axis=1)#single row added in all levels\n",
    "print(\"Insert on 3d at axis=1 array: \\n\", ar5)\n",
    "print(\"Insert on 3d at axis=1 array: \\n\", ar6)"
   ]
  },
  {
   "cell_type": "code",
   "execution_count": 57,
   "id": "3bcfbc26",
   "metadata": {},
   "outputs": [
    {
     "name": "stdout",
     "output_type": "stream",
     "text": [
      "Insert on 3d at axis=2 single col array: \n",
      " [[[  9  32  22   6]\n",
      "  [ 17  18  33  19]\n",
      "  [ 22  36  44   7]\n",
      "  [ 13  31  55 555]]\n",
      "\n",
      " [[  0   1  22   2]\n",
      "  [ 17  18  33  19]\n",
      "  [  3   4  44   5]\n",
      "  [  6   7  55   8]]\n",
      "\n",
      " [[  1  37  22  32]\n",
      "  [ 17  18  33  19]\n",
      "  [999  48  44  45]\n",
      "  [  2  47  55  31]]]\n",
      "Insert on 3d at axis=2 diff col array: \n",
      " [[[  9  32  99   6]\n",
      "  [ 11  12  88  13]\n",
      "  [ 22  36  77   7]\n",
      "  [ 13  31  66 555]]\n",
      "\n",
      " [[  0   1  55   2]\n",
      "  [ 14  15  44  16]\n",
      "  [  3   4  33   5]\n",
      "  [  6   7  22   8]]\n",
      "\n",
      " [[  1  37  33  32]\n",
      "  [ 17  18  22  19]\n",
      "  [999  48  11  45]\n",
      "  [  2  47  10  31]]]\n"
     ]
    }
   ],
   "source": [
    "#COL INSERT\n",
    "ar7=np.insert(ar5, 2, [22,33,44,55],axis=2) \n",
    "ar8=np.insert(ar6, 2, [[99,88,77,66],[55,44,33,22],[33,22,11,10]], axis=2)\n",
    "print(\"Insert on 3d at axis=2 single col array: \\n\", ar7)\n",
    "print(\"Insert on 3d at axis=2 diff col array: \\n\", ar8)"
   ]
  },
  {
   "cell_type": "code",
   "execution_count": 66,
   "id": "3c8ae3c2",
   "metadata": {},
   "outputs": [
    {
     "name": "stdout",
     "output_type": "stream",
     "text": [
      "Original:\n",
      "  [  78   77   82   12   70   87   89   43   80  555   97   21   53  999\n",
      "   59   55   12   43   21   66 1000   12   43   21   55   66]\n",
      "After deleting from -7:\n",
      "  [  78   77   82   12   70   87   89   43   80  555   97   21   53  999\n",
      "   59   55   12   43   21 1000   12   43   21   55   66]\n",
      "After deleting from -7:\n",
      "  [  78   77   12   70   87   43   80  555   97   21   53  999   59   55\n",
      "   12   43   21 1000   12   43   55   66]\n"
     ]
    }
   ],
   "source": [
    "#DELETE ARRAYS...\n",
    "#1D  delete(arr, index)\n",
    "print(\"Original:\\n \", ar1)\n",
    "d1=np.delete(ar1, -7) #SINGLE VALUE \n",
    "print(\"After deleting from -7:\\n \", d1) #66 is deleted\n",
    "\n",
    "dd1=np.delete(d1, [6,-3, 2]) #MULTIPLE VALUES BY INDEXES... \n",
    "print(\"After deleting from [6, -3, 2]:\\n \", dd1) #66 is deleted"
   ]
  },
  {
   "cell_type": "code",
   "execution_count": 62,
   "id": "ca97febd",
   "metadata": {},
   "outputs": [
    {
     "name": "stdout",
     "output_type": "stream",
     "text": [
      "Old array: \n",
      " [[ 78  77  82]\n",
      " [ 70  87  89]\n",
      " [ 80 555  97]\n",
      " [ 53 999  59]]\n",
      "After deleting row at 2:\n",
      "  [[ 78  77  82]\n",
      " [ 70  87  89]\n",
      " [ 53 999  59]]\n",
      "After deleting col at 2:\n",
      "  [[ 78  77]\n",
      " [ 70  87]\n",
      " [ 80 555]\n",
      " [ 53 999]]\n"
     ]
    }
   ],
   "source": [
    "#2D  delete(arr, index, axis=None)\n",
    "print(\"Old array: \\n\", a2)\n",
    "\n",
    "#Row at index 2 will be deleted\n",
    "d2=np.delete(a2,2,axis=0) \n",
    "print(\"After deleting row at 2:\\n \", d2)\n",
    "\n",
    "\n",
    "#Col at index 2 will be deleted\n",
    "d3=np.delete(a2,2,axis=1) \n",
    "print(\"After deleting col at 2:\\n \", d3)"
   ]
  },
  {
   "cell_type": "code",
   "execution_count": 69,
   "id": "edfe4a9f",
   "metadata": {},
   "outputs": [
    {
     "name": "stdout",
     "output_type": "stream",
     "text": [
      "Multi Rows Delete\n",
      " [[ 78  77  82]\n",
      " [ 80 555  97]]\n",
      "Multi Cols Delete\n",
      " [[ 77]\n",
      " [ 87]\n",
      " [555]\n",
      " [999]]\n"
     ]
    }
   ],
   "source": [
    "#MUTTIPLE ROW AND COLS DELETE...\n",
    "#ROWS...\n",
    "dd2=np.delete(a2, [1,3], axis=0)\n",
    "print(\"Multi Rows Delete\\n\", dd2)\n",
    "\n",
    "\n",
    "#COLS..\n",
    "dd3=np.delete(a2, [0,2], axis=1)\n",
    "print(\"Multi Cols Delete\\n\", dd3)"
   ]
  },
  {
   "cell_type": "code",
   "execution_count": 71,
   "id": "f7b418e4",
   "metadata": {},
   "outputs": [
    {
     "name": "stdout",
     "output_type": "stream",
     "text": [
      "Original: \n",
      " [[[  9  32  99   6]\n",
      "  [ 11  12  88  13]\n",
      "  [ 22  36  77   7]\n",
      "  [ 13  31  66 555]]\n",
      "\n",
      " [[  0   1  55   2]\n",
      "  [ 14  15  44  16]\n",
      "  [  3   4  33   5]\n",
      "  [  6   7  22   8]]\n",
      "\n",
      " [[  1  37  33  32]\n",
      "  [ 17  18  22  19]\n",
      "  [999  48  11  45]\n",
      "  [  2  47  10  31]]]\n",
      "After deleting level at 1:\n",
      "  [[[  9  32  99   6]\n",
      "  [ 11  12  88  13]\n",
      "  [ 22  36  77   7]\n",
      "  [ 13  31  66 555]]\n",
      "\n",
      " [[  1  37  33  32]\n",
      "  [ 17  18  22  19]\n",
      "  [999  48  11  45]\n",
      "  [  2  47  10  31]]]\n",
      "After deleting level at [0,2]:\n",
      "  [[[ 0  1 55  2]\n",
      "  [14 15 44 16]\n",
      "  [ 3  4 33  5]\n",
      "  [ 6  7 22  8]]]\n"
     ]
    }
   ],
   "source": [
    "#3D  delete(arr, index, axis=None)\n",
    "#LEVELS....\n",
    "#SINGLE\n",
    "print(\"Original: \\n\", ar8)\n",
    "d4=np.delete(ar8, 1, axis=0)\n",
    "print(\"After deleting level at 1:\\n \", d4)\n",
    "\n",
    "#MULTIPLE....\n",
    "d5=np.delete(ar8, [0,2], axis=0)\n",
    "print(\"After deleting level at [0,2]:\\n \", d5)"
   ]
  },
  {
   "cell_type": "code",
   "execution_count": 72,
   "id": "b4acfe78",
   "metadata": {},
   "outputs": [
    {
     "name": "stdout",
     "output_type": "stream",
     "text": [
      "Original: \n",
      " [[[  9  32  99   6]\n",
      "  [ 11  12  88  13]\n",
      "  [ 22  36  77   7]\n",
      "  [ 13  31  66 555]]\n",
      "\n",
      " [[  0   1  55   2]\n",
      "  [ 14  15  44  16]\n",
      "  [  3   4  33   5]\n",
      "  [  6   7  22   8]]\n",
      "\n",
      " [[  1  37  33  32]\n",
      "  [ 17  18  22  19]\n",
      "  [999  48  11  45]\n",
      "  [  2  47  10  31]]]\n",
      "Deleting Row at 3:\n",
      "  [[[  9  32  99   6]\n",
      "  [ 11  12  88  13]\n",
      "  [ 22  36  77   7]]\n",
      "\n",
      " [[  0   1  55   2]\n",
      "  [ 14  15  44  16]\n",
      "  [  3   4  33   5]]\n",
      "\n",
      " [[  1  37  33  32]\n",
      "  [ 17  18  22  19]\n",
      "  [999  48  11  45]]]\n",
      "Deleting Row at [0,2]:\n",
      "  [[[  9  32  99   6]\n",
      "  [ 13  31  66 555]]\n",
      "\n",
      " [[  0   1  55   2]\n",
      "  [  6   7  22   8]]\n",
      "\n",
      " [[  1  37  33  32]\n",
      "  [  2  47  10  31]]]\n"
     ]
    }
   ],
   "source": [
    "#ROWS....\n",
    "#SINGLE\n",
    "print(\"Original: \\n\", ar8)\n",
    "d6=np.delete(ar8, 3, axis=1)\n",
    "print(\"Deleting Row at 3:\\n \", d6)\n",
    "\n",
    "#MULTIPLE....\n",
    "d7=np.delete(ar8, [1,2], axis=1)\n",
    "print(\"Deleting Row at [0,2]:\\n \", d7)"
   ]
  },
  {
   "cell_type": "code",
   "execution_count": 75,
   "id": "a9ec940d",
   "metadata": {},
   "outputs": [
    {
     "name": "stdout",
     "output_type": "stream",
     "text": [
      "Original: \n",
      " [[[  9  32  99   6]\n",
      "  [ 11  12  88  13]\n",
      "  [ 22  36  77   7]\n",
      "  [ 13  31  66 555]]\n",
      "\n",
      " [[  0   1  55   2]\n",
      "  [ 14  15  44  16]\n",
      "  [  3   4  33   5]\n",
      "  [  6   7  22   8]]\n",
      "\n",
      " [[  1  37  33  32]\n",
      "  [ 17  18  22  19]\n",
      "  [999  48  11  45]\n",
      "  [  2  47  10  31]]]\n",
      "Deleting Col at 2:\n",
      "  [[[  9  32   6]\n",
      "  [ 11  12  13]\n",
      "  [ 22  36   7]\n",
      "  [ 13  31 555]]\n",
      "\n",
      " [[  0   1   2]\n",
      "  [ 14  15  16]\n",
      "  [  3   4   5]\n",
      "  [  6   7   8]]\n",
      "\n",
      " [[  1  37  32]\n",
      "  [ 17  18  19]\n",
      "  [999  48  45]\n",
      "  [  2  47  31]]]\n",
      "Deleting Cols at np.s_[::2]:\n",
      "  [[[ 32   6]\n",
      "  [ 12  13]\n",
      "  [ 36   7]\n",
      "  [ 31 555]]\n",
      "\n",
      " [[  1   2]\n",
      "  [ 15  16]\n",
      "  [  4   5]\n",
      "  [  7   8]]\n",
      "\n",
      " [[ 37  32]\n",
      "  [ 18  19]\n",
      "  [ 48  45]\n",
      "  [ 47  31]]]\n",
      "Deleting Cols at slice(1,3):\n",
      "  [[[  9   6]\n",
      "  [ 11  13]\n",
      "  [ 22   7]\n",
      "  [ 13 555]]\n",
      "\n",
      " [[  0   2]\n",
      "  [ 14  16]\n",
      "  [  3   5]\n",
      "  [  6   8]]\n",
      "\n",
      " [[  1  32]\n",
      "  [ 17  19]\n",
      "  [999  45]\n",
      "  [  2  31]]]\n"
     ]
    }
   ],
   "source": [
    "#COLS....\n",
    "#SINGLE\n",
    "print(\"Original: \\n\", ar8)\n",
    "d8=np.delete(ar8, 2, axis=2)\n",
    "print(\"Deleting Col at 2:\\n \", d8)\n",
    "\n",
    "#MULTIPLE....\n",
    "#SLICING...\n",
    "d9=np.delete(ar8, np.s_[::2] , axis=2)\n",
    "print(\"Deleting Cols at np.s_[::2]:\\n \", d9)\n",
    "\n",
    "d10=np.delete(ar8, slice(1,3) , axis=2)\n",
    "print(\"Deleting Cols at slice(1,3):\\n \", d10)"
   ]
  },
  {
   "cell_type": "code",
   "execution_count": 77,
   "id": "660d33d2",
   "metadata": {},
   "outputs": [
    {
     "name": "stdout",
     "output_type": "stream",
     "text": [
      "[34  6  4 32 33 38 35 18 27 31]\n",
      "[34  6  4 32 33 38 35 18 27 31]\n",
      "2362077132816 2362077132816\n",
      "[34  6  4 32 33 38 35 99 27 31]\n",
      "[34  6  4 32 33 38 35 99 27 31]\n"
     ]
    }
   ],
   "source": [
    "#5. ALIASING/COPYING ARRAYS....\n",
    "#Aliasing...\n",
    "aa=np.random.randint(4,44,10)\n",
    "print(aa)\n",
    "aa1=aa\n",
    "print(aa1)\n",
    "print(id(aa), id(aa1))  #same ids so aliases..\n",
    "\n",
    "\n",
    "\n",
    "#updation in both cause at backend only one object\n",
    "aa[-3] =99 \n",
    "print(aa)\n",
    "print(aa1)"
   ]
  },
  {
   "cell_type": "code",
   "execution_count": 78,
   "id": "5a67d4b8",
   "metadata": {},
   "outputs": [
    {
     "name": "stdout",
     "output_type": "stream",
     "text": [
      "[34  6  4 32 33 38 35 99 27 31]\n",
      "[34  6  4 32 33 38 35 99 27 31]\n",
      "2362077132816 2362071607600\n",
      "[  34    6    4   32 1001   38   35   99   27   31]\n",
      "[  34    6    4   32 1001   38   35   99   27   31]\n"
     ]
    }
   ],
   "source": [
    "#SHALLOW COPY...\n",
    "#which is just a view in case of NumPy Arrays...\n",
    "aa2=aa[:]\n",
    "\n",
    "print(aa)\n",
    "print(aa2)\n",
    "print(id(aa), id(aa2))  #DIFFERENT Ids cause at backend they are diff objects in memory\n",
    "\n",
    "#Updation...\n",
    "aa2[4]=1001  #but changes will be made in both cause its just a view to show \n",
    "print(aa)\n",
    "print(aa2)"
   ]
  },
  {
   "cell_type": "code",
   "execution_count": 79,
   "id": "e53f8af4",
   "metadata": {},
   "outputs": [
    {
     "name": "stdout",
     "output_type": "stream",
     "text": [
      "[  34    6    4   32 1001   38   35   99   27   31]\n",
      "[  34    6    4   32 1001   38   35   99   27   31]\n",
      "2362077132816 2362071607504\n",
      "[  34    6    4   32 1001   38   35   99   27   31]\n",
      "[  34    6    4   32 1001 9999   35   99   27   31]\n"
     ]
    }
   ],
   "source": [
    "#DEEP COPY\n",
    "#do the real task of creating a new array at backend in memory and changes will not be made in both\n",
    "aa3=aa.copy()\n",
    "\n",
    "print(aa)\n",
    "print(aa3)\n",
    "print(id(aa), id(aa3))  #DIFFERENT Ids cause at backend they have diff memory locations\n",
    "\n",
    "aa3[5]=9999 #Changes made in only the mentioned one \n",
    "print(aa)\n",
    "print(aa3)\n"
   ]
  },
  {
   "cell_type": "code",
   "execution_count": null,
   "id": "9c95ddc0",
   "metadata": {},
   "outputs": [],
   "source": []
  }
 ],
 "metadata": {
  "kernelspec": {
   "display_name": "Python 3 (ipykernel)",
   "language": "python",
   "name": "python3"
  },
  "language_info": {
   "codemirror_mode": {
    "name": "ipython",
    "version": 3
   },
   "file_extension": ".py",
   "mimetype": "text/x-python",
   "name": "python",
   "nbconvert_exporter": "python",
   "pygments_lexer": "ipython3",
   "version": "3.9.13"
  }
 },
 "nbformat": 4,
 "nbformat_minor": 5
}
