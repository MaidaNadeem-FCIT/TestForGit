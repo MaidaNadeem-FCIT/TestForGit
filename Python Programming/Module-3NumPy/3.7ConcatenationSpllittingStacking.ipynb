{
 "cells": [
  {
   "cell_type": "code",
   "execution_count": 1,
   "id": "1a5cdbca",
   "metadata": {},
   "outputs": [],
   "source": [
    "#1.CONCATENATION......\n",
    "import numpy as np"
   ]
  },
  {
   "cell_type": "code",
   "execution_count": 4,
   "id": "436a2c1d",
   "metadata": {},
   "outputs": [
    {
     "name": "stdout",
     "output_type": "stream",
     "text": [
      "Array 1:  [33 34 49  5 36 28 44 36 27 33 28  6 44 18 13]\n",
      "Array 2:  [2 6 5 4 7]\n",
      "Concatenated Array:  [33 34 49  5 36 28 44 36 27 33 28  6 44 18 13  2  6  5  4  7]\n",
      "Concatenated Array:  [33 34 49  5 36 28 44 36 27 33 28  6 44 18 13  2  6  5  4  7]\n"
     ]
    }
   ],
   "source": [
    "#1D Concatenate...\n",
    "arr1=np.random.randint(5,50,15)\n",
    "arr2=np.random.randint(1,10,5)\n",
    "print(\"Array 1: \",arr1)\n",
    "print(\"Array 2: \",arr2)\n",
    "\n",
    "#concate\n",
    "arr3=np.concatenate((arr1,arr2))\n",
    "print(\"Concatenated Array: \",arr3)\n",
    "arr3=np.concatenate((arr1,arr2),axis=0)\n",
    "print(\"Concatenated Array: \",arr3)"
   ]
  },
  {
   "cell_type": "code",
   "execution_count": 13,
   "id": "37641b42",
   "metadata": {},
   "outputs": [
    {
     "name": "stdout",
     "output_type": "stream",
     "text": [
      "2D Array 1:\n",
      "  [[46 19 27]\n",
      " [31 37 29]]\n",
      "2D Array 2: \n",
      " [[46 35 18]\n",
      " [45 34 33]\n",
      " [28 13  2]]\n",
      "2D Concatenated Array: \n",
      " [[46 19 27]\n",
      " [31 37 29]\n",
      " [46 35 18]\n",
      " [45 34 33]\n",
      " [28 13  2]]\n"
     ]
    }
   ],
   "source": [
    "#2D Concatenate along axis=0\n",
    "arr4=np.random.randint(1,50,(2,3))\n",
    "arr5=np.random.randint(1,50,(3,3))\n",
    "#arr5=np.random.randint(1,50,(3,4))  #ERROR of mismatched Columns\n",
    "print(\"2D Array 1:\\n \",arr4)\n",
    "print(\"2D Array 2: \\n\",arr5)\n",
    "\n",
    "\n",
    "#concatenate along axis=0  \n",
    "arr6=np.concatenate((arr4,arr5), axis=0)  #No. of Columns must be same for vertical concatenation\n",
    "print(\"2D Concatenated Array: \\n\",arr6)"
   ]
  },
  {
   "cell_type": "code",
   "execution_count": 15,
   "id": "aeffe06e",
   "metadata": {},
   "outputs": [
    {
     "name": "stdout",
     "output_type": "stream",
     "text": [
      "2D Array 1:\n",
      "  [[ 6 41 39]\n",
      " [31 16 34]]\n",
      "2D Array 2: \n",
      " [[43 18 48 15]\n",
      " [21 48 31 20]]\n",
      "2D Horizontal Concatenated Array: \n",
      " [[ 6 41 39 43 18 48 15]\n",
      " [31 16 34 21 48 31 20]]\n"
     ]
    }
   ],
   "source": [
    "#2D Concatenate along axis=1\n",
    "arr7=np.random.randint(1,50,(2,3))\n",
    "arr8=np.random.randint(1,50,(2,4))\n",
    "#arr8=np.random.randint(1,50,(3,4)) #ERROR of mismatched Rows\n",
    "print(\"2D Array 1:\\n \",arr7)\n",
    "print(\"2D Array 2: \\n\",arr8)\n",
    "\n",
    "\n",
    "#concatenate along axis=0  \n",
    "arr9=np.concatenate((arr7,arr8), axis=1)  #No. of Rows must be same for Horizontal concatenation\n",
    "print(\"2D Horizontal Concatenated Array: \\n\",arr9)"
   ]
  },
  {
   "cell_type": "code",
   "execution_count": 26,
   "id": "12340ee8",
   "metadata": {},
   "outputs": [
    {
     "name": "stdout",
     "output_type": "stream",
     "text": [
      "3D Array 1:\n",
      "  [[[20 19]\n",
      "  [ 9 46]\n",
      "  [36 23]]\n",
      "\n",
      " [[47  1]\n",
      "  [49 21]\n",
      "  [34  4]]]\n",
      "3D Array 2: \n",
      " [[[30 39]\n",
      "  [ 6 16]\n",
      "  [13 43]]\n",
      "\n",
      " [[34 38]\n",
      "  [21 10]\n",
      "  [29 11]]\n",
      "\n",
      " [[22 14]\n",
      "  [38 21]\n",
      "  [ 9 46]]]\n",
      "3D Level Concatenated Array: \n",
      " [[[20 19]\n",
      "  [ 9 46]\n",
      "  [36 23]]\n",
      "\n",
      " [[47  1]\n",
      "  [49 21]\n",
      "  [34  4]]\n",
      "\n",
      " [[30 39]\n",
      "  [ 6 16]\n",
      "  [13 43]]\n",
      "\n",
      " [[34 38]\n",
      "  [21 10]\n",
      "  [29 11]]\n",
      "\n",
      " [[22 14]\n",
      "  [38 21]\n",
      "  [ 9 46]]]\n"
     ]
    }
   ],
   "source": [
    "#3D Concatenate along axis=0\n",
    "arr10=np.random.randint(1,50,(2,3,2))\n",
    "arr11=np.random.randint(1,50,(3,3,2))\n",
    "print(\"3D Array 1:\\n \",arr10)\n",
    "print(\"3D Array 2: \\n\",arr11)\n",
    "\n",
    "\n",
    "#concatenate along axis=0  \n",
    "arr12=np.concatenate((arr10,arr11), axis=0)  #No. of ROWs and COls in both Arrays must match \n",
    "print(\"3D Level Concatenated Array: \\n\",arr12)"
   ]
  },
  {
   "cell_type": "code",
   "execution_count": 27,
   "id": "29298026",
   "metadata": {},
   "outputs": [
    {
     "name": "stdout",
     "output_type": "stream",
     "text": [
      "3D Array 1:\n",
      "  [[[18 22]\n",
      "  [21 39]\n",
      "  [ 5 17]]\n",
      "\n",
      " [[39 48]\n",
      "  [31  6]\n",
      "  [ 8 23]]]\n",
      "3D Array 2: \n",
      " [[[43 44]\n",
      "  [15  9]]\n",
      "\n",
      " [[49 45]\n",
      "  [35 29]]]\n",
      "3D Row Concatenated Array: \n",
      " [[[18 22]\n",
      "  [21 39]\n",
      "  [ 5 17]\n",
      "  [43 44]\n",
      "  [15  9]]\n",
      "\n",
      " [[39 48]\n",
      "  [31  6]\n",
      "  [ 8 23]\n",
      "  [49 45]\n",
      "  [35 29]]]\n"
     ]
    }
   ],
   "source": [
    "#3D Concatenate along axis=1  \n",
    "arr14=np.random.randint(1,50,(2,3,2))\n",
    "arr15=np.random.randint(1,50,(2,2,2))\n",
    "print(\"3D Array 1:\\n \",arr14)\n",
    "print(\"3D Array 2: \\n\",arr15)\n",
    "\n",
    "#No. of Levels and  Colums must match in both arrays\n",
    "arr13=np.concatenate((arr14,arr15), axis=1)  \n",
    "print(\"3D Row Concatenated Array: \\n\",arr13)"
   ]
  },
  {
   "cell_type": "code",
   "execution_count": 28,
   "id": "87ee4c08",
   "metadata": {},
   "outputs": [
    {
     "name": "stdout",
     "output_type": "stream",
     "text": [
      "3D Array 1:\n",
      "  [[[26 42]\n",
      "  [17 41]\n",
      "  [16 17]]\n",
      "\n",
      " [[ 3  6]\n",
      "  [37 40]\n",
      "  [44 32]]]\n",
      "3D Array 2: \n",
      " [[[32 32 39]\n",
      "  [25 17 11]\n",
      "  [49 32 22]]\n",
      "\n",
      " [[ 8 14  9]\n",
      "  [17 29 47]\n",
      "  [37 43  3]]]\n",
      "3D Col Concatenated Array: \n",
      " [[[26 42 32 32 39]\n",
      "  [17 41 25 17 11]\n",
      "  [16 17 49 32 22]]\n",
      "\n",
      " [[ 3  6  8 14  9]\n",
      "  [37 40 17 29 47]\n",
      "  [44 32 37 43  3]]]\n"
     ]
    }
   ],
   "source": [
    "#3D Concatenate along axis=2  \n",
    "arr17=np.random.randint(1,50,(2,3,2))\n",
    "arr18=np.random.randint(1,50,(2,3,3))\n",
    "print(\"3D Array 1:\\n \",arr17)\n",
    "print(\"3D Array 2: \\n\",arr18)\n",
    "\n",
    "#No. of Levels and  Rows must match in both arrays\n",
    "arr19=np.concatenate((arr17,arr18), axis=2)  \n",
    "print(\"3D Col Concatenated Array: \\n\",arr19)"
   ]
  },
  {
   "cell_type": "code",
   "execution_count": 41,
   "id": "a3c552d0",
   "metadata": {},
   "outputs": [
    {
     "name": "stdout",
     "output_type": "stream",
     "text": [
      "Array 1:\n",
      "  [3 8 9 3 1]\n",
      "Array 2:\n",
      " [2 7 2 1 9]\n",
      "Stacked 1D Array: \n",
      " [[3 8 9 3 1]\n",
      " [2 7 2 1 9]]\n"
     ]
    }
   ],
   "source": [
    "#2. STACKING.....\n",
    "#1D vstack(tup)\n",
    "sa1=np.random.randint(1,10,5)\n",
    "sa2=np.random.randint(1,10,5)\n",
    "print(\"Array 1:\\n \",sa1)\n",
    "print(\"Array 2:\\n\",sa2)\n",
    "\n",
    "#No. cols/size in case of 1d must match\n",
    "sa3=np.vstack((sa1,sa2))  \n",
    "print(\"Stacked 1D Array: \\n\",sa3)"
   ]
  },
  {
   "cell_type": "code",
   "execution_count": 42,
   "id": "9499f1b9",
   "metadata": {},
   "outputs": [
    {
     "name": "stdout",
     "output_type": "stream",
     "text": [
      "2d Array 1:\n",
      "  [[11  7 10 13]\n",
      " [18 18  5 15]\n",
      " [ 4  8  1  9]]\n",
      "2d Array 2:\n",
      " [[ 5 18  7 13]\n",
      " [17 16 11 12]\n",
      " [16  9  5 16]\n",
      " [ 7 18 19 14]]\n",
      "Stacked 2D Array: \n",
      " [[11  7 10 13]\n",
      " [18 18  5 15]\n",
      " [ 4  8  1  9]\n",
      " [ 5 18  7 13]\n",
      " [17 16 11 12]\n",
      " [16  9  5 16]\n",
      " [ 7 18 19 14]]\n"
     ]
    }
   ],
   "source": [
    "#2D vstack(tup)\n",
    "sa4=np.random.randint(1,20,(3,4))\n",
    "sa5=np.random.randint(1,20,(4,4))\n",
    "print(\"2d Array 1:\\n \",sa4)\n",
    "print(\"2d Array 2:\\n\",sa5)\n",
    "\n",
    "#No. cols in case of 2d must match\n",
    "sa6=np.vstack((sa4,sa5))  \n",
    "print(\"Stacked 2D Array: \\n\",sa6)"
   ]
  },
  {
   "cell_type": "code",
   "execution_count": 38,
   "id": "7efddce3",
   "metadata": {},
   "outputs": [
    {
     "name": "stdout",
     "output_type": "stream",
     "text": [
      "3d Array 1:\n",
      "  [[[ 3  5]\n",
      "  [12  6]\n",
      "  [16 10]]\n",
      "\n",
      " [[ 1 14]\n",
      "  [ 3 12]\n",
      "  [ 2  7]]]\n",
      "3d Array 2:\n",
      " [[[19  6]\n",
      "  [19 10]\n",
      "  [ 1 12]]\n",
      "\n",
      " [[ 9  2]\n",
      "  [18 15]\n",
      "  [ 6  5]]\n",
      "\n",
      " [[19  8]\n",
      "  [12  8]\n",
      "  [ 8 15]]]\n",
      "Stacked 3D Array: \n",
      " [[[ 3  5]\n",
      "  [12  6]\n",
      "  [16 10]]\n",
      "\n",
      " [[ 1 14]\n",
      "  [ 3 12]\n",
      "  [ 2  7]]\n",
      "\n",
      " [[19  6]\n",
      "  [19 10]\n",
      "  [ 1 12]]\n",
      "\n",
      " [[ 9  2]\n",
      "  [18 15]\n",
      "  [ 6  5]]\n",
      "\n",
      " [[19  8]\n",
      "  [12  8]\n",
      "  [ 8 15]]]\n"
     ]
    }
   ],
   "source": [
    "#3D vstack(tup)\n",
    "sa7=np.random.randint(1,20,(2,3,2))\n",
    "sa8=np.random.randint(1,20,(3,3,2))\n",
    "print(\"3d Array 1:\\n \",sa7)\n",
    "print(\"3d Array 2:\\n\",sa8)\n",
    "\n",
    "#No. rows and cols in case of 3d must match\n",
    "sa9=np.vstack((sa7,sa8))  \n",
    "print(\"Stacked 3D Array: \\n\",sa9)"
   ]
  },
  {
   "cell_type": "code",
   "execution_count": 40,
   "id": "c698240e",
   "metadata": {},
   "outputs": [
    {
     "name": "stdout",
     "output_type": "stream",
     "text": [
      "1d Array 1:\n",
      "  [4 7 3 4 4]\n",
      "1d Array 2:\n",
      " [9 8 7 6 6 4 8 4]\n",
      "Horizontal Stacked 1D Array: \n",
      " [4 7 3 4 4 9 8 7 6 6 4 8 4]\n"
     ]
    }
   ],
   "source": [
    "#1D hstack(tup)...\n",
    "s1=np.random.randint(1,10,5)\n",
    "s2=np.random.randint(1,10,8)\n",
    "print(\"1d Array 1:\\n \",s1)\n",
    "print(\"1d Array 2:\\n\",s2)\n",
    "\n",
    "#No. cols/size can vary\n",
    "s3=np.hstack((s1,s2))  \n",
    "print(\"Horizontal Stacked 1D Array: \\n\",s3)"
   ]
  },
  {
   "cell_type": "code",
   "execution_count": 44,
   "id": "538c15fc",
   "metadata": {},
   "outputs": [
    {
     "name": "stdout",
     "output_type": "stream",
     "text": [
      "2D Array 1:\n",
      "  [[ 6 16  9 16]\n",
      " [16 18  5 16]\n",
      " [12 19 19  5]]\n",
      "2D Array 2:\n",
      " [[ 7  7]\n",
      " [11  6]\n",
      " [10  6]]\n",
      "Horizontal Stacked 2D Array: \n",
      " [[ 6 16  9 16  7  7]\n",
      " [16 18  5 16 11  6]\n",
      " [12 19 19  5 10  6]]\n"
     ]
    }
   ],
   "source": [
    "#2D hstack(tup)\n",
    "s4=np.random.randint(1,20,(3,4))\n",
    "s5=np.random.randint(1,20,(3,2))\n",
    "print(\"2D Array 1:\\n \",s4)\n",
    "print(\"2D Array 2:\\n\",s5)\n",
    "\n",
    "#No. Rows in case of 2d must match\n",
    "s6=np.hstack((s4,s5))  \n",
    "print(\"Horizontal Stacked 2D Array: \\n\",s6)"
   ]
  },
  {
   "cell_type": "code",
   "execution_count": 53,
   "id": "7f21148b",
   "metadata": {},
   "outputs": [
    {
     "name": "stdout",
     "output_type": "stream",
     "text": [
      "3d Array 1:\n",
      "  [[[14  6]\n",
      "  [17 14]\n",
      "  [16 12]]\n",
      "\n",
      " [[17  3]\n",
      "  [ 1  8]\n",
      "  [ 2 18]]]\n",
      "3d Array 2:\n",
      " [[[ 4  2]\n",
      "  [14 14]]\n",
      "\n",
      " [[13 18]\n",
      "  [15 14]]]\n",
      "Horizontal Stacked 3D Array: \n",
      " [[[14  6]\n",
      "  [17 14]\n",
      "  [16 12]\n",
      "  [ 4  2]\n",
      "  [14 14]]\n",
      "\n",
      " [[17  3]\n",
      "  [ 1  8]\n",
      "  [ 2 18]\n",
      "  [13 18]\n",
      "  [15 14]]]\n"
     ]
    }
   ],
   "source": [
    "#3D hstack(tup)\n",
    "s7=np.random.randint(1,20,(2,3,2))\n",
    "s8=np.random.randint(1,20,(2,2,2))\n",
    "print(\"3d Array 1:\\n \",s7)\n",
    "print(\"3d Array 2:\\n\",s8)\n",
    "\n",
    "#No. Levels and cols in case of 3d must match\n",
    "s9=np.hstack((s7,s8))  \n",
    "print(\"Horizontal Stacked 3D Array: \\n\",s9)"
   ]
  },
  {
   "cell_type": "code",
   "execution_count": 57,
   "id": "7b1f200b",
   "metadata": {},
   "outputs": [
    {
     "name": "stdout",
     "output_type": "stream",
     "text": [
      "Array 1:\n",
      "  [3 8 9 3 1]\n",
      "Array 2:\n",
      " [2 7 2 1 9]\n",
      "Stacked 1D Array at axis=0: \n",
      " [[3 8 9 3 1]\n",
      " [2 7 2 1 9]]\n",
      "Stacked 1D Array at axis=1: \n",
      " [[3 2]\n",
      " [8 7]\n",
      " [9 2]\n",
      " [3 1]\n",
      " [1 9]]\n"
     ]
    }
   ],
   "source": [
    "#Basic stack\n",
    "#stack along a new axis alog with the given one...\n",
    "#1D stack(tup, axis=0)\n",
    "print(\"Array 1:\\n \",sa1)\n",
    "print(\"Array 2:\\n\",sa2)\n",
    "\n",
    "#along axis=0 sizes must be same...\n",
    "st=np.stack((sa1,sa2),axis=0)  \n",
    "print(\"Stacked 1D Array at axis=0: \\n\",st)\n",
    "\n",
    "#along axis=1 sizes must be same...\n",
    "st1=np.stack((sa1,sa2),axis=1)  \n",
    "print(\"Stacked 1D Array at axis=1: \\n\",st1)"
   ]
  },
  {
   "cell_type": "code",
   "execution_count": 68,
   "id": "a5ecde83",
   "metadata": {},
   "outputs": [
    {
     "name": "stdout",
     "output_type": "stream",
     "text": [
      "2d Array 1:\n",
      "  [[27 29  8]\n",
      " [14 24 21]]\n",
      "2d Array 2:\n",
      " [[16  4 11]\n",
      " [ 4 19  9]]\n",
      "Stacked 2D Array at axis=0: \n",
      " [[[27 29  8]\n",
      "  [14 24 21]]\n",
      "\n",
      " [[16  4 11]\n",
      "  [ 4 19  9]]]\n",
      "Stacked 2D Array at axis=1: \n",
      " [[[27 29  8]\n",
      "  [16  4 11]]\n",
      "\n",
      " [[14 24 21]\n",
      "  [ 4 19  9]]]\n",
      "Stacked 2D Array at axis=2: \n",
      " [[[27 16]\n",
      "  [29  4]\n",
      "  [ 8 11]]\n",
      "\n",
      " [[14  4]\n",
      "  [24 19]\n",
      "  [21  9]]]\n"
     ]
    }
   ],
   "source": [
    "#2D stack(tup, axis=0)\n",
    "st4=np.random.randint(5,30,(2,3))\n",
    "st5=np.random.randint(1,25,(2,3))\n",
    "print(\"2d Array 1:\\n \",st4)\n",
    "print(\"2d Array 2:\\n\",st5)\n",
    "\n",
    "#along axis=0 sizes must be same...\n",
    "st2=np.stack((st4,st5),axis=0)  \n",
    "print(\"Stacked 2D Array at axis=0: \\n\",st2)\n",
    "\n",
    "#along axis=1 sizes must be same...\n",
    "st3=np.stack((st4,st5),axis=1)  \n",
    "print(\"Stacked 2D Array at axis=1: \\n\",st3)\n",
    "\n",
    "#along axis=2 sizes must be same...\n",
    "st6=np.stack((st4,st5),axis=-1) #axis=2 or axis=-1  are same \n",
    "print(\"Stacked 2D Array at axis=2: \\n\",st6)\n"
   ]
  },
  {
   "cell_type": "code",
   "execution_count": 103,
   "id": "92e55740",
   "metadata": {},
   "outputs": [
    {
     "name": "stdout",
     "output_type": "stream",
     "text": [
      "2d Array 1:\n",
      "  [[[22 17]\n",
      "  [ 8  7]]\n",
      "\n",
      " [[23  9]\n",
      "  [13 10]]]\n",
      "2d Array 2:\n",
      " [[[15  1]\n",
      "  [23 15]]\n",
      "\n",
      " [[20 17]\n",
      "  [10  3]]]\n",
      "Stacked 3D Array at axis=0: \n",
      " [[[[22 17]\n",
      "   [ 8  7]]\n",
      "\n",
      "  [[23  9]\n",
      "   [13 10]]]\n",
      "\n",
      "\n",
      " [[[15  1]\n",
      "   [23 15]]\n",
      "\n",
      "  [[20 17]\n",
      "   [10  3]]]]\n",
      "Stacked 3D Array at axis=1: \n",
      " [[[[22 17]\n",
      "   [ 8  7]]\n",
      "\n",
      "  [[15  1]\n",
      "   [23 15]]]\n",
      "\n",
      "\n",
      " [[[23  9]\n",
      "   [13 10]]\n",
      "\n",
      "  [[20 17]\n",
      "   [10  3]]]]\n",
      "Stacked 3D Array at axis=2: \n",
      " [[[[22 17]\n",
      "   [15  1]]\n",
      "\n",
      "  [[ 8  7]\n",
      "   [23 15]]]\n",
      "\n",
      "\n",
      " [[[23  9]\n",
      "   [20 17]]\n",
      "\n",
      "  [[13 10]\n",
      "   [10  3]]]]\n"
     ]
    }
   ],
   "source": [
    "#3D stack(tup, axis=0)\n",
    "st7=np.random.randint(5,30,(2,2,2))\n",
    "st8=np.random.randint(1,25,(2,2,2))\n",
    "print(\"2d Array 1:\\n \",st7)\n",
    "print(\"2d Array 2:\\n\",st8)\n",
    "\n",
    "#along axis=0 sizes must be same...\n",
    "st=np.stack((st7,st8),axis=0)  \n",
    "print(\"Stacked 3D Array at axis=0: \\n\",st)\n",
    "\n",
    "#along axis=1 sizes must be same...\n",
    "st9=np.stack((st7,st8),axis=1)  \n",
    "print(\"Stacked 3D Array at axis=1: \\n\",st9)\n"
   ]
  },
  {
   "cell_type": "code",
   "execution_count": 74,
   "id": "47a07ae5",
   "metadata": {},
   "outputs": [
    {
     "name": "stdout",
     "output_type": "stream",
     "text": [
      "Stacked 3D Array at axis=2: \n",
      " [[[[21  8]\n",
      "   [ 8  1]]\n",
      "\n",
      "  [[28 10]\n",
      "   [17  9]]]\n",
      "\n",
      "\n",
      " [[[14 18]\n",
      "   [14 23]]\n",
      "\n",
      "  [[27 25]\n",
      "   [24  7]]]]\n",
      "Stacked 3D Array at axis=-1: \n",
      " [[[[21  8]\n",
      "   [ 8  1]]\n",
      "\n",
      "  [[28 17]\n",
      "   [10  9]]]\n",
      "\n",
      "\n",
      " [[[14 14]\n",
      "   [18 23]]\n",
      "\n",
      "  [[27 24]\n",
      "   [25  7]]]]\n"
     ]
    }
   ],
   "source": [
    "#along axis=2 sizes must be same...\n",
    "st10=np.stack((st7,st8),axis=2)\n",
    "print(\"Stacked 3D Array at axis=2: \\n\",st10)\n",
    "\n",
    "\n",
    "#along axis= sizes must be same...\n",
    "st11=np.stack((st7,st8),axis=-1)  #axis=3 or -1 is same\n",
    "print(\"Stacked 3D Array at axis=-1: \\n\",st11)\n"
   ]
  },
  {
   "cell_type": "code",
   "execution_count": 77,
   "id": "374e555c",
   "metadata": {},
   "outputs": [
    {
     "name": "stdout",
     "output_type": "stream",
     "text": [
      "1D Array: [21 28 43 25 40 43 48 38  1  4 41 46 15 29 32 46 29 11 24 43]\n",
      "splits of 1d Array in equal : [array([21, 28, 43, 25, 40]), array([43, 48, 38,  1,  4]), array([41, 46, 15, 29, 32]), array([46, 29, 11, 24, 43])]\n",
      "splits of 1d Array in non-equal: [array([21, 28, 43, 25, 40, 43, 48]), array([38,  1,  4, 41, 46, 15, 29]), array([32, 46, 29, 11, 24, 43])]\n"
     ]
    }
   ],
   "source": [
    "#3. SPLITTING.....\n",
    "#1D split(arr, size, axis=0)   --> array_aplit()\n",
    "sp=np.random.randint(1,50,20)\n",
    "print(\"1D Array:\", sp)\n",
    "\n",
    "#split in 4 equal parts if equal parts not possible will raise error\n",
    "sp1=np.split(sp,4)\n",
    "print(\"splits of 1d Array in equal :\", sp1)\n",
    "\n",
    "sp2=np.array_split(sp,3)\n",
    "print(\"splits of 1d Array in non-equal:\", sp2)"
   ]
  },
  {
   "cell_type": "code",
   "execution_count": 80,
   "id": "ff5eec44",
   "metadata": {},
   "outputs": [
    {
     "name": "stdout",
     "output_type": "stream",
     "text": [
      "2D Array:\n",
      " [[17 13 18 18 15]\n",
      " [44 36 38  5 43]\n",
      " [ 6 33 14 33  6]\n",
      " [36 34 13 28  8]]\n",
      "splits of 2d Array on axis=0:\n",
      " [array([[17, 13, 18, 18, 15],\n",
      "       [44, 36, 38,  5, 43]]), array([[ 6, 33, 14, 33,  6]]), array([[36, 34, 13, 28,  8]])]\n",
      "splits of 2d Array on axis=1\n",
      ": [array([[17, 13],\n",
      "       [44, 36],\n",
      "       [ 6, 33],\n",
      "       [36, 34]]), array([[18, 18],\n",
      "       [38,  5],\n",
      "       [14, 33],\n",
      "       [13, 28]]), array([[15],\n",
      "       [43],\n",
      "       [ 6],\n",
      "       [ 8]])]\n"
     ]
    }
   ],
   "source": [
    "#2D split(arr, size, axis=0)   --> array_aplit()\n",
    "sp3=np.random.randint(1,50,(4,5))\n",
    "print(\"2D Array:\\n\", sp3)\n",
    "\n",
    "#split in 4 equal parts if equal parts not possible will raise error\n",
    "sp4=np.array_split(sp3,3,axis=0)\n",
    "print(\"splits of 2d Array on axis=0:\\n\", sp4)\n",
    "\n",
    "sp5=np.array_split(sp3,3,axis=1)\n",
    "print(\"splits of 2d Array on axis=1\\n:\", sp5)"
   ]
  },
  {
   "cell_type": "code",
   "execution_count": 95,
   "id": "d3d89550",
   "metadata": {},
   "outputs": [
    {
     "name": "stdout",
     "output_type": "stream",
     "text": [
      "3D Array:\n",
      " [[[3 2 9]\n",
      "  [6 9 8]]\n",
      "\n",
      " [[7 5 5]\n",
      "  [4 8 6]]]\n",
      "splits of 3d Array on axis=0:\n",
      " [array([[[3, 2, 9],\n",
      "        [6, 9, 8]]]), array([[[7, 5, 5],\n",
      "        [4, 8, 6]]])]\n",
      "splits of 3d Array on axis=1\n",
      ": [array([[[3, 2, 9]],\n",
      "\n",
      "       [[7, 5, 5]]]), array([[[6, 9, 8]],\n",
      "\n",
      "       [[4, 8, 6]]]), array([], shape=(2, 0, 3), dtype=int32)]\n",
      "splits of 3d Array on axis=2\n",
      ": [array([[[3, 2],\n",
      "        [6, 9]],\n",
      "\n",
      "       [[7, 5],\n",
      "        [4, 8]]]), array([[[9],\n",
      "        [8]],\n",
      "\n",
      "       [[5],\n",
      "        [6]]])]\n"
     ]
    }
   ],
   "source": [
    "#3D split(arr, size, axis=0)   --> array_aplit()\n",
    "sp6=np.random.randint(1,10,(2,2,3))\n",
    "print(\"3D Array:\\n\", sp6)\n",
    "\n",
    "#split in 4 equal parts if equal parts not possible will raise error\n",
    "sp7=np.array_split(sp6,2,axis=0)\n",
    "print(\"splits of 3d Array on axis=0:\\n\", sp7)\n",
    "\n",
    "sp8=np.array_split(sp6,3,axis=1)\n",
    "print(\"splits of 3d Array on axis=1\\n:\", sp8)\n",
    "\n",
    "sp9=np.array_split(sp6,2,axis=2)\n",
    "print(\"splits of 3d Array on axis=2\\n:\", sp9)"
   ]
  },
  {
   "cell_type": "code",
   "execution_count": 102,
   "id": "84498e51",
   "metadata": {},
   "outputs": [
    {
     "name": "stdout",
     "output_type": "stream",
     "text": [
      "New 2d array: \n",
      " [[ 0  1  2  3]\n",
      " [ 4  5  6  7]\n",
      " [ 8  9 10 11]\n",
      " [12 13 14 15]]\n",
      "Hsplit 2d array: \n",
      " [array([[ 0,  1],\n",
      "       [ 4,  5],\n",
      "       [ 8,  9],\n",
      "       [12, 13]]), array([[ 2,  3],\n",
      "       [ 6,  7],\n",
      "       [10, 11],\n",
      "       [14, 15]])]\n",
      "Vsplit 2d array: \n",
      " [array([[0, 1, 2, 3],\n",
      "       [4, 5, 6, 7]]), array([[ 8,  9, 10, 11],\n",
      "       [12, 13, 14, 15]])]\n"
     ]
    }
   ],
   "source": [
    "#1d hsplit(arr, size)...\n",
    "har=np.arange(16).reshape(4,4)\n",
    "print(\"New 2d array: \\n\", har)\n",
    "\n",
    "har1=np.hsplit(har, 2)\n",
    "print(\"Hsplit 2d array: \\n\", har1)\n",
    "\n",
    "har2=np.vsplit(har, 2)\n",
    "print(\"Vsplit 2d array: \\n\", har2)"
   ]
  },
  {
   "cell_type": "code",
   "execution_count": null,
   "id": "a5b2bbe6",
   "metadata": {},
   "outputs": [],
   "source": []
  }
 ],
 "metadata": {
  "kernelspec": {
   "display_name": "Python 3 (ipykernel)",
   "language": "python",
   "name": "python3"
  },
  "language_info": {
   "codemirror_mode": {
    "name": "ipython",
    "version": 3
   },
   "file_extension": ".py",
   "mimetype": "text/x-python",
   "name": "python",
   "nbconvert_exporter": "python",
   "pygments_lexer": "ipython3",
   "version": "3.9.13"
  }
 },
 "nbformat": 4,
 "nbformat_minor": 5
}
