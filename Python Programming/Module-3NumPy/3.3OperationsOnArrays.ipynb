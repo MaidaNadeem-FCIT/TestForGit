{
 "cells": [
  {
   "cell_type": "code",
   "execution_count": 2,
   "id": "069e48ae",
   "metadata": {},
   "outputs": [
    {
     "data": {
      "text/plain": [
       "'1.21.5'"
      ]
     },
     "execution_count": 2,
     "metadata": {},
     "output_type": "execute_result"
    }
   ],
   "source": [
    "import numpy as np\n",
    "np.__version__"
   ]
  },
  {
   "cell_type": "code",
   "execution_count": 4,
   "id": "df26a95a",
   "metadata": {},
   "outputs": [
    {
     "name": "stdout",
     "output_type": "stream",
     "text": [
      "Original Array: [80 98 56 46 66  7 80 32 95 54]\n"
     ]
    }
   ],
   "source": [
    "#OPERATIONS.....\n",
    "arr=np.random.randint(5,100,10)"
   ]
  },
  {
   "cell_type": "code",
   "execution_count": 12,
   "id": "f690a4c4",
   "metadata": {},
   "outputs": [
    {
     "name": "stdout",
     "output_type": "stream",
     "text": [
      "Original Array: [80 98 56 46 66  7 80 32 95 54]\n",
      "Addition of 5: [ 85 103  61  51  71  12  85  37 100  59]\n",
      "Subtraction 2 : [78 96 54 44 64  5 78 30 93 52]\n",
      "Division by 4: [20.   24.5  14.   11.5  16.5   1.75 20.    8.   23.75 13.5 ]\n",
      "Multiplication of 3: [240 294 168 138 198  21 240  96 285 162]\n",
      "Modulus of 3: [2 2 2 1 0 1 2 2 2 0]\n",
      "1750761648368 1750778393008\n"
     ]
    }
   ],
   "source": [
    "#1. Scalar Math....\n",
    "#1D Arrays\n",
    "#Broadcasting in Array\n",
    "print(\"Original Array:\", arr)\n",
    "print(\"Addition of 5:\", arr+5) #add 5 in all elements of array\n",
    "print(\"Subtraction 2 :\", np.subtract(arr,2)) #subtract 5 in all elements of array\n",
    "print(\"Division by 4:\", arr/4)\n",
    "print(\"Multiplication of 3:\", np.multiply(arr,3))\n",
    "print(\"Modulus of 3:\", arr%3)\n",
    "\n",
    "arr1=arr%3\n",
    "print(id(arr), id(arr1)) #diff arrays"
   ]
  },
  {
   "cell_type": "code",
   "execution_count": 14,
   "id": "a6ec1829",
   "metadata": {},
   "outputs": [
    {
     "name": "stdout",
     "output_type": "stream",
     "text": [
      "Original 2D: \n",
      " [[ 2 41 43]\n",
      " [ 9  2 45]\n",
      " [ 3 28 31]\n",
      " [38  2 21]]\n"
     ]
    }
   ],
   "source": [
    "#2D Arrays\n",
    "a2d=np.random.randint(0,50,(4,3))\n",
    "print(\"Original 2D: \\n\", a2d)"
   ]
  },
  {
   "cell_type": "code",
   "execution_count": 21,
   "id": "c39928df",
   "metadata": {},
   "outputs": [
    {
     "name": "stdout",
     "output_type": "stream",
     "text": [
      "Original Array:\n",
      " [[ 2 41 43]\n",
      " [ 9  2 45]\n",
      " [ 3 28 31]\n",
      " [38  2 21]]\n",
      "Addition of 3:\n",
      " [[ 5 44 46]\n",
      " [12  5 48]\n",
      " [ 6 31 34]\n",
      " [41  5 24]]\n",
      "Subtraction 3 :\n",
      " [[-1 38 40]\n",
      " [ 6 -1 42]\n",
      " [ 0 25 28]\n",
      " [35 -1 18]]\n",
      "Multiplication by 2:\n",
      " [[ 4 82 86]\n",
      " [18  4 90]\n",
      " [ 6 56 62]\n",
      " [76  4 42]]\n",
      "Division of 3:\n",
      " [[ 0.66666667 13.66666667 14.33333333]\n",
      " [ 3.          0.66666667 15.        ]\n",
      " [ 1.          9.33333333 10.33333333]\n",
      " [12.66666667  0.66666667  7.        ]]\n",
      "Modulus of 3:\n",
      " [[2 2 1]\n",
      " [0 2 0]\n",
      " [0 1 1]\n",
      " [2 2 0]]\n"
     ]
    }
   ],
   "source": [
    "print(\"Original Array:\\n\", a2d)\n",
    "print(\"Addition of 3:\\n\", np.add(a2d,3)) #add 5 in all elements of array\n",
    "print(\"Subtraction 3 :\\n\", np.subtract(a2d,3)) #subtract 5 in all elements of array\n",
    "print(\"Multiplication by 2:\\n\", np.multiply(a2d,2))\n",
    "print(\"Division of 3:\\n\", np.divide(a2d,3))\n",
    "print(\"Modulus of 3:\\n\", np.mod(a2d,3))"
   ]
  },
  {
   "cell_type": "code",
   "execution_count": 23,
   "id": "e3189db7",
   "metadata": {},
   "outputs": [
    {
     "name": "stdout",
     "output_type": "stream",
     "text": [
      "Original 2D: \n",
      " [[[21  2 29]\n",
      "  [10 21 33]\n",
      "  [10 42  1]]\n",
      "\n",
      " [[35 47 39]\n",
      "  [43 22  1]\n",
      "  [31  2 36]]]\n"
     ]
    }
   ],
   "source": [
    "#3D Arrays\n",
    "a3d=np.random.randint(0,50,(2,3,3))\n",
    "print(\"Original 2D: \\n\", a3d)"
   ]
  },
  {
   "cell_type": "code",
   "execution_count": 24,
   "id": "46122549",
   "metadata": {},
   "outputs": [
    {
     "name": "stdout",
     "output_type": "stream",
     "text": [
      "Original Array:\n",
      " [[[21  2 29]\n",
      "  [10 21 33]\n",
      "  [10 42  1]]\n",
      "\n",
      " [[35 47 39]\n",
      "  [43 22  1]\n",
      "  [31  2 36]]]\n",
      "Addition of 3:\n",
      " [[[24  5 32]\n",
      "  [13 24 36]\n",
      "  [13 45  4]]\n",
      "\n",
      " [[38 50 42]\n",
      "  [46 25  4]\n",
      "  [34  5 39]]]\n",
      "Subtraction 3 :\n",
      " [[[18 -1 26]\n",
      "  [ 7 18 30]\n",
      "  [ 7 39 -2]]\n",
      "\n",
      " [[32 44 36]\n",
      "  [40 19 -2]\n",
      "  [28 -1 33]]]\n",
      "Multiplication by 2:\n",
      " [[[42  4 58]\n",
      "  [20 42 66]\n",
      "  [20 84  2]]\n",
      "\n",
      " [[70 94 78]\n",
      "  [86 44  2]\n",
      "  [62  4 72]]]\n",
      "Division of 3:\n",
      " [[[ 7.          0.66666667  9.66666667]\n",
      "  [ 3.33333333  7.         11.        ]\n",
      "  [ 3.33333333 14.          0.33333333]]\n",
      "\n",
      " [[11.66666667 15.66666667 13.        ]\n",
      "  [14.33333333  7.33333333  0.33333333]\n",
      "  [10.33333333  0.66666667 12.        ]]]\n",
      "Modulus of 3:\n",
      " [[[0 2 2]\n",
      "  [1 0 0]\n",
      "  [1 0 1]]\n",
      "\n",
      " [[2 2 0]\n",
      "  [1 1 1]\n",
      "  [1 2 0]]]\n"
     ]
    }
   ],
   "source": [
    "print(\"Original Array:\\n\", a3d)\n",
    "print(\"Addition of 3:\\n\", np.add(a3d,3)) #add 5 in all elements of array\n",
    "print(\"Subtraction 3 :\\n\", np.subtract(a3d,3)) #subtract 5 in all elements of array\n",
    "print(\"Multiplication by 2:\\n\", np.multiply(a3d,2))\n",
    "print(\"Division of 3:\\n\", np.divide(a3d,3))\n",
    "print(\"Modulus of 3:\\n\", np.mod(a3d,3))"
   ]
  },
  {
   "cell_type": "code",
   "execution_count": 32,
   "id": "d10f0a88",
   "metadata": {},
   "outputs": [
    {
     "name": "stdout",
     "output_type": "stream",
     "text": [
      "[[1 2 3]\n",
      " [4 5 6]\n",
      " [7 8 9]]\n",
      "[[-2 -1  0]\n",
      " [ 1  2  3]\n",
      " [ 4  5  6]]\n"
     ]
    }
   ],
   "source": [
    "#Experiment.....\n",
    "aa2=np.array([[1,2,3],[4,5,6],[7,8,9]], dtype=np.int16, order='C')\n",
    "print(aa2)\n",
    "print(aa2-3)"
   ]
  },
  {
   "cell_type": "code",
   "execution_count": 34,
   "id": "67e428f2",
   "metadata": {},
   "outputs": [
    {
     "name": "stdout",
     "output_type": "stream",
     "text": [
      "Array 1: [7 2 6 3]\n",
      "Array 2: [3 2 8 1]\n"
     ]
    }
   ],
   "source": [
    "#2.ARITHEMATIC OPERATIONS...\n",
    "#1D Arrays...\n",
    "opa=np.random.randint(1,10,4)\n",
    "opa1=np.random.randint(1,10,4)\n",
    "print(\"Array 1:\",opa)\n",
    "print(\"Array 2:\",opa1)"
   ]
  },
  {
   "cell_type": "code",
   "execution_count": 35,
   "id": "14587f4c",
   "metadata": {},
   "outputs": [
    {
     "name": "stdout",
     "output_type": "stream",
     "text": [
      "Addition: [10  4 14  4]\n",
      "Subtraction: [ 4  0 -2  2]\n",
      "Multiplication: [21  4 48  3]\n",
      "Division: [2.33333333 1.         0.75       3.        ]\n",
      "Modulus: [1 0 6 0]\n"
     ]
    }
   ],
   "source": [
    "print(\"Addition:\", np.add(opa,opa1)) #add 5 in all elements of array\n",
    "print(\"Subtraction:\", np.subtract(opa,opa1)) #subtract 5 in all elements of array\n",
    "print(\"Multiplication:\", np.multiply(opa,opa1))\n",
    "print(\"Division:\", np.divide(opa,opa1))\n",
    "print(\"Modulus:\", np.mod(opa,opa1))"
   ]
  },
  {
   "cell_type": "code",
   "execution_count": 37,
   "id": "f94b47e0",
   "metadata": {},
   "outputs": [
    {
     "name": "stdout",
     "output_type": "stream",
     "text": [
      "Array 1:\n",
      " [[8 1]\n",
      " [2 4]]\n",
      "Array 2:\n",
      " [[6 6]\n",
      " [7 3]]\n"
     ]
    }
   ],
   "source": [
    "#2D Arrays...\n",
    "mat1=np.random.randint(1,10,(2,2))\n",
    "mat2=np.random.randint(1,10,(2,2))\n",
    "print(\"Array 1:\\n\",mat1)\n",
    "print(\"Array 2:\\n\",mat2)"
   ]
  },
  {
   "cell_type": "code",
   "execution_count": 39,
   "id": "db16885e",
   "metadata": {},
   "outputs": [
    {
     "name": "stdout",
     "output_type": "stream",
     "text": [
      "Addition:\n",
      " [[14  7]\n",
      " [ 9  7]]\n",
      "Subtraction:\n",
      " [[ 2 -5]\n",
      " [-5  1]]\n",
      "Multiplication:\n",
      " [[48  6]\n",
      " [14 12]]\n",
      "Division:\n",
      " [[1.33333333 0.16666667]\n",
      " [0.28571429 1.33333333]]\n",
      "Modulus:\n",
      " [[2 1]\n",
      " [2 1]]\n"
     ]
    }
   ],
   "source": [
    "print(\"Addition:\\n\", np.add(mat1,mat2)) #add 5 in all elements of array\n",
    "print(\"Subtraction:\\n\", np.subtract(mat1,mat2)) #subtract 5 in all elements of array\n",
    "print(\"Multiplication:\\n\", np.multiply(mat1,mat2))\n",
    "print(\"Division:\\n\", np.divide(mat1,mat2))\n",
    "print(\"Modulus:\\n\", np.mod(mat1,mat2))"
   ]
  },
  {
   "cell_type": "code",
   "execution_count": 40,
   "id": "5487d93f",
   "metadata": {},
   "outputs": [
    {
     "name": "stdout",
     "output_type": "stream",
     "text": [
      "Matrix 1:\n",
      " [[[7 1 7]\n",
      "  [6 9 9]\n",
      "  [2 1 6]]\n",
      "\n",
      " [[4 9 4]\n",
      "  [7 6 7]\n",
      "  [9 4 2]]]\n",
      "Matrix 2:\n",
      " [[[2 6 5]\n",
      "  [7 5 7]\n",
      "  [1 4 6]]\n",
      "\n",
      " [[8 6 8]\n",
      "  [3 4 4]\n",
      "  [5 2 7]]]\n"
     ]
    }
   ],
   "source": [
    "#23 Arrays...\n",
    "matrix1=np.random.randint(1,10,(2,3,3))\n",
    "matrix2=np.random.randint(1,10,(2,3,3))\n",
    "print(\"Matrix 1:\\n\",matrix1)\n",
    "print(\"Matrix 2:\\n\",matrix2)"
   ]
  },
  {
   "cell_type": "code",
   "execution_count": 41,
   "id": "e6a987bc",
   "metadata": {},
   "outputs": [
    {
     "name": "stdout",
     "output_type": "stream",
     "text": [
      "Addition:\n",
      " [[[ 9  7 12]\n",
      "  [13 14 16]\n",
      "  [ 3  5 12]]\n",
      "\n",
      " [[12 15 12]\n",
      "  [10 10 11]\n",
      "  [14  6  9]]]\n",
      "Subtraction:\n",
      " [[[ 5 -5  2]\n",
      "  [-1  4  2]\n",
      "  [ 1 -3  0]]\n",
      "\n",
      " [[-4  3 -4]\n",
      "  [ 4  2  3]\n",
      "  [ 4  2 -5]]]\n",
      "Multiplication:\n",
      " [[[14  6 35]\n",
      "  [42 45 63]\n",
      "  [ 2  4 36]]\n",
      "\n",
      " [[32 54 32]\n",
      "  [21 24 28]\n",
      "  [45  8 14]]]\n",
      "Division:\n",
      " [[[3.5        0.16666667 1.4       ]\n",
      "  [0.85714286 1.8        1.28571429]\n",
      "  [2.         0.25       1.        ]]\n",
      "\n",
      " [[0.5        1.5        0.5       ]\n",
      "  [2.33333333 1.5        1.75      ]\n",
      "  [1.8        2.         0.28571429]]]\n",
      "Modulus:\n",
      " [[[1 1 2]\n",
      "  [6 4 2]\n",
      "  [0 1 0]]\n",
      "\n",
      " [[4 3 4]\n",
      "  [1 2 3]\n",
      "  [4 0 2]]]\n"
     ]
    }
   ],
   "source": [
    "print(\"Addition:\\n\", np.add(matrix1,matrix2)) #add 5 in all elements of array\n",
    "print(\"Subtraction:\\n\", np.subtract(matrix1,matrix2)) #subtract 5 in all elements of array\n",
    "print(\"Multiplication:\\n\", np.multiply(matrix1,matrix2))\n",
    "print(\"Division:\\n\", np.divide(matrix1,matrix2))\n",
    "print(\"Modulus:\\n\", np.mod(matrix1,matrix2))"
   ]
  },
  {
   "cell_type": "code",
   "execution_count": 44,
   "id": "fa83573e",
   "metadata": {},
   "outputs": [
    {
     "name": "stdout",
     "output_type": "stream",
     "text": [
      "[8.13296556 7.65431659 8.68041043 2.29711374 1.45556134]\n"
     ]
    }
   ],
   "source": [
    "#3. MORE Arithematic Operations...\n",
    "\n",
    "#1D ARRAY\n",
    "marr=np.random.rand(5)*10\n",
    "print(marr)"
   ]
  },
  {
   "cell_type": "code",
   "execution_count": 46,
   "id": "cf7af6d6",
   "metadata": {},
   "outputs": [
    {
     "name": "stdout",
     "output_type": "stream",
     "text": [
      "absolute [8.13296556 7.65431659 8.68041043 2.29711374 1.45556134]\n",
      "square [66.14512879 58.58856243 75.34952528  5.27673156  2.11865883]\n",
      "square root [2.85183547 2.76664356 2.94625363 1.51562322 1.20646647]\n",
      "cube root [2.01101964 1.97076787 2.05516528 1.31945373 1.13329639]\n",
      "log with base e [2.09592562 2.03526975 2.16106881 0.83165344 0.37539163]\n",
      "log with base 2 [3.0237815  2.93627357 3.11776326 1.1998223  0.54157564]\n",
      "log with base 10 [0.91024893 0.88390642 0.93854026 0.3611825  0.16303051]\n",
      "Return True if an element is not a number [False False False False False]\n",
      "Ceil of value:  [9. 8. 9. 3. 2.]\n",
      "Floor:  [8. 7. 8. 2. 1.]\n",
      "Cummulative sum along the axix [ 8.13296556 15.78728215 24.46769258 26.76480632 28.22036767]\n"
     ]
    }
   ],
   "source": [
    "print(\"absolute\",np.abs(marr))\n",
    "print(\"square\",np.square(marr))\n",
    "print(\"square root\",np.sqrt(marr))\n",
    "print(\"cube root\",np.cbrt(marr))\n",
    "print(\"log with base e\",np.log(marr))\n",
    "print(\"log with base 2\",np.log2(marr))\n",
    "print(\"log with base 10\",np.log10(marr))\n",
    "print(\"Return True if an element is not a number\",np.isnan(marr))\n",
    "print(\"Ceil of value: \",np.ceil(marr))\n",
    "print(\"Floor: \",np.floor(marr))\n",
    "print(\"Cummulative sum along the axix\",np.cumsum(marr))"
   ]
  },
  {
   "cell_type": "code",
   "execution_count": 47,
   "id": "05fc4c51",
   "metadata": {},
   "outputs": [
    {
     "name": "stdout",
     "output_type": "stream",
     "text": [
      "[[19 18 48]\n",
      " [42 28 19]\n",
      " [32 39  9]]\n"
     ]
    }
   ],
   "source": [
    "#2D ARRAY...\n",
    "marr2=np.random.randint(5,50,(3,3))\n",
    "print(marr2)"
   ]
  },
  {
   "cell_type": "code",
   "execution_count": 49,
   "id": "54d70f76",
   "metadata": {},
   "outputs": [
    {
     "name": "stdout",
     "output_type": "stream",
     "text": [
      "square root\n",
      " [[4.35889894 4.24264069 6.92820323]\n",
      " [6.4807407  5.29150262 4.35889894]\n",
      " [5.65685425 6.244998   3.        ]]\n",
      "cube root\n",
      " [[2.66840165 2.62074139 3.63424119]\n",
      " [3.47602664 3.03658897 2.66840165]\n",
      " [3.1748021  3.39121144 2.08008382]]\n",
      "log with base e\n",
      " [[2.94443898 2.89037176 3.87120101]\n",
      " [3.73766962 3.33220451 2.94443898]\n",
      " [3.4657359  3.66356165 2.19722458]]\n",
      "log with base 2\n",
      " [[4.24792751 4.169925   5.5849625 ]\n",
      " [5.39231742 4.80735492 4.24792751]\n",
      " [5.         5.28540222 3.169925  ]]\n",
      "log with base 10\n",
      " [[1.2787536  1.25527251 1.68124124]\n",
      " [1.62324929 1.44715803 1.2787536 ]\n",
      " [1.50514998 1.59106461 0.95424251]]\n"
     ]
    }
   ],
   "source": [
    "print(\"square root\\n\",np.sqrt(marr2))\n",
    "print(\"cube root\\n\",np.cbrt(marr2))\n",
    "print(\"log with base e\\n\",np.log(marr2))\n",
    "print(\"log with base 2\\n\",np.log2(marr2))\n",
    "print(\"log with base 10\\n\",np.log10(marr2))"
   ]
  },
  {
   "cell_type": "code",
   "execution_count": 59,
   "id": "acd110a0",
   "metadata": {},
   "outputs": [
    {
     "name": "stdout",
     "output_type": "stream",
     "text": [
      "[7 2 6 3]\n",
      "Maximum: 7\n",
      "Minimum: 2\n",
      "sum: 18\n",
      "product: 252\n",
      "Mean: 4.5\n",
      "Average: 4.5\n",
      "Average with weights: 4.4\n",
      "Median: 4.5\n",
      "Percentile at 0: 2.0\n",
      "Percentile at 50: 4.5\n",
      "Percentile at 100: 7.0\n",
      "Variance: 4.25\n",
      "Standard Deviation: 2.0615528128088303\n"
     ]
    }
   ],
   "source": [
    "#4. Aggregate Functions... (returns aggerated single value after applying the function)\n",
    "#1D Arrays....\n",
    "print(opa)\n",
    "print(\"Maximum:\", np.max(opa))\n",
    "print(\"Minimum:\", np.min(opa))\n",
    "print(\"sum:\", np.sum(opa)) #sum of all values\n",
    "print(\"product:\", np.prod(opa)) #product of all values\n",
    "print(\"Mean:\", np.mean(opa)) #summ al values divide by no of elements\n",
    "print(\"Average:\", np.average(opa)) #works with weighted average/mean\n",
    "\n",
    "wts=[3,4,2,1]\n",
    "print(\"Average with weights:\", np.average(opa, weights=wts))#((7*3+2*4+2*6+3*1)/7+2+6+3)\n",
    "print(\"Median:\", np.median(opa))\n",
    "print(\"Percentile at 0:\", np.percentile(opa,0))\n",
    "print(\"Percentile at 50:\", np.percentile(opa,50))\n",
    "print(\"Percentile at 100:\", np.percentile(opa,100))\n",
    "print(\"Variance:\", np.var(opa))\n",
    "print(\"Standard Deviation:\", np.std(opa))"
   ]
  },
  {
   "cell_type": "code",
   "execution_count": 64,
   "id": "b3fc0fc5",
   "metadata": {},
   "outputs": [
    {
     "name": "stdout",
     "output_type": "stream",
     "text": [
      "Sum on 2d arrays axis 0: [165 199  97]\n",
      "Sum on 2d arrays axis 1: [ 57 219 185]\n"
     ]
    }
   ],
   "source": [
    "#2D Arrays....\n",
    "#for 2d aggregate functions axis is compulsory..\n",
    "agarr=np.random.randint(1,100,(3,3))\n",
    "print(\"Sum on 2d arrays axis 0:\", np.sum(agarr,axis=0))\n",
    "print(\"Sum on 2d arrays axis 1:\", np.sum(agarr,axis=1))"
   ]
  },
  {
   "cell_type": "code",
   "execution_count": 67,
   "id": "d31cf743",
   "metadata": {},
   "outputs": [
    {
     "name": "stdout",
     "output_type": "stream",
     "text": [
      "Medain on 2d arrays axis 0: [70. 79. 36.]\n",
      "Median on 2d arrays axis 1: [23. 72. 70.]\n",
      "Mean on 2d arrays axis 0: [55.         66.33333333 32.33333333]\n",
      "Mean on 2d arrays axis 1: [19.         73.         61.66666667]\n"
     ]
    }
   ],
   "source": [
    "print(\"Medain on 2d arrays axis 0:\", np.median(agarr,axis=0))\n",
    "print(\"Median on 2d arrays axis 1:\", np.median(agarr,axis=1))\n",
    "\n",
    "print(\"Mean on 2d arrays axis 0:\", np.mean(agarr,axis=0))\n",
    "print(\"Mean on 2d arrays axis 1:\", np.mean(agarr,axis=1))"
   ]
  },
  {
   "cell_type": "code",
   "execution_count": 68,
   "id": "fdf725ef",
   "metadata": {},
   "outputs": [
    {
     "name": "stdout",
     "output_type": "stream",
     "text": [
      "[[[33 52]\n",
      "  [ 7 24]]\n",
      "\n",
      " [[29 23]\n",
      "  [30  5]]]\n"
     ]
    }
   ],
   "source": [
    "#3D Arrays....\n",
    "#for 2d aggregate functions axis is compulsory..\n",
    "agg3d=np.random.randint(1,100,(2,2,2,))\n",
    "print(agg3d)"
   ]
  },
  {
   "cell_type": "code",
   "execution_count": 81,
   "id": "29957e2c",
   "metadata": {},
   "outputs": [
    {
     "name": "stdout",
     "output_type": "stream",
     "text": [
      "sum on 3d arrays axis 0:\n",
      " [[62 75]\n",
      " [37 29]]\n",
      "sum on 3d arrays axis 1:\n",
      " [[40 76]\n",
      " [59 28]]\n",
      "sum on 3d arrays axis 2:\n",
      " [[85 31]\n",
      " [52 35]]\n"
     ]
    }
   ],
   "source": [
    "print(\"sum on 3d arrays axis 0:\\n\", np.sum(agg3d,axis=0)) #fusion in sandwich form\n",
    "print(\"sum on 3d arrays axis 1:\\n\", np.sum(agg3d,axis=1)) #layer by layer each coloum is added\n",
    "print(\"sum on 3d arrays axis 2:\\n\", np.sum(agg3d,axis=2)) #layer by layer each row is added "
   ]
  },
  {
   "cell_type": "code",
   "execution_count": 85,
   "id": "3c97a324",
   "metadata": {},
   "outputs": [
    {
     "name": "stdout",
     "output_type": "stream",
     "text": [
      "[7 2 6 3]\n",
      "[3 2 8 1]\n",
      "Equal :  [False  True False False]\n",
      "Not Equal :  [ True False  True  True]\n",
      "Greater Equal :  [ True  True False  True]\n",
      "Lesser Equal :  [False  True  True False]\n",
      "Greater :  [ True False False  True]\n",
      "Lesser :  [False False  True False]\n"
     ]
    }
   ],
   "source": [
    "#COMPARISON OPERATIONS...\n",
    "#1D Arrays....\n",
    "print(opa)\n",
    "print(opa1)\n",
    "print(\"Equal : \", opa == opa1)\n",
    "print(\"Not Equal : \", opa != opa1)\n",
    "print(\"Greater Equal : \", opa >= opa1)\n",
    "print(\"Lesser Equal : \", opa <= opa1)\n",
    "\n",
    "print(\"Greater : \", opa > opa1)\n",
    "print(\"Lesser : \", opa < opa1)"
   ]
  },
  {
   "cell_type": "code",
   "execution_count": 88,
   "id": "9a53e8f0",
   "metadata": {},
   "outputs": [
    {
     "name": "stdout",
     "output_type": "stream",
     "text": [
      "[[8 1]\n",
      " [2 4]]\n",
      "[[6 6]\n",
      " [7 3]]\n",
      "Equal :\n",
      "  [[False False]\n",
      " [False False]]\n",
      "Not Equal :\n",
      "  [[ True  True]\n",
      " [ True  True]]\n",
      "Greater Equal :\n",
      "  [[ True False]\n",
      " [False  True]]\n",
      "Lesser Equal : \n",
      " [[False  True]\n",
      " [ True False]]\n",
      "Greater : \n",
      " [[ True False]\n",
      " [False  True]]\n",
      "Lesser : \n",
      " [[False  True]\n",
      " [ True False]]\n"
     ]
    }
   ],
   "source": [
    "#2d Arrays...\n",
    "print(mat1)\n",
    "print(mat2)\n",
    "print(\"Equal :\\n \", np.equal(mat1, mat2))\n",
    "print(\"Not Equal :\\n \", np.not_equal(mat1, mat2))\n",
    "print(\"Greater Equal :\\n \",np.greater_equal(mat1, mat2) )\n",
    "print(\"Lesser Equal : \\n\", np.less_equal(mat1, mat2))\n",
    "\n",
    "print(\"Greater : \\n\",np.greater(mat1, mat2) )\n",
    "print(\"Lesser : \\n\",np.less(mat1, mat2) )"
   ]
  },
  {
   "cell_type": "code",
   "execution_count": 96,
   "id": "e691bf94",
   "metadata": {},
   "outputs": [
    {
     "name": "stdout",
     "output_type": "stream",
     "text": [
      "Array element searching (array([1, 3, 4, 5, 6, 8], dtype=int64),)\n",
      "Array element searching of evens (array([1, 2, 3, 6, 7, 8], dtype=int64),)\n",
      "Array element searching of evens [False  True  True  True False False  True  True  True False]\n"
     ]
    }
   ],
   "source": [
    "#SEARCHING IN NUMPY ARRAYS...\n",
    "#1D Arrays...\n",
    "\n",
    "sarr= np.array([1,4,2,6,5,7,8,2,8,3])\n",
    "s1=np.where(sarr >= 4) #return a tuple with (an array with all indexex where value is >= 4, dtype)\n",
    "print(\"Array element searching\", s1)\n",
    "\n",
    "\n",
    "s2=np.where(sarr%2 == 0) #return a tuple with (an array with all indexex where value is >= 4, dtype)\n",
    "print(\"Array element searching of evens\", s2)\n",
    "\n",
    "s3=np.where(sarr%2 == 0, True, False) #return an Array with True for which condition is true and false for false condition.\n",
    "print(\"Array element searching of evens\", s3)"
   ]
  },
  {
   "cell_type": "code",
   "execution_count": 100,
   "id": "1ad5e112",
   "metadata": {},
   "outputs": [
    {
     "name": "stdout",
     "output_type": "stream",
     "text": [
      "Array element searching (array([0, 2], dtype=int64), array([1, 0], dtype=int64))\n"
     ]
    }
   ],
   "source": [
    "#2D Arrays...\n",
    "matrix= np.array([[4,2,6],[5,7,8],[2,8,3]])\n",
    "s4=np.where(matrix==2) #return two tuples 1st->(rows with condition true) 2nd->(cols with true condition)\n",
    "print(\"Array element searching\", s4)"
   ]
  },
  {
   "cell_type": "code",
   "execution_count": 103,
   "id": "5b6699e9",
   "metadata": {},
   "outputs": [
    {
     "name": "stdout",
     "output_type": "stream",
     "text": [
      "Array element searching (array([0], dtype=int64), array([0], dtype=int64), array([1], dtype=int64))\n",
      "Array element searching\n",
      " [[[False  True]\n",
      "  [False  True]]\n",
      "\n",
      " [[False  True]\n",
      "  [False  True]]]\n"
     ]
    }
   ],
   "source": [
    "#2D Arrays...\n",
    "matrix3= np.array([[[1,2],[3,4]],[[5,6],[7,8]]])\n",
    "s5=np.where(matrix3==2)\n",
    "#return 3 tuples 1st->(layer with true condition) 2nd->(rows with condition true) 3rd->(cols with true condition)\n",
    "print(\"Array element searching\", s5)\n",
    "\n",
    "s6=np.where(matrix3%2 ==0, True, False)\n",
    "#return 3 tuples 1st->(layer with true condition) 2nd->(rows with condition true) 3rd->(cols with true condition)\n",
    "print(\"Array element searching\\n\", s6)"
   ]
  },
  {
   "cell_type": "code",
   "execution_count": null,
   "id": "74442cfd",
   "metadata": {},
   "outputs": [],
   "source": []
  }
 ],
 "metadata": {
  "kernelspec": {
   "display_name": "Python 3 (ipykernel)",
   "language": "python",
   "name": "python3"
  },
  "language_info": {
   "codemirror_mode": {
    "name": "ipython",
    "version": 3
   },
   "file_extension": ".py",
   "mimetype": "text/x-python",
   "name": "python",
   "nbconvert_exporter": "python",
   "pygments_lexer": "ipython3",
   "version": "3.9.13"
  }
 },
 "nbformat": 4,
 "nbformat_minor": 5
}
