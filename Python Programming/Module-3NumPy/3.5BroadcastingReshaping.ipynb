{
 "cells": [
  {
   "cell_type": "code",
   "execution_count": 4,
   "id": "4ff71c64",
   "metadata": {},
   "outputs": [
    {
     "name": "stdout",
     "output_type": "stream",
     "text": [
      "[ 7  9  5  4 11 10  7  8]\n",
      "[[5 7 2 9]\n",
      " [8 5 6 3]]\n"
     ]
    }
   ],
   "source": [
    "#BROADCASTING AND RESHAPING...\n",
    "import numpy as np\n",
    "#1. broadcasting \n",
    "arr=np.array([3,5,1,0,7,6,3,4]) #[3,5,1,0,7,6,3,4]+[4,4,4,4,4,4,4,4]\n",
    "print(arr+4)\n",
    "\n",
    "arr2=np.array([[3,5,0,7],[6,3,4,1]]) \n",
    "print(arr2+2) #[[2,2,2,2],[2,2,2,2]] is added actually"
   ]
  },
  {
   "cell_type": "code",
   "execution_count": 5,
   "id": "49c345e0",
   "metadata": {},
   "outputs": [
    {
     "name": "stdout",
     "output_type": "stream",
     "text": [
      "[[ 3  8  6  8]\n",
      " [ 5  9  9 10]\n",
      " [ 4 12 12 16]]\n"
     ]
    }
   ],
   "source": [
    "#1D and 2D arrays are taken\n",
    "a1=np.array([3,5,4,7])\n",
    "a2=np.array([\n",
    "    [0,3,2,1],\n",
    "    [2,4,5,3],\n",
    "    [1,7,8,9]])\n",
    "# 3 5 4 7     0 3 2 1\n",
    "# 3 5 4 7  +  2 4 5 3\n",
    "# 3 5 4 7     1 7 8 9\n",
    "print(a1+a2) #add 1d row array in all rows of 2d arrays"
   ]
  },
  {
   "cell_type": "code",
   "execution_count": 7,
   "id": "4798ccf1",
   "metadata": {},
   "outputs": [
    {
     "name": "stdout",
     "output_type": "stream",
     "text": [
      "[[ 3  6  5  4]\n",
      " [ 7  9 10  8]\n",
      " [ 5 11 12 13]]\n"
     ]
    }
   ],
   "source": [
    "#2D arrays are taken\n",
    "a3=np.array([[3],\n",
    "             [5],\n",
    "             [4]])\n",
    "# 3 3 3 3   0 3 2 1\n",
    "# 5 5 5 5 + 2 4 5 3\n",
    "# 4 4 4 4   1 7 8 9\n",
    "print(a3+a2) #add 2d col array in all cols of  2d array."
   ]
  },
  {
   "cell_type": "code",
   "execution_count": 9,
   "id": "8393538d",
   "metadata": {},
   "outputs": [
    {
     "name": "stdout",
     "output_type": "stream",
     "text": [
      "operands could not be broadcast together with shapes (3,4) (2,) \n"
     ]
    }
   ],
   "source": [
    "# Error of Broadcasting\n",
    "a4=np.array([1,2])\n",
    "try:\n",
    "    print(a2+a4)\n",
    "except ValueError as e:\n",
    "    print(e)\n",
    "    "
   ]
  },
  {
   "cell_type": "code",
   "execution_count": 11,
   "id": "34e07558",
   "metadata": {},
   "outputs": [
    {
     "name": "stdout",
     "output_type": "stream",
     "text": [
      "Array [ 0  1  2  3  4  5  6  7  8  9 10 11]\n",
      "Dimenson 1\n",
      "Shape (12,)\n"
     ]
    }
   ],
   "source": [
    "#RESHAPPING....\n",
    "#1. changing SHAPE Attribute...\n",
    "arr=np.arange(12)\n",
    "print(\"Array\",arr)\n",
    "print(\"Dimenson\",arr.ndim)\n",
    "print(\"Shape\",arr.shape)"
   ]
  },
  {
   "cell_type": "code",
   "execution_count": 16,
   "id": "d87a9103",
   "metadata": {},
   "outputs": [
    {
     "name": "stdout",
     "output_type": "stream",
     "text": [
      "Array \n",
      " [[ 0  1  2]\n",
      " [ 3  4  5]\n",
      " [ 6  7  8]\n",
      " [ 9 10 11]]\n",
      "Dimenson 2\n",
      "Shape (4, 3)\n"
     ]
    }
   ],
   "source": [
    "arr.shape =(4,3)\n",
    "print(\"Array \\n\",arr)\n",
    "print(\"Dimenson\",arr.ndim)\n",
    "print(\"Shape\",arr.shape)"
   ]
  },
  {
   "cell_type": "code",
   "execution_count": 17,
   "id": "bc1c3ae2",
   "metadata": {},
   "outputs": [
    {
     "name": "stdout",
     "output_type": "stream",
     "text": [
      "Array \n",
      " [[ 0  1  2  3]\n",
      " [ 4  5  6  7]\n",
      " [ 8  9 10 11]]\n",
      "Dimenson 2\n",
      "Shape (3, 4)\n"
     ]
    }
   ],
   "source": [
    "arr.shape =(3,4) \n",
    "print(\"Array \\n\",arr)\n",
    "print(\"Dimenson\",arr.ndim)\n",
    "print(\"Shape\",arr.shape)"
   ]
  },
  {
   "cell_type": "code",
   "execution_count": 19,
   "id": "56891b06",
   "metadata": {},
   "outputs": [
    {
     "name": "stdout",
     "output_type": "stream",
     "text": [
      "Array [0 1 2 3 4 5 6 7 8]\n",
      "Dimenson 1\n",
      "Shape (9,)\n"
     ]
    }
   ],
   "source": [
    "#2. RESHAPE(array, shape)\n",
    "arr1=np.arange(9)\n",
    "print(\"Array\",arr1)\n",
    "print(\"Dimenson\",arr1.ndim)\n",
    "print(\"Shape\",arr1.shape)"
   ]
  },
  {
   "cell_type": "code",
   "execution_count": 30,
   "id": "18613351",
   "metadata": {},
   "outputs": [
    {
     "name": "stdout",
     "output_type": "stream",
     "text": [
      "Array\n",
      " [[ 0  1  2]\n",
      " [ 3  4  5]\n",
      " [ 6  7 99]]\n",
      "Dimenson 2\n",
      "Shape (3, 3)\n",
      "Array\n",
      " [ 0  1  2  3  4  5  6  7 99]\n",
      "Array\n",
      " [[ 0  1  2]\n",
      " [ 3  4  5]\n",
      " [ 6  7 99]]\n"
     ]
    }
   ],
   "source": [
    "a2=np.reshape(arr1, (3,3)) #not InPlace creates a shallow copy of original\n",
    "print(\"Array\\n\",a2)\n",
    "print(\"Dimenson\",a2.ndim)\n",
    "print(\"Shape\",a2.shape)\n",
    "\n",
    "a2[2][2]=99\n",
    "print(\"Array\\n\",arr1) #that means changes will be made in both \n",
    "print(\"Array\\n\",a2)\n"
   ]
  },
  {
   "cell_type": "code",
   "execution_count": 32,
   "id": "de335c54",
   "metadata": {},
   "outputs": [
    {
     "name": "stdout",
     "output_type": "stream",
     "text": [
      "Array\n",
      " [[[ 0  1]\n",
      "  [ 2  3]\n",
      "  [ 4  5]]\n",
      "\n",
      " [[ 6  7]\n",
      "  [ 8  9]\n",
      "  [10 11]]]\n",
      "Dimenson 3\n",
      "Shape (2, 3, 2)\n"
     ]
    }
   ],
   "source": [
    "a3=np.reshape(arr,(2,3,2)) #more than one levels\n",
    "print(\"Array\\n\",a3)\n",
    "print(\"Dimenson\",a3.ndim)\n",
    "print(\"Shape\",a3.shape)"
   ]
  },
  {
   "cell_type": "code",
   "execution_count": 27,
   "id": "7617e2e4",
   "metadata": {},
   "outputs": [
    {
     "name": "stdout",
     "output_type": "stream",
     "text": [
      "flatten array:\n",
      " [2 3 4 5 6 7]\n",
      "Shape (6,)\n",
      "Dimenson 1\n"
     ]
    }
   ],
   "source": [
    "#flattening of array by shape =-1\n",
    "mat=np.array([[2,3],[4,5],[6,7]])\n",
    "a4=np.reshape(mat,-1) #passing -1 as shape arg\n",
    "print(\"flatten array:\\n\",a4)\n",
    "print(\"Shape\",a4.shape)\n",
    "print(\"Dimenson\",a4.ndim)"
   ]
  },
  {
   "cell_type": "code",
   "execution_count": 35,
   "id": "e32cdd9a",
   "metadata": {},
   "outputs": [
    {
     "ename": "ValueError",
     "evalue": "cannot reshape array of size 9 into shape (3,2)",
     "output_type": "error",
     "traceback": [
      "\u001b[1;31m---------------------------------------------------------------------------\u001b[0m",
      "\u001b[1;31mValueError\u001b[0m                                Traceback (most recent call last)",
      "\u001b[1;32m~\\AppData\\Local\\Temp\\ipykernel_12100\\1762423203.py\u001b[0m in \u001b[0;36m<module>\u001b[1;34m\u001b[0m\n\u001b[0;32m      1\u001b[0m \u001b[1;31m#reshapping to incompatible shape/size\u001b[0m\u001b[1;33m\u001b[0m\u001b[1;33m\u001b[0m\u001b[0m\n\u001b[1;32m----> 2\u001b[1;33m \u001b[0mprint\u001b[0m\u001b[1;33m(\u001b[0m\u001b[0mnp\u001b[0m\u001b[1;33m.\u001b[0m\u001b[0mreshape\u001b[0m\u001b[1;33m(\u001b[0m\u001b[0marr1\u001b[0m\u001b[1;33m,\u001b[0m \u001b[1;33m(\u001b[0m\u001b[1;36m3\u001b[0m\u001b[1;33m,\u001b[0m\u001b[1;36m2\u001b[0m\u001b[1;33m)\u001b[0m\u001b[1;33m)\u001b[0m\u001b[1;33m)\u001b[0m \u001b[1;31m#raise error\u001b[0m\u001b[1;33m\u001b[0m\u001b[1;33m\u001b[0m\u001b[0m\n\u001b[0m",
      "\u001b[1;32m<__array_function__ internals>\u001b[0m in \u001b[0;36mreshape\u001b[1;34m(*args, **kwargs)\u001b[0m\n",
      "\u001b[1;32m~\\anaconda3\\lib\\site-packages\\numpy\\core\\fromnumeric.py\u001b[0m in \u001b[0;36mreshape\u001b[1;34m(a, newshape, order)\u001b[0m\n\u001b[0;32m    296\u001b[0m            [5, 6]])\n\u001b[0;32m    297\u001b[0m     \"\"\"\n\u001b[1;32m--> 298\u001b[1;33m     \u001b[1;32mreturn\u001b[0m \u001b[0m_wrapfunc\u001b[0m\u001b[1;33m(\u001b[0m\u001b[0ma\u001b[0m\u001b[1;33m,\u001b[0m \u001b[1;34m'reshape'\u001b[0m\u001b[1;33m,\u001b[0m \u001b[0mnewshape\u001b[0m\u001b[1;33m,\u001b[0m \u001b[0morder\u001b[0m\u001b[1;33m=\u001b[0m\u001b[0morder\u001b[0m\u001b[1;33m)\u001b[0m\u001b[1;33m\u001b[0m\u001b[1;33m\u001b[0m\u001b[0m\n\u001b[0m\u001b[0;32m    299\u001b[0m \u001b[1;33m\u001b[0m\u001b[0m\n\u001b[0;32m    300\u001b[0m \u001b[1;33m\u001b[0m\u001b[0m\n",
      "\u001b[1;32m~\\anaconda3\\lib\\site-packages\\numpy\\core\\fromnumeric.py\u001b[0m in \u001b[0;36m_wrapfunc\u001b[1;34m(obj, method, *args, **kwds)\u001b[0m\n\u001b[0;32m     55\u001b[0m \u001b[1;33m\u001b[0m\u001b[0m\n\u001b[0;32m     56\u001b[0m     \u001b[1;32mtry\u001b[0m\u001b[1;33m:\u001b[0m\u001b[1;33m\u001b[0m\u001b[1;33m\u001b[0m\u001b[0m\n\u001b[1;32m---> 57\u001b[1;33m         \u001b[1;32mreturn\u001b[0m \u001b[0mbound\u001b[0m\u001b[1;33m(\u001b[0m\u001b[1;33m*\u001b[0m\u001b[0margs\u001b[0m\u001b[1;33m,\u001b[0m \u001b[1;33m**\u001b[0m\u001b[0mkwds\u001b[0m\u001b[1;33m)\u001b[0m\u001b[1;33m\u001b[0m\u001b[1;33m\u001b[0m\u001b[0m\n\u001b[0m\u001b[0;32m     58\u001b[0m     \u001b[1;32mexcept\u001b[0m \u001b[0mTypeError\u001b[0m\u001b[1;33m:\u001b[0m\u001b[1;33m\u001b[0m\u001b[1;33m\u001b[0m\u001b[0m\n\u001b[0;32m     59\u001b[0m         \u001b[1;31m# A TypeError occurs if the object does have such a method in its\u001b[0m\u001b[1;33m\u001b[0m\u001b[1;33m\u001b[0m\u001b[0m\n",
      "\u001b[1;31mValueError\u001b[0m: cannot reshape array of size 9 into shape (3,2)"
     ]
    }
   ],
   "source": [
    "\n",
    "#reshapping to incompatible shape/size\n",
    "print(np.reshape(arr1, (3,2))) #raise error\n"
   ]
  },
  {
   "cell_type": "code",
   "execution_count": 39,
   "id": "70378f53",
   "metadata": {},
   "outputs": [
    {
     "name": "stdout",
     "output_type": "stream",
     "text": [
      "[ 0  1  2  3  4  5  6  7 99]\n",
      "[[0 1]\n",
      " [2 3]\n",
      " [4 5]]\n",
      "[ 0  1  2  3  4  5  6  7 99]\n",
      "[[ 0  1]\n",
      " [ 2  3]\n",
      " [ 4 66]]\n"
     ]
    }
   ],
   "source": [
    "#3. RESIZE(arr, newshape)\n",
    "#MAJOR DIFF -> not raise error for incompatible shapes\n",
    "print(arr1)\n",
    "a6=np.resize(arr1, (3,2))\n",
    "print(a6) # not raise error\n",
    "\n",
    "\n",
    "a6[2][1]=66 #creates a deep copy object so change in one will not effect other\n",
    "print(arr1)\n",
    "print(a6)"
   ]
  },
  {
   "cell_type": "code",
   "execution_count": 41,
   "id": "f5d41e0a",
   "metadata": {},
   "outputs": [
    {
     "name": "stdout",
     "output_type": "stream",
     "text": [
      "New Resized into bigger shape:\n",
      " [[1 2 3 4]\n",
      " [5 6 1 2]\n",
      " [3 4 5 6]\n",
      " [1 2 3 4]]\n",
      "New Resized into bigger shape:\n",
      " [[1 2]\n",
      " [3 4]]\n"
     ]
    }
   ],
   "source": [
    "#Experiments....\n",
    "newa=np.array([1,2,3,4,5,6])\n",
    "new=np.resize(newa,(4,4)) #by repeating elements from start to end until the required shape is filled\n",
    "print(\"New Resized into bigger shape:\\n\", new)\n",
    "\n",
    "new1=np.resize(newa,(2,2)) #by repeating elements from start to end until the required shape is filled\n",
    "print(\"New Resized into bigger shape:\\n\", new1)"
   ]
  },
  {
   "cell_type": "code",
   "execution_count": 42,
   "id": "bc9f06c2",
   "metadata": {},
   "outputs": [
    {
     "name": "stdout",
     "output_type": "stream",
     "text": [
      "[[1 5]\n",
      " [2 6]\n",
      " [3 7]\n",
      " [4 8]]\n",
      "[[ 1  2  3  4]\n",
      " [ 5  6 99  8]]\n",
      "[[ 1  5]\n",
      " [ 2  6]\n",
      " [ 3 99]\n",
      " [ 4  8]]\n"
     ]
    }
   ],
   "source": [
    "#4. Transpose()  ->called from array obh not from np\n",
    "ta=np.array([[1,2,3,4],[5,6,7,8]])\n",
    "ta2=ta.transpose()\n",
    "print(ta2)\n",
    "\n",
    "ta[1][2]=99\n",
    "\n",
    "print(ta)\n",
    "print(ta2)"
   ]
  },
  {
   "cell_type": "code",
   "execution_count": 54,
   "id": "479afb68",
   "metadata": {},
   "outputs": [
    {
     "name": "stdout",
     "output_type": "stream",
     "text": [
      "Original: \n",
      " [[0 1 2]\n",
      " [3 4 5]\n",
      " [6 7 8]]\n",
      "New 0,1: \n",
      " [[0 3 6]\n",
      " [1 4 7]\n",
      " [2 5 8]]\n",
      "New 1,0: \n",
      " [[0 3 6]\n",
      " [1 4 7]\n",
      " [2 5 8]]\n"
     ]
    }
   ],
   "source": [
    "#5. SWAPAXES(arr, axis1, axis2)\n",
    "sarr=np.arange(9).reshape(3,3)\n",
    "print(\"Original: \\n\", sarr)\n",
    "\n",
    "ns= np.swapaxes(sarr, 1,0)\n",
    "print(\"New 0,1: \\n\", ns)\n",
    "print(\"New 1,0: \\n\", np.swapaxes(sarr, 0,1)) #will transpose basically"
   ]
  },
  {
   "cell_type": "code",
   "execution_count": 66,
   "id": "6fde68ec",
   "metadata": {},
   "outputs": [
    {
     "name": "stdout",
     "output_type": "stream",
     "text": [
      "Original: \n",
      " [[[ 0  1  2]\n",
      "  [ 3  4  5]\n",
      "  [ 6  7  8]]\n",
      "\n",
      " [[ 9 10 11]\n",
      "  [12 13 14]\n",
      "  [15 16 17]]] \n",
      "Shape :  (2, 3, 3)\n"
     ]
    }
   ],
   "source": [
    "#3D Array Swapping...\n",
    "s3arr=np.arange(18).reshape(2,3,3)\n",
    "print(\"Original: \\n\", s3arr, \"\\nShape : \", s3arr.shape)"
   ]
  },
  {
   "cell_type": "code",
   "execution_count": 67,
   "id": "38e85a31",
   "metadata": {},
   "outputs": [
    {
     "name": "stdout",
     "output_type": "stream",
     "text": [
      "New 3d swap axes: \n",
      " [[[ 0  1  2]\n",
      "  [ 9 10 11]]\n",
      "\n",
      " [[ 3  4  5]\n",
      "  [12 13 14]]\n",
      "\n",
      " [[ 6  7  8]\n",
      "  [15 16 17]]] \n",
      "Shape:  (3, 2, 3)\n"
     ]
    }
   ],
   "source": [
    "sht=np.swapaxes(s3arr, 0,1)\n",
    "#levels are swapped with rows (3 new levels each with ith row from 2 old levels )\n",
    "#level 1-> 1st row of level 1 and row 1st of level 2\n",
    "#level 2-> 2nd row of level 1 + 2nd row of level 2\n",
    "#level 3-> 3rd row of level 1\\= 2nd row of level 2\n",
    "print(\"New 3d swap axes: \\n\", sht, \"\\nShape: \", sht.shape) #swap rows in levels"
   ]
  },
  {
   "cell_type": "code",
   "execution_count": 68,
   "id": "3fe3e905",
   "metadata": {},
   "outputs": [
    {
     "name": "stdout",
     "output_type": "stream",
     "text": [
      "Original: \n",
      " [[[ 0  1  2]\n",
      "  [ 3  4  5]\n",
      "  [ 6  7  8]]\n",
      "\n",
      " [[ 9 10 11]\n",
      "  [12 13 14]\n",
      "  [15 16 17]]]\n",
      "New 3d swap axes: \n",
      " [[[ 0  9]\n",
      "  [ 3 12]\n",
      "  [ 6 15]]\n",
      "\n",
      " [[ 1 10]\n",
      "  [ 4 13]\n",
      "  [ 7 16]]\n",
      "\n",
      " [[ 2 11]\n",
      "  [ 5 14]\n",
      "  [ 8 17]]] \n",
      "Shape:  (3, 3, 2)\n"
     ]
    }
   ],
   "source": [
    "print(\"Original: \\n\", s3arr) \n",
    "\n",
    "sw3= np.swapaxes(s3arr, 0,2)\n",
    "#levels are swapped with cols (3 new levels each with ith col from 2 old levels )\n",
    "print(\"New 3d swap axes: \\n\",sw3, \"\\nShape: \", sw3.shape) #swap cols of levels"
   ]
  },
  {
   "cell_type": "code",
   "execution_count": 62,
   "id": "c1533fc4",
   "metadata": {},
   "outputs": [
    {
     "name": "stdout",
     "output_type": "stream",
     "text": [
      "Original: \n",
      " [[[ 0  1  2]\n",
      "  [ 3  4  5]\n",
      "  [ 6  7  8]]\n",
      "\n",
      " [[ 9 10 11]\n",
      "  [12 13 14]\n",
      "  [15 16 17]]]\n",
      "New 3d swap axes: \n",
      " [[[ 0  3  6]\n",
      "  [ 1  4  7]\n",
      "  [ 2  5  8]]\n",
      "\n",
      " [[ 9 12 15]\n",
      "  [10 13 16]\n",
      "  [11 14 17]]]\n"
     ]
    }
   ],
   "source": [
    "print(\"Original: \\n\", s3arr)\n",
    "print(\"New 3d swap axes: \\n\", np.swapaxes(s3arr, 1,2))\n",
    "# row and cols with in a level will be swapped within levels"
   ]
  },
  {
   "cell_type": "code",
   "execution_count": 70,
   "id": "31db6ec3",
   "metadata": {},
   "outputs": [
    {
     "name": "stdout",
     "output_type": "stream",
     "text": [
      "[[ 0  1  2  3]\n",
      " [ 4  5  6  7]\n",
      " [ 8  9 10 11]]\n",
      "Row Major Flatten:\n",
      " [ 0  1  2  3  4  5  6  7  8  9 10 11]\n",
      "Row Major Flatten:\n",
      " [ 0  4  8  1  5  9  2  6 10  3  7 11]\n"
     ]
    }
   ],
   "source": [
    "#6. FALLTTEN(order='C'/'F')\n",
    "farr=np.arange(12).reshape(3,4)\n",
    "print(farr)\n",
    "\n",
    "nf= farr.flatten()\n",
    "print(\"Row Major Flatten:\\n\", nf)\n",
    "\n",
    "\n",
    "nfc= farr.flatten(order='F')\n",
    "print(\"Row Major Flatten:\\n\", nfc)"
   ]
  },
  {
   "cell_type": "code",
   "execution_count": 71,
   "id": "f27a4f90",
   "metadata": {},
   "outputs": [
    {
     "name": "stdout",
     "output_type": "stream",
     "text": [
      "[ 0  1  2  3  4  5  6  7  8  9 10 11]\n"
     ]
    }
   ],
   "source": [
    "#7. SORT(arr, axis=None)\n",
    "#1d sort\n",
    "sort=np.sort(nfc)\n",
    "print(sort)"
   ]
  },
  {
   "cell_type": "code",
   "execution_count": 83,
   "id": "76bc5a43",
   "metadata": {},
   "outputs": [
    {
     "name": "stdout",
     "output_type": "stream",
     "text": [
      "[[48  1 38]\n",
      " [25 29 15]\n",
      " [ 3 37 31]]\n"
     ]
    }
   ],
   "source": [
    "#2d sort\n",
    "srarr=np.random.randint(1,50,(3,3))\n",
    "print(srarr)"
   ]
  },
  {
   "cell_type": "code",
   "execution_count": 84,
   "id": "f46028ea",
   "metadata": {},
   "outputs": [
    {
     "name": "stdout",
     "output_type": "stream",
     "text": [
      "No Axis [ 1  3 15 25 29 31 37 38 48]\n",
      "Axis 0: \n",
      " [[ 3  1 15]\n",
      " [25 29 31]\n",
      " [48 37 38]]\n",
      "Axis 1: \n",
      " [[ 1 38 48]\n",
      " [15 25 29]\n",
      " [ 3 31 37]]\n"
     ]
    }
   ],
   "source": [
    "sort1=np.sort(srarr, axis=None)\n",
    "print(\"No Axis\",sort1) #no axis passed so flatten the array and sort in ascending order\n",
    "\n",
    "sortX=np.sort(srarr, axis=0) #sort each column separately\n",
    "print(\"Axis 0: \\n\",sortX) #axis 0 s0\n",
    "\n",
    "sortY=np.sort(srarr, axis=1) #sort each row separate;\n",
    "print(\"Axis 1: \\n\", sortY) #axis 1 so"
   ]
  },
  {
   "cell_type": "code",
   "execution_count": 87,
   "id": "e8915ad6",
   "metadata": {},
   "outputs": [
    {
     "name": "stdout",
     "output_type": "stream",
     "text": [
      "[13 37 32 39 35 48 29 12  7  6]\n",
      "13,37,32,39,35,48,29,12,7,6,"
     ]
    }
   ],
   "source": [
    "#ITERATION...\n",
    "#1d\n",
    "iarr=np.random.randint(1,50,10)\n",
    "print(iarr)\n",
    "for i in iarr:\n",
    "    print(i, end=\",\")"
   ]
  },
  {
   "cell_type": "code",
   "execution_count": 94,
   "id": "2905b971",
   "metadata": {},
   "outputs": [
    {
     "name": "stdout",
     "output_type": "stream",
     "text": [
      "[[31 38 34]\n",
      " [28 44 26]\n",
      " [ 7  8 19]]\n",
      "iteration:\n",
      "[31 38 34]\n",
      "iteration:\n",
      "[28 44 26]\n",
      "iteration:\n",
      "[ 7  8 19]\n"
     ]
    }
   ],
   "source": [
    "#2d\n",
    "i2arr=np.random.randint(1,50,(3,3))\n",
    "print(i2arr)\n",
    "for i in i2arr: #iterated over first axis of tuple in this case row->3\n",
    "    print(\"iteration:\")\n",
    "    print(i)"
   ]
  },
  {
   "cell_type": "code",
   "execution_count": 96,
   "id": "b5b6bafc",
   "metadata": {},
   "outputs": [
    {
     "name": "stdout",
     "output_type": "stream",
     "text": [
      "[[[17  2 15]\n",
      "  [ 8 25 16]\n",
      "  [47  7 44]]\n",
      "\n",
      " [[28 47  4]\n",
      "  [ 5 31  3]\n",
      "  [ 2  7 36]]]\n",
      "iteration:\n",
      "[[17  2 15]\n",
      " [ 8 25 16]\n",
      " [47  7 44]]\n",
      "iteration:\n",
      "[[28 47  4]\n",
      " [ 5 31  3]\n",
      " [ 2  7 36]]\n"
     ]
    }
   ],
   "source": [
    "#2d\n",
    "i3arr=np.random.randint(1,50,(2,3,3))\n",
    "print(i3arr)\n",
    "for i in i3arr: #level by level #iterated over first axis of tuple in this case level->2\n",
    "    print(\"iteration:\")\n",
    "    print(i)"
   ]
  },
  {
   "cell_type": "code",
   "execution_count": null,
   "id": "8d3f7c6b",
   "metadata": {},
   "outputs": [],
   "source": []
  }
 ],
 "metadata": {
  "kernelspec": {
   "display_name": "Python 3 (ipykernel)",
   "language": "python",
   "name": "python3"
  },
  "language_info": {
   "codemirror_mode": {
    "name": "ipython",
    "version": 3
   },
   "file_extension": ".py",
   "mimetype": "text/x-python",
   "name": "python",
   "nbconvert_exporter": "python",
   "pygments_lexer": "ipython3",
   "version": "3.9.13"
  }
 },
 "nbformat": 4,
 "nbformat_minor": 5
}
