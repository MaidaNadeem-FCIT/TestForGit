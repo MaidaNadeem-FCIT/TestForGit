{
 "cells": [
  {
   "cell_type": "code",
   "execution_count": 1,
   "id": "c47397b4",
   "metadata": {},
   "outputs": [
    {
     "data": {
      "text/plain": [
       "'1.21.5'"
      ]
     },
     "execution_count": 1,
     "metadata": {},
     "output_type": "execute_result"
    }
   ],
   "source": [
    "import numpy as np\n",
    "np.__version__"
   ]
  },
  {
   "cell_type": "code",
   "execution_count": 4,
   "id": "b4c8a060",
   "metadata": {},
   "outputs": [
    {
     "name": "stdout",
     "output_type": "stream",
     "text": [
      "Orinal Array:  [1 2 3 4 5 6 7 8 9 0] Array Shape: (10,)\n",
      "1\n",
      "7\n",
      "5\n",
      "9\n"
     ]
    },
    {
     "ename": "IndexError",
     "evalue": "index 11 is out of bounds for axis 0 with size 10",
     "output_type": "error",
     "traceback": [
      "\u001b[1;31m---------------------------------------------------------------------------\u001b[0m",
      "\u001b[1;31mIndexError\u001b[0m                                Traceback (most recent call last)",
      "\u001b[1;32m~\\AppData\\Local\\Temp\\ipykernel_10740\\2992195411.py\u001b[0m in \u001b[0;36m<module>\u001b[1;34m\u001b[0m\n\u001b[0;32m     13\u001b[0m \u001b[1;33m\u001b[0m\u001b[0m\n\u001b[0;32m     14\u001b[0m \u001b[1;31m#Error of index out of bound...\u001b[0m\u001b[1;33m\u001b[0m\u001b[1;33m\u001b[0m\u001b[0m\n\u001b[1;32m---> 15\u001b[1;33m \u001b[0mprint\u001b[0m\u001b[1;33m(\u001b[0m\u001b[0marr\u001b[0m\u001b[1;33m[\u001b[0m\u001b[1;36m11\u001b[0m\u001b[1;33m]\u001b[0m\u001b[1;33m)\u001b[0m\u001b[1;33m\u001b[0m\u001b[1;33m\u001b[0m\u001b[0m\n\u001b[0m\u001b[0;32m     16\u001b[0m \u001b[0mprint\u001b[0m\u001b[1;33m(\u001b[0m\u001b[0marr\u001b[0m\u001b[1;33m[\u001b[0m\u001b[1;33m-\u001b[0m\u001b[1;36m11\u001b[0m\u001b[1;33m]\u001b[0m\u001b[1;33m)\u001b[0m\u001b[1;33m\u001b[0m\u001b[1;33m\u001b[0m\u001b[0m\n",
      "\u001b[1;31mIndexError\u001b[0m: index 11 is out of bounds for axis 0 with size 10"
     ]
    }
   ],
   "source": [
    "#INDEXING OF NUMPY ARRAYS...\n",
    "\n",
    "#1. 1D Arrays...\n",
    "l1=[1,2,3,4,5,6,7,8,9,0]\n",
    "arr=np.array(l1, dtype=np.uint8)\n",
    "print(\"Orignal Array: \", arr, \"Array Shape:\", arr.shape)\n",
    "\n",
    "#check indexing...\n",
    "print(arr[0])\n",
    "print(arr[-4])\n",
    "print(arr[4])\n",
    "print(arr[8])\n",
    "\n",
    "#Error of index out of bound...\n",
    "print(arr[11])\n",
    "print(arr[-11])"
   ]
  },
  {
   "cell_type": "code",
   "execution_count": 10,
   "id": "0df76771",
   "metadata": {},
   "outputs": [
    {
     "name": "stdout",
     "output_type": "stream",
     "text": [
      "Orinal Array: \n",
      " [[1 2 3]\n",
      " [4 5 6]\n",
      " [7 8 9]\n",
      " [0 2 4]] \n",
      "Array Shape: (4, 3)\n",
      "[7 8 9]\n",
      "6\n",
      "4\n",
      "[4 5 6]\n"
     ]
    }
   ],
   "source": [
    "#2. 2D Arrays...\n",
    "l2=[\n",
    "    [1,2,3],\n",
    "    [4,5,6],\n",
    "    [7,8,9],\n",
    "    [0,2,4]]\n",
    "arr2=np.array(l2, dtype=np.uint8)\n",
    "print(\"Orinal Array: \\n\", arr2, \"\\nArray Shape:\", arr2.shape)\n",
    "\n",
    "#check indexing...\n",
    "print(arr2[2]) #entire row with only one index (3rd row in this case)\n",
    "print(arr2[1][2]) #specific element of specific row (2nd row, 3rd col)\n",
    "print(arr2[-1][-1]) #specific element of specific row (last row, last col)\n",
    "print(arr2[-3]) #entire row with only one index (2nd last row in this case)"
   ]
  },
  {
   "cell_type": "code",
   "execution_count": 100,
   "id": "09cdaf49",
   "metadata": {},
   "outputs": [
    {
     "name": "stdout",
     "output_type": "stream",
     "text": [
      "Orinal Array: \n",
      " [[[ 1  2]\n",
      "  [ 4  5]\n",
      "  [ 7  8]]\n",
      "\n",
      " [[ 3  6]\n",
      "  [ 0  9]\n",
      "  [10 11]]] \n",
      "Array Shape: (2, 3, 2)\n",
      "Level 1: \n",
      " [[1 2]\n",
      " [4 5]\n",
      " [7 8]]\n",
      "Level 2: \n",
      " [[ 3  6]\n",
      " [ 0  9]\n",
      " [10 11]]\n",
      "Level 1->row(3): \n",
      " [7 8]\n",
      "Level 2->row(1): \n",
      " [3 6]\n",
      "Level 1->row(2)->col(2): 5\n",
      "Level 2->row(3)->col(1): 10\n",
      "Level 1:\n",
      " [[1 2]\n",
      " [4 5]\n",
      " [7 8]]\n",
      "Level 2->row(2): [0 9]\n",
      "Level 1->row(3)->col(2): 2\n",
      "Level 1->row(3): [7 8]\n"
     ]
    }
   ],
   "source": [
    "#3. 3D Arrays...\n",
    "l3=[\n",
    "    [[1,2],[4,5],[7,8]],\n",
    "    [[3,6],[0,9],[10,11]]\n",
    "   ]\n",
    "arr3=np.array(l3, dtype=np.uint8)\n",
    "print(\"Orinal Array: \\n\", arr3, \"\\nArray Shape:\", arr3.shape)\n",
    "\n",
    "#for each level/layer we pass only one index\n",
    "print(\"Level 1: \\n\",arr3[0])\n",
    "print(\"Level 2: \\n\", arr3[1])\n",
    "\n",
    "#for accessing specific row in specific layer...\n",
    "print(\"Level 1->row(3): \\n\",arr3[0][2])\n",
    "print(\"Level 2->row(1): \\n\", arr3[1][0])\n",
    "\n",
    "#for accessing specific elements in specific layer and row...\n",
    "print(\"Level 1->row(2)->col(2):\",arr3[0][1][1])\n",
    "print(\"Level 2->row(3)->col(1):\", arr3[1][2][0])\n",
    "\n",
    "#Nedative Indexing...\n",
    "print(\"Level 1:\\n\",arr3[-2])\n",
    "print(\"Level 2->row(2):\", arr3[-1][-2])\n",
    "print(\"Level 1->row(3)->col(2):\",arr3[-2][-3][-1])\n",
    "\n",
    "#mixed indexing\n",
    "print(\"Level 1->row(3):\", arr3[-2][2])"
   ]
  },
  {
   "cell_type": "code",
   "execution_count": 103,
   "id": "c6e7199f",
   "metadata": {},
   "outputs": [
    {
     "name": "stdout",
     "output_type": "stream",
     "text": [
      "[7 8]\n",
      "0\n",
      "2\n"
     ]
    }
   ],
   "source": [
    "#INDEXING CAN BE COMMA SEPARATED AS WELL...\n",
    "print(arr3[-2,2])\n",
    "print(arr3[-1,1,-2])\n",
    "print(arr3[-2,-3,-1])"
   ]
  },
  {
   "cell_type": "code",
   "execution_count": 32,
   "id": "24d66c55",
   "metadata": {},
   "outputs": [
    {
     "name": "stdout",
     "output_type": "stream",
     "text": [
      "Orignal Array:  [1 2 3 4 5 6 7 8 9 0] Array Shape: (10,)\n",
      "\n",
      "arr[:]-> [1 2 3 4 5 6 7 8 9 0]\n",
      "arr[4:]-> [5 6 7 8 9 0]\n",
      "arr[:5]-> [1 2 3 4 5]\n",
      "arr[2:8]-> [3 4 5 6 7 8]\n",
      "arr[3:9:2]-> [4 6 8]\n",
      "\n",
      "arr[:-2]-> [1 2 3 4 5 6 7 8]\n",
      "arr[-1:]-> [0]\n",
      "arr[-2:-7]-> []\n",
      "arr[-2:-7:-1]-> [9 8 7 6 5]\n",
      "arr[::-1]-> [0 9 8 7 6 5 4 3 2 1]\n"
     ]
    }
   ],
   "source": [
    "#SLICING IN NUMPY ARRAYS....\n",
    "#1. 1D Arrays...\n",
    "print(\"Orignal Array: \", arr, \"Array Shape:\", arr.shape)\n",
    "\n",
    "#SLICING...\n",
    "print(\"\\narr[:]->\", arr[:]) #full array\n",
    "print(\"arr[4:]->\", arr[4:]) #from 4 to end\n",
    "print(\"arr[:5]->\", arr[:5]) #from 0 to 4\n",
    "print(\"arr[2:8]->\", arr[2:8]) #from 2 to 7\n",
    "print(\"arr[3:9:2]->\", arr[3:9:2]) #from 3 to 9 every 2nd element only\n",
    "\n",
    "#slicing with negative values..\n",
    "print(\"\\narr[:-2]->\", arr[:-2]) #from 0 to -2(2nd last)\n",
    "print(\"arr[-1:]->\", arr[-1:]) #from -1 to end (only one element cause default +ve index and last +ve index is -1 as well)\n",
    "print(\"arr[-2:-7]->\", arr[-2:-7]) #from -2 to -7 (empty cause deafult step is +1 here and start value must be greater than stop)\n",
    "print(\"arr[-2:-7:-1]->\", arr[-2:-7:-1]) #from -2 to -7 with -ve step of 1 in reverse order\n",
    "print(\"arr[::-1]->\", arr[::-1]) #whole array from right to left (reverse array)"
   ]
  },
  {
   "cell_type": "code",
   "execution_count": 41,
   "id": "22ac27cb",
   "metadata": {},
   "outputs": [
    {
     "name": "stdout",
     "output_type": "stream",
     "text": [
      "Original Array:  [1 2 3 4 5 6 7 8 9 0]\n",
      "\n",
      "arr[:-2:-2]-> [0]\n",
      "arr[:-3:-2]-> [0]\n",
      "arr[:-4:-2]-> [0 8]\n",
      "arr[-2::-2]-> [9 7 5 3 1]\n",
      "arr[-4::-3]-> [7 4 1]\n",
      "Original Array same after all:  [1 2 3 4 5 6 7 8 9 0]\n"
     ]
    }
   ],
   "source": [
    "#Experiments...\n",
    "print(\"Original Array: \", arr)\n",
    "print(\"\\narr[:-2:-2]->\", arr[:-2:-2])#step -ve so unmentioned start/stop will be -ve so read from (-1 to -1 with -2 step)\n",
    "print(\"arr[:-3:-2]->\", arr[:-3:-2]) #(-1 to -2 with -2 step)\n",
    "print(\"arr[:-4:-2]->\", arr[:-4:-2]) #(-1 to -2 with -2 step)\n",
    "print(\"arr[-2::-2]->\", arr[-2::-2]) #(-2 to -len(array) with -2 step) stop is -len(array)\n",
    "print(\"arr[-4::-3]->\", arr[-4::-3]) #(-4 to -len(array) with -3 step) stop is -len(array)\n",
    "\n",
    "print(\"Original Array same after all: \", arr)"
   ]
  },
  {
   "cell_type": "code",
   "execution_count": 45,
   "id": "eaea6cb1",
   "metadata": {},
   "outputs": [
    {
     "name": "stdout",
     "output_type": "stream",
     "text": [
      "Original List:  [1, 2, 3, 4, 5, 6, 7, 8, 9, 0]\n",
      "New List from slicing [4, 5, 6, 7]\n",
      "Original List:  [1, 2, 3, 4, 5, 6, 7, 8, 9, 0]\n",
      "New List from slicing [4, 5, 99, 7]\n"
     ]
    }
   ],
   "source": [
    "#PROOF OF CONCEPT\n",
    "\n",
    "#Arrays slicing gives a view Vs List slicing gives a new array...\n",
    "l2= l1[3:7]\n",
    "print(\"Original List: \",l1)\n",
    "print(\"New List from slicing\",l2)\n",
    "l2[2] = 99\n",
    "print(\"Original List: \",l1)\n",
    "print(\"New List from slicing\",l2) # change only in new that means l1 and l2 are diff"
   ]
  },
  {
   "cell_type": "code",
   "execution_count": 49,
   "id": "b4141b8a",
   "metadata": {},
   "outputs": [
    {
     "name": "stdout",
     "output_type": "stream",
     "text": [
      "Original Array:  [ 1  2  3  4 22  6  7  8  9  0]\n",
      "New Array from slicing [ 3  4 22  6  7  8]\n",
      "\n",
      "Original Array:  [ 1  2  3  4 22 88  7  8  9  0]\n",
      "New Array from slicing [ 3  4 22 88  7  8]\n"
     ]
    }
   ],
   "source": [
    "# Now with Numpy Arrays\n",
    "ar2= arr[2:8]\n",
    "print(\"Original Array: \",arr)\n",
    "print(\"New Array from slicing\", ar2)\n",
    "ar2[3] = 88 #value 6 is replaced with 88 in both places\n",
    "print(\"\\nOriginal Array: \",arr) #\n",
    "print(\"New Array from slicing\",ar2)"
   ]
  },
  {
   "cell_type": "code",
   "execution_count": 60,
   "id": "6f63b5b5",
   "metadata": {},
   "outputs": [
    {
     "name": "stdout",
     "output_type": "stream",
     "text": [
      "Original Array: \n",
      " [[1 2 3]\n",
      " [4 5 6]\n",
      " [7 8 9]\n",
      " [0 2 4]]\n",
      "\n",
      "arr2[:,:]\n",
      " [[1 2 3]\n",
      " [4 5 6]\n",
      " [7 8 9]\n",
      " [0 2 4]]\n",
      "\n",
      "arr2[1]\n",
      " [4 5 6]\n",
      "\n",
      "arr2[1, :]\n",
      " [4 5 6]\n",
      "\n",
      "arr2[:2,:]\n",
      " [[1 2 3]\n",
      " [4 5 6]]\n",
      "\n",
      "arr2[1:3,:]\n",
      " [[4 5 6]\n",
      " [7 8 9]]\n"
     ]
    }
   ],
   "source": [
    "#2. 2D Array Slicing......\n",
    "print(\"Original Array: \\n\", arr2)\n",
    "\n",
    "#Slicing...\n",
    "#2 objects of slicing are passes rather than 1 in this case (1st-> row range, 2nd-> col range)\n",
    "\n",
    "# +ev ROW Variations....\n",
    "print(\"\\narr2[:,:]\\n\", arr2[:,:])  # here all row and all cols are selected for view\n",
    "print(\"\\narr2[1]\\n\", arr2[1])  # you can ignore col object if all cols are to be selected\n",
    "print(\"\\narr2[1, :]\\n\", arr2[1,:])  # here 2nd row and all cols are selected for view\n",
    "print(\"\\narr2[:2,:]\\n\", arr2[:2,:]) #from 1st to 2nd rows , all cols\n",
    "print(\"\\narr2[1:3,:]\\n\", arr2[1:3,:]) # from 2nd ro 3rd row, all cols"
   ]
  },
  {
   "cell_type": "code",
   "execution_count": 64,
   "id": "06f10285",
   "metadata": {},
   "outputs": [
    {
     "name": "stdout",
     "output_type": "stream",
     "text": [
      "Original Array: \n",
      " [[1 2 3]\n",
      " [4 5 6]\n",
      " [7 8 9]\n",
      " [0 2 4]]\n",
      "\n",
      "arr2[:,:1]\n",
      " [[1 2]\n",
      " [4 5]\n",
      " [7 8]\n",
      " [0 2]]\n",
      "\n",
      "arr2[:,2:]\n",
      " [[3]\n",
      " [6]\n",
      " [9]\n",
      " [4]]\n",
      "\n",
      "arr2[:,1:2]\n",
      " [[2]\n",
      " [5]\n",
      " [8]\n",
      " [2]]\n"
     ]
    }
   ],
   "source": [
    "#+ve COL Variations...\n",
    "print(\"Original Array: \\n\", arr2)\n",
    "print(\"\\narr2[:,:1]\\n\", arr2[:,:2]) #all rows , 1st to 2nd col\n",
    "print(\"\\narr2[:,2:]\\n\", arr2[:,2:]) #all rows, from 3rd to last col\n",
    "print(\"\\narr2[:,1:2]\\n\", arr2[:,1:2]) #all rows, from 2nd to 3rd col"
   ]
  },
  {
   "cell_type": "code",
   "execution_count": 65,
   "id": "7d94a296",
   "metadata": {},
   "outputs": [
    {
     "ename": "SyntaxError",
     "evalue": "invalid syntax (1048572911.py, line 2)",
     "output_type": "error",
     "traceback": [
      "\u001b[1;36m  File \u001b[1;32m\"C:\\Users\\ASCC\\AppData\\Local\\Temp\\ipykernel_10740\\1048572911.py\"\u001b[1;36m, line \u001b[1;32m2\u001b[0m\n\u001b[1;33m    print(\"\\narr2[,1:2]\\n\", arr2[,1:2]) #Syntax error\u001b[0m\n\u001b[1;37m                                 ^\u001b[0m\n\u001b[1;31mSyntaxError\u001b[0m\u001b[1;31m:\u001b[0m invalid syntax\n"
     ]
    }
   ],
   "source": [
    " #can't ignore the row obj\n",
    "print(\"\\narr2[,1:2]\\n\", arr2[,1:2]) #Syntax error"
   ]
  },
  {
   "cell_type": "code",
   "execution_count": 66,
   "id": "4461dd70",
   "metadata": {},
   "outputs": [
    {
     "name": "stdout",
     "output_type": "stream",
     "text": [
      "Original Array: \n",
      " [[1 2 3]\n",
      " [4 5 6]\n",
      " [7 8 9]\n",
      " [0 2 4]]\n",
      "\n",
      "arr2[1:,1:3]\n",
      " [[5 6]\n",
      " [8 9]\n",
      " [2 4]]\n",
      "\n",
      "arr2[:2,1:2]\n",
      " [[2]\n",
      " [5]]\n"
     ]
    }
   ],
   "source": [
    "# +ve R0W AND COL Variations...\n",
    "print(\"Original Array: \\n\", arr2)\n",
    "print(\"\\narr2[1:,1:3]\\n\", arr2[1:,1:3]) \n",
    "print(\"\\narr2[:2,1:2]\\n\", arr2[:2,1:2])"
   ]
  },
  {
   "cell_type": "code",
   "execution_count": 68,
   "id": "a4523d03",
   "metadata": {},
   "outputs": [
    {
     "name": "stdout",
     "output_type": "stream",
     "text": [
      "Original Array: \n",
      " [[1 2 3]\n",
      " [4 5 6]\n",
      " [7 8 9]\n",
      " [0 2 4]]\n",
      "\n",
      "arr2[1:,1:3]\n",
      " [[3 2 1]\n",
      " [6 5 4]\n",
      " [9 8 7]\n",
      " [4 2 0]]\n",
      "\n",
      "arr2[:2,1:2]\n",
      " [[4 2 0]\n",
      " [9 8 7]\n",
      " [6 5 4]\n",
      " [3 2 1]]\n",
      "\n",
      "arr2[:2,1:2]\n",
      " [[0 2 4]\n",
      " [7 8 9]\n",
      " [4 5 6]\n",
      " [1 2 3]]\n"
     ]
    }
   ],
   "source": [
    "# -VE Slicing\n",
    "print(\"Original Array: \\n\", arr2)\n",
    "print(\"\\narr2[1:,1:3]\\n\", arr2[:,::-1])  #revere cols in each row\n",
    "print(\"\\narr2[:2,1:2]\\n\", arr2[::-1,::-1]) # reverse all rows then cols in those rows\n",
    "print(\"\\narr2[:2,1:2]\\n\", arr2[::-1,:])  # reverse all rows and cols same"
   ]
  },
  {
   "cell_type": "code",
   "execution_count": 72,
   "id": "07fd084b",
   "metadata": {},
   "outputs": [
    {
     "name": "stdout",
     "output_type": "stream",
     "text": [
      "Original Array: \n",
      " [[1 2 3]\n",
      " [4 5 6]\n",
      " [7 8 9]\n",
      " [0 2 4]]\n",
      "\n",
      "arr2[1:,1:3]\n",
      " [[8]\n",
      " [5]]\n",
      "\n",
      "arr2[1:,1:3]\n",
      " [[2]\n",
      " [5]]\n"
     ]
    }
   ],
   "source": [
    "print(\"Original Array: \\n\", arr2)\n",
    "print(\"\\narr2[1:,1:3]\\n\", arr2[-2:-4:-1,-2:-3:-1]) \n",
    "print(\"\\narr2[1:,1:3]\\n\", arr2[-1::-2,-2:-3:-1]) "
   ]
  },
  {
   "cell_type": "code",
   "execution_count": 76,
   "id": "9024db0c",
   "metadata": {},
   "outputs": [
    {
     "name": "stdout",
     "output_type": "stream",
     "text": [
      "Orinal Array: \n",
      " [[[ 0  1  2]\n",
      "  [ 3  4  5]\n",
      "  [ 6  7  8]]\n",
      "\n",
      " [[11 22 33]\n",
      "  [44 55 66]\n",
      "  [77 88 99]]\n",
      "\n",
      " [[ 9  8  7]\n",
      "  [ 6  5  4]\n",
      "  [ 3  2  1]]] \n",
      "Array Shape (3, 3, 3)\n"
     ]
    }
   ],
   "source": [
    "#3. 3D Slicing....\n",
    "l4=[\n",
    "    [[0,1,2],[3,4,5],[6,7,8]],\n",
    "    [[11,22,33],[44,55,66],[77,88,99]],\n",
    "    [[9,8,7],[6,5,4],[3,2,1]]\n",
    "]\n",
    "arr4 = np.array(l4,dtype=np.uint16)\n",
    "print(\"Orinal Array: \\n\", arr4, \"\\nArray Shape\", arr4.shape)"
   ]
  },
  {
   "cell_type": "code",
   "execution_count": 81,
   "id": "b45869cc",
   "metadata": {},
   "outputs": [
    {
     "name": "stdout",
     "output_type": "stream",
     "text": [
      "arr4[:,:,:]\n",
      " [[[ 0  1  2]\n",
      "  [ 3  4  5]\n",
      "  [ 6  7  8]]\n",
      "\n",
      " [[11 22 33]\n",
      "  [44 55 66]\n",
      "  [77 88 99]]\n",
      "\n",
      " [[ 9  8  7]\n",
      "  [ 6  5  4]\n",
      "  [ 3  2  1]]]\n",
      "\n",
      "arr4[:]\n",
      " [[[ 0  1  2]\n",
      "  [ 3  4  5]\n",
      "  [ 6  7  8]]\n",
      "\n",
      " [[11 22 33]\n",
      "  [44 55 66]\n",
      "  [77 88 99]]\n",
      "\n",
      " [[ 9  8  7]\n",
      "  [ 6  5  4]\n",
      "  [ 3  2  1]]]\n"
     ]
    }
   ],
   "source": [
    "#POSITIVE Slicing....\n",
    "print(\"arr4[:,:,:]\\n\",arr4[:,:,:]) #all array\n",
    "print(\"\\narr4[:]\\n\",arr4[:]) # whole array you can ignore row and col obj if you want all row and col in any level"
   ]
  },
  {
   "cell_type": "code",
   "execution_count": 89,
   "id": "8b1ea4b6",
   "metadata": {},
   "outputs": [
    {
     "name": "stdout",
     "output_type": "stream",
     "text": [
      "\n",
      "arr4[2]:\n",
      " [[9 8 7]\n",
      " [6 5 4]\n",
      " [3 2 1]]\n",
      "\n",
      "arr4[1]:\n",
      " [[11 22 33]\n",
      " [44 55 66]\n",
      " [77 88 99]]\n",
      "\n",
      "arr4[-1]:\n",
      " [[9 8 7]\n",
      " [6 5 4]\n",
      " [3 2 1]]\n",
      "\n",
      "arr4[-3]:\n",
      " [[0 1 2]\n",
      " [3 4 5]\n",
      " [6 7 8]]\n"
     ]
    }
   ],
   "source": [
    "print(\"\\narr4[2]:\\n\",arr4[2]) #only 3rd level (all rows and cols)\n",
    "print(\"\\narr4[1]:\\n\",arr4[1]) #only 2nd level (all rows and cols)\n",
    "print(\"\\narr4[-1]:\\n\",arr4[-1]) #only 3rd level (all rows and cols)\n",
    "print(\"\\narr4[-3]:\\n\",arr4[-3]) #only 2nd level (all rows and cols)"
   ]
  },
  {
   "cell_type": "code",
   "execution_count": 91,
   "id": "01ce365c",
   "metadata": {},
   "outputs": [
    {
     "name": "stdout",
     "output_type": "stream",
     "text": [
      "Orinal Array: \n",
      " [[[ 0  1  2]\n",
      "  [ 3  4  5]\n",
      "  [ 6  7  8]]\n",
      "\n",
      " [[11 22 33]\n",
      "  [44 55 66]\n",
      "  [77 88 99]]\n",
      "\n",
      " [[ 9  8  7]\n",
      "  [ 6  5  4]\n",
      "  [ 3  2  1]]]\n",
      "\n",
      "arr4[1:,1:]: \n",
      " [[[44 55 66]\n",
      "  [77 88 99]]\n",
      "\n",
      " [[ 6  5  4]\n",
      "  [ 3  2  1]]]\n",
      "\n",
      "arr4[0:2,-1:-3:-1]: \n",
      " [[[ 6  7  8]\n",
      "  [ 3  4  5]]\n",
      "\n",
      " [[77 88 99]\n",
      "  [44 55 66]]]\n",
      "\n",
      "arr4[-1:,-1::-2]: \n",
      " [[[3 2 1]\n",
      "  [9 8 7]]]\n",
      "\n",
      "arr4[-1::-1,-1::-2]: \n",
      " [[[ 3  2  1]\n",
      "  [ 9  8  7]]\n",
      "\n",
      " [[77 88 99]\n",
      "  [11 22 33]]\n",
      "\n",
      " [[ 6  7  8]\n",
      "  [ 0  1  2]]]\n"
     ]
    }
   ],
   "source": [
    "#Levels and Rows....\n",
    "print(\"Orinal Array: \\n\", arr4)\n",
    "print(\"\\narr4[1:,1:]: \\n\",arr4[1:,1:]) #level 1 and 2 row 1 and 2 (all cols)\n",
    "print(\"\\narr4[0:2,-1:-3:-1]: \\n\",arr4[0:2,-1:-3:-1]) #level 1 and 2 row 1 and 2 (all cols)\n",
    "print(\"\\narr4[-1:,-1::-2]: \\n\",arr4[-1:,-1::-2]) #last level from bottom only as step +ve and all row from bottom with -2 step\n",
    "print(\"\\narr4[-1::-1,-1::-2]: \\n\",arr4[-1::-1,-1::-2]) #all level from bottom and all row from bottom with -2 step"
   ]
  },
  {
   "cell_type": "code",
   "execution_count": 96,
   "id": "bbc9200f",
   "metadata": {},
   "outputs": [
    {
     "name": "stdout",
     "output_type": "stream",
     "text": [
      "Orinal Array: \n",
      " [[[ 0  1  2]\n",
      "  [ 3  4  5]\n",
      "  [ 6  7  8]]\n",
      "\n",
      " [[11 22 33]\n",
      "  [44 55 66]\n",
      "  [77 88 99]]\n",
      "\n",
      " [[ 9  8  7]\n",
      "  [ 6  5  4]\n",
      "  [ 3  2  1]]]\n",
      "\n",
      "arr4[::-1]: \n",
      " [[[ 9  8  7]\n",
      "  [ 6  5  4]\n",
      "  [ 3  2  1]]\n",
      "\n",
      " [[11 22 33]\n",
      "  [44 55 66]\n",
      "  [77 88 99]]\n",
      "\n",
      " [[ 0  1  2]\n",
      "  [ 3  4  5]\n",
      "  [ 6  7  8]]]\n",
      "\n",
      "arr4[::-1,::-1]: \n",
      " [[[ 3  2  1]\n",
      "  [ 6  5  4]\n",
      "  [ 9  8  7]]\n",
      "\n",
      " [[77 88 99]\n",
      "  [44 55 66]\n",
      "  [11 22 33]]\n",
      "\n",
      " [[ 6  7  8]\n",
      "  [ 3  4  5]\n",
      "  [ 0  1  2]]]\n",
      "\n",
      "arr4[::-1,::-1,::-1]: \n",
      " [[[ 1  2  3]\n",
      "  [ 4  5  6]\n",
      "  [ 7  8  9]]\n",
      "\n",
      " [[99 88 77]\n",
      "  [66 55 44]\n",
      "  [33 22 11]]\n",
      "\n",
      " [[ 8  7  6]\n",
      "  [ 5  4  3]\n",
      "  [ 2  1  0]]]\n"
     ]
    }
   ],
   "source": [
    "#Levels and Rows and cols....\n",
    "print(\"Orinal Array: \\n\", arr4)\n",
    "print(\"\\narr4[::-1]: \\n\",arr4[::-1])\n",
    "print(\"\\narr4[::-1,::-1]: \\n\",arr4[::-1,::-1])\n",
    "print(\"\\narr4[::-1,::-1,::-1]: \\n\",arr4[::-1,::-1,::-1])"
   ]
  },
  {
   "cell_type": "code",
   "execution_count": 97,
   "id": "3279fd8f",
   "metadata": {},
   "outputs": [
    {
     "name": "stdout",
     "output_type": "stream",
     "text": [
      "Orinal Array: \n",
      " [[[ 0  1  2]\n",
      "  [ 3  4  5]\n",
      "  [ 6  7  8]]\n",
      "\n",
      " [[11 22 33]\n",
      "  [44 55 66]\n",
      "  [77 88 99]]\n",
      "\n",
      " [[ 9  8  7]\n",
      "  [ 6  5  4]\n",
      "  [ 3  2  1]]]\n",
      "\n",
      "arr4[-1::-2, -2::-1, -1::-2]: \n",
      " [[[4 6]\n",
      "  [7 9]]\n",
      "\n",
      " [[5 3]\n",
      "  [2 0]]]\n"
     ]
    }
   ],
   "source": [
    "#NEGATIVE SLICING IN 3D ARRAYS....\n",
    "\n",
    "print(\"Orinal Array: \\n\", arr4)\n",
    "print(\"\\narr4[-1::-2, -2::-1, -1::-2]: \\n\",arr4[-1::-2,-2::-1,-1::-2])"
   ]
  },
  {
   "cell_type": "code",
   "execution_count": 111,
   "id": "35a564cf",
   "metadata": {},
   "outputs": [
    {
     "name": "stdout",
     "output_type": "stream",
     "text": [
      "original: [10 61 61  2 19  3 87 12 35 58]\n",
      "Evens in arrays:  [10  2 12 58]\n",
      "Odd in arrays:  [61 61 19  3 87 35]\n",
      "Odds in arrays:  [61 61 19  3 87 35]\n",
      "Values greater than equal 10 in arrays:  [61 61 87 58]\n",
      "Greater tahn 30 less than 90:  [61 61 87 35 58]\n"
     ]
    }
   ],
   "source": [
    "#FANCY/BOOLEAN INDEXING...\n",
    "#1. 1D fancy indexing...\n",
    "\n",
    "farr=np.random.randint(2,88,10)\n",
    "print(\"original:\",farr)\n",
    "\n",
    "#even values only\n",
    "print(\"Evens in arrays: \", farr[farr%2==0])  #passing a condition in the subscript\n",
    " \n",
    "#odd values only\n",
    "print(\"Odd in arrays: \", farr[farr%2!=0])\n",
    "\n",
    "#odd values only\n",
    "print(\"Odds in arrays: \", farr[farr%2==1])\n",
    "\n",
    "#values greater than 50 only\n",
    "print(\"Values greater than equal 10 in arrays: \", farr[farr >= 50])\n",
    "\n",
    "#join two conditions\n",
    "print(\"Greater tahn 30 less than 90: \", farr[(farr>30) & (farr<90)])"
   ]
  },
  {
   "cell_type": "code",
   "execution_count": 121,
   "id": "bc0cf82a",
   "metadata": {},
   "outputs": [
    {
     "name": "stdout",
     "output_type": "stream",
     "text": [
      "values divisible by 7 and 5 only  [35]\n"
     ]
    }
   ],
   "source": [
    "print(\"original:\",farr)\n",
    "print(\"values divisible by 7 and 5 only \", farr[(farr%7==0) & (farr%5==0)])"
   ]
  },
  {
   "cell_type": "code",
   "execution_count": 123,
   "id": "6a7d5b9a",
   "metadata": {},
   "outputs": [
    {
     "name": "stdout",
     "output_type": "stream",
     "text": [
      "original: [10 61 61  2 19  3 87 12 35 58]\n",
      "values greater than 40 [False  True  True False False False  True False False  True]\n",
      "\n",
      "mask array [61 19  3 35 58]\n"
     ]
    }
   ],
   "source": [
    "#MASKING/BOOLEAN INDEXING..\n",
    "print(\"original:\",farr)\n",
    "print(\"values greater than 40\", farr>40) #returns boolean list by applying condition on every element of array\n",
    "mask=[False, True, False, False, True, True,False, False, True, True]\n",
    "print(\"\\nmask array\", farr[mask]) #only true values will be returned"
   ]
  },
  {
   "cell_type": "code",
   "execution_count": 124,
   "id": "51b13b42",
   "metadata": {},
   "outputs": [
    {
     "name": "stdout",
     "output_type": "stream",
     "text": [
      "original 2D:\n",
      " [[15 36 23]\n",
      " [ 9 35 13]\n",
      " [14 47 42]\n",
      " [ 9 41 27]]\n"
     ]
    }
   ],
   "source": [
    "#2. 2D Fanccy Indexing.....\n",
    "f2arr=np.random.randint(5,55,(4,3))\n",
    "print(\"original 2D:\\n\", f2arr)"
   ]
  },
  {
   "cell_type": "code",
   "execution_count": 126,
   "id": "74bea9cd",
   "metadata": {},
   "outputs": [
    {
     "name": "stdout",
     "output_type": "stream",
     "text": [
      "Row Mask:\n",
      " [[15 36 23]\n",
      " [14 47 42]\n",
      " [ 9 41 27]]\n",
      "Col Mask:\n",
      " [[15]\n",
      " [ 9]\n",
      " [14]\n",
      " [ 9]]\n"
     ]
    }
   ],
   "source": [
    "#row mask\n",
    "row_mask=[True, False, True, True]\n",
    "print(\"Row Mask:\\n\", f2arr[row_mask,:]) #all cols and masked rows\n",
    "\n",
    "col_mask=[True, False, False]\n",
    "print(\"Col Mask:\\n\", f2arr[:,col_mask]) #all rows and masked cols"
   ]
  },
  {
   "cell_type": "code",
   "execution_count": 136,
   "id": "081e7e45",
   "metadata": {},
   "outputs": [
    {
     "name": "stdout",
     "output_type": "stream",
     "text": [
      "Right Lower Matrix: \n",
      " [[35 13]\n",
      " [47 42]\n",
      " [41 27]]\n",
      "with normal indexing\n",
      " [[35 13]\n",
      " [47 42]\n",
      " [41 27]]\n"
     ]
    },
    {
     "ename": "IndexError",
     "evalue": "shape mismatch: indexing arrays could not be broadcast together with shapes (3,) (2,) ",
     "output_type": "error",
     "traceback": [
      "\u001b[1;31m---------------------------------------------------------------------------\u001b[0m",
      "\u001b[1;31mIndexError\u001b[0m                                Traceback (most recent call last)",
      "\u001b[1;32m~\\AppData\\Local\\Temp\\ipykernel_10740\\2586804554.py\u001b[0m in \u001b[0;36m<module>\u001b[1;34m\u001b[0m\n\u001b[0;32m      7\u001b[0m \u001b[1;31m#BETTER WAY TO DO THIS IS\u001b[0m\u001b[1;33m\u001b[0m\u001b[1;33m\u001b[0m\u001b[0m\n\u001b[0;32m      8\u001b[0m \u001b[0mprint\u001b[0m\u001b[1;33m(\u001b[0m\u001b[1;34m\"with normal indexing\\n\"\u001b[0m\u001b[1;33m,\u001b[0m\u001b[0mf2arr\u001b[0m\u001b[1;33m[\u001b[0m\u001b[1;36m1\u001b[0m\u001b[1;33m:\u001b[0m\u001b[1;33m,\u001b[0m\u001b[1;36m1\u001b[0m\u001b[1;33m:\u001b[0m\u001b[1;33m]\u001b[0m\u001b[1;33m)\u001b[0m\u001b[1;33m\u001b[0m\u001b[1;33m\u001b[0m\u001b[0m\n\u001b[1;32m----> 9\u001b[1;33m \u001b[0mprint\u001b[0m\u001b[1;33m(\u001b[0m\u001b[1;34m\"2D fancy: \\n\"\u001b[0m\u001b[1;33m,\u001b[0m\u001b[0mf2arr\u001b[0m\u001b[1;33m[\u001b[0m\u001b[1;33m[\u001b[0m\u001b[1;32mTrue\u001b[0m\u001b[1;33m,\u001b[0m \u001b[1;32mTrue\u001b[0m\u001b[1;33m,\u001b[0m \u001b[1;32mFalse\u001b[0m\u001b[1;33m,\u001b[0m \u001b[1;32mTrue\u001b[0m\u001b[1;33m]\u001b[0m\u001b[1;33m,\u001b[0m\u001b[1;33m[\u001b[0m\u001b[1;32mTrue\u001b[0m\u001b[1;33m,\u001b[0m \u001b[1;32mFalse\u001b[0m\u001b[1;33m,\u001b[0m \u001b[1;32mTrue\u001b[0m\u001b[1;33m]\u001b[0m\u001b[1;33m]\u001b[0m\u001b[1;33m)\u001b[0m\u001b[1;33m\u001b[0m\u001b[1;33m\u001b[0m\u001b[0m\n\u001b[0m",
      "\u001b[1;31mIndexError\u001b[0m: shape mismatch: indexing arrays could not be broadcast together with shapes (3,) (2,) "
     ]
    }
   ],
   "source": [
    "inner_row=np.array([False, True, True, True])\n",
    "inner_col=np.array([False, True, True])\n",
    "fil_matrix=np.array(f2arr[inner_row,:])\n",
    "print(\"Right Lower Matrix: \\n\",fil_matrix[:,inner_col])\n",
    "\n",
    "\n",
    "#BETTER WAY TO DO THIS IS \n",
    "print(\"with normal indexing\\n\",f2arr[1:,1:])\n"
   ]
  },
  {
   "cell_type": "code",
   "execution_count": 137,
   "id": "8c7f033b",
   "metadata": {},
   "outputs": [
    {
     "name": "stdout",
     "output_type": "stream",
     "text": [
      "original 2D:\n",
      " [[15 36 23]\n",
      " [ 9 35 13]\n",
      " [14 47 42]\n",
      " [ 9 41 27]]\n"
     ]
    },
    {
     "ename": "IndexError",
     "evalue": "shape mismatch: indexing arrays could not be broadcast together with shapes (3,) (2,) ",
     "output_type": "error",
     "traceback": [
      "\u001b[1;31m---------------------------------------------------------------------------\u001b[0m",
      "\u001b[1;31mIndexError\u001b[0m                                Traceback (most recent call last)",
      "\u001b[1;32m~\\AppData\\Local\\Temp\\ipykernel_10740\\394750573.py\u001b[0m in \u001b[0;36m<module>\u001b[1;34m\u001b[0m\n\u001b[0;32m      1\u001b[0m \u001b[0mprint\u001b[0m\u001b[1;33m(\u001b[0m\u001b[1;34m\"original 2D:\\n\"\u001b[0m\u001b[1;33m,\u001b[0m \u001b[0mf2arr\u001b[0m\u001b[1;33m)\u001b[0m\u001b[1;33m\u001b[0m\u001b[1;33m\u001b[0m\u001b[0m\n\u001b[1;32m----> 2\u001b[1;33m \u001b[0mprint\u001b[0m\u001b[1;33m(\u001b[0m\u001b[1;34m\"2D fancy: \\n\"\u001b[0m\u001b[1;33m,\u001b[0m\u001b[0mf2arr\u001b[0m\u001b[1;33m[\u001b[0m\u001b[1;33m[\u001b[0m\u001b[1;32mTrue\u001b[0m\u001b[1;33m,\u001b[0m \u001b[1;32mTrue\u001b[0m\u001b[1;33m,\u001b[0m \u001b[1;32mFalse\u001b[0m\u001b[1;33m,\u001b[0m \u001b[1;32mTrue\u001b[0m\u001b[1;33m]\u001b[0m\u001b[1;33m,\u001b[0m\u001b[1;33m[\u001b[0m\u001b[1;32mTrue\u001b[0m\u001b[1;33m,\u001b[0m \u001b[1;32mFalse\u001b[0m\u001b[1;33m,\u001b[0m \u001b[1;32mTrue\u001b[0m\u001b[1;33m]\u001b[0m\u001b[1;33m]\u001b[0m\u001b[1;33m)\u001b[0m\u001b[1;33m\u001b[0m\u001b[1;33m\u001b[0m\u001b[0m\n\u001b[0m",
      "\u001b[1;31mIndexError\u001b[0m: shape mismatch: indexing arrays could not be broadcast together with shapes (3,) (2,) "
     ]
    }
   ],
   "source": [
    "print(\"original 2D:\\n\", f2arr)\n",
    "print(\"2D fancy: \\n\",f2arr[[True, True, False, True],[True, False, True]]) #error"
   ]
  },
  {
   "cell_type": "code",
   "execution_count": null,
   "id": "aa08862d",
   "metadata": {},
   "outputs": [],
   "source": []
  }
 ],
 "metadata": {
  "kernelspec": {
   "display_name": "Python 3 (ipykernel)",
   "language": "python",
   "name": "python3"
  },
  "language_info": {
   "codemirror_mode": {
    "name": "ipython",
    "version": 3
   },
   "file_extension": ".py",
   "mimetype": "text/x-python",
   "name": "python",
   "nbconvert_exporter": "python",
   "pygments_lexer": "ipython3",
   "version": "3.9.13"
  }
 },
 "nbformat": 4,
 "nbformat_minor": 5
}
