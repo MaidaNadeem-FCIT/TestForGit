{
 "cells": [
  {
   "cell_type": "code",
   "execution_count": 1,
   "id": "105522bd",
   "metadata": {},
   "outputs": [
    {
     "name": "stdout",
     "output_type": "stream",
     "text": [
      "<class 'list'> [1, 4, True, 6.7, False, 'abc']\n"
     ]
    }
   ],
   "source": [
    "#Python List / Python Arrays / NumPy Arrays...\n",
    "#1. LISTS....\n",
    "\n",
    "l1= [1,4, True, 6.7, False, \"abc\"]\n",
    "print(type(l1), l1)"
   ]
  },
  {
   "cell_type": "code",
   "execution_count": 7,
   "id": "8faa2c0b",
   "metadata": {},
   "outputs": [
    {
     "name": "stdout",
     "output_type": "stream",
     "text": [
      "array('i', [1, 4, 6, 2, 5])\n",
      "array('f', [1.0, 4.0, 6.0, 2.0, 5.0])\n",
      "array('f', [1.600000023841858, 4.099999904632568, 6.300000190734863, 2.4000000953674316, 5.0])\n",
      "array('f', [1.600000023841858, 4.099999904632568, 6.300000190734863, 2.4000000953674316, 5.0, 88.0])\n"
     ]
    }
   ],
   "source": [
    "#2. ARRAYS OF Python\n",
    "import array\n",
    "a1 = array.array('i', [1,4, 6, 2, 5])\n",
    "print(a1)\n",
    "\n",
    "a2 = array.array('f', [1,4, 6, 2, 5])\n",
    "print(a2)\n",
    "\n",
    "a3 = array.array('f', [1.6, 4.1, 6.3, 2.4, 5])#convert the seq to the biggest datatype in the given sequence\n",
    "print(a3)\n",
    "\n",
    "a3.append(88) #arrays are growable/shrunlable\n",
    "print(a3)"
   ]
  },
  {
   "cell_type": "code",
   "execution_count": 11,
   "id": "ffca14f0",
   "metadata": {},
   "outputs": [
    {
     "name": "stdout",
     "output_type": "stream",
     "text": [
      "[1.  7.6 9.  4.3 0. ]\n",
      "<class 'numpy.ndarray'>\n",
      "<class 'numpy.float64'>\n"
     ]
    }
   ],
   "source": [
    "#3. NumPy Arrays.....\n",
    "import numpy as np #numpy array upcast array elements\n",
    "arr = np.array([True, 7.6, 9, 4.3, False]) #converted all to float values\n",
    "print(arr)\n",
    "print(type(arr)) #numpy array\n",
    "print(type(arr[0])) #each element is of float type"
   ]
  },
  {
   "cell_type": "code",
   "execution_count": 12,
   "id": "3ed2f2f3",
   "metadata": {},
   "outputs": [
    {
     "name": "stdout",
     "output_type": "stream",
     "text": [
      "['True' '7' '9' '4.3' 'False' 'Maida']\n",
      "<class 'numpy.ndarray'>\n",
      "<class 'numpy.str_'>\n"
     ]
    }
   ],
   "source": [
    "arr2 = np.array([True, 7, 9, 4.3, False, 'Maida']) #converted all to string values\n",
    "print(arr2)\n",
    "print(type(arr2)) #numpy array\n",
    "print(type(arr2[0])) #each element is of string type"
   ]
  },
  {
   "cell_type": "code",
   "execution_count": 14,
   "id": "3e180858",
   "metadata": {},
   "outputs": [
    {
     "name": "stdout",
     "output_type": "stream",
     "text": [
      "[1 7 9 4 0]\n",
      "<class 'numpy.ndarray'>\n",
      "<class 'numpy.uint32'>\n"
     ]
    }
   ],
   "source": [
    "arr3 = np.array([True, 7, 9, 4.3, False], dtype=np.uint32) #type cast values\n",
    "print(arr3)\n",
    "print(type(arr3)) #numpy array\n",
    "print(type(arr3[0])) #each element is of given type"
   ]
  },
  {
   "cell_type": "code",
   "execution_count": 19,
   "id": "e526cccf",
   "metadata": {},
   "outputs": [
    {
     "name": "stdout",
     "output_type": "stream",
     "text": [
      "size of element 48, size of list 48000\n",
      "element size 4, size of array 4000\n"
     ]
    }
   ],
   "source": [
    "#MEMORY CONSUMPTION....\n",
    "import sys\n",
    "list1 = range(1000)\n",
    "ele_size=sys.getsizeof(list1)\n",
    "list_size = ele_size* len(list1)\n",
    "print(\"size of element {}, size of list {}\".format(ele_size, list_size))\n",
    "\n",
    "array1=np.arange(1000)\n",
    "print(\"element size {}, size of array {}\".format(array1.itemsize, array1.nbytes))"
   ]
  },
  {
   "cell_type": "code",
   "execution_count": 27,
   "id": "210796b1",
   "metadata": {},
   "outputs": [
    {
     "name": "stdout",
     "output_type": "stream",
     "text": [
      "[2, 6, 12, 20]\n"
     ]
    }
   ],
   "source": [
    "#OPERATIONS ON NUMPY ARRAYS AND LIST...\n",
    "#LIST\n",
    "import time\n",
    "ls1= [1,2,3,4]\n",
    "ls2=[2,3,4,5]\n",
    "ls3=[0,0,0,0]\n",
    "for i in range(0,4):\n",
    "    ls3[i] = ls1[i] * ls2[i]\n",
    "print(ls3)"
   ]
  },
  {
   "cell_type": "code",
   "execution_count": 28,
   "id": "f341882f",
   "metadata": {},
   "outputs": [
    {
     "name": "stdout",
     "output_type": "stream",
     "text": [
      "[ 2  6 12 20]\n"
     ]
    }
   ],
   "source": [
    "#ARRAYS OF numpy\n",
    "marr1=np.array([1,2,3,4,])\n",
    "marr2=np.array([2,3,4,5])\n",
    "marr3 = marr1*marr2\n",
    "print(marr3)"
   ]
  },
  {
   "cell_type": "code",
   "execution_count": 29,
   "id": "b77d2207",
   "metadata": {},
   "outputs": [
    {
     "name": "stdout",
     "output_type": "stream",
     "text": [
      "0.0028929710388183594\n"
     ]
    }
   ],
   "source": [
    "#time of operations\n",
    "size = 1000000\n",
    "mearr=np.arange(size)\n",
    "mearr2=np.arange(size)\n",
    "init_time=time.time()\n",
    "mearr3= mearr*mearr2\n",
    "fin_time=time.time()\n",
    "print(fin_time - init_time)"
   ]
  },
  {
   "cell_type": "code",
   "execution_count": 30,
   "id": "14db9e21",
   "metadata": {},
   "outputs": [
    {
     "name": "stdout",
     "output_type": "stream",
     "text": [
      "0.3971116542816162\n"
     ]
    }
   ],
   "source": [
    "lis1 = list(range(size))\n",
    "lis2 = list(range(size))\n",
    "lis3 = list(range(size))\n",
    "init = time.time()\n",
    "for a in range(0, len (lis1)):\n",
    "    lis3[a]=lis1[a] * lis2[a]\n",
    "fin = time.time()\n",
    "print(fin - init)"
   ]
  },
  {
   "cell_type": "code",
   "execution_count": null,
   "id": "e92e3226",
   "metadata": {},
   "outputs": [],
   "source": []
  }
 ],
 "metadata": {
  "kernelspec": {
   "display_name": "Python 3 (ipykernel)",
   "language": "python",
   "name": "python3"
  },
  "language_info": {
   "codemirror_mode": {
    "name": "ipython",
    "version": 3
   },
   "file_extension": ".py",
   "mimetype": "text/x-python",
   "name": "python",
   "nbconvert_exporter": "python",
   "pygments_lexer": "ipython3",
   "version": "3.9.13"
  }
 },
 "nbformat": 4,
 "nbformat_minor": 5
}
