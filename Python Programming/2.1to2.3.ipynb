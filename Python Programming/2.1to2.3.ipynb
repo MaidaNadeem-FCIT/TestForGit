{
 "cells": [
  {
   "cell_type": "code",
   "execution_count": 1,
   "id": "760dc030",
   "metadata": {},
   "outputs": [
    {
     "data": {
      "text/plain": [
       "7"
      ]
     },
     "execution_count": 1,
     "metadata": {},
     "output_type": "execute_result"
    }
   ],
   "source": [
    "5+2"
   ]
  },
  {
   "cell_type": "code",
   "execution_count": 2,
   "id": "9ce191f3",
   "metadata": {},
   "outputs": [
    {
     "data": {
      "text/plain": [
       "1024"
      ]
     },
     "execution_count": 2,
     "metadata": {},
     "output_type": "execute_result"
    }
   ],
   "source": [
    "2**10"
   ]
  },
  {
   "cell_type": "raw",
   "id": "2379a8b6",
   "metadata": {},
   "source": [
    "hksdjkh\n",
    "asjkfjk\n",
    "jdfksj"
   ]
  },
  {
   "cell_type": "markdown",
   "id": "deaa9e7d",
   "metadata": {},
   "source": [
    "# This is a Big heading\n",
    "## This is a small heading\n",
    "- A bulleted Text\n",
    "- [ ] A checkBox\n",
    "- [x] A selected Checkbox"
   ]
  },
  {
   "cell_type": "code",
   "execution_count": 19,
   "id": "d5064096",
   "metadata": {},
   "outputs": [
    {
     "name": "stdout",
     "output_type": "stream",
     "text": [
      "10\n",
      "15.67\n",
      "You are Maida, \t\tand your age is \n",
      "26\n"
     ]
    }
   ],
   "source": [
    "# this is a comment\n",
    "\n",
    "\"\"\" thsis is a multiline comment\n",
    "so we are able to write \n",
    "on multiple line\n",
    "\"\"\"\n",
    "\n",
    "age=26\n",
    "print(x)\n",
    "a=15.67\n",
    "print(a)\n",
    "name = \"Maida\"\n",
    "'My name is ' + name\n",
    "\n",
    "print(\"You are {0}, \\t\\tand your age is \\n{1}\" .format(name,age))"
   ]
  },
  {
   "cell_type": "code",
   "execution_count": 24,
   "id": "0e911208",
   "metadata": {},
   "outputs": [
    {
     "name": "stdout",
     "output_type": "stream",
     "text": [
      "Maida Butt : 26\n"
     ]
    }
   ],
   "source": [
    "v1=\"Maida Butt\"\n",
    "v2=26\n",
    "print(v1,v2, sep=' : ')"
   ]
  },
  {
   "cell_type": "code",
   "execution_count": 28,
   "id": "d99a74cb",
   "metadata": {},
   "outputs": [
    {
     "name": "stdout",
     "output_type": "stream",
     "text": [
      "Maida Butt\n",
      "26\n"
     ]
    }
   ],
   "source": [
    "v1=\"Maida Butt\"\n",
    "v2=26\n",
    "print(v1)\n",
    "print(v2)"
   ]
  },
  {
   "cell_type": "code",
   "execution_count": 29,
   "id": "48e47548",
   "metadata": {},
   "outputs": [
    {
     "name": "stdout",
     "output_type": "stream",
     "text": [
      "Maida Butt 26\n"
     ]
    }
   ],
   "source": [
    "v1=\"Maida Butt\"\n",
    "v2=26\n",
    "print(v1, end=' ')\n",
    "print(v2)"
   ]
  },
  {
   "cell_type": "code",
   "execution_count": 3,
   "id": "486ca415",
   "metadata": {},
   "outputs": [],
   "source": [
    "?print"
   ]
  },
  {
   "cell_type": "code",
   "execution_count": 2,
   "id": "13bab798",
   "metadata": {
    "scrolled": true
   },
   "outputs": [
    {
     "name": "stdout",
     "output_type": "stream",
     "text": [
      "Maida\n"
     ]
    }
   ],
   "source": [
    "\n",
    "name=\"Maida\"\n",
    "print(name)"
   ]
  },
  {
   "cell_type": "code",
   "execution_count": 34,
   "id": "33f18633",
   "metadata": {},
   "outputs": [
    {
     "name": "stderr",
     "output_type": "stream",
     "text": [
      "'pwd' is not recognized as an internal or external command,\n",
      "operable program or batch file.\n"
     ]
    }
   ],
   "source": [
    "! pwd"
   ]
  },
  {
   "cell_type": "code",
   "execution_count": 33,
   "id": "dfd06489",
   "metadata": {},
   "outputs": [
    {
     "data": {
      "application/json": {
       "cell": {
        "!": "OSMagics",
        "HTML": "Other",
        "SVG": "Other",
        "bash": "Other",
        "capture": "ExecutionMagics",
        "cmd": "Other",
        "debug": "ExecutionMagics",
        "file": "Other",
        "html": "DisplayMagics",
        "javascript": "DisplayMagics",
        "js": "DisplayMagics",
        "latex": "DisplayMagics",
        "markdown": "DisplayMagics",
        "perl": "Other",
        "prun": "ExecutionMagics",
        "pypy": "Other",
        "python": "Other",
        "python2": "Other",
        "python3": "Other",
        "ruby": "Other",
        "script": "ScriptMagics",
        "sh": "Other",
        "svg": "DisplayMagics",
        "sx": "OSMagics",
        "system": "OSMagics",
        "time": "ExecutionMagics",
        "timeit": "ExecutionMagics",
        "writefile": "OSMagics"
       },
       "line": {
        "alias": "OSMagics",
        "alias_magic": "BasicMagics",
        "autoawait": "AsyncMagics",
        "autocall": "AutoMagics",
        "automagic": "AutoMagics",
        "autosave": "KernelMagics",
        "bookmark": "OSMagics",
        "cd": "OSMagics",
        "clear": "KernelMagics",
        "cls": "KernelMagics",
        "colors": "BasicMagics",
        "conda": "PackagingMagics",
        "config": "ConfigMagics",
        "connect_info": "KernelMagics",
        "copy": "Other",
        "ddir": "Other",
        "debug": "ExecutionMagics",
        "dhist": "OSMagics",
        "dirs": "OSMagics",
        "doctest_mode": "BasicMagics",
        "echo": "Other",
        "ed": "Other",
        "edit": "KernelMagics",
        "env": "OSMagics",
        "gui": "BasicMagics",
        "hist": "Other",
        "history": "HistoryMagics",
        "killbgscripts": "ScriptMagics",
        "ldir": "Other",
        "less": "KernelMagics",
        "load": "CodeMagics",
        "load_ext": "ExtensionMagics",
        "loadpy": "CodeMagics",
        "logoff": "LoggingMagics",
        "logon": "LoggingMagics",
        "logstart": "LoggingMagics",
        "logstate": "LoggingMagics",
        "logstop": "LoggingMagics",
        "ls": "Other",
        "lsmagic": "BasicMagics",
        "macro": "ExecutionMagics",
        "magic": "BasicMagics",
        "matplotlib": "PylabMagics",
        "mkdir": "Other",
        "more": "KernelMagics",
        "notebook": "BasicMagics",
        "page": "BasicMagics",
        "pastebin": "CodeMagics",
        "pdb": "ExecutionMagics",
        "pdef": "NamespaceMagics",
        "pdoc": "NamespaceMagics",
        "pfile": "NamespaceMagics",
        "pinfo": "NamespaceMagics",
        "pinfo2": "NamespaceMagics",
        "pip": "PackagingMagics",
        "popd": "OSMagics",
        "pprint": "BasicMagics",
        "precision": "BasicMagics",
        "prun": "ExecutionMagics",
        "psearch": "NamespaceMagics",
        "psource": "NamespaceMagics",
        "pushd": "OSMagics",
        "pwd": "OSMagics",
        "pycat": "OSMagics",
        "pylab": "PylabMagics",
        "qtconsole": "KernelMagics",
        "quickref": "BasicMagics",
        "recall": "HistoryMagics",
        "rehashx": "OSMagics",
        "reload_ext": "ExtensionMagics",
        "ren": "Other",
        "rep": "Other",
        "rerun": "HistoryMagics",
        "reset": "NamespaceMagics",
        "reset_selective": "NamespaceMagics",
        "rmdir": "Other",
        "run": "ExecutionMagics",
        "save": "CodeMagics",
        "sc": "OSMagics",
        "set_env": "OSMagics",
        "store": "StoreMagics",
        "sx": "OSMagics",
        "system": "OSMagics",
        "tb": "ExecutionMagics",
        "time": "ExecutionMagics",
        "timeit": "ExecutionMagics",
        "unalias": "OSMagics",
        "unload_ext": "ExtensionMagics",
        "who": "NamespaceMagics",
        "who_ls": "NamespaceMagics",
        "whos": "NamespaceMagics",
        "xdel": "NamespaceMagics",
        "xmode": "BasicMagics"
       }
      },
      "text/plain": [
       "Available line magics:\n",
       "%alias  %alias_magic  %autoawait  %autocall  %automagic  %autosave  %bookmark  %cd  %clear  %cls  %colors  %conda  %config  %connect_info  %copy  %ddir  %debug  %dhist  %dirs  %doctest_mode  %echo  %ed  %edit  %env  %gui  %hist  %history  %killbgscripts  %ldir  %less  %load  %load_ext  %loadpy  %logoff  %logon  %logstart  %logstate  %logstop  %ls  %lsmagic  %macro  %magic  %matplotlib  %mkdir  %more  %notebook  %page  %pastebin  %pdb  %pdef  %pdoc  %pfile  %pinfo  %pinfo2  %pip  %popd  %pprint  %precision  %prun  %psearch  %psource  %pushd  %pwd  %pycat  %pylab  %qtconsole  %quickref  %recall  %rehashx  %reload_ext  %ren  %rep  %rerun  %reset  %reset_selective  %rmdir  %run  %save  %sc  %set_env  %store  %sx  %system  %tb  %time  %timeit  %unalias  %unload_ext  %who  %who_ls  %whos  %xdel  %xmode\n",
       "\n",
       "Available cell magics:\n",
       "%%!  %%HTML  %%SVG  %%bash  %%capture  %%cmd  %%debug  %%file  %%html  %%javascript  %%js  %%latex  %%markdown  %%perl  %%prun  %%pypy  %%python  %%python2  %%python3  %%ruby  %%script  %%sh  %%svg  %%sx  %%system  %%time  %%timeit  %%writefile\n",
       "\n",
       "Automagic is ON, % prefix IS NOT needed for line magics."
      ]
     },
     "execution_count": 33,
     "metadata": {},
     "output_type": "execute_result"
    }
   ],
   "source": [
    "%lsmagic"
   ]
  },
  {
   "cell_type": "code",
   "execution_count": 35,
   "id": "a5752437",
   "metadata": {},
   "outputs": [
    {
     "data": {
      "text/plain": [
       "'C:\\\\Users\\\\ASCC'"
      ]
     },
     "execution_count": 35,
     "metadata": {},
     "output_type": "execute_result"
    }
   ],
   "source": [
    "%pwd"
   ]
  },
  {
   "cell_type": "code",
   "execution_count": 39,
   "id": "ccf2006e",
   "metadata": {},
   "outputs": [
    {
     "name": "stdout",
     "output_type": "stream",
     "text": [
      "70\n"
     ]
    },
    {
     "data": {
      "text/plain": [
       "int"
      ]
     },
     "execution_count": 39,
     "metadata": {},
     "output_type": "execute_result"
    }
   ],
   "source": [
    "apples = 20\n",
    "bananas = 30\n",
    "oranges =56\n",
    "Oranges = 20\n",
    "total = apples+bananas+Oranges\n",
    "print(total)\n",
    "type(oranges)\n",
    "type(bananas)"
   ]
  },
  {
   "cell_type": "code",
   "execution_count": 59,
   "id": "cb60b5a7",
   "metadata": {},
   "outputs": [
    {
     "name": "stdout",
     "output_type": "stream",
     "text": [
      "num =  10 float =  6.7 bool =  False string =  maida\n"
     ]
    },
    {
     "data": {
      "text/plain": [
       "1881897790032"
      ]
     },
     "execution_count": 59,
     "metadata": {},
     "output_type": "execute_result"
    }
   ],
   "source": [
    "a, b, c, name = 10, 6.7, False , \"maida\"\n",
    "print(\"num = \", a , \"float = \", b, \"bool = \", c, \"string = \", name)\n",
    "id(a)"
   ]
  },
  {
   "cell_type": "code",
   "execution_count": 46,
   "id": "d80846a3",
   "metadata": {},
   "outputs": [
    {
     "data": {
      "text/plain": [
       "(1881897789904, 1881897789904)"
      ]
     },
     "execution_count": 46,
     "metadata": {},
     "output_type": "execute_result"
    }
   ],
   "source": [
    " a = 6\n",
    "b = 6\n",
    "id(a) ,id(b)\n"
   ]
  },
  {
   "cell_type": "code",
   "execution_count": 49,
   "id": "c08ac460",
   "metadata": {},
   "outputs": [
    {
     "data": {
      "text/plain": [
       "1882025002992"
      ]
     },
     "execution_count": 49,
     "metadata": {},
     "output_type": "execute_result"
    }
   ],
   "source": [
    "v1 = 'maida'\n",
    "id(v1)"
   ]
  },
  {
   "cell_type": "code",
   "execution_count": 52,
   "id": "2892def6",
   "metadata": {},
   "outputs": [
    {
     "data": {
      "text/plain": [
       "1882020205744"
      ]
     },
     "execution_count": 52,
     "metadata": {},
     "output_type": "execute_result"
    }
   ],
   "source": [
    "v1 = 'butt'\n",
    "id(v1)"
   ]
  },
  {
   "cell_type": "code",
   "execution_count": 53,
   "id": "238ae719",
   "metadata": {},
   "outputs": [
    {
     "name": "stdout",
     "output_type": "stream",
     "text": [
      "['In', 'Oranges', 'Out', '_', '_1', '_10', '_11', '_2', '_33', '_35', '_39', '_4', '_43', '_44', '_46', '_49', '_5', '_52', '__', '___', '__builtin__', '__builtins__', '__doc__', '__loader__', '__name__', '__package__', '__spec__', '_dh', '_exit_code', '_i', '_i1', '_i10', '_i11', '_i12', '_i13', '_i14', '_i15', '_i16', '_i17', '_i18', '_i19', '_i2', '_i20', '_i21', '_i22', '_i23', '_i24', '_i25', '_i26', '_i27', '_i28', '_i29', '_i3', '_i30', '_i31', '_i32', '_i33', '_i34', '_i35', '_i36', '_i37', '_i38', '_i39', '_i4', '_i40', '_i41', '_i42', '_i43', '_i44', '_i45', '_i46', '_i47', '_i48', '_i49', '_i5', '_i50', '_i51', '_i52', '_i53', '_i6', '_i7', '_i8', '_i9', '_ih', '_ii', '_iii', '_oh', 'a', 'age', 'apples', 'b', 'bananas', 'c', 'exit', 'get_ipython', 'name', 'oranges', 'quit', 'total', 'v1', 'v2', 'x']\n"
     ]
    }
   ],
   "source": [
    "print(dir())"
   ]
  },
  {
   "cell_type": "code",
   "execution_count": 54,
   "id": "b06a369e",
   "metadata": {},
   "outputs": [],
   "source": [
    "newV = 34"
   ]
  },
  {
   "cell_type": "code",
   "execution_count": 55,
   "id": "526d41e1",
   "metadata": {},
   "outputs": [
    {
     "name": "stdout",
     "output_type": "stream",
     "text": [
      "['In', 'Oranges', 'Out', '_', '_1', '_10', '_11', '_2', '_33', '_35', '_39', '_4', '_43', '_44', '_46', '_49', '_5', '_52', '__', '___', '__builtin__', '__builtins__', '__doc__', '__loader__', '__name__', '__package__', '__spec__', '_dh', '_exit_code', '_i', '_i1', '_i10', '_i11', '_i12', '_i13', '_i14', '_i15', '_i16', '_i17', '_i18', '_i19', '_i2', '_i20', '_i21', '_i22', '_i23', '_i24', '_i25', '_i26', '_i27', '_i28', '_i29', '_i3', '_i30', '_i31', '_i32', '_i33', '_i34', '_i35', '_i36', '_i37', '_i38', '_i39', '_i4', '_i40', '_i41', '_i42', '_i43', '_i44', '_i45', '_i46', '_i47', '_i48', '_i49', '_i5', '_i50', '_i51', '_i52', '_i53', '_i54', '_i55', '_i6', '_i7', '_i8', '_i9', '_ih', '_ii', '_iii', '_oh', 'a', 'age', 'apples', 'b', 'bananas', 'c', 'exit', 'get_ipython', 'name', 'newV', 'oranges', 'quit', 'total', 'v1', 'v2', 'x']\n"
     ]
    }
   ],
   "source": [
    "print(dir())"
   ]
  },
  {
   "cell_type": "code",
   "execution_count": 56,
   "id": "d52dd717",
   "metadata": {},
   "outputs": [],
   "source": [
    "del newV"
   ]
  },
  {
   "cell_type": "code",
   "execution_count": 57,
   "id": "47f569f1",
   "metadata": {},
   "outputs": [
    {
     "name": "stdout",
     "output_type": "stream",
     "text": [
      "['In', 'Oranges', 'Out', '_', '_1', '_10', '_11', '_2', '_33', '_35', '_39', '_4', '_43', '_44', '_46', '_49', '_5', '_52', '__', '___', '__builtin__', '__builtins__', '__doc__', '__loader__', '__name__', '__package__', '__spec__', '_dh', '_exit_code', '_i', '_i1', '_i10', '_i11', '_i12', '_i13', '_i14', '_i15', '_i16', '_i17', '_i18', '_i19', '_i2', '_i20', '_i21', '_i22', '_i23', '_i24', '_i25', '_i26', '_i27', '_i28', '_i29', '_i3', '_i30', '_i31', '_i32', '_i33', '_i34', '_i35', '_i36', '_i37', '_i38', '_i39', '_i4', '_i40', '_i41', '_i42', '_i43', '_i44', '_i45', '_i46', '_i47', '_i48', '_i49', '_i5', '_i50', '_i51', '_i52', '_i53', '_i54', '_i55', '_i56', '_i57', '_i6', '_i7', '_i8', '_i9', '_ih', '_ii', '_iii', '_oh', 'a', 'age', 'apples', 'b', 'bananas', 'c', 'exit', 'get_ipython', 'name', 'oranges', 'quit', 'total', 'v1', 'v2', 'x']\n"
     ]
    }
   ],
   "source": [
    "print(dir())"
   ]
  },
  {
   "cell_type": "code",
   "execution_count": 58,
   "id": "c6d32786",
   "metadata": {},
   "outputs": [
    {
     "name": "stdout",
     "output_type": "stream",
     "text": [
      "['__doc__', '__loader__', '__name__', '__package__', '__spec__', 'acos', 'acosh', 'asin', 'asinh', 'atan', 'atan2', 'atanh', 'ceil', 'comb', 'copysign', 'cos', 'cosh', 'degrees', 'dist', 'e', 'erf', 'erfc', 'exp', 'expm1', 'fabs', 'factorial', 'floor', 'fmod', 'frexp', 'fsum', 'gamma', 'gcd', 'hypot', 'inf', 'isclose', 'isfinite', 'isinf', 'isnan', 'isqrt', 'lcm', 'ldexp', 'lgamma', 'log', 'log10', 'log1p', 'log2', 'modf', 'nan', 'nextafter', 'perm', 'pi', 'pow', 'prod', 'radians', 'remainder', 'sin', 'sinh', 'sqrt', 'tan', 'tanh', 'tau', 'trunc', 'ulp']\n"
     ]
    }
   ],
   "source": [
    "import math\n",
    "print(dir(math))"
   ]
  },
  {
   "cell_type": "code",
   "execution_count": 60,
   "id": "eb673544",
   "metadata": {},
   "outputs": [
    {
     "name": "stdout",
     "output_type": "stream",
     "text": [
      "<class 'float'>\n",
      "<class 'complex'>\n",
      "<class 'complex'>\n",
      "<class 'bool'>\n",
      "<class 'int'>\n"
     ]
    }
   ],
   "source": [
    "num = 10\n",
    "f = 5.7\n",
    "c = complex(3,6)\n",
    "c2 = 4 + 6j\n",
    "b = True\n",
    "print(type(f))\n",
    "print(type(c))\n",
    "print(type(c2))\n",
    "print(type(b))\n",
    "print(type(num))"
   ]
  },
  {
   "cell_type": "code",
   "execution_count": 61,
   "id": "a121571a",
   "metadata": {},
   "outputs": [
    {
     "name": "stdout",
     "output_type": "stream",
     "text": [
      "True\n",
      "<class 'bool'>\n"
     ]
    }
   ],
   "source": [
    " check = 11<55\n",
    "print (check)\n",
    "print(type(check))"
   ]
  },
  {
   "cell_type": "code",
   "execution_count": 63,
   "id": "0e291478",
   "metadata": {},
   "outputs": [
    {
     "name": "stdout",
     "output_type": "stream",
     "text": [
      "a =  8\n",
      "b =  3\n"
     ]
    }
   ],
   "source": [
    "a = True +7\n",
    "b = False + 3\n",
    "print(\"a = \", a)\n",
    "print(\"b = \",b)"
   ]
  },
  {
   "cell_type": "code",
   "execution_count": 64,
   "id": "e71501eb",
   "metadata": {},
   "outputs": [
    {
     "data": {
      "text/plain": [
       "False"
      ]
     },
     "execution_count": 64,
     "metadata": {},
     "output_type": "execute_result"
    }
   ],
   "source": [
    "bool(0)"
   ]
  },
  {
   "cell_type": "code",
   "execution_count": 66,
   "id": "4708da21",
   "metadata": {},
   "outputs": [
    {
     "data": {
      "text/plain": [
       "False"
      ]
     },
     "execution_count": 66,
     "metadata": {},
     "output_type": "execute_result"
    }
   ],
   "source": [
    "bool(0.0)"
   ]
  },
  {
   "cell_type": "code",
   "execution_count": 68,
   "id": "ad93f8da",
   "metadata": {},
   "outputs": [
    {
     "data": {
      "text/plain": [
       "False"
      ]
     },
     "execution_count": 68,
     "metadata": {},
     "output_type": "execute_result"
    }
   ],
   "source": [
    "bool(None)"
   ]
  },
  {
   "cell_type": "code",
   "execution_count": 70,
   "id": "092a33fd",
   "metadata": {},
   "outputs": [
    {
     "data": {
      "text/plain": [
       "False"
      ]
     },
     "execution_count": 70,
     "metadata": {},
     "output_type": "execute_result"
    }
   ],
   "source": [
    "bool(\"\")"
   ]
  },
  {
   "cell_type": "code",
   "execution_count": 71,
   "id": "62638d13",
   "metadata": {},
   "outputs": [
    {
     "data": {
      "text/plain": [
       "False"
      ]
     },
     "execution_count": 71,
     "metadata": {},
     "output_type": "execute_result"
    }
   ],
   "source": [
    "bool({})"
   ]
  },
  {
   "cell_type": "code",
   "execution_count": 72,
   "id": "ae231a41",
   "metadata": {},
   "outputs": [
    {
     "data": {
      "text/plain": [
       "False"
      ]
     },
     "execution_count": 72,
     "metadata": {},
     "output_type": "execute_result"
    }
   ],
   "source": [
    "var = None\n",
    "bool(var)"
   ]
  },
  {
   "cell_type": "code",
   "execution_count": 74,
   "id": "14364461",
   "metadata": {},
   "outputs": [
    {
     "data": {
      "text/plain": [
       "(3.4, 3.4000000000000004, False)"
      ]
     },
     "execution_count": 74,
     "metadata": {},
     "output_type": "execute_result"
    }
   ],
   "source": [
    "a = 3.4\n",
    "b = 2.1 +1.3\n",
    "c = (a == b)\n",
    "a,b,c"
   ]
  },
  {
   "cell_type": "code",
   "execution_count": 75,
   "id": "e4ed7f06",
   "metadata": {},
   "outputs": [
    {
     "data": {
      "text/plain": [
       "(int, float)"
      ]
     },
     "execution_count": 75,
     "metadata": {},
     "output_type": "execute_result"
    }
   ],
   "source": [
    "i=2 + 3\n",
    "j=3 + 3.5\n",
    "type(i), type(j)"
   ]
  },
  {
   "cell_type": "code",
   "execution_count": 77,
   "id": "ecb1d6fe",
   "metadata": {},
   "outputs": [
    {
     "data": {
      "text/plain": [
       "(float, float)"
      ]
     },
     "execution_count": 77,
     "metadata": {},
     "output_type": "execute_result"
    }
   ],
   "source": [
    "div = 4/2\n",
    "rem = 6/2.5\n",
    "type(div), type(rem)"
   ]
  },
  {
   "cell_type": "code",
   "execution_count": 80,
   "id": "ee917cc5",
   "metadata": {},
   "outputs": [
    {
     "data": {
      "text/plain": [
       "(int, str)"
      ]
     },
     "execution_count": 80,
     "metadata": {},
     "output_type": "execute_result"
    }
   ],
   "source": [
    "str = \"21\"\n",
    "num = int(str)\n",
    "type(num), type(str)"
   ]
  },
  {
   "cell_type": "code",
   "execution_count": 5,
   "id": "e1a478bb",
   "metadata": {},
   "outputs": [
    {
     "name": "stdout",
     "output_type": "stream",
     "text": [
      "0xa5c40\n",
      "0o2124546\n",
      "0b101101\n"
     ]
    }
   ],
   "source": [
    "print(hex(678976))\n",
    "print(oct(567654))\n",
    "print(bin(45))"
   ]
  },
  {
   "cell_type": "code",
   "execution_count": 88,
   "id": "fc7c4888",
   "metadata": {},
   "outputs": [
    {
     "name": "stdout",
     "output_type": "stream",
     "text": [
      "x+y =  121\n",
      "x-y =  13\n",
      "x*y =  3618\n",
      "x/y =  1.2407407407407407\n",
      "x//y =  1\n",
      "x^y =  405545275032375312657213639031101049293790847152961401410307715089365125797701029929926488148751129\n",
      "x%y =  13\n"
     ]
    }
   ],
   "source": [
    "x = 67\n",
    "y = 54\n",
    "print(\"x+y = \", x+y)\n",
    "print(\"x-y = \", x-y)\n",
    "print(\"x*y = \", x*y)\n",
    "print(\"x/y = \", x/y)\n",
    "print(\"x//y = \", x//y)  #floor division\n",
    "print(\"x^y = \", x**y)\n",
    "print(\"x%y = \", x%y)"
   ]
  },
  {
   "cell_type": "code",
   "execution_count": 98,
   "id": "889e12e1",
   "metadata": {},
   "outputs": [
    {
     "name": "stdout",
     "output_type": "stream",
     "text": [
      "5.0\n",
      "2.0\n",
      "4.0\n",
      "0.8\n",
      "0.0\n",
      "0.0\n"
     ]
    }
   ],
   "source": [
    "x = x+5\n",
    "print(x)\n",
    "x = x-3\n",
    "print(x)\n",
    "x*=2\n",
    "print(x)\n",
    "x/=5\n",
    "print(x)\n",
    "x//=3\n",
    "print(x)\n",
    "x**=2\n",
    "print(x)\n"
   ]
  },
  {
   "cell_type": "code",
   "execution_count": 8,
   "id": "30a74345",
   "metadata": {},
   "outputs": [
    {
     "name": "stdout",
     "output_type": "stream",
     "text": [
      "6\n"
     ]
    }
   ],
   "source": [
    "y = 25\n",
    "y>>=2\n",
    "print(y)"
   ]
  },
  {
   "cell_type": "code",
   "execution_count": 10,
   "id": "2ba97b5e",
   "metadata": {},
   "outputs": [
    {
     "name": "stdout",
     "output_type": "stream",
     "text": [
      "402653184\n"
     ]
    }
   ],
   "source": [
    "y<<=2\n",
    "print(y)"
   ]
  },
  {
   "cell_type": "code",
   "execution_count": 102,
   "id": "17d29e5a",
   "metadata": {},
   "outputs": [
    {
     "name": "stdout",
     "output_type": "stream",
     "text": [
      "t is greater  False\n",
      "t is smaller  True\n",
      "t and s are equal  False\n",
      "t and s are equal  True\n",
      "t greater equal  False\n",
      "t greater equal  True\n"
     ]
    }
   ],
   "source": [
    "t = 10\n",
    "s =12\n",
    "print(\"t is greater \", t>s)\n",
    "print(\"t is smaller \", t<s)\n",
    "print(\"t and s are equal \", t==s)\n",
    "print(\"t and s are equal \", t!=s)\n",
    "print(\"t greater equal \", t>=s)\n",
    "print(\"t greater equal \", t<=s)"
   ]
  },
  {
   "cell_type": "code",
   "execution_count": 103,
   "id": "60ae9715",
   "metadata": {},
   "outputs": [
    {
     "name": "stdout",
     "output_type": "stream",
     "text": [
      "False\n",
      "True\n",
      "True\n"
     ]
    }
   ],
   "source": [
    " y = True\n",
    "z = False\n",
    "\n",
    "print(y and z)\n",
    "print(y or z)\n",
    "print(not z)"
   ]
  },
  {
   "cell_type": "code",
   "execution_count": 106,
   "id": "829ba87a",
   "metadata": {},
   "outputs": [
    {
     "name": "stdout",
     "output_type": "stream",
     "text": [
      "x & y =  10\n",
      "x | y =  15\n",
      "~x =  -11\n",
      "x ^ y =  5\n",
      "x>>2 =  2\n",
      "y<<3 =  120\n"
     ]
    }
   ],
   "source": [
    "x = 10 #00001010\n",
    "y = 15 #00001111\n",
    "print(\"x & y = \", x&y)\n",
    "print(\"x | y = \", x|y)\n",
    "print(\"~x = \", ~x)\n",
    "print(\"x ^ y = \", x ^ y)\n",
    "print(\"x>>2 = \", x>>2)\n",
    "print(\"y<<3 = \", y<<3)"
   ]
  },
  {
   "cell_type": "code",
   "execution_count": 108,
   "id": "9a236ad1",
   "metadata": {},
   "outputs": [
    {
     "name": "stdout",
     "output_type": "stream",
     "text": [
      "False\n",
      "True\n",
      "True\n"
     ]
    }
   ],
   "source": [
    "a = 5\n",
    "b = 5.0\n",
    "print(a is b) #compares ID's of variables\n",
    "print(a == b) #compares the values\n",
    "print(a is not b)"
   ]
  },
  {
   "cell_type": "code",
   "execution_count": 110,
   "id": "3513f2ff",
   "metadata": {},
   "outputs": [
    {
     "name": "stdout",
     "output_type": "stream",
     "text": [
      "False\n",
      "True\n"
     ]
    }
   ],
   "source": [
    "a = 4\n",
    "list = [1,2,3,5,6,8,9]\n",
    "print(a in list) #membership operators\n",
    "print(a not in list)"
   ]
  },
  {
   "cell_type": "code",
   "execution_count": null,
   "id": "acbe8ce2",
   "metadata": {},
   "outputs": [],
   "source": []
  }
 ],
 "metadata": {
  "kernelspec": {
   "display_name": "Python 3 (ipykernel)",
   "language": "python",
   "name": "python3"
  },
  "language_info": {
   "codemirror_mode": {
    "name": "ipython",
    "version": 3
   },
   "file_extension": ".py",
   "mimetype": "text/x-python",
   "name": "python",
   "nbconvert_exporter": "python",
   "pygments_lexer": "ipython3",
   "version": "3.9.13"
  }
 },
 "nbformat": 4,
 "nbformat_minor": 5
}
