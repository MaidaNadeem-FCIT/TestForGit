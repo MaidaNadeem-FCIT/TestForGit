{
 "cells": [
  {
   "cell_type": "code",
   "execution_count": 4,
   "id": "37aa7c68",
   "metadata": {},
   "outputs": [
    {
     "name": "stdout",
     "output_type": "stream",
     "text": [
      "22\n",
      "Help on function calc in module __main__:\n",
      "\n",
      "calc(a, b)\n",
      "    this is a function which will give you the sum of the passed numbers\n",
      "\n"
     ]
    }
   ],
   "source": [
    "#Functions...\n",
    "def calc(a, b):\n",
    "    \"\"\"this is a function which will give you the sum of the passed numbers\"\"\" #DocString\n",
    "    print(a+b)\n",
    "calc(10,12)\n",
    "help(calc) #show docString written in triple quotes."
   ]
  },
  {
   "cell_type": "code",
   "execution_count": 6,
   "id": "a4261a28",
   "metadata": {},
   "outputs": [
    {
     "name": "stdout",
     "output_type": "stream",
     "text": [
      "enter a value56\n",
      "56\n"
     ]
    }
   ],
   "source": [
    "#RETURN STATEMENT...\n",
    "def show():\n",
    "    x = input(\"enter a value\")\n",
    "    return x\n",
    "print(show())"
   ]
  },
  {
   "cell_type": "code",
   "execution_count": 7,
   "id": "93cc011c",
   "metadata": {},
   "outputs": [
    {
     "name": "stdout",
     "output_type": "stream",
     "text": [
      "[1, 16, 4, 36, 49, 9, 25]\n"
     ]
    }
   ],
   "source": [
    "#ARGUEMENTS...\n",
    "#1. required and positional...\n",
    "def SquareList(list1):\n",
    "    nl =[]\n",
    "    for i in list1:\n",
    "        nl.append(i*i)\n",
    "    return nl\n",
    "list1 = [1,4,2,6,7,3,5]\n",
    "newL= SquareList(list1)\n",
    "print(newL)"
   ]
  },
  {
   "cell_type": "code",
   "execution_count": 10,
   "id": "a95e9fb1",
   "metadata": {},
   "outputs": [
    {
     "name": "stdout",
     "output_type": "stream",
     "text": [
      "before: maida 2\n",
      "after: maida 2\n"
     ]
    }
   ],
   "source": [
    "#Pass by Value...\n",
    "def name(nam): #(intrinsic types are passed as values i.e.int, float, strings )\n",
    "    nam = \"arif\"\n",
    "    num =10\n",
    "    \n",
    "nam = \"maida\" \n",
    "num =2\n",
    "print(\"before:\", nam, num)\n",
    "name(nam)\n",
    "print(\"after:\", nam, num) #no change as passed as value"
   ]
  },
  {
   "cell_type": "code",
   "execution_count": 13,
   "id": "57a69062",
   "metadata": {},
   "outputs": [
    {
     "name": "stdout",
     "output_type": "stream",
     "text": [
      "before:  [1, 4, 3, 0, 7, 3]\n",
      "After:  [1, 4, 10, 0, 7, 3]\n",
      "before:  [1, 4, 10, 0, 7, 3]\n",
      "[4, 10, 33]\n",
      "After:  [1, 4, 10, 0, 7, 3]\n"
     ]
    }
   ],
   "source": [
    "#Pass by Reference..\n",
    "#(list, tuples, sets, dictionries are passed as reference) but doesn't effect tuples as immutable...\n",
    "def change(list1):\n",
    "    list1[2] = 10\n",
    "    \n",
    "def newL(list1):\n",
    "    nl=list1[1:4]\n",
    "    nl[2]=33\n",
    "    print(nl)\n",
    "    \n",
    "list1=[1,4,3,0, 7,3]\n",
    "print(\"before: \",list1)\n",
    "change(list1)\n",
    "print(\"After: \",list1) #changed casuse list is passed as reference\n",
    "\n",
    "print(\"before: \",list1)\n",
    "newL(list1)#as nl exists in the local scope of function and doesnt change new list\n",
    "print(\"After: \",list1)"
   ]
  },
  {
   "cell_type": "code",
   "execution_count": 15,
   "id": "46c59580",
   "metadata": {},
   "outputs": [
    {
     "name": "stdout",
     "output_type": "stream",
     "text": [
      "before:  ['a', 'b', 'c', 'd', 'e', 'f']\n",
      "['b', 'c', 33]\n",
      "After:  ['a', 'b', 'c', 'd', 'e', 'f']\n"
     ]
    }
   ],
   "source": [
    "def newL(list1):\n",
    "    nl=list1[1:4]\n",
    "    nl[2]=33\n",
    "    return nl\n",
    "\n",
    "list1 = ['a', 'b', 'c', 'd','e','f']   \n",
    "print(\"before: \",list1)\n",
    "print(newL(list1))#as nl exists in the local scope of function and doesnt change new list\n",
    "print(\"After: \",list1)"
   ]
  },
  {
   "cell_type": "code",
   "execution_count": 19,
   "id": "d5c97290",
   "metadata": {},
   "outputs": [
    {
     "name": "stdout",
     "output_type": "stream",
     "text": [
      "Name: Rida and Age: 23\n",
      "Name: maida and Age: 25\n",
      "Name: 23 and Age: 25\n",
      "Name: arif and Age: 25\n"
     ]
    }
   ],
   "source": [
    "#default arguements...\n",
    "def show(name=\"maida\", age=\"25\"):\n",
    "    print(\"Name: {} and Age: {}\".format(name, age))\n",
    "\n",
    "show(\"Rida\", 23)#with all args\n",
    "show()#with no args the deafult values are used\n",
    "show(23) #posiotionally first arg is name so 23 passed as name\n",
    "show(\"arif\")#name is passed and age is used from default..."
   ]
  },
  {
   "cell_type": "code",
   "execution_count": 20,
   "id": "318ac536",
   "metadata": {},
   "outputs": [
    {
     "name": "stdout",
     "output_type": "stream",
     "text": [
      "Name: arif butt and Age: 35\n"
     ]
    }
   ],
   "source": [
    "#Named/Keyword Arguements....(to bypass positional arguement problem)...\n",
    "show(age=35, name=\"arif butt\") #at call pass params with names at definition i.e. show(name=\"maida\", age=\"25\") "
   ]
  },
  {
   "cell_type": "code",
   "execution_count": 22,
   "id": "aee1e53b",
   "metadata": {},
   "outputs": [
    {
     "name": "stdout",
     "output_type": "stream",
     "text": [
      "1 2 3 4 5 6 \n",
      "\n",
      "maida nadeem butt \n",
      "5.6 a 33 \n"
     ]
    }
   ],
   "source": [
    "#VARIABLE LENGTH ARGUEMENTS....\n",
    "def fun1(*args):\n",
    "    for i in args:\n",
    "        print(i, end=' ')\n",
    "    print()\n",
    "fun1(1,2,3,4,5,6)\n",
    "fun1(\"\\nmaida\", \"nadeem\", \"butt\")\n",
    "fun1(5.6, \"a\", 33)"
   ]
  },
  {
   "cell_type": "code",
   "execution_count": 27,
   "id": "d676e5e7",
   "metadata": {},
   "outputs": [
    {
     "name": "stdout",
     "output_type": "stream",
     "text": [
      "('a', 'maida')\n",
      "('b', 'ndeem')\n",
      "('c', 'butt')\n",
      "maida\n",
      "nadeem\n",
      "butt\n"
     ]
    }
   ],
   "source": [
    "#Arbitrary Keyword Arguements...\n",
    "def myFunc(**kwargs):\n",
    "    for arg in kwargs.items(): #dictionary with (key->variable name, value->variable value) pairs..\n",
    "        print(arg) #tuple (key, value)\n",
    "\n",
    "def myFunc2(**kwargs):\n",
    "    for arg in kwargs.values(): #dictionary with (key->variable name, value->variable value) pairs..\n",
    "        print(arg) #tuple (key, value)\n",
    "        \n",
    "        \n",
    "myFunc(a=\"maida\", b=\"ndeem\", c=\"butt\")\n",
    "myFunc2(a=\"maida\", b=\"nadeem\", c=\"butt\")"
   ]
  },
  {
   "cell_type": "code",
   "execution_count": 30,
   "id": "17fc3f86",
   "metadata": {},
   "outputs": [
    {
     "name": "stdout",
     "output_type": "stream",
     "text": [
      "Hello Maida Nadeem Butt !!!!\n"
     ]
    }
   ],
   "source": [
    "#E.G. 2\n",
    "def Func2(**kwargs):\n",
    "    print(\"Hello\", kwargs['fname'], kwargs['mname'], kwargs['lname'], \"!!!!\")\n",
    "    \n",
    "Func2(lname=\"Butt\", fname=\"Maida\", mname=\"Nadeem\")"
   ]
  },
  {
   "cell_type": "code",
   "execution_count": 31,
   "id": "ee456034",
   "metadata": {},
   "outputs": [
    {
     "name": "stdout",
     "output_type": "stream",
     "text": [
      "value inside function is 10\n"
     ]
    },
    {
     "ename": "NameError",
     "evalue": "name 'b' is not defined",
     "output_type": "error",
     "traceback": [
      "\u001b[1;31m---------------------------------------------------------------------------\u001b[0m",
      "\u001b[1;31mNameError\u001b[0m                                 Traceback (most recent call last)",
      "\u001b[1;32m~\\AppData\\Local\\Temp\\ipykernel_5960\\4257083761.py\u001b[0m in \u001b[0;36m<module>\u001b[1;34m\u001b[0m\n\u001b[0;32m      6\u001b[0m \u001b[1;33m\u001b[0m\u001b[0m\n\u001b[0;32m      7\u001b[0m \u001b[0mvar\u001b[0m\u001b[1;33m(\u001b[0m\u001b[1;33m)\u001b[0m\u001b[1;33m\u001b[0m\u001b[1;33m\u001b[0m\u001b[0m\n\u001b[1;32m----> 8\u001b[1;33m \u001b[0mprint\u001b[0m\u001b[1;33m(\u001b[0m\u001b[1;34m\"value outside function is\"\u001b[0m\u001b[1;33m,\u001b[0m \u001b[0mb\u001b[0m\u001b[1;33m)\u001b[0m\u001b[1;33m\u001b[0m\u001b[1;33m\u001b[0m\u001b[0m\n\u001b[0m",
      "\u001b[1;31mNameError\u001b[0m: name 'b' is not defined"
     ]
    }
   ],
   "source": [
    "#SCOPES IN PYTHON...\n",
    "#1. Local...\n",
    "def var():\n",
    "    b=10\n",
    "    print(\"value inside function is\", b)\n",
    "    \n",
    "var()\n",
    "print(\"value outside function is\", b) #out of scope"
   ]
  },
  {
   "cell_type": "code",
   "execution_count": 33,
   "id": "17059060",
   "metadata": {},
   "outputs": [
    {
     "name": "stdout",
     "output_type": "stream",
     "text": [
      "5\n",
      "4\n"
     ]
    }
   ],
   "source": [
    "#2. Enclosing/Non-Local Scope...\n",
    "def f1():\n",
    "    x=4\n",
    "    def f2():\n",
    "        print(x) #not in local scope lool in enclosing scope (i.e. part in which this f2() is enclosed i.e. in f1)\n",
    "    f2()\n",
    "    print(x)\n",
    "    \n",
    "f1()"
   ]
  },
  {
   "cell_type": "code",
   "execution_count": 34,
   "id": "4c911509",
   "metadata": {},
   "outputs": [
    {
     "name": "stdout",
     "output_type": "stream",
     "text": [
      "1234\n",
      "4321\n"
     ]
    }
   ],
   "source": [
    "def f1():\n",
    "    x=4321\n",
    "    def f2():\n",
    "        x=1234\n",
    "        print(x) # local scope x =1234\n",
    "    f2()\n",
    "    print(x) # local scope x= 4321\n",
    "    \n",
    "f1()"
   ]
  },
  {
   "cell_type": "code",
   "execution_count": 35,
   "id": "d0b78eb0",
   "metadata": {},
   "outputs": [
    {
     "name": "stdout",
     "output_type": "stream",
     "text": [
      "variable inside function is: 1234\n",
      "varible outside function is: 1234\n"
     ]
    }
   ],
   "source": [
    "#GLOBAL SCOPE...\n",
    "gv=1234\n",
    "\n",
    "def f3():\n",
    "    print(\"variable inside function is:\", gv) #accesed cause global\n",
    "    \n",
    "f3()\n",
    "print(\"varible outside function is:\", gv) #accesed cause global"
   ]
  },
  {
   "cell_type": "code",
   "execution_count": 36,
   "id": "929ab94f",
   "metadata": {},
   "outputs": [
    {
     "name": "stdout",
     "output_type": "stream",
     "text": [
      "variable inside function is: 4444\n",
      "varible outside function is: 1234\n"
     ]
    }
   ],
   "source": [
    "gv=1234\n",
    "\n",
    "def f3():\n",
    "    gv = 4444\n",
    "    print(\"variable inside function is:\", gv) #accesed local varible not global cause look firstly in local scope...\n",
    "    \n",
    "f3()\n",
    "print(\"varible outside function is:\", gv) #accesed cause global"
   ]
  },
  {
   "cell_type": "code",
   "execution_count": 39,
   "id": "3b26fe64",
   "metadata": {},
   "outputs": [
    {
     "name": "stdout",
     "output_type": "stream",
     "text": [
      "12\n",
      "40\n"
     ]
    }
   ],
   "source": [
    "#BUILT-IN SCOPE...\n",
    "x = len('maida nadeem')\n",
    "print(x)\n",
    "\n",
    "#redefine len\n",
    "def len(st): #now local len() will worl rather than built-in\n",
    "    return 40\n",
    "    \n",
    "print(len(\"maida nadeem\"))"
   ]
  },
  {
   "cell_type": "code",
   "execution_count": 40,
   "id": "61c428cd",
   "metadata": {},
   "outputs": [
    {
     "ename": "UnboundLocalError",
     "evalue": "local variable 'c' referenced before assignment",
     "output_type": "error",
     "traceback": [
      "\u001b[1;31m---------------------------------------------------------------------------\u001b[0m",
      "\u001b[1;31mUnboundLocalError\u001b[0m                         Traceback (most recent call last)",
      "\u001b[1;32m~\\AppData\\Local\\Temp\\ipykernel_5960\\2382940100.py\u001b[0m in \u001b[0;36m<module>\u001b[1;34m\u001b[0m\n\u001b[0;32m      5\u001b[0m     \u001b[0mprint\u001b[0m\u001b[1;33m(\u001b[0m\u001b[1;34m\"inside\"\u001b[0m\u001b[1;33m,\u001b[0m \u001b[0mc\u001b[0m\u001b[1;33m)\u001b[0m\u001b[1;33m\u001b[0m\u001b[1;33m\u001b[0m\u001b[0m\n\u001b[0;32m      6\u001b[0m \u001b[1;33m\u001b[0m\u001b[0m\n\u001b[1;32m----> 7\u001b[1;33m \u001b[0mfunc3\u001b[0m\u001b[1;33m(\u001b[0m\u001b[1;33m)\u001b[0m\u001b[1;33m\u001b[0m\u001b[1;33m\u001b[0m\u001b[0m\n\u001b[0m\u001b[0;32m      8\u001b[0m \u001b[0mprint\u001b[0m\u001b[1;33m(\u001b[0m\u001b[1;34m\"outside\"\u001b[0m\u001b[1;33m,\u001b[0m \u001b[0mc\u001b[0m\u001b[1;33m)\u001b[0m\u001b[1;33m\u001b[0m\u001b[1;33m\u001b[0m\u001b[0m\n",
      "\u001b[1;32m~\\AppData\\Local\\Temp\\ipykernel_5960\\2382940100.py\u001b[0m in \u001b[0;36mfunc3\u001b[1;34m()\u001b[0m\n\u001b[0;32m      2\u001b[0m \u001b[0mc\u001b[0m\u001b[1;33m=\u001b[0m\u001b[1;36m10\u001b[0m\u001b[1;33m\u001b[0m\u001b[1;33m\u001b[0m\u001b[0m\n\u001b[0;32m      3\u001b[0m \u001b[1;32mdef\u001b[0m \u001b[0mfunc3\u001b[0m\u001b[1;33m(\u001b[0m\u001b[1;33m)\u001b[0m\u001b[1;33m:\u001b[0m\u001b[1;33m\u001b[0m\u001b[1;33m\u001b[0m\u001b[0m\n\u001b[1;32m----> 4\u001b[1;33m     \u001b[0mc\u001b[0m\u001b[1;33m=\u001b[0m\u001b[0mc\u001b[0m\u001b[1;33m+\u001b[0m\u001b[1;36m1\u001b[0m\u001b[1;33m\u001b[0m\u001b[1;33m\u001b[0m\u001b[0m\n\u001b[0m\u001b[0;32m      5\u001b[0m     \u001b[0mprint\u001b[0m\u001b[1;33m(\u001b[0m\u001b[1;34m\"inside\"\u001b[0m\u001b[1;33m,\u001b[0m \u001b[0mc\u001b[0m\u001b[1;33m)\u001b[0m\u001b[1;33m\u001b[0m\u001b[1;33m\u001b[0m\u001b[0m\n\u001b[0;32m      6\u001b[0m \u001b[1;33m\u001b[0m\u001b[0m\n",
      "\u001b[1;31mUnboundLocalError\u001b[0m: local variable 'c' referenced before assignment"
     ]
    }
   ],
   "source": [
    "#Global keyword...\n",
    "c=10\n",
    "def func3():\n",
    "    c=c+1\n",
    "    print(\"inside\", c)\n",
    "    \n",
    "func3()\n",
    "print(\"outside\", c)"
   ]
  },
  {
   "cell_type": "code",
   "execution_count": 41,
   "id": "58fd00aa",
   "metadata": {},
   "outputs": [
    {
     "name": "stdout",
     "output_type": "stream",
     "text": [
      "inside 11\n",
      "outside 11\n"
     ]
    }
   ],
   "source": [
    "c=10\n",
    "def func3():\n",
    "    global c #used when you want to update global variable/acces it without redefinition..\n",
    "    c=c+1\n",
    "    print(\"inside\", c)\n",
    "    \n",
    "func3()\n",
    "print(\"outside\", c)"
   ]
  },
  {
   "cell_type": "code",
   "execution_count": 43,
   "id": "71a3a27a",
   "metadata": {},
   "outputs": [
    {
     "ename": "UnboundLocalError",
     "evalue": "local variable 'c' referenced before assignment",
     "output_type": "error",
     "traceback": [
      "\u001b[1;31m---------------------------------------------------------------------------\u001b[0m",
      "\u001b[1;31mUnboundLocalError\u001b[0m                         Traceback (most recent call last)",
      "\u001b[1;32m~\\AppData\\Local\\Temp\\ipykernel_5960\\1500655125.py\u001b[0m in \u001b[0;36m<module>\u001b[1;34m\u001b[0m\n\u001b[0;32m      8\u001b[0m     \u001b[0mprint\u001b[0m\u001b[1;33m(\u001b[0m\u001b[1;34m\"inside fo1\"\u001b[0m\u001b[1;33m,\u001b[0m \u001b[0mc\u001b[0m\u001b[1;33m)\u001b[0m\u001b[1;33m\u001b[0m\u001b[1;33m\u001b[0m\u001b[0m\n\u001b[0;32m      9\u001b[0m \u001b[1;33m\u001b[0m\u001b[0m\n\u001b[1;32m---> 10\u001b[1;33m \u001b[0mfo1\u001b[0m\u001b[1;33m(\u001b[0m\u001b[1;33m)\u001b[0m\u001b[1;33m\u001b[0m\u001b[1;33m\u001b[0m\u001b[0m\n\u001b[0m",
      "\u001b[1;32m~\\AppData\\Local\\Temp\\ipykernel_5960\\1500655125.py\u001b[0m in \u001b[0;36mfo1\u001b[1;34m()\u001b[0m\n\u001b[0;32m      5\u001b[0m         \u001b[0mc\u001b[0m\u001b[1;33m=\u001b[0m\u001b[0mc\u001b[0m\u001b[1;33m+\u001b[0m\u001b[1;36m1\u001b[0m\u001b[1;33m\u001b[0m\u001b[1;33m\u001b[0m\u001b[0m\n\u001b[0;32m      6\u001b[0m         \u001b[0mprint\u001b[0m\u001b[1;33m(\u001b[0m\u001b[1;34m\"inside fo2\"\u001b[0m\u001b[1;33m,\u001b[0m\u001b[0mc\u001b[0m\u001b[1;33m)\u001b[0m\u001b[1;33m\u001b[0m\u001b[1;33m\u001b[0m\u001b[0m\n\u001b[1;32m----> 7\u001b[1;33m     \u001b[0mfo2\u001b[0m\u001b[1;33m(\u001b[0m\u001b[1;33m)\u001b[0m\u001b[1;33m\u001b[0m\u001b[1;33m\u001b[0m\u001b[0m\n\u001b[0m\u001b[0;32m      8\u001b[0m     \u001b[0mprint\u001b[0m\u001b[1;33m(\u001b[0m\u001b[1;34m\"inside fo1\"\u001b[0m\u001b[1;33m,\u001b[0m \u001b[0mc\u001b[0m\u001b[1;33m)\u001b[0m\u001b[1;33m\u001b[0m\u001b[1;33m\u001b[0m\u001b[0m\n\u001b[0;32m      9\u001b[0m \u001b[1;33m\u001b[0m\u001b[0m\n",
      "\u001b[1;32m~\\AppData\\Local\\Temp\\ipykernel_5960\\1500655125.py\u001b[0m in \u001b[0;36mfo2\u001b[1;34m()\u001b[0m\n\u001b[0;32m      3\u001b[0m     \u001b[0mc\u001b[0m\u001b[1;33m=\u001b[0m\u001b[1;36m1234\u001b[0m\u001b[1;33m\u001b[0m\u001b[1;33m\u001b[0m\u001b[0m\n\u001b[0;32m      4\u001b[0m     \u001b[1;32mdef\u001b[0m \u001b[0mfo2\u001b[0m\u001b[1;33m(\u001b[0m\u001b[1;33m)\u001b[0m\u001b[1;33m:\u001b[0m\u001b[1;33m\u001b[0m\u001b[1;33m\u001b[0m\u001b[0m\n\u001b[1;32m----> 5\u001b[1;33m         \u001b[0mc\u001b[0m\u001b[1;33m=\u001b[0m\u001b[0mc\u001b[0m\u001b[1;33m+\u001b[0m\u001b[1;36m1\u001b[0m\u001b[1;33m\u001b[0m\u001b[1;33m\u001b[0m\u001b[0m\n\u001b[0m\u001b[0;32m      6\u001b[0m         \u001b[0mprint\u001b[0m\u001b[1;33m(\u001b[0m\u001b[1;34m\"inside fo2\"\u001b[0m\u001b[1;33m,\u001b[0m\u001b[0mc\u001b[0m\u001b[1;33m)\u001b[0m\u001b[1;33m\u001b[0m\u001b[1;33m\u001b[0m\u001b[0m\n\u001b[0;32m      7\u001b[0m     \u001b[0mfo2\u001b[0m\u001b[1;33m(\u001b[0m\u001b[1;33m)\u001b[0m\u001b[1;33m\u001b[0m\u001b[1;33m\u001b[0m\u001b[0m\n",
      "\u001b[1;31mUnboundLocalError\u001b[0m: local variable 'c' referenced before assignment"
     ]
    }
   ],
   "source": [
    "#NON LOCAL KEYWORD...\n",
    "def fo1():\n",
    "    c=1234\n",
    "    def fo2():\n",
    "        c=c+1 #can't update error raised cause non local variable is accessed for modifying...\n",
    "        print(\"inside fo2\",c)\n",
    "    fo2()\n",
    "    print(\"inside fo1\", c)\n",
    "    \n",
    "fo1()"
   ]
  },
  {
   "cell_type": "code",
   "execution_count": 44,
   "id": "f1d34d9d",
   "metadata": {},
   "outputs": [
    {
     "name": "stdout",
     "output_type": "stream",
     "text": [
      "inside fo2 1235\n",
      "inside fo1 1235\n"
     ]
    }
   ],
   "source": [
    "def fo1():\n",
    "    c=1234\n",
    "    def fo2():\n",
    "        nonlocal c\n",
    "        c=c+1 #now works cause we are telling to use nonlocal c without redefining...\n",
    "        print(\"inside fo2\",c)\n",
    "    fo2()\n",
    "    print(\"inside fo1\", c)\n",
    "    \n",
    "fo1()"
   ]
  },
  {
   "cell_type": "code",
   "execution_count": null,
   "id": "c2f079e5",
   "metadata": {},
   "outputs": [],
   "source": []
  }
 ],
 "metadata": {
  "kernelspec": {
   "display_name": "Python 3 (ipykernel)",
   "language": "python",
   "name": "python3"
  },
  "language_info": {
   "codemirror_mode": {
    "name": "ipython",
    "version": 3
   },
   "file_extension": ".py",
   "mimetype": "text/x-python",
   "name": "python",
   "nbconvert_exporter": "python",
   "pygments_lexer": "ipython3",
   "version": "3.9.13"
  }
 },
 "nbformat": 4,
 "nbformat_minor": 5
}
