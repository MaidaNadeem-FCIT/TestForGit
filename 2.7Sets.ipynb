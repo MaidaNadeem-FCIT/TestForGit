{
 "cells": [
  {
   "cell_type": "code",
   "execution_count": 3,
   "id": "69a73065",
   "metadata": {},
   "outputs": [
    {
     "name": "stdout",
     "output_type": "stream",
     "text": [
      "{1, 2, 3, 4}\n",
      "{'nadeem', 'butt', 'maida'}\n",
      "{3.5, 4.1, 5.2, 7.8}\n",
      "{False, True}\n",
      "{33, True, 'e', 'maida', 9.9}\n",
      "set()\n"
     ]
    },
    {
     "data": {
      "text/plain": [
       "set"
      ]
     },
     "execution_count": 3,
     "metadata": {},
     "output_type": "execute_result"
    }
   ],
   "source": [
    "#SETS...\n",
    "#creation...\n",
    "s1={1,2,3,4}\n",
    "s2={\"maida\", \"nadeem\",\"butt\"} #unOrdered as not indexed\n",
    "s3=set([3.5, 7.8, 4.1, 5.2])\n",
    "s4=set([True, False, False]) #no duplicates\n",
    "s5={33, \"maida\", True, 9.9, 'e', 9.9}  #hetrogeneous data\n",
    "s6= set()\n",
    "print(s1)\n",
    "print(s2)\n",
    "print(s3)\n",
    "print(s4)\n",
    "print(s5)\n",
    "print(s6)\n",
    "type(s6)"
   ]
  },
  {
   "cell_type": "code",
   "execution_count": 5,
   "id": "acbc990f",
   "metadata": {},
   "outputs": [
    {
     "name": "stdout",
     "output_type": "stream",
     "text": [
      "2351461362144 2351461363488\n",
      "False\n",
      "True\n",
      "False\n",
      "True\n"
     ]
    }
   ],
   "source": [
    "#UnOrdered\n",
    "s7 = set([1,2,3,4])\n",
    "s8 = {1,3,2,4}\n",
    "print(id(s1), id(s7))\n",
    "print(s1 is s7)\n",
    "print(s1 == s7)\n",
    "\n",
    "print(s1 is s8) #ids are different as diff objects are created no matter same values...\n",
    "print(s1 == s8) #true coz order not matter in here..."
   ]
  },
  {
   "cell_type": "code",
   "execution_count": 15,
   "id": "4fcd020f",
   "metadata": {},
   "outputs": [
    {
     "name": "stdout",
     "output_type": "stream",
     "text": [
      "{False, True, 3.5, 'maida', 5, (3, 5, 'e')}\n"
     ]
    }
   ],
   "source": [
    "#TYPE cASTING \n",
    "#list to Set....\n",
    "l3= [5, \"maida\", (3, 5, 'e'), True, 3.5, False]\n",
    "se = set(l3)\n",
    "print(se)\n",
    "\n",
    "#l2= [1, 5, \"maida\", (3, 5, 'e'), [5.6, 7.8]]  #generates error because sets can't have mutable type elements and we added list\n",
    "#se1 = set(l2)\n",
    "#print(se1)"
   ]
  },
  {
   "cell_type": "code",
   "execution_count": 18,
   "id": "5f5815dc",
   "metadata": {},
   "outputs": [
    {
     "ename": "TypeError",
     "evalue": "unhashable type: 'list'",
     "output_type": "error",
     "traceback": [
      "\u001b[1;31m---------------------------------------------------------------------------\u001b[0m",
      "\u001b[1;31mTypeError\u001b[0m                                 Traceback (most recent call last)",
      "\u001b[1;32m~\\AppData\\Local\\Temp\\ipykernel_4504\\2191731843.py\u001b[0m in \u001b[0;36m<module>\u001b[1;34m\u001b[0m\n\u001b[0;32m      1\u001b[0m \u001b[1;31m#NO NESTATION\u001b[0m\u001b[1;33m\u001b[0m\u001b[1;33m\u001b[0m\u001b[0m\n\u001b[0;32m      2\u001b[0m \u001b[1;31m#Sets can't have sets, list or dictionary inside it...\u001b[0m\u001b[1;33m\u001b[0m\u001b[1;33m\u001b[0m\u001b[0m\n\u001b[1;32m----> 3\u001b[1;33m \u001b[0ms1\u001b[0m\u001b[1;33m=\u001b[0m \u001b[1;33m{\u001b[0m\u001b[1;36m3.4\u001b[0m\u001b[1;33m,\u001b[0m \u001b[1;32mTrue\u001b[0m\u001b[1;33m,\u001b[0m \u001b[1;33m[\u001b[0m\u001b[1;36m3\u001b[0m\u001b[1;33m,\u001b[0m\u001b[1;36m4\u001b[0m\u001b[1;33m]\u001b[0m\u001b[1;33m,\u001b[0m \u001b[1;36m4\u001b[0m\u001b[1;33m,\u001b[0m \u001b[1;33m{\u001b[0m\u001b[1;36m6.7\u001b[0m\u001b[1;33m,\u001b[0m \u001b[1;32mFalse\u001b[0m\u001b[1;33m}\u001b[0m\u001b[1;33m,\u001b[0m \u001b[1;33m{\u001b[0m\u001b[1;34m'a1'\u001b[0m\u001b[1;33m:\u001b[0m\u001b[1;36m99\u001b[0m\u001b[1;33m,\u001b[0m \u001b[1;34m\"a2\"\u001b[0m\u001b[1;33m:\u001b[0m\u001b[1;36m55\u001b[0m\u001b[1;33m}\u001b[0m\u001b[1;33m}\u001b[0m\u001b[1;33m\u001b[0m\u001b[1;33m\u001b[0m\u001b[0m\n\u001b[0m",
      "\u001b[1;31mTypeError\u001b[0m: unhashable type: 'list'"
     ]
    }
   ],
   "source": [
    "#NO NESTATION\n",
    "#Sets can't have sets, list or dictionary inside it...\n",
    "s1= {3.4, True, [3,4], 4, {6.7, False}, {'a1':99, \"a2\":55}}  #only immutable elements..\n"
   ]
  },
  {
   "cell_type": "code",
   "execution_count": 21,
   "id": "26eb172d",
   "metadata": {},
   "outputs": [
    {
     "name": "stdout",
     "output_type": "stream",
     "text": [
      "fun is to thsi learn False\n",
      "{'fun', 'is', 'thsi', 'learn', 'to'}\n"
     ]
    }
   ],
   "source": [
    "#UnPacking....\n",
    "s={\"thsi\", \"is\", \"fun\", \"to\", \"learn\"}\n",
    "a,b,c,d,e = s\n",
    "print(a,b,c,d,e,f) #randomness cause no order...\n",
    "\n",
    "\n",
    "#Packing...\n",
    "tupS = a,b,c,d,e #by default every thing packed as tuple than type cast to required data type...\n",
    "pacS = set(tupS)\n",
    "print(pacS)"
   ]
  },
  {
   "cell_type": "code",
   "execution_count": 24,
   "id": "6d338210",
   "metadata": {},
   "outputs": [
    {
     "name": "stdout",
     "output_type": "stream",
     "text": [
      "fun\n",
      "is\n",
      "thsi\n",
      "learn\n",
      "to\n",
      "True\n"
     ]
    }
   ],
   "source": [
    "#Accessing Elements \n",
    "#1. throug LOOPS as no indexing so other ways (slicing) not Possible...\n",
    "for i in pacS:\n",
    "    print(i)\n",
    "    \n",
    "#2. Using IN operator...\n",
    "print(\"fun\" in pacS)"
   ]
  },
  {
   "cell_type": "code",
   "execution_count": 6,
   "id": "438f1a09",
   "metadata": {},
   "outputs": [
    {
     "name": "stdout",
     "output_type": "stream",
     "text": [
      "set()\n",
      "{24}\n",
      "{24, 3.5}\n",
      "{24, 3.5}\n",
      "{24, 3.5, 'xyz'}\n",
      "{24, ('maida', False, 7.665), 3.5, 'xyz'}\n",
      "{False, 3.5, 'butt', ('maida', False, 7.665), (24, True), 'xyz', 22, 24}\n"
     ]
    }
   ],
   "source": [
    "#ADDING ELEMENTS IN SET....\n",
    "#1. Add Method....\n",
    "s1 = set()\n",
    "print(s1)\n",
    "s1.add(24) #Add single value at a time only\n",
    "print(s1)\n",
    "s1.add(3.5)\n",
    "print(s1)\n",
    "s1.add(24) #no duplicate value added but no error generated as well...\n",
    "print(s1)\n",
    "s1.add(\"xyz\") \n",
    "print(s1)\n",
    "s1.add((\"maida\", False, 7.665))  #can add a tuple in set...\n",
    "print(s1)\n",
    "\n",
    "#2. Updae Method...\n",
    "s1.update([False,22,\"butt\", (24,True)])  #duplicate values can added if inside a tuple only...\n",
    "print(s1)"
   ]
  },
  {
   "cell_type": "code",
   "execution_count": 7,
   "id": "64b0212e",
   "metadata": {},
   "outputs": [
    {
     "name": "stdout",
     "output_type": "stream",
     "text": [
      "{False, 3.5, 'butt', ('maida', False, 7.665), (24, True), 'xyz', 22, 24}\n",
      "False\n",
      "{3.5, 'butt', ('maida', False, 7.665), (24, True), 'xyz', 22, 24}\n"
     ]
    }
   ],
   "source": [
    "#REMOVING ELEMENTS FROM SETS...\n",
    "#1. POP..\n",
    "print(s1)\n",
    "x = s1.pop()\n",
    "print(x)  #every time removes any random value and return it...\n",
    "print(s1)"
   ]
  },
  {
   "cell_type": "code",
   "execution_count": 8,
   "id": "fff9b9de",
   "metadata": {},
   "outputs": [
    {
     "name": "stdout",
     "output_type": "stream",
     "text": [
      "{3.5, 'butt', ('maida', False, 7.665), (24, True), 'xyz', 22, 24}\n",
      "{3.5, 'butt', ('maida', False, 7.665), (24, True), 'xyz', 22, 24}\n",
      "{3.5, 'butt', ('maida', False, 7.665), 'xyz', 22, 24}\n"
     ]
    }
   ],
   "source": [
    "#2. Remove....\n",
    "print(s1)\n",
    "#s1.remove(\"butt\") #only removes specified value not return it\n",
    "print(s1)\n",
    "s1.remove((24, True)) # removes whole tuple not specific value of it.\n",
    "print(s1)"
   ]
  },
  {
   "cell_type": "code",
   "execution_count": 10,
   "id": "7e8fea77",
   "metadata": {},
   "outputs": [
    {
     "ename": "NameError",
     "evalue": "name 's1' is not defined",
     "output_type": "error",
     "traceback": [
      "\u001b[1;31m---------------------------------------------------------------------------\u001b[0m",
      "\u001b[1;31mNameError\u001b[0m                                 Traceback (most recent call last)",
      "\u001b[1;32m~\\AppData\\Local\\Temp\\ipykernel_12408\\971370211.py\u001b[0m in \u001b[0;36m<module>\u001b[1;34m\u001b[0m\n\u001b[0;32m      1\u001b[0m \u001b[1;31m#3. Discard Method...\u001b[0m\u001b[1;33m\u001b[0m\u001b[1;33m\u001b[0m\u001b[0m\n\u001b[1;32m----> 2\u001b[1;33m \u001b[0mprint\u001b[0m\u001b[1;33m(\u001b[0m\u001b[0ms1\u001b[0m\u001b[1;33m)\u001b[0m\u001b[1;33m\u001b[0m\u001b[1;33m\u001b[0m\u001b[0m\n\u001b[0m\u001b[0;32m      3\u001b[0m \u001b[1;31m#s1.remove(\"butt\") #error coz not present in set....\u001b[0m\u001b[1;33m\u001b[0m\u001b[1;33m\u001b[0m\u001b[0m\n\u001b[0;32m      4\u001b[0m \u001b[1;33m\u001b[0m\u001b[0m\n\u001b[0;32m      5\u001b[0m \u001b[1;33m\u001b[0m\u001b[0m\n",
      "\u001b[1;31mNameError\u001b[0m: name 's1' is not defined"
     ]
    }
   ],
   "source": [
    "#3. Discard Method...\n",
    "print(s1)\n",
    "#s1.remove(\"butt\") #error coz not present in set....\n",
    "\n",
    "\n",
    "s1.discard(\"butt\") #no error\n",
    "print(s1)\n",
    "\n",
    "#4. Clear Method..\n",
    "s1.clear()\n",
    "print(s1)\n",
    "\n",
    "#5. Delete Methods..\n",
    "del s1\n",
    "#print(s1) #error cause not present in memory.."
   ]
  },
  {
   "cell_type": "code",
   "execution_count": 46,
   "id": "13f8da0a",
   "metadata": {},
   "outputs": [
    {
     "name": "stdout",
     "output_type": "stream",
     "text": [
      "{'f', 'e', 'n', 'g', 'o', 'p', 't', 'a', 'h', 'r', 'y', 'c', ' ', 'i', 's'}\n",
      "{'is', 'sets', 'for', 'this', 'type', 'casting'}\n",
      "is sets for this type casting\n"
     ]
    }
   ],
   "source": [
    "#TYPE CASTING\n",
    "#String to set...\n",
    "str = \"this is type casting for sets\"\n",
    "setC = set(str)  #set of characters\n",
    "print(setC)\n",
    "\n",
    "setC = set(str.split(\" \")) #set of strings separated at space character (or any char specified)...\n",
    "print(setC)\n",
    "\n",
    "#Sets TO Strongss....\n",
    "str1 = ' '.join(setC)\n",
    "print(str1)"
   ]
  },
  {
   "cell_type": "code",
   "execution_count": 48,
   "id": "eac3ee57",
   "metadata": {},
   "outputs": [
    {
     "name": "stdout",
     "output_type": "stream",
     "text": [
      "True\n",
      "True\n",
      "2351457738160 2351457738160\n",
      "False\n",
      "True\n",
      "2349354347648 2349354346528\n"
     ]
    }
   ],
   "source": [
    "#Object vs Values...\n",
    "a  = 'hello'\n",
    "b = 'hello'\n",
    "print(a is b)\n",
    "print(a == b)\n",
    "print(id(a), id(b)) #same\n",
    "x = set([1,2,3])\n",
    "y = set([1,2,3])\n",
    "print(x is y) #coz 2 diff objects at backend\n",
    "print(x == y)\n",
    "print(id(x), id(y)) #difff"
   ]
  },
  {
   "cell_type": "code",
   "execution_count": 60,
   "id": "ce1f0dfc",
   "metadata": {},
   "outputs": [
    {
     "name": "stdout",
     "output_type": "stream",
     "text": [
      "{'msds', 'maida', 'mor', 'f22', 'nadeem', 'butt'}\n",
      "{'msds', 'maida', 'mor', 'f22', 'nadeem', 'butt'}\n",
      "{'butt'}\n",
      "{'butt'}\n",
      "{'nadeem', 'maida'}\n",
      "{'msds', 'mor', 'f22'}\n",
      "{'maida', 'f22', 'nadeem', 'msds', 'mor'}\n",
      "{'maida', 'f22', 'nadeem', 'msds', 'mor'}\n",
      "True\n",
      "True\n",
      "True\n",
      "True\n",
      "False\n"
     ]
    }
   ],
   "source": [
    "#SPECIAL SET OPERATIONS...\n",
    "#1. UNION...\n",
    "s1 = {\"maida\", \"nadeem\", \"butt\"}\n",
    "s2={\"msds\", \"f22\", \"mor\", \"butt\"}\n",
    "s3 = s1 | s2\n",
    "print(s3)\n",
    "s4 = s1.union(s2)\n",
    "print(s4)\n",
    "\n",
    "\n",
    "#2. Intersection...\n",
    "s4 = s2.intersection(s1)\n",
    "print(s4)\n",
    "print(s1 & s2)  #intersection \n",
    "\n",
    "#3. Difference of Sets...\n",
    "print(s1-s2) #values of s1 not present in s2\n",
    "print(s2.difference(s1)) #values of s2 not present in s1\n",
    "\n",
    "#4. Symetric Difference..\n",
    "print(s1.symmetric_difference(s2)) #diff values which occur once in both sets but not those which are same in both \n",
    "print(s2 ^ s1)\n",
    "\n",
    "#5. Checking Subset\n",
    "sus={1,3,5,7}\n",
    "sus2={3,5}\n",
    "print(sus2.issubset(sus))\n",
    "print(sus2 <= sus)\n",
    "\n",
    "#6. Checking SuperSet\n",
    "print(sus.issuperset(sus2))\n",
    "print(sus >= sus2)\n",
    "\n",
    "#7. Disjoint or Not...\n",
    "print(s1.isdisjoint(s2))"
   ]
  },
  {
   "cell_type": "code",
   "execution_count": null,
   "id": "1ae28e4c",
   "metadata": {},
   "outputs": [],
   "source": []
  }
 ],
 "metadata": {
  "kernelspec": {
   "display_name": "Python 3 (ipykernel)",
   "language": "python",
   "name": "python3"
  },
  "language_info": {
   "codemirror_mode": {
    "name": "ipython",
    "version": 3
   },
   "file_extension": ".py",
   "mimetype": "text/x-python",
   "name": "python",
   "nbconvert_exporter": "python",
   "pygments_lexer": "ipython3",
   "version": "3.9.13"
  }
 },
 "nbformat": 4,
 "nbformat_minor": 5
}
