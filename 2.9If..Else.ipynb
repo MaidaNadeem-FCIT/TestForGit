{
 "cells": [
  {
   "cell_type": "code",
   "execution_count": 1,
   "id": "025ba3c0",
   "metadata": {},
   "outputs": [
    {
     "ename": "IndentationError",
     "evalue": "unexpected indent (311467863.py, line 3)",
     "output_type": "error",
     "traceback": [
      "\u001b[1;36m  File \u001b[1;32m\"C:\\Users\\ASCC\\AppData\\Local\\Temp\\ipykernel_12588\\311467863.py\"\u001b[1;36m, line \u001b[1;32m3\u001b[0m\n\u001b[1;33m    b=8\u001b[0m\n\u001b[1;37m    ^\u001b[0m\n\u001b[1;31mIndentationError\u001b[0m\u001b[1;31m:\u001b[0m unexpected indent\n"
     ]
    }
   ],
   "source": [
    "#IF--ELSE  Structure\n",
    "a=10\n",
    "    b=8 #no unneccessary indentatio will raise error"
   ]
  },
  {
   "cell_type": "code",
   "execution_count": 2,
   "id": "43f02d0e",
   "metadata": {},
   "outputs": [
    {
     "ename": "IndentationError",
     "evalue": "expected an indented block (4065011934.py, line 2)",
     "output_type": "error",
     "traceback": [
      "\u001b[1;36m  File \u001b[1;32m\"C:\\Users\\ASCC\\AppData\\Local\\Temp\\ipykernel_12588\\4065011934.py\"\u001b[1;36m, line \u001b[1;32m2\u001b[0m\n\u001b[1;33m    print(\"true\")\u001b[0m\n\u001b[1;37m    ^\u001b[0m\n\u001b[1;31mIndentationError\u001b[0m\u001b[1;31m:\u001b[0m expected an indented block\n"
     ]
    }
   ],
   "source": [
    "if ( a == b):\n",
    "print(\"true\") #indentation missing will raise error as block of if not working"
   ]
  },
  {
   "cell_type": "code",
   "execution_count": 6,
   "id": "c5f89b66",
   "metadata": {},
   "outputs": [
    {
     "name": "stdout",
     "output_type": "stream",
     "text": [
      " working\n",
      "Outside Condition block\n"
     ]
    }
   ],
   "source": [
    "#SYNTAX (if)\n",
    "a = 1\n",
    "if(a > 0):\n",
    "    print(\" working\")\n",
    "print(\"Outside Condition block\") #this is going to get executed no matter condition..."
   ]
  },
  {
   "cell_type": "code",
   "execution_count": 10,
   "id": "6e2c11e3",
   "metadata": {},
   "outputs": [
    {
     "name": "stdout",
     "output_type": "stream",
     "text": [
      "Enter a Value45\n",
      "Odd\n",
      "You are Done\n"
     ]
    }
   ],
   "source": [
    "#if--else\n",
    "x = input(\"Enter a Value\")\n",
    "x = int(x)\n",
    "if(x%2 == 0):\n",
    "    print(\"Even\")\n",
    "else:\n",
    "    print(\"Odd\")\n",
    "    \n",
    "print(\"You are Done\")"
   ]
  },
  {
   "cell_type": "code",
   "execution_count": 17,
   "id": "9e164385",
   "metadata": {},
   "outputs": [
    {
     "name": "stdout",
     "output_type": "stream",
     "text": [
      "Enter your age2\n",
      "Child\n"
     ]
    }
   ],
   "source": [
    "#Ternary if--else...\n",
    "#E.G.1\n",
    "age = int(input(\"Enter your age\"))\n",
    "print(\"Adult\" if age>=18 else \"Child\") #Adult if condition true else Child"
   ]
  },
  {
   "cell_type": "code",
   "execution_count": 20,
   "id": "d955886a",
   "metadata": {},
   "outputs": [
    {
     "name": "stdout",
     "output_type": "stream",
     "text": [
      "Enter a Number :56\n",
      "The Number 56 is even\n"
     ]
    }
   ],
   "source": [
    "#E.G.2\n",
    "num = int(input(\"Enter a Number :\"))\n",
    "parity = 'even' if num%2 == 0 else 'Odd'\n",
    "print(\"The Number {} is {}\".format(num, parity))"
   ]
  },
  {
   "cell_type": "code",
   "execution_count": 23,
   "id": "9b514d6f",
   "metadata": {},
   "outputs": [
    {
     "name": "stdout",
     "output_type": "stream",
     "text": [
      "Enter your age34\n",
      "Do you have CNIC. Enter Y/N:y\n",
      "You can Vote\n"
     ]
    }
   ],
   "source": [
    "#Nested If-Else...\n",
    "age = float(input(\"Enter your age\"))\n",
    "if(age>=18):\n",
    "    res=input(\"Do you have CNIC. Enter Y/N:\")\n",
    "    if(res=='Y' or res=='y'):\n",
    "        print(\"You can Vote\")\n",
    "    else:\n",
    "        print(\"As you have no CNIC you can't Vote\")\n",
    "else:\n",
    "    print(\"You can't Vote\")"
   ]
  },
  {
   "cell_type": "code",
   "execution_count": 25,
   "id": "37efc921",
   "metadata": {},
   "outputs": [
    {
     "name": "stdout",
     "output_type": "stream",
     "text": [
      "Enter a Number :50\n",
      "50 is divisible by 2\n"
     ]
    }
   ],
   "source": [
    "#LADDER IF--ELSE....\n",
    "num = int(input(\"Enter a Number :\"))\n",
    "if(num %2==0):\n",
    "    print(\"{} is divisible by 2\".format(num))\n",
    "elif(num%3==0):\n",
    "    print(\"{} is divisible by 3\".format(num))\n",
    "elif(num%5==0):\n",
    "    print(\"{} is divisible by 5\".format(num))\n",
    "elif(num%7==0):\n",
    "    print(\"{} is divisible by 7\".format(num))\n",
    "else:\n",
    "    print(\"{} is not divisible by 2 or 3 or 5 or 7\".format(num))"
   ]
  },
  {
   "cell_type": "code",
   "execution_count": 1,
   "id": "de957843",
   "metadata": {},
   "outputs": [
    {
     "name": "stdout",
     "output_type": "stream",
     "text": [
      "Enter a Number :45\n",
      "45 is divisible by 3\n",
      "45 is divisible by 5\n"
     ]
    }
   ],
   "source": [
    "num = int(input(\"Enter a Number :\"))\n",
    "if(num %2==0):\n",
    "    print(\"{} is divisible by 2\".format(num))\n",
    "if(num%3==0):\n",
    "    print(\"{} is divisible by 3\".format(num))\n",
    "if(num%5==0):\n",
    "    print(\"{} is divisible by 5\".format(num))\n",
    "if(num%7==0):\n",
    "    print(\"{} is divisible by 7\".format(num))\n"
   ]
  },
  {
   "cell_type": "code",
   "execution_count": 3,
   "id": "9ade482c",
   "metadata": {},
   "outputs": [
    {
     "name": "stdout",
     "output_type": "stream",
     "text": [
      "enter a number56\n",
      "56\n"
     ]
    }
   ],
   "source": [
    "#PASS Statement...\n",
    "n=int(input(\"enter a number\"))\n",
    "if(n<=0):\n",
    "    pass\n",
    "else:\n",
    "    print(n)"
   ]
  },
  {
   "cell_type": "code",
   "execution_count": null,
   "id": "a8a5c71b",
   "metadata": {},
   "outputs": [],
   "source": []
  },
  {
   "cell_type": "code",
   "execution_count": null,
   "id": "cc518ff7",
   "metadata": {},
   "outputs": [],
   "source": []
  }
 ],
 "metadata": {
  "kernelspec": {
   "display_name": "Python 3 (ipykernel)",
   "language": "python",
   "name": "python3"
  },
  "language_info": {
   "codemirror_mode": {
    "name": "ipython",
    "version": 3
   },
   "file_extension": ".py",
   "mimetype": "text/x-python",
   "name": "python",
   "nbconvert_exporter": "python",
   "pygments_lexer": "ipython3",
   "version": "3.9.13"
  }
 },
 "nbformat": 4,
 "nbformat_minor": 5
}
